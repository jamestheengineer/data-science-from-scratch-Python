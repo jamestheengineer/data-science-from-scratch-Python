{
  "nbformat": 4,
  "nbformat_minor": 0,
  "metadata": {
    "colab": {
      "name": "Chapter_4.ipynb",
      "provenance": [],
      "authorship_tag": "ABX9TyP0puxqDkkkS9p/8ZBxepDy",
      "include_colab_link": true
    },
    "kernelspec": {
      "name": "python3",
      "display_name": "Python 3"
    }
  },
  "cells": [
    {
      "cell_type": "markdown",
      "metadata": {
        "id": "view-in-github",
        "colab_type": "text"
      },
      "source": [
        "<a href=\"https://colab.research.google.com/github/jamestheengineer/data-science-from-scratch-Python/blob/master/Chapter_4.ipynb\" target=\"_parent\"><img src=\"https://colab.research.google.com/assets/colab-badge.svg\" alt=\"Open In Colab\"/></a>"
      ]
    },
    {
      "cell_type": "code",
      "metadata": {
        "id": "gbFyZGnahFiF",
        "colab_type": "code",
        "colab": {}
      },
      "source": [
        "# Linear Algebra\n",
        "\n",
        "# Vectors\n",
        "from typing import List\n",
        "\n",
        "Vector = List[float]\n",
        "\n",
        "height_weight_age = [70, # inches\n",
        "                     170, # pounds\n",
        "                     40] # years\n",
        "\n",
        "grades = [95, # exam 1\n",
        "          80, # exam 2\n",
        "          75, # exam 3\n",
        "          62] # exam 4\n",
        "\n",
        "def add(v: Vector, w: Vector) -> Vector:\n",
        "  \"\"\"Adds corresponding elements\"\"\"\n",
        "  assert len(v) == len(w), \"vectors must be the same length\"\n",
        "  return [v_i + w_i for v_i, w_i in zip(v, w)]\n",
        "\n",
        "assert add([1, 2, 3], [4, 5, 6]) == [5, 7, 9]\n",
        "\n",
        "def subtract(v: Vector, w: Vector) -> Vector:\n",
        "  \"\"\"Subtracts corresponding elements\"\"\"\n",
        "  assert len(v) == len(w), \"vectors must be the same length\"\n",
        "  return [v_i - w_i for v_i, w_i in zip(v, w)]\n",
        "\n",
        "assert subtract([1, 2, 3], [4, 5, 6]) == [-3, -3, -3]\n",
        "\n",
        "def vector_sum(vectors: List[Vector]) -> Vector:\n",
        "  \"\"\"Sums all corresponding elements\"\"\"\n",
        "  # Check that vectors is not empty\n",
        "  assert vectors, \"no vectors provided!\"\n",
        "\n",
        "  # Check the vectors are all the same size\n",
        "  num_elements = len(vectors[0])\n",
        "  assert all(len(v) == num_elements for v in vectors), \"different sizes!\"\n",
        "\n",
        "  # The i-th element  of the result is the sum of every vector[i]\n",
        "  return [sum(vector[i] for vector in vectors)\n",
        "          for i in range(num_elements)]\n",
        "\n",
        "assert vector_sum([[1,2],[3,4],[5,6],[7,8]]) == [16, 20]"
      ],
      "execution_count": 0,
      "outputs": []
    },
    {
      "cell_type": "code",
      "metadata": {
        "id": "l4VwOQFCkFvI",
        "colab_type": "code",
        "colab": {}
      },
      "source": [
        "# Should also be able to scale a vector\n",
        "def scalar_multiply(c: float, v: Vector) -> Vector:\n",
        "  \"\"\"Multiplies every element by c\"\"\"\n",
        "  return [c * v_i for v_i in v]\n",
        "\n",
        "assert scalar_multiply(2, [1,2,3]) == [2,4,6]"
      ],
      "execution_count": 0,
      "outputs": []
    },
    {
      "cell_type": "code",
      "metadata": {
        "id": "FtQ2lSH-mzLx",
        "colab_type": "code",
        "colab": {}
      },
      "source": [
        "# Component-wise mean\n",
        "def vector_mean(vectors: List[Vector]) -> Vector:\n",
        "  \"\"\"Computes the element-wise average\"\"\"\n",
        "  n = len(vectors)\n",
        "  return scalar_multiply(1/n, vector_sum(vectors))\n",
        "\n",
        "assert vector_mean([[1,2],[3,4],[5,6]]) == [3,4]"
      ],
      "execution_count": 0,
      "outputs": []
    },
    {
      "cell_type": "code",
      "metadata": {
        "id": "kPtn4lRDnfpv",
        "colab_type": "code",
        "colab": {}
      },
      "source": [
        ""
      ],
      "execution_count": 0,
      "outputs": []
    }
  ]
}