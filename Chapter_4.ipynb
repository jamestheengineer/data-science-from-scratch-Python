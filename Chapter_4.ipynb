{
  "nbformat": 4,
  "nbformat_minor": 0,
  "metadata": {
    "colab": {
      "name": "Chapter_4.ipynb",
      "provenance": [],
      "authorship_tag": "ABX9TyMWkdKYuJ+NUP7NRHmwwWIN",
      "include_colab_link": true
    },
    "kernelspec": {
      "name": "python3",
      "display_name": "Python 3"
    }
  },
  "cells": [
    {
      "cell_type": "markdown",
      "metadata": {
        "id": "view-in-github",
        "colab_type": "text"
      },
      "source": [
        "<a href=\"https://colab.research.google.com/github/jamestheengineer/data-science-from-scratch-Python/blob/master/Chapter_4.ipynb\" target=\"_parent\"><img src=\"https://colab.research.google.com/assets/colab-badge.svg\" alt=\"Open In Colab\"/></a>"
      ]
    },
    {
      "cell_type": "code",
      "metadata": {
        "id": "gbFyZGnahFiF",
        "colab_type": "code",
        "colab": {}
      },
      "source": [
        "# Linear Algebra\n",
        "\n",
        "# Vectors\n",
        "from typing import List\n",
        "\n",
        "Vector = List[float]\n",
        "\n",
        "height_weight_age = [70, # inches\n",
        "                     170, # pounds\n",
        "                     40] # years\n",
        "\n",
        "grades = [95, # exam 1\n",
        "          80, # exam 2\n",
        "          75, # exam 3\n",
        "          62] # exam 4\n",
        "\n",
        "def add(v: Vector, w: Vector) -> Vector:\n",
        "  \"\"\"Adds corresponding elements\"\"\"\n",
        "  assert len(v) == len(w), \"vectors must be the same length\"\n",
        "  return [v_i + w_i for v_i, w_i in zip(v, w)]\n",
        "\n",
        "assert add([1, 2, 3], [4, 5, 6]) == [5, 7, 9]\n",
        "\n",
        "def subtract(v: Vector, w: Vector) -> Vector:\n",
        "  \"\"\"Subtracts corresponding elements\"\"\"\n",
        "  assert len(v) == len(w), \"vectors must be the same length\"\n",
        "  return [v_i - w_i for v_i, w_i in zip(v, w)]\n",
        "\n",
        "assert subtract([1, 2, 3], [4, 5, 6]) == [-3, -3, -3]"
      ],
      "execution_count": 0,
      "outputs": []
    },
    {
      "cell_type": "code",
      "metadata": {
        "id": "l4VwOQFCkFvI",
        "colab_type": "code",
        "colab": {}
      },
      "source": [
        ""
      ],
      "execution_count": 0,
      "outputs": []
    }
  ]
}