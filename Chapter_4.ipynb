{
  "nbformat": 4,
  "nbformat_minor": 0,
  "metadata": {
    "colab": {
      "name": "Chapter_4.ipynb",
      "provenance": [],
      "authorship_tag": "ABX9TyNIpsdOn3VAxN6hQFKkD4ZI",
      "include_colab_link": true
    },
    "kernelspec": {
      "name": "python3",
      "display_name": "Python 3"
    }
  },
  "cells": [
    {
      "cell_type": "markdown",
      "metadata": {
        "id": "view-in-github",
        "colab_type": "text"
      },
      "source": [
        "<a href=\"https://colab.research.google.com/github/jamestheengineer/data-science-from-scratch-Python/blob/master/Chapter_4.ipynb\" target=\"_parent\"><img src=\"https://colab.research.google.com/assets/colab-badge.svg\" alt=\"Open In Colab\"/></a>"
      ]
    },
    {
      "cell_type": "code",
      "metadata": {
        "id": "gbFyZGnahFiF",
        "colab_type": "code",
        "colab": {}
      },
      "source": [
        "# Linear Algebra\n",
        "\n",
        "# Vectors\n",
        "from typing import List\n",
        "\n",
        "Vector = List[float]\n",
        "\n",
        "height_weight_age = [70, # inches\n",
        "                     170, # pounds\n",
        "                     40] # years\n",
        "\n",
        "grades = [95, # exam 1\n",
        "          80, # exam 2\n",
        "          75, # exam 3\n",
        "          62] # exam 4\n",
        "\n",
        "def add(v: Vector, w: Vector) -> Vector:\n",
        "  \"\"\"Adds corresponding elements\"\"\"\n",
        "  assert len(v) == len(w), \"vectors must be the same length\"\n",
        "  return [v_i + w_i for v_i, w_i in zip(v, w)]\n",
        "\n",
        "assert add([1, 2, 3], [4, 5, 6]) == [5, 7, 9]\n",
        "\n",
        "def subtract(v: Vector, w: Vector) -> Vector:\n",
        "  \"\"\"Subtracts corresponding elements\"\"\"\n",
        "  assert len(v) == len(w), \"vectors must be the same length\"\n",
        "  return [v_i - w_i for v_i, w_i in zip(v, w)]\n",
        "\n",
        "assert subtract([1, 2, 3], [4, 5, 6]) == [-3, -3, -3]\n",
        "\n",
        "def vector_sum(vectors: List[Vector]) -> Vector:\n",
        "  \"\"\"Sums all corresponding elements\"\"\"\n",
        "  # Check that vectors is not empty\n",
        "  assert vectors, \"no vectors provided!\"\n",
        "\n",
        "  # Check the vectors are all the same size\n",
        "  num_elements = len(vectors[0])\n",
        "  assert all(len(v) == num_elements for v in vectors), \"different sizes!\"\n",
        "\n",
        "  # The i-th element  of the result is the sum of every vector[i]\n",
        "  return [sum(vector[i] for vector in vectors)\n",
        "          for i in range(num_elements)]\n",
        "\n",
        "assert vector_sum([[1,2],[3,4],[5,6],[7,8]]) == [16, 20]"
      ],
      "execution_count": 0,
      "outputs": []
    },
    {
      "cell_type": "code",
      "metadata": {
        "id": "l4VwOQFCkFvI",
        "colab_type": "code",
        "colab": {}
      },
      "source": [
        "# Should also be able to scale a vector\n",
        "def scalar_multiply(c: float, v: Vector) -> Vector:\n",
        "  \"\"\"Multiplies every element by c\"\"\"\n",
        "  return [c * v_i for v_i in v]\n",
        "\n",
        "assert scalar_multiply(2, [1,2,3]) == [2,4,6]"
      ],
      "execution_count": 0,
      "outputs": []
    },
    {
      "cell_type": "code",
      "metadata": {
        "id": "FtQ2lSH-mzLx",
        "colab_type": "code",
        "colab": {}
      },
      "source": [
        "# Component-wise mean\n",
        "def vector_mean(vectors: List[Vector]) -> Vector:\n",
        "  \"\"\"Computes the element-wise average\"\"\"\n",
        "  n = len(vectors)\n",
        "  return scalar_multiply(1/n, vector_sum(vectors))\n",
        "\n",
        "assert vector_mean([[1,2],[3,4],[5,6]]) == [3,4]"
      ],
      "execution_count": 0,
      "outputs": []
    },
    {
      "cell_type": "code",
      "metadata": {
        "id": "kPtn4lRDnfpv",
        "colab_type": "code",
        "colab": {}
      },
      "source": [
        "def dot(v: Vector, w: Vector) -> float:\n",
        "  \"\"\"Computes v_1 * w_1 + ... + v_n * w_n\"\"\"\n",
        "  assert len(v) == len(w), \"vectors must be same length\"\n",
        "\n",
        "  return sum(v_i * w_i for v_i, w_i in zip(v,w))\n",
        "\n",
        "assert dot([1,2,3], [4,5,6]) == 32 "
      ],
      "execution_count": 0,
      "outputs": []
    },
    {
      "cell_type": "code",
      "metadata": {
        "id": "JJlKgiDTJ_O0",
        "colab_type": "code",
        "colab": {}
      },
      "source": [
        "# Vector sum of squares\n",
        "def sum_of_squares(v: Vector) -> float:\n",
        "  \"\"\"Returns v_1 * v_1 + v2 * v_2 + ... + v_n * v_n\"\"\"\n",
        "  return dot(v,v)\n",
        "\n",
        "assert sum_of_squares([1,2,3]) == 14"
      ],
      "execution_count": 0,
      "outputs": []
    },
    {
      "cell_type": "code",
      "metadata": {
        "id": "VzaBSu2AKvcx",
        "colab_type": "code",
        "colab": {}
      },
      "source": [
        "# Magnitude\n",
        "import math\n",
        "\n",
        "def magnitude(v: Vector) -> float:\n",
        "  \"\"\"Returns the magnitude (or length) of v\"\"\"\n",
        "  return math.sqrt(sum_of_squares(v))\n",
        "\n",
        "assert magnitude([3,4]) == 5"
      ],
      "execution_count": 0,
      "outputs": []
    },
    {
      "cell_type": "code",
      "metadata": {
        "id": "XaBwNZxELD2D",
        "colab_type": "code",
        "colab": {}
      },
      "source": [
        "# Now we have the pieces to compute the distance between two vectors\n",
        "def squared_distance(v: Vector, w: Vector) -> float:\n",
        "  \"\"\"Computes (v_1 - w_1) ** 2, ... + (v_n- w_n) ** 2\"\"\"\n",
        "  return sum_of_squares(subtract(v, w))\n",
        "\n",
        "def distance(v: Vector, w: Vector) -> float:\n",
        "  \"\"\"Computes the distance between v and w\"\"\"\n",
        "  return math.sqrt(squared_distance(v, w))\n",
        "\n",
        "# Or\n",
        "\n",
        "def distance(v:Vector, w:Vector) -> float:\n",
        "  return magnitude(subtract(v,w))"
      ],
      "execution_count": 0,
      "outputs": []
    },
    {
      "cell_type": "code",
      "metadata": {
        "id": "1wW3xxGHTxvq",
        "colab_type": "code",
        "colab": {}
      },
      "source": [
        "# Matrices. We'll do a list of a list. Each inner list representing the row of the matrix\n",
        "\n",
        "# Another type alias\n",
        "Matrix = List[List[float]]\n",
        "\n",
        "A = [[1,2,3],    # 2 x 3 matrix\n",
        "     [4,5,6]]\n",
        "\n",
        "B = [[1,2], # 3 x 2 matrix\n",
        "     [3,4],\n",
        "     [6,6]]\n"
      ],
      "execution_count": 0,
      "outputs": []
    },
    {
      "cell_type": "code",
      "metadata": {
        "id": "uD79ObZvWlov",
        "colab_type": "code",
        "colab": {}
      },
      "source": [
        "# Let's create a shape function to determine the size of the matrix\n",
        "from typing import Tuple\n",
        "\n",
        "def shape(A: Matrix) -> Tuple[int,int]:\n",
        "  \"\"\"Returns (# of rows of A, # of columns of A)\"\"\"\n",
        "  num_rows = len(A)\n",
        "  num_cols = len(A[0]) if A else 0 # number of elements in first row\n",
        "  return num_rows, num_cols\n",
        "\n",
        "assert shape([[1,2,3],[4,5,6]]) == (2,3) "
      ],
      "execution_count": 0,
      "outputs": []
    },
    {
      "cell_type": "code",
      "metadata": {
        "id": "T1DCiGvmYax_",
        "colab_type": "code",
        "colab": {}
      },
      "source": [
        "def get_row(A: Matrix, i: int) -> Vector:\n",
        "  \"\"\"Returns the i-th row of A (as a Vector)\"\"\"\n",
        "  return A[i]\n",
        "\n",
        "def get_column(A: Matrix, j: int) -> Vector:\n",
        "  \"\"\"Returns the j-th column of A (as a Vector)\"\"\"\n",
        "  return [A_i[j]          # j-th element of row A_i\n",
        "          for A_i in A]\n",
        "\n",
        "# We also want to be able to create a Matrix given a shape and a function for \n",
        "# generating its elements. We can do this using a nested list comprehension.\n",
        "from typing import Callable\n",
        "\n",
        "def make_matrix(num_rows: int,\n",
        "                num_cols: int,\n",
        "                entry_fn: Callable[[int,int],float]) -> Matrix:\n",
        "    \"\"\"\n",
        "    Returns a num_rows x num_col matrix\n",
        "    whose (i,j)-th entry is entry_fn(i,j)\n",
        "    \"\"\"\n",
        "    return [[entry_fn(i,j)              # given i, create a list\n",
        "             for j in range(num_cols)]  # [entry_fn(i,0), ....]\n",
        "            for i in range(num_rows)]   # create one list for each i"
      ],
      "execution_count": 0,
      "outputs": []
    },
    {
      "cell_type": "code",
      "metadata": {
        "id": "UsSV35WXai1g",
        "colab_type": "code",
        "colab": {}
      },
      "source": [
        "# Identity matrix function"
      ],
      "execution_count": 0,
      "outputs": []
    }
  ]
}