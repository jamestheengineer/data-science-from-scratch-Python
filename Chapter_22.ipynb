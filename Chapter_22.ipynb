{
  "nbformat": 4,
  "nbformat_minor": 0,
  "metadata": {
    "colab": {
      "name": "Chapter_22.ipynb",
      "provenance": [],
      "authorship_tag": "ABX9TyMbqRIb5/ES0Kvu0E9rRIUc",
      "include_colab_link": true
    },
    "kernelspec": {
      "name": "python3",
      "display_name": "Python 3"
    }
  },
  "cells": [
    {
      "cell_type": "markdown",
      "metadata": {
        "id": "view-in-github",
        "colab_type": "text"
      },
      "source": [
        "<a href=\"https://colab.research.google.com/github/jamestheengineer/data-science-from-scratch-Python/blob/master/Chapter_22.ipynb\" target=\"_parent\"><img src=\"https://colab.research.google.com/assets/colab-badge.svg\" alt=\"Open In Colab\"/></a>"
      ]
    },
    {
      "cell_type": "code",
      "metadata": {
        "id": "pxsJpb6Al8qY",
        "outputId": "d6e9224d-ada0-432f-fa8e-ba587ee0fe16",
        "colab": {
          "base_uri": "https://localhost:8080/",
          "height": 326
        }
      },
      "source": [
        "!git clone https://github.com/jamestheengineer/data-science-from-scratch-Python.git\n",
        "%cd data-science-from-scratch-Python/\n",
        "!pip install import-ipynb\n",
        "import import_ipynb"
      ],
      "execution_count": 9,
      "outputs": [
        {
          "output_type": "stream",
          "text": [
            "Cloning into 'data-science-from-scratch-Python'...\n",
            "remote: Enumerating objects: 207, done.\u001b[K\n",
            "remote: Counting objects: 100% (207/207), done.\u001b[K\n",
            "remote: Compressing objects: 100% (206/206), done.\u001b[K\n",
            "remote: Total 594 (delta 130), reused 3 (delta 1), pack-reused 387\u001b[K\n",
            "Receiving objects: 100% (594/594), 1.68 MiB | 4.02 MiB/s, done.\n",
            "Resolving deltas: 100% (370/370), done.\n",
            "/content/data-science-from-scratch-Python\n",
            "Collecting import-ipynb\n",
            "  Downloading https://files.pythonhosted.org/packages/63/35/495e0021bfdcc924c7cdec4e9fbb87c88dd03b9b9b22419444dc370c8a45/import-ipynb-0.1.3.tar.gz\n",
            "Building wheels for collected packages: import-ipynb\n",
            "  Building wheel for import-ipynb (setup.py) ... \u001b[?25l\u001b[?25hdone\n",
            "  Created wheel for import-ipynb: filename=import_ipynb-0.1.3-cp36-none-any.whl size=2976 sha256=d29ac08d47f411de2e3066b091648173dcbcdfb97c6a7ddb0be1982781de894c\n",
            "  Stored in directory: /root/.cache/pip/wheels/b4/7b/e9/a3a6e496115dffdb4e3085d0ae39ffe8a814eacc44bbf494b5\n",
            "Successfully built import-ipynb\n",
            "Installing collected packages: import-ipynb\n",
            "Successfully installed import-ipynb-0.1.3\n"
          ],
          "name": "stdout"
        }
      ]
    },
    {
      "cell_type": "code",
      "metadata": {
        "id": "dkXYd2_PWkcn"
      },
      "source": [
        "from typing import NamedTuple\n",
        "\n",
        "class User(NamedTuple):\n",
        "  id: int\n",
        "  name: str\n",
        "\n",
        "users = [User(0, \"Hero\"), User(1, \"Dunn\"), User(2, \"Sue\"), User(3, \"Chi\"),\n",
        "         User(4, \"Thor\"), User(5, \"Clive\"), User(6, \"Hicks\"),\n",
        "         User(7, \"Devin\"), User(8, \"Kate\"), User(9, \"Klein\")]\n",
        "\n",
        "friend_pairs = [(0, 1), (0, 2), (1, 2), (1, 3), (2, 3), (3, 4),\n",
        "                (4, 5), (5, 6), (5, 7), (6, 8), (7, 8), (8, 9)]\n",
        "\n",
        "from typing import Dict, List\n",
        "\n",
        "# type alias for keeping track ofr Friendships\n",
        "Friendships = Dict[int, List[int]]\n",
        "\n",
        "friendships: Friendships = {user.id: [] for user in users}\n",
        "\n",
        "for i, j in friend_pairs:\n",
        "  friendships[i].append(j)\n",
        "  friendships[j].append(i)\n",
        "\n",
        "assert friendships[4] == [3, 5]\n",
        "assert friendships[8] == [6,7,9]"
      ],
      "execution_count": 10,
      "outputs": []
    },
    {
      "cell_type": "code",
      "metadata": {
        "id": "N2SOEIZAXeLC"
      },
      "source": [
        "from collections import deque\n",
        "\n",
        "Path = List[int]\n",
        "\n",
        "def shortest_paths_from(from_user_id: int,\n",
        "                        friendships: Friendships) -> Dict[int, List[Path]]:\n",
        "    # A dictionary from user_id to *all* shortest paths to that user.\n",
        "    shortest_paths_to: Dict[int, List[Path]] = {from_user_id: [[]]}\n",
        "\n",
        "    # A queue of (previous user, next user) that we need to check.\n",
        "    # Starts out with all pairs(from_user, friend_of_from_user).\n",
        "    frontier = deque((from_user_id, friend_id)\n",
        "                      for friend_id in friendships[from_user_id])\n",
        "    \n",
        "    # Keep going until we empty the queue\n",
        "    while frontier:\n",
        "      # Remove the pair that's next in the queue.\n",
        "      prev_user_id, user_id = frontier.popleft()\n",
        "\n",
        "      # Because of the way we're adding to the queue,\n",
        "      # necessarily we already know some shortest paths to prev_user.\n",
        "      paths_to_prev_user = shortest_paths_to[prev_user_id]\n",
        "      new_paths_to_user = [path + [user_id] for path in paths_to_prev_user]\n",
        "\n",
        "      # It's possible we already know a shortest path to user_id.\n",
        "      old_paths_to_user = shortest_paths_to.get(user_id, [])\n",
        "\n",
        "      # What's the shortest path to here that we've seen so far?\n",
        "      if old_paths_to_user:\n",
        "        min_path_length = len(old_paths_to_user[0])\n",
        "      else: \n",
        "        min_path_length = float('inf')\n",
        "\n",
        "      # Only keep paths that aren't too long and are actually new.\n",
        "      new_paths_to_user = [path\n",
        "                           for path in new_paths_to_user\n",
        "                           if len(path) <= min_path_length\n",
        "                           and path not in old_paths_to_user]\n",
        "      \n",
        "      shortest_paths_to[user_id] = old_paths_to_user + new_paths_to_user\n",
        "\n",
        "      # Add never seen neighbors to the frontier.\n",
        "      frontier.extend((user_id, friend_id)\n",
        "                      for friend_id in friendships[user_id]\n",
        "                      if friend_id not in shortest_paths_to)\n",
        "  \n",
        "    return shortest_paths_to"
      ],
      "execution_count": 11,
      "outputs": []
    },
    {
      "cell_type": "code",
      "metadata": {
        "id": "zzhU7rfogwbl"
      },
      "source": [
        "# For each from_user, for each to_user, a list of shortest paths\n",
        "shortest_paths = {user.id: shortest_paths_from(user.id, friendships)\n",
        "                    for user in users}"
      ],
      "execution_count": 12,
      "outputs": []
    },
    {
      "cell_type": "code",
      "metadata": {
        "id": "eSNBQ2ATQG_g",
        "outputId": "d0c22e4d-b91e-40a8-e248-d4f70a59c389",
        "colab": {
          "base_uri": "https://localhost:8080/",
          "height": 34
        }
      },
      "source": [
        "betweenness_centrality = {user.id: 0.0 for user in users}\n",
        "\n",
        "for source in users:\n",
        "  for target_id, paths in shortest_paths[source.id].items():\n",
        "    if source.id < target_id: # don't double count\n",
        "      num_paths = len(paths)\n",
        "      contrib = 1 / num_paths\n",
        "      for path in paths:\n",
        "        for between_id in path:\n",
        "          if between_id not in [source.id, target_id]:\n",
        "            betweenness_centrality[between_id] += contrib\n",
        "\n",
        "print(betweenness_centrality)"
      ],
      "execution_count": 13,
      "outputs": [
        {
          "output_type": "stream",
          "text": [
            "{0: 0.0, 1: 3.5, 2: 3.5, 3: 18.0, 4: 20.0, 5: 20.5, 6: 6.0, 7: 6.0, 8: 8.5, 9: 0.0}\n"
          ],
          "name": "stdout"
        }
      ]
    },
    {
      "cell_type": "code",
      "metadata": {
        "id": "xYRF8G1TQ7-j",
        "outputId": "75398f17-c220-46fd-8bce-d7d8fc7ccf30",
        "colab": {
          "base_uri": "https://localhost:8080/",
          "height": 54
        }
      },
      "source": [
        "# Closeness centrality\n",
        "def farness(user_id: int) -> float:\n",
        "  \"\"\"The sum of the lengths of the shortest paths to each other user\"\"\"\n",
        "  return sum(len(paths[0])\n",
        "              for paths in shortest_paths[user_id].values())\n",
        "  \n",
        "closeness_centrality = {user.id: 1 / farness(user.id) for user in users}\n",
        "print(closeness_centrality)"
      ],
      "execution_count": 14,
      "outputs": [
        {
          "output_type": "stream",
          "text": [
            "{0: 0.029411764705882353, 1: 0.037037037037037035, 2: 0.037037037037037035, 3: 0.045454545454545456, 4: 0.05, 5: 0.05, 6: 0.041666666666666664, 7: 0.041666666666666664, 8: 0.03571428571428571, 9: 0.027777777777777776}\n"
          ],
          "name": "stdout"
        }
      ]
    },
    {
      "cell_type": "code",
      "metadata": {
        "id": "zXBsWyDKUmzM",
        "outputId": "6e36e75f-89a0-4287-b263-0d34e5b8b802",
        "colab": {
          "base_uri": "https://localhost:8080/",
          "height": 54
        }
      },
      "source": [
        "# Computing shortest paths is kinda a pain, thus not used much on large networks. Usually, we use eigenvector centrality\n",
        "from Chapter_04 import Matrix, make_matrix, shape\n",
        "\n",
        "def matrix_times_matrix(m1: Matrix, m2: Matrix) -> Matrix:\n",
        "  nr1, nc1 = shape(m1)\n",
        "  nr2, nc2 = shape(m2)\n",
        "\n",
        "  assert nc1 == nr2, \"must have (# of columns in m1) == (# of rows in m2)\"\n",
        "\n",
        "  def entry_fn(i: int, j: int) -> float:\n",
        "    \"\"\"dot product of i-th row of m1 with j-th column of m2\"\"\"\n",
        "    return sum(m1[i][k] * m2[k][j] for k in range(nc1))\n",
        "\n",
        "  return make_matrix(nr1, nc2, entry_fn)\n",
        "\n",
        "from Chapter_04 import Vector, dot\n",
        "\n",
        "def matrix_times_vector(m: Matrix, v: Vector) -> Vector:\n",
        "  nr, nc = shape(m)\n",
        "  n = len(v)\n",
        "  assert nc == n, \"must hae (# cols in m) == (# elements in v)\"\n",
        "\n",
        "  return [dot(row, v) for row in m] # output has length nr\n",
        "\n",
        "from typing import Tuple\n",
        "import random\n",
        "from Chapter_04 import magnitude, distance\n",
        "\n",
        "def find_eigenvector(m: Matrix,\n",
        "                     tolerance: float = 0.00001) -> Tuple[Vector, float]:\n",
        "    guess = [random.random() for _ in m]\n",
        "\n",
        "    while True:\n",
        "      result = matrix_times_vector(m, guess) # transform guess\n",
        "      norm = magnitude(result) # compute norm\n",
        "      next_guess = [x / norm for x in result] # rescale\n",
        "\n",
        "      if distance(guess, next_guess) < tolerance:\n",
        "        # convergence so return (eigenvector, eigenvalue)\n",
        "        return next_guess, norm\n",
        "        \n",
        "      guess = next_guess\n",
        "\n",
        "def entry_fn(i: int, j: int):\n",
        "  return 1 if (i,j) in friend_pairs or (j,i) in friend_pairs else 0\n",
        "\n",
        "n = len(users)\n",
        "adjacency_matrix = make_matrix(n,n, entry_fn)\n",
        "\n",
        "[x,y] = find_eigenvector(adjacency_matrix)\n",
        "print(x,y)\n"
      ],
      "execution_count": 17,
      "outputs": [
        {
          "output_type": "stream",
          "text": [
            "[0.3857811994691001, 0.5147899988028268, 0.5147899988028268, 0.4733142002995233, 0.2336069719947848, 0.15014841201517531, 0.08355056911204811, 0.08355056911204811, 0.07284246357716063, 0.02729222422304336] 2.6688229150782448\n"
          ],
          "name": "stdout"
        }
      ]
    },
    {
      "cell_type": "code",
      "metadata": {
        "id": "uk085k0_lDRa"
      },
      "source": [
        ""
      ],
      "execution_count": null,
      "outputs": []
    }
  ]
}