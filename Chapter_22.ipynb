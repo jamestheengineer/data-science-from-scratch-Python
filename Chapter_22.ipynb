{
  "nbformat": 4,
  "nbformat_minor": 0,
  "metadata": {
    "colab": {
      "name": "Chapter_22.ipynb",
      "provenance": [],
      "authorship_tag": "ABX9TyPax8sRodiMQPiPd1SH49GX",
      "include_colab_link": true
    },
    "kernelspec": {
      "name": "python3",
      "display_name": "Python 3"
    }
  },
  "cells": [
    {
      "cell_type": "markdown",
      "metadata": {
        "id": "view-in-github",
        "colab_type": "text"
      },
      "source": [
        "<a href=\"https://colab.research.google.com/github/jamestheengineer/data-science-from-scratch-Python/blob/master/Chapter_22.ipynb\" target=\"_parent\"><img src=\"https://colab.research.google.com/assets/colab-badge.svg\" alt=\"Open In Colab\"/></a>"
      ]
    },
    {
      "cell_type": "code",
      "metadata": {
        "id": "dkXYd2_PWkcn"
      },
      "source": [
        "from typing import NamedTuple\n",
        "\n",
        "class User(NamedTuple):\n",
        "  id: int\n",
        "  name: str\n",
        "\n",
        "users = [User(0, \"Hero\"), User(1, \"Dunn\"), User(2, \"Sue\"), User(3, \"Chi\"),\n",
        "         User(4, \"Thor\"), User(5, \"Clive\"), User(6, \"Hicks\"),\n",
        "         User(7, \"Devin\"), User(8, \"Kate\"), User(9, \"Klein\")]\n",
        "\n",
        "friend_pairs = [(0, 1), (0, 2), (1, 2), (1, 3), (2, 3), (3, 4),\n",
        "                (4, 5), (5, 6), (5, 7), (6, 8), (7, 8), (8, 9)]\n",
        "\n",
        "from typing import Dict, List\n",
        "\n",
        "# type alias for keeping track ofr Friendships\n",
        "Friendships = Dict[int, List[int]]\n",
        "\n",
        "friendships: Friendships = {user.id: [] for user in users}\n",
        "\n",
        "for i, j in friend_pairs:\n",
        "  friendships[i].append(j)\n",
        "  friendships[j].append(i)\n",
        "\n",
        "assert friendships[4] == [3, 5]\n",
        "assert friendships[8] == [6,7,9]"
      ],
      "execution_count": 2,
      "outputs": []
    },
    {
      "cell_type": "code",
      "metadata": {
        "id": "N2SOEIZAXeLC"
      },
      "source": [
        ""
      ],
      "execution_count": null,
      "outputs": []
    }
  ]
}