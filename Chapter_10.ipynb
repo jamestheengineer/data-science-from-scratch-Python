{
  "nbformat": 4,
  "nbformat_minor": 0,
  "metadata": {
    "colab": {
      "name": "Chapter_10.ipynb",
      "provenance": [],
      "authorship_tag": "ABX9TyPDt1wqLeN4e3qGjpnYCFdj",
      "include_colab_link": true
    },
    "kernelspec": {
      "name": "python3",
      "display_name": "Python 3"
    }
  },
  "cells": [
    {
      "cell_type": "markdown",
      "metadata": {
        "id": "view-in-github",
        "colab_type": "text"
      },
      "source": [
        "<a href=\"https://colab.research.google.com/github/jamestheengineer/data-science-from-scratch-Python/blob/master/Chapter_10.ipynb\" target=\"_parent\"><img src=\"https://colab.research.google.com/assets/colab-badge.svg\" alt=\"Open In Colab\"/></a>"
      ]
    },
    {
      "cell_type": "code",
      "metadata": {
        "id": "LjlOMivUmeou",
        "colab_type": "code",
        "colab": {}
      },
      "source": [
        "# Only do this once per VM, otherwise you'll get multiple clones and nested directories\n",
        "!git clone https://github.com/jamestheengineer/data-science-from-scratch-Python.git\n",
        "%cd data-science-from-scratch-Python/\n",
        "!pip install import-ipynb"
      ],
      "execution_count": 0,
      "outputs": []
    },
    {
      "cell_type": "code",
      "metadata": {
        "id": "JkOc49JqlHoZ",
        "colab_type": "code",
        "colab": {}
      },
      "source": [
        "# Working and Exploring data\n",
        "\n",
        "# Exploring one-dimensional data \n",
        "from typing import List, Dict\n",
        "from collections import Counter\n",
        "import math\n",
        "\n",
        "import matplotlib.pyplot as plt\n",
        "\n",
        "def bucketize(point: float, bucket_size: float) -> float:\n",
        "  \"\"\"Floor the point to the next lower multiple of bucket_size\"\"\"\n",
        "  return bucket_size * math.floor(point / bucket_size)\n",
        "\n",
        "def make_histogram(points: List[float], bucket_size: float) -> Dict[float, int]:\n",
        "  \"\"\"Bickets the points and counts how many in each bucket\"\"\"\n",
        "  return Counter(bucketize(point, bucket_size) for point in points)\n",
        "\n",
        "def plot_histogram(points: List[float], bucket_size: float, title: str = \"\"):\n",
        "  histogram = make_histogram(points, bucket_size)\n",
        "  plt.bar(histogram.keys(), histogram.values(), width = bucket_size)\n",
        "  plt.title(title)\n"
      ],
      "execution_count": 0,
      "outputs": []
    },
    {
      "cell_type": "code",
      "metadata": {
        "id": "T6vT6Dlxo6He",
        "colab_type": "code",
        "colab": {}
      },
      "source": [
        "import random\n",
        "import import_ipynb\n",
        "from Chapter_6 import inverse_normal_cdf"
      ],
      "execution_count": 0,
      "outputs": []
    },
    {
      "cell_type": "code",
      "metadata": {
        "id": "ULldXInbpvU_",
        "colab_type": "code",
        "colab": {}
      },
      "source": [
        "random.seed(0)\n",
        "\n",
        "# uniform between -100 and 100\n",
        "uniform = [200 * random.random() - 100 for _ in range(10000)]\n",
        "\n",
        "# normal distribution with mean 0, standard deviation 57\n",
        "normal = [57 * inverse_normal_cdf(random.random())\n",
        "          for _ in range(10000)]\n",
        "\n",
        "#plot_histogram(uniform, 10, \"Uniform Histogram\")\n",
        "plot_histogram(normal, 10, \"Normal Histogram\")"
      ],
      "execution_count": 0,
      "outputs": []
    },
    {
      "cell_type": "code",
      "metadata": {
        "id": "Fb3p4PMNqUFR",
        "colab_type": "code",
        "colab": {}
      },
      "source": [
        "# Two dimensions\n",
        "def random_normal() -> float:\n",
        "  \"\"\"Returns a random draw from a standard normal distribution\"\"\"\n",
        "  return inverse_normal_cdf(random.random())"
      ],
      "execution_count": 0,
      "outputs": []
    },
    {
      "cell_type": "code",
      "metadata": {
        "id": "jqrMpX7X74J_",
        "colab_type": "code",
        "colab": {}
      },
      "source": [
        "xs = [random_normal() for _ in range(1000)]\n",
        "ys1 = [x + random_normal() / 2 for x in xs]\n",
        "ys2 = [-x + random_normal() / 2 for x in xs]"
      ],
      "execution_count": 0,
      "outputs": []
    },
    {
      "cell_type": "code",
      "metadata": {
        "id": "rXclPONo8Gs3",
        "colab_type": "code",
        "colab": {}
      },
      "source": [
        "# Same histogram but different joint distributions\n",
        "plt.scatter(xs, ys1, marker='.', color='black', label='ys1')\n",
        "plt.scatter(xs, ys2, marker='.', color='gray', label='ys2')\n",
        "plt.xlabel('xs')\n",
        "plt.ylabel('ys')\n",
        "plt.legend(loc=9)\n",
        "plt.title(\"Very Different Joint Distributions\")\n",
        "plt.show()"
      ],
      "execution_count": 0,
      "outputs": []
    },
    {
      "cell_type": "code",
      "metadata": {
        "id": "GRUW-vnU8z95",
        "colab_type": "code",
        "colab": {}
      },
      "source": [
        "# The difference is also apparent when you look at the correlations\n",
        "from Chapter_5 import correlation\n",
        "\n",
        "print(correlation(xs, ys1))\n",
        "print(correlation(xs, ys2))"
      ],
      "execution_count": 0,
      "outputs": []
    },
    {
      "cell_type": "code",
      "metadata": {
        "id": "2Y_6mhg995dJ",
        "colab_type": "code",
        "colab": {}
      },
      "source": [
        "from Chapter_4 import Matrix, Vector, make_matrix\n",
        "\n",
        "def correlation_matrix(data: List[Vector]) -> Matrix:\n",
        "  \"\"\"\n",
        "  Returns the len(data) x len(data) matrix whose (i, j)-th entry\n",
        "  is the correlation between data[i] and data[j]\n",
        "  \"\"\"\n",
        "  def correlation_ij(i: int, j: int) -> float:\n",
        "    return correlation(data[i], data[j])\n",
        "\n",
        "  return make_matrix(len(data), len(data), correlation_ij)\n",
        "\n",
        "# corr_data is a list of four 100-d vectors\n",
        "# Hmmm..don't see this in Joel's github repo. Not sure where the data is.\n",
        "#num_vectors = len(corr_data)\n",
        "#fig, ax = plt.subplots(num_vectors, num_vectors)\n",
        "\n",
        "#for i in range(num_vectors):\n",
        "#  for j in range(num_vectors):\n",
        "#    #Scatter column_j on the x-axis vs. column_i on the y-axis\n",
        "#    if i != j: ax[i][j].scatter(corr_data[j], corr_data[i])\n",
        "\n",
        "    # unless i == j, in which case show the series name\n",
        "#    else: ax[i][j].annotate(\"series \" + str(i), (0.5, 0.5),\n",
        "#                            xycoords='axes fraction',\n",
        "#                            ha=\"center\", va=\"center\")\n",
        "    \n",
        "    # Then hide axis labels except left and bottom charts\n",
        "#    if i < num_vectors - 1: ax[i][j].xaxis.set_visible(False)\n",
        "#    if j > 0: ax[i][j].yaxis.set_visible(False)\n",
        "\n",
        "# Fix the bottom-right and top-left axis labels, which are wrong because\n",
        "# their charts only have text in them\n",
        "#ax[-1][-1].set_xlim(ax[0][-1].get_xlim())\n",
        "#ax[0][0].set_ylim(ax[0][1].get_ylim())\n",
        "\n",
        "#plt.show()"
      ],
      "execution_count": 0,
      "outputs": []
    },
    {
      "cell_type": "code",
      "metadata": {
        "id": "gyhTFBbT516p",
        "colab_type": "code",
        "colab": {}
      },
      "source": [
        "import datetime\n",
        "\n",
        "stock_price = {'closing_price': 102.06,\n",
        "               'date': datetime.date(2014, 8, 29),\n",
        "               'symbol': 'AAPL'}\n",
        "print(stock_price)\n",
        "# But this can be error prone\n",
        "stock_price['cosing_price'] = 103.06\n",
        "print(stock_price)\n"
      ],
      "execution_count": 0,
      "outputs": []
    },
    {
      "cell_type": "code",
      "metadata": {
        "id": "pptBbu_q6bvr",
        "colab_type": "code",
        "colab": {}
      },
      "source": [
        "# Python has named tuples\n",
        "from collections import namedtuple\n",
        "\n",
        "StockPrice = namedtuple('StockPrice', ['symbol', 'date', 'closing_price'])\n",
        "price = StockPrice('MSFT', datetime.date(2018, 12, 14), 106.03)\n",
        "\n",
        "assert price.symbol == 'MSFT'\n",
        "assert price.closing_price == 106.03\n",
        "\n",
        "from typing import NamedTuple\n",
        "\n",
        "class StockPrice(NamedTuple):\n",
        "  symbol: str\n",
        "  date: datetime.date\n",
        "  closing_price: float\n",
        "\n",
        "  def is_high_tech(self) -> bool:\n",
        "    \"\"\"It's a class, so we can add methods too\"\"\"\n",
        "    return self.symbol in ['MSFT', 'GOOG', 'FB', 'AMZN', 'AAPL']\n",
        "\n",
        "price = StockPrice('MSFT', datetime.date(2018, 12, 14), 106.03)\n",
        "\n",
        "assert price.symbol == 'MSFT'\n",
        "assert price.closing_price == 106.03\n",
        "assert price.is_high_tech()\n"
      ],
      "execution_count": 0,
      "outputs": []
    },
    {
      "cell_type": "code",
      "metadata": {
        "id": "Nw-FdPUz7KS7",
        "colab_type": "code",
        "colab": {}
      },
      "source": [
        "# Dataclasses in Python are new in Python 3.7\n",
        "from dataclasses import dataclass\n",
        "\n",
        "@dataclass\n",
        "class StockPrice2:\n",
        "  symbol: str\n",
        "  date: datetime.date\n",
        "  closing_price: float\n",
        "\n",
        "  def is_high_tech(self) -> bool:\n",
        "    \"\"\"It's a class, so we can add methods too\"\"\"\n",
        "    return self.symbol in ['MSFT', 'GOOG', 'FB', 'AMZN', 'AAPL']\n",
        "\n",
        "price2 = StockPrice2('MSFT', datetime.date(2018, 12, 14), 102.06)\n",
        "\n",
        "assert price2.symbol == 'MSFT'\n",
        "assert price2.closing_price == 102.06\n",
        "assert price2.is_high_tech()\n",
        "\n",
        "# You can modify a dataclass instance unlike a NamedTuple\n",
        "# stock split\n",
        "price2.closing_price /= 2\n",
        "assert price2.closing_price == 51.03"
      ],
      "execution_count": 0,
      "outputs": []
    },
    {
      "cell_type": "code",
      "metadata": {
        "id": "LZQXSpXP_vXT",
        "colab_type": "code",
        "colab": {}
      },
      "source": [
        "# But you still have the problem of writing props that you didn't intend, so we \n",
        "# won't use these\n",
        "price2.cosing_price = 75 # oops"
      ],
      "execution_count": 0,
      "outputs": []
    },
    {
      "cell_type": "code",
      "metadata": {
        "id": "vuKcsDBKCmEA",
        "colab_type": "code",
        "colab": {}
      },
      "source": [
        ""
      ],
      "execution_count": 0,
      "outputs": []
    }
  ]
}