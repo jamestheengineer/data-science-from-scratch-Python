{
  "nbformat": 4,
  "nbformat_minor": 0,
  "metadata": {
    "colab": {
      "name": "Chapter_10.ipynb",
      "provenance": [],
      "authorship_tag": "ABX9TyN2bM23TAcRzWKfzR8FTD9y",
      "include_colab_link": true
    },
    "kernelspec": {
      "name": "python3",
      "display_name": "Python 3"
    }
  },
  "cells": [
    {
      "cell_type": "markdown",
      "metadata": {
        "id": "view-in-github",
        "colab_type": "text"
      },
      "source": [
        "<a href=\"https://colab.research.google.com/github/jamestheengineer/data-science-from-scratch-Python/blob/master/Chapter_10.ipynb\" target=\"_parent\"><img src=\"https://colab.research.google.com/assets/colab-badge.svg\" alt=\"Open In Colab\"/></a>"
      ]
    },
    {
      "cell_type": "code",
      "metadata": {
        "id": "JkOc49JqlHoZ",
        "colab_type": "code",
        "colab": {}
      },
      "source": [
        "# Working and Exploring data\n",
        "\n",
        "# Exploring one-dimensional data \n",
        "from typing import List, Dict\n",
        "from collections import Counter\n",
        "import math\n",
        "\n",
        "import matplotlib.pyplot as plt\n",
        "\n",
        "def bucketize(point: float, bucket_size: float) -> float:\n",
        "  \"\"\"Floor the point to the next lower multiple of bucket_size\"\"\"\n",
        "  return bucket_size * math.floor(point / bucket_size)\n",
        "\n",
        "def make_histogram(points: List[float], bucket_size: float) -> Dict[float, int]:\n",
        "  \"\"\"Bickets the points and counts how many in each bucket\"\"\"\n",
        "  return Counter(bucketize(point, bucket_size) for point in points)\n",
        "\n",
        "def plot_histogram(points: List[float], bucket_size: float, title: str = \"\"):\n",
        "  histogram = make_histogram(points, bucket_size)\n",
        "  plt.bar(histogram.keys(), histogram.values(), width = bucket_size)\n",
        "  plt.title(title)\n"
      ],
      "execution_count": 0,
      "outputs": []
    },
    {
      "cell_type": "code",
      "metadata": {
        "id": "T6vT6Dlxo6He",
        "colab_type": "code",
        "colab": {}
      },
      "source": [
        "import random\n",
        "!git clone https://github.com/jamestheengineer/data-science-from-scratch-Python.git\n",
        "%cd data-science-from-scratch-Python/\n",
        "!pip install import-ipynb\n",
        "import import_ipynb\n",
        "from Chapter_6 import inverse_normal_cdf"
      ],
      "execution_count": 0,
      "outputs": []
    },
    {
      "cell_type": "code",
      "metadata": {
        "id": "ULldXInbpvU_",
        "colab_type": "code",
        "colab": {}
      },
      "source": [
        "random.seed(0)\n",
        "\n",
        "# uniform between -100 and 100\n",
        "uniform = [200 * random.random() - 100 for _ in range(10000)]\n",
        "\n",
        "# normal distribution with mean 0, standard deviation 57\n",
        "normal = [57 * inverse_normal_cdf(random.random())\n",
        "          for _ in range(10000)]\n",
        "\n",
        "#plot_histogram(uniform, 10, \"Uniform Histogram\")\n",
        "plot_histogram(normal, 10, \"Normal Histogram\")"
      ],
      "execution_count": 0,
      "outputs": []
    },
    {
      "cell_type": "code",
      "metadata": {
        "id": "Fb3p4PMNqUFR",
        "colab_type": "code",
        "colab": {}
      },
      "source": [
        "# Two dimensions\n",
        "def random_normal() -> float:\n",
        "  \"\"\"Returns a random draw from a standard normal distribution\"\"\"\n",
        "  return inverse_normal_cdf(random.random())"
      ],
      "execution_count": 0,
      "outputs": []
    },
    {
      "cell_type": "code",
      "metadata": {
        "id": "jqrMpX7X74J_",
        "colab_type": "code",
        "colab": {}
      },
      "source": [
        "xs = [random_normal() for _ in range(1000)]\n",
        "ys1 = [x + random_normal() / 2 for x in xs]\n",
        "ys2 = [-x + random_normal() / 2 for x in xs]"
      ],
      "execution_count": 0,
      "outputs": []
    },
    {
      "cell_type": "code",
      "metadata": {
        "id": "rXclPONo8Gs3",
        "colab_type": "code",
        "colab": {}
      },
      "source": [
        "# Same histogram but different joint distributions\n",
        "plt.scatter(xs, ys1, marker='.', color='black', label='ys1')\n",
        "plt.scatter(xs, ys2, marker='.', color='gray', label='ys2')\n",
        "plt.xlabel('xs')\n",
        "plt.ylabel('ys')\n",
        "plt.legend(loc=9)\n",
        "plt.title(\"Very Different Joint Distributions\")\n",
        "plt.show()"
      ],
      "execution_count": 0,
      "outputs": []
    },
    {
      "cell_type": "code",
      "metadata": {
        "id": "GRUW-vnU8z95",
        "colab_type": "code",
        "colab": {}
      },
      "source": [
        "# The difference is also apparent when you look at the correlations\n",
        "from Chapter_5 import correlation"
      ],
      "execution_count": 0,
      "outputs": []
    },
    {
      "cell_type": "code",
      "metadata": {
        "id": "2Y_6mhg995dJ",
        "colab_type": "code",
        "colab": {}
      },
      "source": [
        ""
      ],
      "execution_count": 0,
      "outputs": []
    }
  ]
}