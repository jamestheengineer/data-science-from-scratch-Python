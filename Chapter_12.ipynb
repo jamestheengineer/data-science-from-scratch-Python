{
  "nbformat": 4,
  "nbformat_minor": 0,
  "metadata": {
    "colab": {
      "name": "Chapter_12.ipynb",
      "provenance": [],
      "authorship_tag": "ABX9TyM6bWzQDDwuGTJyHTK8MLD3",
      "include_colab_link": true
    },
    "kernelspec": {
      "name": "python3",
      "display_name": "Python 3"
    }
  },
  "cells": [
    {
      "cell_type": "markdown",
      "metadata": {
        "id": "view-in-github",
        "colab_type": "text"
      },
      "source": [
        "<a href=\"https://colab.research.google.com/github/jamestheengineer/data-science-from-scratch-Python/blob/master/Chapter_12.ipynb\" target=\"_parent\"><img src=\"https://colab.research.google.com/assets/colab-badge.svg\" alt=\"Open In Colab\"/></a>"
      ]
    },
    {
      "cell_type": "code",
      "metadata": {
        "id": "Fz0lIKWRds6D",
        "colab_type": "code",
        "colab": {}
      },
      "source": [
        "# Only do this once per VM, otherwise you'll get multiple clones and nested directories\n",
        "!git clone https://github.com/jamestheengineer/data-science-from-scratch-Python.git\n",
        "%cd data-science-from-scratch-Python/\n",
        "!pip install import-ipynb"
      ],
      "execution_count": 0,
      "outputs": []
    },
    {
      "cell_type": "code",
      "metadata": {
        "id": "Xf0DS1yLbujQ",
        "colab_type": "code",
        "colab": {}
      },
      "source": [
        "# k-Nearest Neighbors\n",
        "from typing import List\n",
        "from collections import Counter\n",
        "\n",
        "def raw_majority_vote(labels: List[str]) -> str:\n",
        "  votes= Counter(labels)\n",
        "  winner, _ = votes.most_common(1)[0]\n",
        "  return winner\n",
        "\n",
        "assert raw_majority_vote(['a','b','c','b']) == 'b'"
      ],
      "execution_count": 0,
      "outputs": []
    },
    {
      "cell_type": "code",
      "metadata": {
        "id": "c26dBmducknw",
        "colab_type": "code",
        "colab": {}
      },
      "source": [
        "# The previous function doesn't handle ties. Let's reduce k until we find a unique winner\n",
        "def majority_vote(labels: List[str]) -> str:\n",
        "  \"\"\"Assumes that labels are ordered from nearest to farthest.\"\"\"\n",
        "  vote_counts = Counter(labels)\n",
        "  winner, winner_count = vote_counts.most_common(1)[0]\n",
        "  num_winners = len([count\n",
        "                     for count in vote_counts.values()\n",
        "                     if count == winner_count])\n",
        "  if num_winners == 1:\n",
        "    return winner\n",
        "  else:\n",
        "    return majority_vote(labels[:-1]) # try again without the farthest\n",
        "\n",
        "# Tie, so look at first 4\n",
        "assert majority_vote(['a','b','c','b','a']) == 'b'"
      ],
      "execution_count": 0,
      "outputs": []
    },
    {
      "cell_type": "code",
      "metadata": {
        "id": "myovvi54eBpg",
        "colab_type": "code",
        "colab": {}
      },
      "source": [
        "from typing import NamedTuple\n",
        "import import_ipynb\n",
        "from Chapter_4 import Vector, distance\n",
        "\n",
        "class LabeledPoint(NamedTuple):\n",
        "  point: Vector\n",
        "  label: str\n",
        "\n",
        "def knn_classify(k: int,\n",
        "                 labeled_points: List[LabeledPoint],\n",
        "                 new_point: Vector) -> str:\n",
        "    # Order the labeled points from nearest to farthest\n",
        "    by_distance = sorted(labeled_points,\n",
        "                         key=lambda lp: distance(lp.point, new_point))\n",
        "    \n",
        "    # Find the labels for the k closest\n",
        "    k_nearest_labels = [lp.label for lp in by_distance[:k]]\n",
        "\n",
        "    # And let them vote\n",
        "    return majority_vote(k_nearest_labels)\n",
        "\n"
      ],
      "execution_count": 0,
      "outputs": []
    },
    {
      "cell_type": "code",
      "metadata": {
        "id": "Lt7R_TbKgeAD",
        "colab_type": "code",
        "colab": {}
      },
      "source": [
        ""
      ],
      "execution_count": 0,
      "outputs": []
    }
  ]
}