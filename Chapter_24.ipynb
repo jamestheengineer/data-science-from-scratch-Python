{
  "nbformat": 4,
  "nbformat_minor": 0,
  "metadata": {
    "colab": {
      "name": "Chapter_24.ipynb",
      "provenance": [],
      "authorship_tag": "ABX9TyNOvr0EMpY697DOTxrLcv1u",
      "include_colab_link": true
    },
    "kernelspec": {
      "name": "python3",
      "display_name": "Python 3"
    }
  },
  "cells": [
    {
      "cell_type": "markdown",
      "metadata": {
        "id": "view-in-github",
        "colab_type": "text"
      },
      "source": [
        "<a href=\"https://colab.research.google.com/github/jamestheengineer/data-science-from-scratch-Python/blob/master/Chapter_24.ipynb\" target=\"_parent\"><img src=\"https://colab.research.google.com/assets/colab-badge.svg\" alt=\"Open In Colab\"/></a>"
      ]
    },
    {
      "cell_type": "code",
      "metadata": {
        "id": "bf357o2HWYIZ"
      },
      "source": [
        "# Fake SQL Database class\n",
        "from typing import Tuple, Sequence, List, Any, Callable, Dict, Iterator\n",
        "from collections import defaultdict\n",
        "\n",
        "# A few type aliases we'll use later\n",
        "Row = Dict[str, Any]\n",
        "WhereClause = Callable[[Row], bool] # Predicate for a single row\n",
        "HavingClause = Callable[[List[Row]], bool] # Predicate over multiple ros"
      ],
      "execution_count": 1,
      "outputs": []
    },
    {
      "cell_type": "code",
      "metadata": {
        "id": "j9CSI9HDW5a3"
      },
      "source": [
        "# Constructor for class to create column names and types\n",
        "class Table:\n",
        "  def __init__(self, columns: List[str], types: List[type]) -> None:\n",
        "    assert len(columns) == len(types), \"# of columns must == # of types\"\n",
        "    self.columns = columns\n",
        "    self.types = types\n",
        "    self.rows: List[Row] = [] # no data yet\n",
        "\n",
        "  # Helper method to get the type of a column\n",
        "  def col2type(self, col: str) -> type:\n",
        "    idx = self.columns.index(col) # Find the index of the column\n",
        "    return self.types[idx]\n",
        "  \n",
        "  def insert(self, values: list) -> None:\n",
        "    # Check for the right number of values\n",
        "    if len(values) != len(self.types):\n",
        "      raise ValueError(f\"You need to provide {len(self.types)} values\")\n",
        "\n",
        "    # Check for the right types of values\n",
        "    for value, typ3 in zip(values, self.types):\n",
        "      if not isinstance(value, typ3) and value is not None:\n",
        "        raise TypeError(f\"Expected type {typ3} but got {value}\")\n",
        "\n",
        "    # Add the corresponding dict as a \"row\"\n",
        "    self.rows.append(dict(zip(self.columns, values)))\n",
        "  \n",
        "  def __getitem__(self, idx: int) -> Row:\n",
        "    return self.rows[idx]\n",
        "  \n",
        "  def __iter__(self) -> Iterator[Row]:\n",
        "    return iter(self.rows)\n",
        "\n",
        "  def __len__(self) -> int:\n",
        "    return len(self.rows)\n",
        "\n",
        "  def __repr__(self):\n",
        "    \"\"\"Pretty representation of the table: columns then rows\"\"\"\n",
        "    rows = \"\\n\".join(str(row) for row in self.rows)\n",
        "    return f\"{self.columns}\\n{rows}\"\n",
        "\n",
        "  # Let's update\n",
        "  def update(self,\n",
        "           updates: Dict[str, Any],\n",
        "           predicate: WhereClause = lambda row: True):\n",
        "    # First make sure the updates have valid names and types\n",
        "    for column, new_value in updates.items():\n",
        "      if column not in self.columns:\n",
        "        raise ValueError(f\"invalid column: {column}\")\n",
        "\n",
        "      typ3 = self.col2type(column)\n",
        "      if not isinstance(new_value, typ3) and new_value is not None:\n",
        "        raise TypeError(f\"expected type {typ3}, but got {new_value}\")\n",
        "\n",
        "    # Now update\n",
        "    for row in self.rows:\n",
        "      if predicate(row):\n",
        "        for column, new_value in updates.items():\n",
        "          row[column] = new_value"
      ],
      "execution_count": 5,
      "outputs": []
    },
    {
      "cell_type": "code",
      "metadata": {
        "id": "_WC0mrJvXqwU"
      },
      "source": [
        "users = Table(['user_id', 'name', 'num_friends'], [int, str, int])\n",
        "users.insert([0, \"Hero\", 0])\n",
        "users.insert([1, \"Dunn\", 2])\n",
        "users.insert([2, \"Sue\", 3])\n",
        "users.insert([3, \"Chi\", 3])\n",
        "users.insert([4, \"Thor\", 3])\n",
        "users.insert([5, \"Clive\", 2])\n",
        "users.insert([6, \"Hicks\", 3])\n",
        "users.insert([7, \"Devin\", 2])\n",
        "users.insert([8, \"Kate\", 2])\n",
        "users.insert([9, \"Klein\", 3])\n",
        "users.insert([10, \"Jen\", 1])\n",
        "assert len(users) == 11\n",
        "assert users[1]['name'] == 'Dunn'\n",
        "\n",
        "assert users[1]['num_friends'] == 2\n",
        "users.update({'num_friends' : 3},\n",
        "             lambda row: row['user_id'] == 1) \n",
        "\n",
        "assert users[1]['num_friends'] == 3"
      ],
      "execution_count": 7,
      "outputs": []
    },
    {
      "cell_type": "code",
      "metadata": {
        "id": "sgAIKHmjYfxu"
      },
      "source": [
        ""
      ],
      "execution_count": null,
      "outputs": []
    }
  ]
}