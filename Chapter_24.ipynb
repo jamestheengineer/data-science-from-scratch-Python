{
  "nbformat": 4,
  "nbformat_minor": 0,
  "metadata": {
    "colab": {
      "name": "Chapter_24.ipynb",
      "provenance": [],
      "authorship_tag": "ABX9TyMTllzHmpXbT3a8+hOaLuoh",
      "include_colab_link": true
    },
    "kernelspec": {
      "name": "python3",
      "display_name": "Python 3"
    }
  },
  "cells": [
    {
      "cell_type": "markdown",
      "metadata": {
        "id": "view-in-github",
        "colab_type": "text"
      },
      "source": [
        "<a href=\"https://colab.research.google.com/github/jamestheengineer/data-science-from-scratch-Python/blob/master/Chapter_24.ipynb\" target=\"_parent\"><img src=\"https://colab.research.google.com/assets/colab-badge.svg\" alt=\"Open In Colab\"/></a>"
      ]
    },
    {
      "cell_type": "code",
      "metadata": {
        "id": "bf357o2HWYIZ"
      },
      "source": [
        "# Fake SQL Database class\n",
        "from typing import Tuple, Sequence, List, Any, Callable, Dict, Iterator\n",
        "from collections import defaultdict\n",
        "\n",
        "# A few type aliases we'll use later\n",
        "Row = Dict[str, Any]\n",
        "WhereClause = Callable[[Row], bool] # Predicate for a single row\n",
        "HavingClause = Callable[[List[Row]], bool] # Predicate over multiple ros"
      ],
      "execution_count": 1,
      "outputs": []
    },
    {
      "cell_type": "code",
      "metadata": {
        "id": "j9CSI9HDW5a3"
      },
      "source": [
        "# Constructor for class to create column names and types\n",
        "class Table:\n",
        "  def __init__(self, columns: List[str], types: List[type]) -> None:\n",
        "    assert len(columns) == len(types), \"# of columns must == # of types\"\n",
        "    self.columns = columns\n",
        "    self.types = types\n",
        "    self.rows: List[Row] = [] # no data yet\n",
        "\n",
        "  # Helper method to get the type of a column\n",
        "  def col2type(self, col: str) -> type:\n",
        "    idx = self.columns.index(col) # Find the index of the column\n",
        "    return self.types[idx]\n",
        "  \n",
        "  def insert(self, values: list) -> None:\n",
        "    # Check for the right number of values\n",
        "    if len(values) != len(self.types):\n",
        "      raise ValueError(f\"You need to provide {len(self.types)} values\")\n",
        "\n",
        "    # Check for the right types of values\n",
        "    for value, typ3 in zip(values, self.types):\n",
        "      if not isinstance(value, typ3) and value is not None:\n",
        "        raise TypeError(f\"Expected type {typ3} but got {value}\")\n",
        "\n",
        "    # Add the corresponding dict as a \"row\"\n",
        "    self.rows.append(dict(zip(self.columns, values)))\n",
        "  \n",
        "  def __getitem__(self, idx: int) -> Row:\n",
        "    return self.rows[idx]\n",
        "  \n",
        "  def __iter__(self) -> Iterator[Row]:\n",
        "    return iter(self.rows)\n",
        "\n",
        "  def __len__(self) -> int:\n",
        "    return len(self.rows)\n",
        "\n",
        "  def __repr__(self):\n",
        "    \"\"\"Pretty representation of the table: columns then rows\"\"\"\n",
        "    rows = \"\\n\".join(str(row) for row in self.rows)\n",
        "    return f\"{self.columns}\\n{rows}\"\n",
        "\n",
        "  # Let's update\n",
        "  def update(self,\n",
        "           updates: Dict[str, Any],\n",
        "           predicate: WhereClause = lambda row: True):\n",
        "    # First make sure the updates have valid names and types\n",
        "    for column, new_value in updates.items():\n",
        "      if column not in self.columns:\n",
        "        raise ValueError(f\"invalid column: {column}\")\n",
        "\n",
        "      typ3 = self.col2type(column)\n",
        "      if not isinstance(new_value, typ3) and new_value is not None:\n",
        "        raise TypeError(f\"expected type {typ3}, but got {new_value}\")\n",
        "\n",
        "    # Now update\n",
        "    for row in self.rows:\n",
        "      if predicate(row):\n",
        "        for column, new_value in updates.items():\n",
        "          row[column] = new_value\n",
        "\n",
        "  # Time to delete\n",
        "  def delete(self, predicate: WhereClause = lambda row: True) -> None:\n",
        "    \"\"\" Delete all rows matching predicate\"\"\"\n",
        "    self.rows = [row for row in self.rows if not predicate(row)]\n",
        "\n",
        "  def select(self,\n",
        "             keep_columns: List[str] = None,\n",
        "             additional_columns: Dict[str, Callable] = None) -> 'Table':\n",
        "    if keep_columns is None:\n",
        "      keep_columns = self.columns\n",
        "\n",
        "    if additional_columns is None:\n",
        "      additional_columns = {}\n",
        "\n",
        "    # New column names and types\n",
        "    new_columns = keep_columns + list(additional_columns.keys())\n",
        "    keep_types = [self.col2type(col) for col in keep_columns]\n",
        "\n",
        "    add_types = [calculation.__annotations__['return']\n",
        "                 for calculation in additional_columns.values()]\n",
        "    \n",
        "    new_table = Table(new_columns, keep_types + add_types)\n",
        "\n",
        "    for row in self.rows:\n",
        "      new_row = [row[column] for column in keep_columns]\n",
        "      for column_name, calculation in additional_columns.items():\n",
        "        new_row.append(calculation(row))\n",
        "      new_table.insert(new_row)\n",
        "\n",
        "    return new_table\n",
        "\n",
        "  def where(self, predicate: WhereClause = lambda row: True) -> 'Table':\n",
        "    \"\"\"Return only the rows that satisfy the supplied predicate.\"\"\"\n",
        "    where_table = Table(self.columns, self.types)\n",
        "    for row in self.rows:\n",
        "      if predicate(row):\n",
        "        values = [row[column] for column in self.columns]\n",
        "        where_table.insert(values)\n",
        "    return where_table\n",
        "\n",
        "  def limit(self, num_rows: int) -> 'Table':\n",
        "    \"\"\"Retirn only the first 'num_rows' rows\"\"\"\n",
        "    limit_table = Table(self.columns, self.types)\n",
        "    for i, row in enumerate(self.rows):\n",
        "      if i >= num_rows:\n",
        "        break\n",
        "      values = [row[column] for column in self.columns]\n",
        "      limit_table.insert(values)\n",
        "    return limit_table"
      ],
      "execution_count": 15,
      "outputs": []
    },
    {
      "cell_type": "code",
      "metadata": {
        "id": "_WC0mrJvXqwU"
      },
      "source": [
        "users = Table(['user_id', 'name', 'num_friends'], [int, str, int])\n",
        "users.insert([0, \"Hero\", 0])\n",
        "users.insert([1, \"Dunn\", 2])\n",
        "users.insert([2, \"Sue\", 3])\n",
        "users.insert([3, \"Chi\", 3])\n",
        "users.insert([4, \"Thor\", 3])\n",
        "users.insert([5, \"Clive\", 2])\n",
        "users.insert([6, \"Hicks\", 3])\n",
        "users.insert([7, \"Devin\", 2])\n",
        "users.insert([8, \"Kate\", 2])\n",
        "users.insert([9, \"Klein\", 3])\n",
        "users.insert([10, \"Jen\", 1])\n",
        "assert len(users) == 11\n",
        "assert users[1]['name'] == 'Dunn'\n",
        "\n",
        "assert users[1]['num_friends'] == 2\n",
        "users.update({'num_friends' : 3},\n",
        "             lambda row: row['user_id'] == 1) \n",
        "\n",
        "assert users[1]['num_friends'] == 3"
      ],
      "execution_count": 16,
      "outputs": []
    },
    {
      "cell_type": "code",
      "metadata": {
        "id": "sgAIKHmjYfxu",
        "outputId": "8109e0b1-7818-489c-9589-d6eb734ff01c",
        "colab": {
          "base_uri": "https://localhost:8080/"
        }
      },
      "source": [
        "# SELECT * FROM users;\n",
        "all_users = users.select()\n",
        "print(all_users)"
      ],
      "execution_count": 17,
      "outputs": [
        {
          "output_type": "stream",
          "text": [
            "['user_id', 'name', 'num_friends']\n",
            "{'user_id': 0, 'name': 'Hero', 'num_friends': 0}\n",
            "{'user_id': 1, 'name': 'Dunn', 'num_friends': 3}\n",
            "{'user_id': 2, 'name': 'Sue', 'num_friends': 3}\n",
            "{'user_id': 3, 'name': 'Chi', 'num_friends': 3}\n",
            "{'user_id': 4, 'name': 'Thor', 'num_friends': 3}\n",
            "{'user_id': 5, 'name': 'Clive', 'num_friends': 2}\n",
            "{'user_id': 6, 'name': 'Hicks', 'num_friends': 3}\n",
            "{'user_id': 7, 'name': 'Devin', 'num_friends': 2}\n",
            "{'user_id': 8, 'name': 'Kate', 'num_friends': 2}\n",
            "{'user_id': 9, 'name': 'Klein', 'num_friends': 3}\n",
            "{'user_id': 10, 'name': 'Jen', 'num_friends': 1}\n"
          ],
          "name": "stdout"
        }
      ]
    },
    {
      "cell_type": "code",
      "metadata": {
        "id": "eulUWW1w8x-k"
      },
      "source": [
        "assert len(all_users) == 11\n",
        "\n",
        "# SELECT * FROM users LIMIT 2;\n",
        "two_users = users.limit(2)\n",
        "assert len(two_users) == 2\n",
        "\n",
        "# SELECT user_if FROM users;\n",
        "just_ids = users.select(keep_columns=[\"user_id\"])\n",
        "assert just_ids.columns == ['user_id']\n",
        "\n",
        "# SELECT user_id FROM users WHERE name = 'Dunn';\n",
        "dunn_ids = (\n",
        "    users\n",
        "    .where(lambda row: row[\"name\"] == \"Dunn\")\n",
        "    .select(keep_columns=[\"user_id\"])\n",
        ")\n",
        "assert len(dunn_ids) == 1\n",
        "assert dunn_ids[0] == {\"user_id\": 1}\n",
        "\n",
        "# SELECT LENGTH(name) AS name_length FROM users;\n",
        "def name_length(row) -> int: return len(row[\"name\"])\n",
        "name_lengths = users.select(keep_columns=[],\n",
        "                            additional_columns={\"name_length\": name_length})\n",
        "assert name_lengths[0]['name_length'] == len(\"Hero\")\n"
      ],
      "execution_count": 18,
      "outputs": []
    },
    {
      "cell_type": "code",
      "metadata": {
        "id": "BVxJR_kl9AsB"
      },
      "source": [
        ""
      ],
      "execution_count": null,
      "outputs": []
    }
  ]
}