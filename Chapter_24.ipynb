{
  "nbformat": 4,
  "nbformat_minor": 0,
  "metadata": {
    "colab": {
      "name": "Chapter_24.ipynb",
      "provenance": [],
      "authorship_tag": "ABX9TyMgOBEjI58oOwwEN+Uzw9A1",
      "include_colab_link": true
    },
    "kernelspec": {
      "name": "python3",
      "display_name": "Python 3"
    }
  },
  "cells": [
    {
      "cell_type": "markdown",
      "metadata": {
        "id": "view-in-github",
        "colab_type": "text"
      },
      "source": [
        "<a href=\"https://colab.research.google.com/github/jamestheengineer/data-science-from-scratch-Python/blob/master/Chapter_24.ipynb\" target=\"_parent\"><img src=\"https://colab.research.google.com/assets/colab-badge.svg\" alt=\"Open In Colab\"/></a>"
      ]
    },
    {
      "cell_type": "code",
      "metadata": {
        "id": "bf357o2HWYIZ"
      },
      "source": [
        "# Fake SQL Database class\n",
        "from typing import Tuple, Sequence, List, Any, Callable, Dict, Iterator\n",
        "from collections import defaultdict\n",
        "\n",
        "# A few type aliases we'll use later\n",
        "Row = Dict[str, Any]\n",
        "WhereClause = Callable[[Row], bool] # Predicate for a single row\n",
        "HavingClause = Callable[[List[Row]], bool] # Predicate over multiple ros"
      ],
      "execution_count": 2,
      "outputs": []
    },
    {
      "cell_type": "code",
      "metadata": {
        "id": "j9CSI9HDW5a3"
      },
      "source": [
        "# Constructor for class to create column names and types\n",
        "class Table:\n",
        "  def __init__(self, columns: List[str], types: List[type]) -> None:\n",
        "    assert len(columns) == len(types), \"# of columns must == # of types\"\n",
        "    self.columns = columns\n",
        "    self.types = types\n",
        "    self.rows: List[Row] = [] # no data yet\n",
        "\n",
        "  # Helper method to get the type of a column\n",
        "  def col2type(self, col: str) -> type:\n",
        "    idx = self.columns.index(col) # Find the index of the column\n",
        "    return self.types[idx]\n",
        "  \n",
        "  def insert(self, values: list) -> None:\n",
        "    # Check for the right number of values\n",
        "    if len(values) != len(self.types):\n",
        "      raise ValueError(f\"You need to provide {len(self.types)} values\")\n",
        "\n",
        "    # Check for the right types of values\n",
        "    for value, typ3 in zip(values, self.types):\n",
        "      if not isinstance(value, typ3) and value is not None:\n",
        "        raise TypeError(f\"Expected type {typ3} but got {value}\")\n",
        "\n",
        "    # Add the corresponding dict as a \"row\"\n",
        "    self.rows.append(dict(zip(self.columns, values)))\n",
        "  \n",
        "  def __getitem__(self, idx: int) -> Row:\n",
        "    return self.rows[idx]\n",
        "  \n",
        "  def __iter__(self) -> Iterator[Row]:\n",
        "    return iter(self.rows)\n",
        "\n",
        "  def __len__(self) -> int:\n",
        "    return len(self.rows)\n",
        "\n",
        "  def __repr__(self):\n",
        "    \"\"\"Pretty representation of the table: columns then rows\"\"\"\n",
        "    rows = \"\\n\".join(str(row) for row in self.rows)\n",
        "    return f\"{self.columns}\\n{rows}\"\n",
        "\n",
        "  # Let's update\n",
        "  def update(self,\n",
        "           updates: Dict[str, Any],\n",
        "           predicate: WhereClause = lambda row: True):\n",
        "    # First make sure the updates have valid names and types\n",
        "    for column, new_value in updates.items():\n",
        "      if column not in self.columns:\n",
        "        raise ValueError(f\"invalid column: {column}\")\n",
        "\n",
        "      typ3 = self.col2type(column)\n",
        "      if not isinstance(new_value, typ3) and new_value is not None:\n",
        "        raise TypeError(f\"expected type {typ3}, but got {new_value}\")\n",
        "\n",
        "    # Now update\n",
        "    for row in self.rows:\n",
        "      if predicate(row):\n",
        "        for column, new_value in updates.items():\n",
        "          row[column] = new_value\n",
        "\n",
        "  # Time to delete\n",
        "  def delete(self, predicate: WhereClause = lambda row: True) -> None:\n",
        "    \"\"\" Delete all rows matching predicate\"\"\"\n",
        "    self.rows = [row for row in self.rows if not predicate(row)]\n",
        "\n",
        "  def select(self,\n",
        "             keep_columns: List[str] = None,\n",
        "             additional_columns: Dict[str, Callable] = None) -> 'Table':\n",
        "    if keep_columns is None:\n",
        "      keep_columns = self.columns\n",
        "\n",
        "    if additional_columns is None:\n",
        "      additional_columns = {}\n",
        "\n",
        "    # New column names and types\n",
        "    new_columns = keep_columns + list(additional_columns.keys())\n",
        "    keep_types = [self.col2type(col) for col in keep_columns]\n",
        "\n",
        "    add_types = [calculation.__annotations__['return']\n",
        "                 for calculation in additional_columns.values()]\n",
        "    \n",
        "    new_table = Table(new_columns, keep_types + add_types)\n",
        "\n",
        "    for row in self.rows:\n",
        "      new_row = [row[column] for column in keep_columns]\n",
        "      for column_name, calculation in additional_columns.items():\n",
        "        new_row.append(calculation(row))\n",
        "      new_table.insert(new_row)\n",
        "\n",
        "    return new_table\n",
        "\n",
        "  def where(self, predicate: WhereClause = lambda row: True) -> 'Table':\n",
        "    \"\"\"Return only the rows that satisfy the supplied predicate.\"\"\"\n",
        "    where_table = Table(self.columns, self.types)\n",
        "    for row in self.rows:\n",
        "      if predicate(row):\n",
        "        values = [row[column] for column in self.columns]\n",
        "        where_table.insert(values)\n",
        "    return where_table\n",
        "\n",
        "  def limit(self, num_rows: int) -> 'Table':\n",
        "    \"\"\"Retirn only the first 'num_rows' rows\"\"\"\n",
        "    limit_table = Table(self.columns, self.types)\n",
        "    for i, row in enumerate(self.rows):\n",
        "      if i >= num_rows:\n",
        "        break\n",
        "      values = [row[column] for column in self.columns]\n",
        "      limit_table.insert(values)\n",
        "    return limit_table\n",
        "\n",
        "  def group_by(self, \n",
        "               group_by_columns: List[str],\n",
        "               aggregates: Dict[str, Callable],\n",
        "               having: HavingClause = lambda group: True) -> 'Table':\n",
        "    grouped_rows = defaultdict(list)\n",
        "\n",
        "    # Populate groups\n",
        "    for row in self.rows:\n",
        "      key = tuple(row[column] for column in group_by_columns)\n",
        "      grouped_rows[key].append(row)\n",
        "    \n",
        "    # Result table consists of group_by columns and aggregates\n",
        "    new_columns = group_by_columns + list(aggregates.keys())\n",
        "    group_by_types = [self.col2type(col) for col in group_by_columns]\n",
        "    aggregate_types = [agg.__annotations__['return']\n",
        "                       for agg in aggregates.values()]\n",
        "    result_table = Table(new_columns, group_by_types + aggregate_types)\n",
        "\n",
        "    for key, rows in grouped_rows.items():\n",
        "      if having(rows):\n",
        "        new_row = list(key)\n",
        "        for aggregate_name, aggregate_fn in aggregates.items():\n",
        "          new_row.append(aggregate_fn(rows))\n",
        "        result_table.insert(new_row)\n",
        "\n",
        "    return result_table"
      ],
      "execution_count": 3,
      "outputs": []
    },
    {
      "cell_type": "code",
      "metadata": {
        "id": "_WC0mrJvXqwU"
      },
      "source": [
        "users = Table(['user_id', 'name', 'num_friends'], [int, str, int])\n",
        "users.insert([0, \"Hero\", 0])\n",
        "users.insert([1, \"Dunn\", 2])\n",
        "users.insert([2, \"Sue\", 3])\n",
        "users.insert([3, \"Chi\", 3])\n",
        "users.insert([4, \"Thor\", 3])\n",
        "users.insert([5, \"Clive\", 2])\n",
        "users.insert([6, \"Hicks\", 3])\n",
        "users.insert([7, \"Devin\", 2])\n",
        "users.insert([8, \"Kate\", 2])\n",
        "users.insert([9, \"Klein\", 3])\n",
        "users.insert([10, \"Jen\", 1])\n",
        "assert len(users) == 11\n",
        "assert users[1]['name'] == 'Dunn'\n",
        "\n",
        "assert users[1]['num_friends'] == 2\n",
        "users.update({'num_friends' : 3},\n",
        "             lambda row: row['user_id'] == 1) \n",
        "\n",
        "assert users[1]['num_friends'] == 3"
      ],
      "execution_count": 4,
      "outputs": []
    },
    {
      "cell_type": "code",
      "metadata": {
        "id": "sgAIKHmjYfxu",
        "outputId": "3daa2c27-153e-4e54-b3d9-e6d2f4a27e50",
        "colab": {
          "base_uri": "https://localhost:8080/"
        }
      },
      "source": [
        "# SELECT * FROM users;\n",
        "all_users = users.select()\n",
        "print(all_users)"
      ],
      "execution_count": 5,
      "outputs": [
        {
          "output_type": "stream",
          "text": [
            "['user_id', 'name', 'num_friends']\n",
            "{'user_id': 0, 'name': 'Hero', 'num_friends': 0}\n",
            "{'user_id': 1, 'name': 'Dunn', 'num_friends': 3}\n",
            "{'user_id': 2, 'name': 'Sue', 'num_friends': 3}\n",
            "{'user_id': 3, 'name': 'Chi', 'num_friends': 3}\n",
            "{'user_id': 4, 'name': 'Thor', 'num_friends': 3}\n",
            "{'user_id': 5, 'name': 'Clive', 'num_friends': 2}\n",
            "{'user_id': 6, 'name': 'Hicks', 'num_friends': 3}\n",
            "{'user_id': 7, 'name': 'Devin', 'num_friends': 2}\n",
            "{'user_id': 8, 'name': 'Kate', 'num_friends': 2}\n",
            "{'user_id': 9, 'name': 'Klein', 'num_friends': 3}\n",
            "{'user_id': 10, 'name': 'Jen', 'num_friends': 1}\n"
          ],
          "name": "stdout"
        }
      ]
    },
    {
      "cell_type": "code",
      "metadata": {
        "id": "eulUWW1w8x-k",
        "outputId": "12474eb2-8be7-446c-e470-218ce2a2269e",
        "colab": {
          "base_uri": "https://localhost:8080/"
        }
      },
      "source": [
        "assert len(all_users) == 11\n",
        "\n",
        "# SELECT * FROM users LIMIT 2;\n",
        "two_users = users.limit(2)\n",
        "assert len(two_users) == 2\n",
        "\n",
        "# SELECT user_if FROM users;\n",
        "just_ids = users.select(keep_columns=[\"user_id\"])\n",
        "assert just_ids.columns == ['user_id']\n",
        "\n",
        "# SELECT user_id FROM users WHERE name = 'Dunn';\n",
        "dunn_ids = (\n",
        "    users\n",
        "    .where(lambda row: row[\"name\"] == \"Dunn\")\n",
        "    .select(keep_columns=[\"user_id\"])\n",
        ")\n",
        "assert len(dunn_ids) == 1\n",
        "assert dunn_ids[0] == {\"user_id\": 1}\n",
        "\n",
        "# SELECT LENGTH(name) AS name_length FROM users;\n",
        "def name_length(row) -> int: return len(row[\"name\"])\n",
        "name_lengths = users.select(keep_columns=[],\n",
        "                            additional_columns={\"name_length\": name_length})\n",
        "assert name_lengths[0]['name_length'] == len(\"Hero\")\n",
        "\n",
        "# Here's how you do some SQL-like queries with group_by\n",
        "def min_user_id(rows) -> int:\n",
        "  return min(row[\"user_id\"] for row in rows)\n",
        "\n",
        "def length(rows) -> int:\n",
        "  return len(rows)\n",
        "\n",
        "stats_by_length = (\n",
        "    users\n",
        "    .select(additional_columns={\"name_length\": name_length})\n",
        "    .group_by(group_by_columns=[\"name_length\"],\n",
        "              aggregates={\"min_user_id\" : min_user_id,\n",
        "                          \"num_users\" : length})\n",
        ")\n",
        "\n",
        "# First letter metrics\n",
        "def first_letter_of_name(row: Row) -> str:\n",
        "  return row[\"name\"][0] if row[\"name\"] else \"\"\n",
        "\n",
        "def average_num_friends(rows: List[Row]) -> float:\n",
        "  return sum(row[\"num_friends\"] for row in rows) / len(rows)\n",
        "\n",
        "def enough_friends(rows: List[Row]) -> bool:\n",
        "  return average_num_friends(rows) > 1\n",
        "\n",
        "avg_friends_by_letter = (\n",
        "    users\n",
        "    .select(additional_columns={'first_letter' : first_letter_of_name})\n",
        "    .group_by(group_by_columns=['first_letter'],\n",
        "              aggregates={\"avg_num_friends\" : average_num_friends},\n",
        "              having=enough_friends)\n",
        ")\n",
        "print(avg_friends_by_letter)"
      ],
      "execution_count": 7,
      "outputs": [
        {
          "output_type": "stream",
          "text": [
            "['first_letter', 'avg_num_friends']\n",
            "{'first_letter': 'H', 'avg_num_friends': 1.5}\n",
            "{'first_letter': 'D', 'avg_num_friends': 2.5}\n",
            "{'first_letter': 'S', 'avg_num_friends': 3.0}\n",
            "{'first_letter': 'C', 'avg_num_friends': 2.5}\n",
            "{'first_letter': 'T', 'avg_num_friends': 3.0}\n",
            "{'first_letter': 'K', 'avg_num_friends': 2.5}\n"
          ],
          "name": "stdout"
        }
      ]
    },
    {
      "cell_type": "code",
      "metadata": {
        "id": "BVxJR_kl9AsB",
        "outputId": "842fabb2-d8ab-475c-acc0-d4614dcdca95",
        "colab": {
          "base_uri": "https://localhost:8080/"
        }
      },
      "source": [
        "def sum_user_ids(rows: List[Row]) -> int:\n",
        "  return sum(row[\"user_id\"] for row in rows)\n",
        "\n",
        "user_id_sum = (\n",
        "    users\n",
        "    .where(lambda row: row[\"user_id\"] > 1)\n",
        "    .group_by(group_by_columns=[],\n",
        "              aggregates={\"user_id_sum\" : sum_user_ids})\n",
        ")\n",
        "print(user_id_sum)"
      ],
      "execution_count": 9,
      "outputs": [
        {
          "output_type": "stream",
          "text": [
            "['user_id_sum']\n",
            "{'user_id_sum': 54}\n"
          ],
          "name": "stdout"
        }
      ]
    },
    {
      "cell_type": "code",
      "metadata": {
        "id": "jnyR03a3Ve1s"
      },
      "source": [
        ""
      ],
      "execution_count": null,
      "outputs": []
    }
  ]
}