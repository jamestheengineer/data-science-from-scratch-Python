{
  "nbformat": 4,
  "nbformat_minor": 0,
  "metadata": {
    "colab": {
      "name": "Chapter_24.ipynb",
      "provenance": [],
      "authorship_tag": "ABX9TyNmysNUCjhq0KxIt8cKRg1T",
      "include_colab_link": true
    },
    "kernelspec": {
      "name": "python3",
      "display_name": "Python 3"
    }
  },
  "cells": [
    {
      "cell_type": "markdown",
      "metadata": {
        "id": "view-in-github",
        "colab_type": "text"
      },
      "source": [
        "<a href=\"https://colab.research.google.com/github/jamestheengineer/data-science-from-scratch-Python/blob/master/Chapter_24.ipynb\" target=\"_parent\"><img src=\"https://colab.research.google.com/assets/colab-badge.svg\" alt=\"Open In Colab\"/></a>"
      ]
    },
    {
      "cell_type": "code",
      "metadata": {
        "id": "bf357o2HWYIZ"
      },
      "source": [
        "# Fake SQL Database class\n",
        "from typing import Tuple, Sequence, List, Any, Callable, Dict, Iterator\n",
        "from collections import defaultdict\n",
        "\n",
        "# A few type aliases we'll use later\n",
        "Row = Dict[str, Any]\n",
        "WhereClause = Callable[[Row], bool] # Predicate for a single row\n",
        "HavingClause = Callable[[List[Row]], bool] # Predicate over multiple ros"
      ],
      "execution_count": 3,
      "outputs": []
    },
    {
      "cell_type": "code",
      "metadata": {
        "id": "j9CSI9HDW5a3"
      },
      "source": [
        "# Constructor for class to create column names and types\n",
        "class Table:\n",
        "  def __init__(self, columns: List[str], types: List[type]) -> None:\n",
        "    assert len(columns) == len(types), \"# of columns must == # of types\"\n",
        "    self.columns = columns\n",
        "    self.types = types\n",
        "    self.rows: List[Row] = [] # no data yet\n",
        "\n",
        "  # Helper method to get the type of a column\n",
        "  def col2type(self, col: str) -> type:\n",
        "    idx = self.columns.index(col) # Find the index of the column\n",
        "    return self.types[idx]\n",
        "  \n",
        "  def insert(self, values: list) -> None:\n",
        "    # Check for the right number of values\n",
        "    if len(values) != len(self.types):\n",
        "      raise ValueError(f\"You need to provide {len(self.types)} values\")\n",
        "\n",
        "    # Check for the right types of values\n",
        "    for value, typ3 in zip(values, self.types):\n",
        "      if not isinstance(value, typ3) and value is not None:\n",
        "        raise TypeError(f\"Expected type {typ3} but got {value}\")\n",
        "\n",
        "    # Add the corresponding dict as a \"row\"\n",
        "    self.rows.append(dict(zip(self.columns, values)))\n",
        "  \n",
        "  def __getitem__(self, idx: int) -> Row:\n",
        "    return self.rows[idx]\n",
        "  \n",
        "  def __iter__(self) -> Iterator[Row]:\n",
        "    return iter(self.rows)\n",
        "\n",
        "  def __len__(self) -> int:\n",
        "    return len(self.rows)\n",
        "\n",
        "  def __repr__(self):\n",
        "    \"\"\"Pretty representation of the table: columns then rows\"\"\"\n",
        "    rows = \"\\n\".join(str(row) for row in self.rows)\n",
        "    return f\"{self.columns}\\n{rows}\""
      ],
      "execution_count": 4,
      "outputs": []
    },
    {
      "cell_type": "code",
      "metadata": {
        "id": "_WC0mrJvXqwU"
      },
      "source": [
        ""
      ],
      "execution_count": null,
      "outputs": []
    }
  ]
}