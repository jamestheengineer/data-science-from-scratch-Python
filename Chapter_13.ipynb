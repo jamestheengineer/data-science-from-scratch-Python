{
  "nbformat": 4,
  "nbformat_minor": 0,
  "metadata": {
    "colab": {
      "name": "Chapter_13.ipynb",
      "provenance": [],
      "authorship_tag": "ABX9TyNqyXxQ9O6y+j0wgADKvyT4",
      "include_colab_link": true
    },
    "kernelspec": {
      "name": "python3",
      "display_name": "Python 3"
    }
  },
  "cells": [
    {
      "cell_type": "markdown",
      "metadata": {
        "id": "view-in-github",
        "colab_type": "text"
      },
      "source": [
        "<a href=\"https://colab.research.google.com/github/jamestheengineer/data-science-from-scratch-Python/blob/master/Chapter_13.ipynb\" target=\"_parent\"><img src=\"https://colab.research.google.com/assets/colab-badge.svg\" alt=\"Open In Colab\"/></a>"
      ]
    },
    {
      "cell_type": "code",
      "metadata": {
        "id": "Pr8RqEqu0QZQ",
        "colab_type": "code",
        "colab": {}
      },
      "source": [
        "# Only do this once per VM, otherwise you'll get multiple clones and nested directories\n",
        "!git clone https://github.com/jamestheengineer/data-science-from-scratch-Python.git\n",
        "%cd data-science-from-scratch-Python/\n",
        "!pip install import-ipynb\n",
        "import import_ipynb"
      ],
      "execution_count": 0,
      "outputs": []
    },
    {
      "cell_type": "code",
      "metadata": {
        "id": "PWpFltnXEArw",
        "colab_type": "code",
        "colab": {}
      },
      "source": [
        "# Naive Bayes for spam filter\n",
        "from typing import Set\n",
        "import re\n",
        "\n",
        "def tokenize(text: str) -> Set[str]:\n",
        "  text = text.lower()\n",
        "  all_words = re.findall(\"[a-z0-9']+\", text) # extract the words\n",
        "  return set(all_words) # and remove duplicates\n",
        "\n",
        "assert tokenize(\"Data Science is science\") == {\"data\", \"science\", \"is\"}"
      ],
      "execution_count": 0,
      "outputs": []
    },
    {
      "cell_type": "code",
      "metadata": {
        "id": "kn9iGZ9DE_3u",
        "colab_type": "code",
        "colab": {}
      },
      "source": [
        "from typing import NamedTuple\n",
        "\n",
        "class Message(NamedTuple):\n",
        "  text: str\n",
        "  is_spam: bool\n",
        "  "
      ],
      "execution_count": 0,
      "outputs": []
    },
    {
      "cell_type": "code",
      "metadata": {
        "id": "r8gGgMzrFMAY",
        "colab_type": "code",
        "colab": {}
      },
      "source": [
        "from typing import List, Tuple, Dict, Iterable\n",
        "import math\n",
        "from collections import defaultdict\n",
        "\n",
        "class NaiveBayesClassifier:\n",
        "  def __init__(self, k: float = 0.5) -> None:\n",
        "    self.k = k # smoothing factor\n",
        "    self.tokens: Set[str] = set()\n",
        "    self.token_spam_counts: Dict[str, int] = defaultdict(int)\n",
        "    self.token_ham_counts: Dict[str, int] = defaultdict(int)\n",
        "    self.spam_messages = self.ham_messages = 0\n",
        "  \n",
        "  def train(self, messages: Iterable[Message]) -> None:\n",
        "    for message in messages:\n",
        "      # Increment message counts\n",
        "      if message.is_spam:\n",
        "        self.spam_messages += 1\n",
        "      else:\n",
        "        self.ham_messages += 1\n",
        "\n",
        "      # Increment word counts\n",
        "      for token in tokenize(message.text):\n",
        "        self.tokens.add(token)\n",
        "        if message.is_spam:\n",
        "          self.token_spam_counts[token] += 1\n",
        "        else:\n",
        "          self.token_ham_counts[token] += 1\n",
        "  \n",
        "  def _probabilities(self, token: str) -> Tuple[float, float]:\n",
        "    \"\"\"returns P(token | spam) and P(token | ham)\"\"\"\n",
        "    spam = self.token_spam_counts[token]\n",
        "    ham = self.token_ham_counts[token]\n",
        "\n",
        "    p_token_spam = (spam + self.k) / (self.spam_messages + 2 * self.k)\n",
        "    p_token_ham = (ham + self.k) / (self.ham_messages + 2 * self.k)\n",
        "\n",
        "    return p_token_spam, p_token_ham\n",
        "  \n",
        "  def predict(self, text: str) -> float:\n",
        "    text_tokens = tokenize(text)\n",
        "    log_prob_if_spam = log_prob_if_ham = 0.0\n",
        "\n",
        "    # Iterate through each work in our vocabulary\n",
        "    for token in self.tokens:\n",
        "      prob_if_spam, prob_if_ham = self._probabilities(token)\n",
        "\n",
        "      # If *token* appears in the message, \n",
        "      # add the log probability of seeing it\n",
        "      if token in text_tokens:\n",
        "        log_prob_if_spam += math.log(prob_if_spam)\n",
        "        log_prob_if_ham += math.log(prob_if_ham)\n",
        "\n",
        "      # Otherwise add the log probablility of _not_ seeing it,\n",
        "      # which is log(1 - probability of seeing it)\n",
        "      else:\n",
        "        log_prob_if_spam += math.log(1.0 - prob_if_spam)\n",
        "        log_prob_if_ham += math.log(1.0 - prob_if_ham)\n",
        "    \n",
        "    prob_if_spam = math.exp(log_prob_if_spam)\n",
        "    prob_if_ham = math.exp(log_prob_if_ham)\n",
        "    return prob_if_spam / (prob_if_spam + prob_if_ham)"
      ],
      "execution_count": 0,
      "outputs": []
    },
    {
      "cell_type": "code",
      "metadata": {
        "id": "ADvMl2ZgF4-x",
        "colab_type": "code",
        "colab": {}
      },
      "source": [
        "# Test for our model\n",
        "messages = [Message(\"spam rules\", is_spam=True),\n",
        "            Message(\"ham rules\", is_spam=False),\n",
        "            Message(\"hello ham\", is_spam=False)]\n",
        "\n",
        "model = NaiveBayesClassifier(k=0.5)\n",
        "model.train(messages)\n",
        "\n",
        "assert model.tokens == {\"spam\", \"ham\", \"rules\", \"hello\" }\n",
        "assert model.spam_messages == 1\n",
        "assert model.ham_messages == 2\n",
        "assert model.token_spam_counts == {\"spam\": 1, \"rules\": 1}\n",
        "assert model.token_ham_counts == {\"ham\":2, \"rules\":1, \"hello\": 1}\n",
        "\n",
        "# Make a prediction\n",
        "text = \"hello spam\"\n",
        "\n",
        "# Do Naive Bayes by hand to test against\n",
        "probs_if_spam = [ \n",
        "                 (1 + 0.5) / (1 + 2 * 0.5), # \"spam\" (present)\n",
        "                 1 - (0 + 0.5) / (1 + 2 * 0.5), # \"ham\" (not present)\n",
        "                 1 - (1 + 0.5) / (1 + 2 * 0.5), # \"rules\" (not present)\n",
        "                 (0 + 0.5) / (1 + 2 * 0.5) # \"hello\" (present)\n",
        "]\n",
        "\n",
        "probs_if_ham = [ \n",
        "                 (0 + 0.5) / (2 + 2 * 0.5), # \"spam\" (present)\n",
        "                 1 - (2 + 0.5) / (2 + 2 * 0.5), # \"ham\" (not present)\n",
        "                 1 - (1 + 0.5) / (2 + 2 * 0.5), # \"rules\" (not present)\n",
        "                 (1 + 0.5) / (2 + 2 * 0.5) # \"hello\" (present)\n",
        "]\n",
        "\n",
        "p_if_spam = math.exp(sum(math.log(p) for p in probs_if_spam))\n",
        "p_if_ham = math.exp(sum(math.log(p) for p in probs_if_ham))\n",
        "print(p_if_spam, p_if_ham)\n",
        "print(p_if_spam / (p_if_spam + p_if_ham))\n",
        "print(model.predict(text))\n",
        "# Should be about 0.83\n",
        "assert model.predict(text) == p_if_spam / (p_if_spam + p_if_ham)"
      ],
      "execution_count": 0,
      "outputs": []
    },
    {
      "cell_type": "code",
      "metadata": {
        "id": "GJql6BmEJQ9T",
        "colab_type": "code",
        "colab": {}
      },
      "source": [
        "# Let's do a real test with some real data\n",
        "from io import BytesIO # So we can treat bytes as a file\n",
        "import requests # To download the files, which\n",
        "import tarfile # are in .tar.bz\n",
        "\n",
        "BASE_URL = \"https://spamassassin.apache.org/old/publiccorpus\"\n",
        "FILES = [\"20021010_easy_ham.tar.bz2\",\n",
        "         \"20021010_hard_ham.tar.bz2\",\n",
        "         \"20021010_spam.tar.bz2\"]\n",
        "\n",
        "# This is where the data will end up,\n",
        "# in /spam, /easy_ham, and /hard_ham subdirectories.\n",
        "# Change this to where you want the data\n",
        "OUTPUT_DIR = 'spam_data'\n",
        "\n",
        "for filename in FILES:\n",
        "  # Use requests to get the file contents into each URL.\n",
        "  content = requests.get(f\"{BASE_URL}/{filename}\").content\n",
        "\n",
        "  # Wrap the in-memory bytes so we can use them as a \"file.\"\n",
        "  fin = BytesIO(content)\n",
        "\n",
        "  # And extract all the files to the specified output dir.\n",
        "  with tarfile.open(fileobj=fin, mode='r:bz2') as tf:\n",
        "    tf.extractall(OUTPUT_DIR)"
      ],
      "execution_count": 0,
      "outputs": []
    },
    {
      "cell_type": "code",
      "metadata": {
        "id": "lUQg0jmWxT3P",
        "colab_type": "code",
        "colab": {}
      },
      "source": [
        "import glob, re\n",
        "# modify the path to wherever you've put the files\n",
        "path = 'spam_data/*/*'\n",
        "\n",
        "data: List[Message] = []\n",
        "\n",
        "# glob.glob returns every filename that matches the wildcarded path\n",
        "for filename in glob.glob(path):\n",
        "  is_spam = \"ham\" not in filename\n",
        "\n",
        "  # There are some garbage characters in the emails; the errors='ignore'\n",
        "  # skips them instead of raising an exception.\n",
        "  with open(filename, errors='ignore') as email_file:\n",
        "    for line in email_file:\n",
        "      if line.startswith(\"Subject:\"):\n",
        "        subject = line.lstrip(\"Subject: \")\n",
        "        data.append(Message(subject, is_spam))\n",
        "        break # done with this file\n"
      ],
      "execution_count": 0,
      "outputs": []
    },
    {
      "cell_type": "code",
      "metadata": {
        "id": "QgAtsDyZz2ri",
        "colab_type": "code",
        "colab": {}
      },
      "source": [
        "# Now we can split the data into training data and test data and build the classifier\n",
        "import random\n",
        "from Chapter_11 import split_data\n",
        "\n",
        "random.seed(0)\n",
        "train_messages, test_messages = split_data(data, 0.75)\n",
        "\n",
        "model = NaiveBayesClassifier()\n",
        "model.train(train_messages)"
      ],
      "execution_count": 0,
      "outputs": []
    },
    {
      "cell_type": "code",
      "metadata": {
        "id": "_fphCpFP0vH7",
        "colab_type": "code",
        "colab": {}
      },
      "source": [
        "# Let's generate some predictions and see how the model does\n",
        "from collections import Counter\n",
        "\n",
        "predictions = [(message, model.predict(message.text))\n",
        "                for message in test_messages]\n",
        "\n",
        "# Assume that spam_probability > 0.5 corresponds to spam prediction\n",
        "# and count the combinations of (actual is_spam, predicted is_spam)\n",
        "confusion_matrix = Counter((message.is_spam, spam_probability > 0.5)\n",
        "                              for message, spam_probability in predictions)\n",
        "print(confusion_matrix)"
      ],
      "execution_count": 0,
      "outputs": []
    },
    {
      "cell_type": "code",
      "metadata": {
        "id": "WsEn8z7cg6yC",
        "colab_type": "code",
        "colab": {}
      },
      "source": [
        "def p_spam_given_token(token: str, model: NaiveBayesClassifier) -> float:\n",
        "  # We probably shouldn't call private methods, but it's for a good cause.\n",
        "  prob_if_spam, prob_if_ham = model._probabilities(token)\n",
        "\n",
        "  return prob_if_spam / (prob_if_spam + prob_if_ham)\n",
        "\n",
        "words = sorted(model.tokens, key=lambda t: p_spam_given_token(t, model))\n",
        "\n",
        "print(\"spammiest words\", words[-10:])\n",
        "print(\"hammiest words\", words[:10])"
      ],
      "execution_count": 0,
      "outputs": []
    },
    {
      "cell_type": "code",
      "metadata": {
        "id": "MCbGWm4IhtwN",
        "colab_type": "code",
        "colab": {}
      },
      "source": [
        ""
      ],
      "execution_count": 0,
      "outputs": []
    }
  ]
}