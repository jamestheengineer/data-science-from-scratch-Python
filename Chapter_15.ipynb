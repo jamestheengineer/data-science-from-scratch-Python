{
  "nbformat": 4,
  "nbformat_minor": 0,
  "metadata": {
    "colab": {
      "name": "Chapter_15.ipynb",
      "provenance": [],
      "authorship_tag": "ABX9TyN0Jf/y4xfL6C60ruWeE4vo",
      "include_colab_link": true
    },
    "kernelspec": {
      "name": "python3",
      "display_name": "Python 3"
    }
  },
  "cells": [
    {
      "cell_type": "markdown",
      "metadata": {
        "id": "view-in-github",
        "colab_type": "text"
      },
      "source": [
        "<a href=\"https://colab.research.google.com/github/jamestheengineer/data-science-from-scratch-Python/blob/master/Chapter_15.ipynb\" target=\"_parent\"><img src=\"https://colab.research.google.com/assets/colab-badge.svg\" alt=\"Open In Colab\"/></a>"
      ]
    },
    {
      "cell_type": "code",
      "metadata": {
        "id": "AjjvMaj32fEo",
        "colab_type": "code",
        "colab": {}
      },
      "source": [
        "# Multiple regression\n",
        "\n",
        "\n",
        "# Only do this once per VM, otherwise you'll get multiple clones and nested directories\n",
        "!git clone https://github.com/jamestheengineer/data-science-from-scratch-Python.git\n",
        "%cd data-science-from-scratch-Python/\n",
        "!pip install import-ipynb\n",
        "import import_ipynb"
      ],
      "execution_count": null,
      "outputs": []
    },
    {
      "cell_type": "code",
      "metadata": {
        "id": "5GRz-0fK2wtA",
        "colab_type": "code",
        "colab": {}
      },
      "source": [
        "from Chapter_04 import dot, Vector\n",
        "\n",
        "def predict(x: Vector, beta: Vector) -> float:\n",
        "  \"\"\"assumes that the first element of x is 1\"\"\"\n",
        "  return dot(x, beta)\n",
        "\n",
        "from typing import List\n",
        "\n",
        "def error(x: Vector, y: float, beta: Vector) -> float:\n",
        "  return predict(x, beta) - y\n",
        "\n",
        "def squared_error(x: Vector, y: float, beta: Vector) -> float:\n",
        "  return error(x, y, beta) ** 2\n",
        "\n",
        "x = [1, 2, 3]\n",
        "y = 30\n",
        "beta = [4, 4, 4] # so prediction = 4 + 8 + 12 = 24\n",
        "\n",
        "assert error(x,y,beta) == -6\n",
        "assert squared_error(x, y, beta) == 36\n"
      ],
      "execution_count": null,
      "outputs": []
    },
    {
      "cell_type": "code",
      "metadata": {
        "id": "9FPPxbfGa_YC",
        "colab_type": "code",
        "colab": {}
      },
      "source": [
        "def sqerror_gradient(x: Vector, y: float, beta: Vector) -> Vector:\n",
        "  err = error(x, y, beta)\n",
        "  return [2 * err * x_i for x_i in x]\n",
        "\n",
        "assert sqerror_gradient(x, y, beta) == [-12, -24, -36]\n"
      ],
      "execution_count": null,
      "outputs": []
    },
    {
      "cell_type": "code",
      "metadata": {
        "id": "OdetBDkvNHst",
        "colab_type": "code",
        "colab": {}
      },
      "source": [
        "import random\n",
        "import tqdm\n",
        "from Chapter_04 import vector_mean\n",
        "from Chapter_08 import gradient_step\n",
        "\n",
        "def least_squares_fit(xs: List[Vector],\n",
        "                     ys: List[float],\n",
        "                     learning_rate: float = 0.001,\n",
        "                     num_steps: int = 1000,\n",
        "                     batch_size: int = 1) -> Vector:\n",
        "    \"\"\"\n",
        "    Find the beta that minimizes the sum of squared errors\n",
        "    assuming the model y = dot(x, beta).\n",
        "    \"\"\"\n",
        "    # Start with a random guess\n",
        "    guess = [random.random() for _ in xs[0]]\n",
        "\n",
        "    for _ in tqdm.trange(num_steps, desc=\"least squares fit\"):\n",
        "      for start in range(0, len(xs), batch_size):\n",
        "        batch_xs = xs[start:start+batch_size]\n",
        "        batch_ys = ys[start:start+batch_size]\n",
        "\n",
        "        gradient = vector_mean([sqerror_gradient(x, y, guess)\n",
        "                                for x, y in zip(batch_xs, batch_ys)])\n",
        "        guess = gradient_step(guess, gradient, -learning_rate)\n",
        "\n",
        "    return guess\n",
        "\n",
        "from Chapter_05 import daily_minutes_good\n",
        "from Chapter_08 import gradient_step\n",
        "\n",
        "random.seed(0)\n",
        "# Trial and error used to choose num_iters and step_size\n",
        "# This will run for a while\n",
        "learning_rate = 0.001\n",
        "inputs: List[List[float]] = [[1.,49,4,0],[1,41,9,0],[1,40,8,0],[1,25,6,0],[1,21,1,0],[1,21,0,0],[1,19,3,0],[1,19,0,0],[1,18,9,0],[1,18,8,0],[1,16,4,0],[1,15,3,0],[1,15,0,0],[1,15,2,0],[1,15,7,0],[1,14,0,0],[1,14,1,0],[1,13,1,0],[1,13,7,0],[1,13,4,0],[1,13,2,0],[1,12,5,0],[1,12,0,0],[1,11,9,0],[1,10,9,0],[1,10,1,0],[1,10,1,0],[1,10,7,0],[1,10,9,0],[1,10,1,0],[1,10,6,0],[1,10,6,0],[1,10,8,0],[1,10,10,0],[1,10,6,0],[1,10,0,0],[1,10,5,0],[1,10,3,0],[1,10,4,0],[1,9,9,0],[1,9,9,0],[1,9,0,0],[1,9,0,0],[1,9,6,0],[1,9,10,0],[1,9,8,0],[1,9,5,0],[1,9,2,0],[1,9,9,0],[1,9,10,0],[1,9,7,0],[1,9,2,0],[1,9,0,0],[1,9,4,0],[1,9,6,0],[1,9,4,0],[1,9,7,0],[1,8,3,0],[1,8,2,0],[1,8,4,0],[1,8,9,0],[1,8,2,0],[1,8,3,0],[1,8,5,0],[1,8,8,0],[1,8,0,0],[1,8,9,0],[1,8,10,0],[1,8,5,0],[1,8,5,0],[1,7,5,0],[1,7,5,0],[1,7,0,0],[1,7,2,0],[1,7,8,0],[1,7,10,0],[1,7,5,0],[1,7,3,0],[1,7,3,0],[1,7,6,0],[1,7,7,0],[1,7,7,0],[1,7,9,0],[1,7,3,0],[1,7,8,0],[1,6,4,0],[1,6,6,0],[1,6,4,0],[1,6,9,0],[1,6,0,0],[1,6,1,0],[1,6,4,0],[1,6,1,0],[1,6,0,0],[1,6,7,0],[1,6,0,0],[1,6,8,0],[1,6,4,0],[1,6,2,1],[1,6,1,1],[1,6,3,1],[1,6,6,1],[1,6,4,1],[1,6,4,1],[1,6,1,1],[1,6,3,1],[1,6,4,1],[1,5,1,1],[1,5,9,1],[1,5,4,1],[1,5,6,1],[1,5,4,1],[1,5,4,1],[1,5,10,1],[1,5,5,1],[1,5,2,1],[1,5,4,1],[1,5,4,1],[1,5,9,1],[1,5,3,1],[1,5,10,1],[1,5,2,1],[1,5,2,1],[1,5,9,1],[1,4,8,1],[1,4,6,1],[1,4,0,1],[1,4,10,1],[1,4,5,1],[1,4,10,1],[1,4,9,1],[1,4,1,1],[1,4,4,1],[1,4,4,1],[1,4,0,1],[1,4,3,1],[1,4,1,1],[1,4,3,1],[1,4,2,1],[1,4,4,1],[1,4,4,1],[1,4,8,1],[1,4,2,1],[1,4,4,1],[1,3,2,1],[1,3,6,1],[1,3,4,1],[1,3,7,1],[1,3,4,1],[1,3,1,1],[1,3,10,1],[1,3,3,1],[1,3,4,1],[1,3,7,1],[1,3,5,1],[1,3,6,1],[1,3,1,1],[1,3,6,1],[1,3,10,1],[1,3,2,1],[1,3,4,1],[1,3,2,1],[1,3,1,1],[1,3,5,1],[1,2,4,1],[1,2,2,1],[1,2,8,1],[1,2,3,1],[1,2,1,1],[1,2,9,1],[1,2,10,1],[1,2,9,1],[1,2,4,1],[1,2,5,1],[1,2,0,1],[1,2,9,1],[1,2,9,1],[1,2,0,1],[1,2,1,1],[1,2,1,1],[1,2,4,1],[1,1,0,1],[1,1,2,1],[1,1,2,1],[1,1,5,1],[1,1,3,1],[1,1,10,1],[1,1,6,1],[1,1,0,1],[1,1,8,1],[1,1,6,1],[1,1,4,1],[1,1,9,1],[1,1,9,1],[1,1,4,1],[1,1,2,1],[1,1,9,1],[1,1,0,1],[1,1,8,1],[1,1,6,1],[1,1,1,1],[1,1,1,1],[1,1,5,1]]\n",
        "\n",
        "beta = least_squares_fit(inputs, daily_minutes_good, learning_rate, 5000, 25)\n",
        "assert 30.50 < beta[0] < 30.70 # constant\n",
        "assert 0.96 < beta[1] < 1.00 # num_friends\n",
        "assert -1.89 < beta[2] < -1.85 # work hours per day\n",
        "assert 0.91 < beta[3] < 0.94 # has PhD\n",
        "print(beta)\n"
      ],
      "execution_count": null,
      "outputs": []
    },
    {
      "cell_type": "code",
      "metadata": {
        "id": "hJaKI7DHQzsW",
        "colab_type": "code",
        "colab": {}
      },
      "source": [
        "from Chapter_14 import total_sum_of_squares\n",
        "\n",
        "def multipl_r_squared(xs: List[Vector], ys: Vector, beta: Vector) -> float:\n",
        "  sum_of_squared_errors = sum(error(x, y, beta) ** 2\n",
        "                              for x, y in zip(xs, ys))\n",
        "  return 1.0 - sum_of_squared_errors / total_sum_of_squares(ys)\n",
        "\n",
        "assert 0.67 < multipl_r_squared(inputs, daily_minutes_good, beta) < 0.68"
      ],
      "execution_count": null,
      "outputs": []
    },
    {
      "cell_type": "code",
      "metadata": {
        "id": "TINtXTx8oHQb",
        "colab_type": "code",
        "colab": {}
      },
      "source": [
        "# Bootstrapping\n",
        "from typing import TypeVar, Callable\n",
        "\n",
        "X = TypeVar('X') # Generic type for data\n",
        "Stat = TypeVar('Stat') # Generic type for \"statistic\"\n",
        "\n",
        "def bootstrap_sample(data: List[X]) -> List[X]:\n",
        "  \"\"\"randomly samples len(data) elements with replacement\"\"\"\n",
        "  return [random.choice(data) for _ in data]\n",
        "\n",
        "def bootstrap_statistic(data: List[X],\n",
        "                        stats_fn: Callable[[List[X]], Stat],\n",
        "                        num_samples: int) -> List[Stat]:\n",
        "    \"\"\"evaluates stats_fn on num_samples bootstrap samples from data\"\"\"\n",
        "    return [stats_fn(bootstrap_sample(data)) for _ in range(num_samples)]\n",
        "\n",
        "# 101 points all very close to 100\n",
        "close_to_100 = [99.5 + random.random() for _ in range(101)]\n",
        "\n",
        "# 101 points, 50 near 0, 50 near 200\n",
        "far_from_100 = ([99.5 + random.random()] + \n",
        "                [random.random() for _ in range(50)] +\n",
        "                [200 + random.random() for _ in range(50)])\n",
        "\n",
        "from Chapter_05 import median, standard_deviation\n",
        "\n",
        "medians_close = bootstrap_statistic(close_to_100, median, 100)\n",
        "medians_far = bootstrap_statistic(far_from_100, median, 100)\n",
        "\n",
        "print(medians_close, medians_far)\n",
        "\n",
        "assert standard_deviation(medians_close) < 1\n",
        "assert standard_deviation(medians_far) > 90\n",
        "                                           "
      ],
      "execution_count": null,
      "outputs": []
    },
    {
      "cell_type": "code",
      "metadata": {
        "id": "OBBF1GpCVLDT",
        "colab_type": "code",
        "colab": {}
      },
      "source": [
        "from typing import Tuple\n",
        "import datetime\n",
        "\n",
        "def estimate_sample_beta(pairs: List[Tuple[Vector, float]]):\n",
        "  x_sample = [x for x, _ in pairs]\n",
        "  y_sample = [y for _, y in pairs]\n",
        "  beta = least_squares_fit(x_sample, y_sample, learning_rate, 5000, 25)\n",
        "  print(\"bootstrap sample\", beta)\n",
        "  return beta\n",
        "\n",
        "random.seed(0) # so that we get the same results\n",
        "\n",
        "# This will take a couple of minutes\n",
        "bootstrap_betas = bootstrap_statistic(list(zip(inputs, daily_minutes_good)),\n",
        "                                     estimate_sample_beta,\n",
        "                                     100)\n",
        "\n",
        "bootstrap_standard_errors = [\n",
        "                             standard_deviation([beta[i] for beta in bootstrap_betas])\n",
        "                             for i in range(4)]\n",
        "\n",
        "print(bootstrap_standard_errors)"
      ],
      "execution_count": null,
      "outputs": []
    },
    {
      "cell_type": "code",
      "metadata": {
        "id": "9hJ5SaXDk-j0",
        "colab_type": "code",
        "colab": {}
      },
      "source": [
        "from Chapter_06 import normal_cdf\n",
        "\n",
        "def p_value(beta_hat_j: float, sigma_hat_j: float) -> float:\n",
        "  if beta_hat_j > 0:\n",
        "    # if the coefficient is positive, we need to compute twice the\n",
        "    # probability of seeing an even *larger* value\n",
        "    return 2 * (1 - normal_cdf(beta_hat_j / sigma_hat_j))\n",
        "  else:\n",
        "    # otherwise twice the probability of seeing a *smaller* value\n",
        "    return 2 * normal_cdf(beta_hat_j / sigma_hat_j)\n",
        "\n",
        "assert p_value(30.58, 1.27) < 0.001 # constant term\n",
        "assert p_value(0.972, 0.103) < 0.001 # num_friends\n",
        "assert p_value(-1.865, 0.155) < 0.001 # work_hours\n",
        "assert p_value(0.923, 1.249) > 0.4 # phd"
      ],
      "execution_count": null,
      "outputs": []
    },
    {
      "cell_type": "code",
      "metadata": {
        "id": "-3klv4nbpPER",
        "colab_type": "code",
        "colab": {}
      },
      "source": [
        ""
      ],
      "execution_count": null,
      "outputs": []
    }
  ]
}