{
  "nbformat": 4,
  "nbformat_minor": 0,
  "metadata": {
    "colab": {
      "name": "Chapter_15.ipynb",
      "provenance": [],
      "authorship_tag": "ABX9TyNk/U7frUDp4FM0qHBbLJg5",
      "include_colab_link": true
    },
    "kernelspec": {
      "name": "python3",
      "display_name": "Python 3"
    }
  },
  "cells": [
    {
      "cell_type": "markdown",
      "metadata": {
        "id": "view-in-github",
        "colab_type": "text"
      },
      "source": [
        "<a href=\"https://colab.research.google.com/github/jamestheengineer/data-science-from-scratch-Python/blob/master/Chapter_15.ipynb\" target=\"_parent\"><img src=\"https://colab.research.google.com/assets/colab-badge.svg\" alt=\"Open In Colab\"/></a>"
      ]
    },
    {
      "cell_type": "code",
      "metadata": {
        "id": "AjjvMaj32fEo",
        "colab_type": "code",
        "colab": {
          "base_uri": "https://localhost:8080/",
          "height": 326
        },
        "outputId": "ce26442f-5620-4434-ef7a-1c198dc2654b"
      },
      "source": [
        "# Multiple regression\n",
        "\n",
        "\n",
        "# Only do this once per VM, otherwise you'll get multiple clones and nested directories\n",
        "!git clone https://github.com/jamestheengineer/data-science-from-scratch-Python.git\n",
        "%cd data-science-from-scratch-Python/\n",
        "!pip install import-ipynb\n",
        "import import_ipynb"
      ],
      "execution_count": 1,
      "outputs": [
        {
          "output_type": "stream",
          "text": [
            "Cloning into 'data-science-from-scratch-Python'...\n",
            "remote: Enumerating objects: 89, done.\u001b[K\n",
            "remote: Counting objects: 100% (89/89), done.\u001b[K\n",
            "remote: Compressing objects: 100% (84/84), done.\u001b[K\n",
            "remote: Total 276 (delta 50), reused 9 (delta 5), pack-reused 187\u001b[K\n",
            "Receiving objects: 100% (276/276), 989.77 KiB | 8.32 MiB/s, done.\n",
            "Resolving deltas: 100% (158/158), done.\n",
            "/content/data-science-from-scratch-Python\n",
            "Collecting import-ipynb\n",
            "  Downloading https://files.pythonhosted.org/packages/63/35/495e0021bfdcc924c7cdec4e9fbb87c88dd03b9b9b22419444dc370c8a45/import-ipynb-0.1.3.tar.gz\n",
            "Building wheels for collected packages: import-ipynb\n",
            "  Building wheel for import-ipynb (setup.py) ... \u001b[?25l\u001b[?25hdone\n",
            "  Created wheel for import-ipynb: filename=import_ipynb-0.1.3-cp36-none-any.whl size=2976 sha256=38a705afe7eb3bb79a26d51886ec97abc9e7def7ab084444017d2b2e9b0fd6b6\n",
            "  Stored in directory: /root/.cache/pip/wheels/b4/7b/e9/a3a6e496115dffdb4e3085d0ae39ffe8a814eacc44bbf494b5\n",
            "Successfully built import-ipynb\n",
            "Installing collected packages: import-ipynb\n",
            "Successfully installed import-ipynb-0.1.3\n"
          ],
          "name": "stdout"
        }
      ]
    },
    {
      "cell_type": "code",
      "metadata": {
        "id": "5GRz-0fK2wtA",
        "colab_type": "code",
        "colab": {}
      },
      "source": [
        "from Chapter_04 import dot, Vector\n",
        "\n",
        "def predict(x: Vector, beta: Vector) -> float:\n",
        "  \"\"\"assumes that the first element of x is 1\"\"\"\n",
        "  return dot(x, beta)\n",
        "\n",
        "from typing import List\n",
        "\n",
        "def error(x: Vector, y: float, beta: Vector) -> float:\n",
        "  return predict(x, beta) - y\n",
        "\n",
        "def squared_error(x: Vector, y: float, beta: Vector) -> float:\n",
        "  return error(x, y, beta) ** 2\n",
        "\n",
        "x = [1, 2, 3]\n",
        "y = 30\n",
        "beta = [4, 4, 4] # so prediction = 4 + 8 + 12 = 24\n",
        "\n",
        "assert error(x,y,beta) == -6\n",
        "assert squared_error(x, y, beta) == 36\n"
      ],
      "execution_count": 0,
      "outputs": []
    },
    {
      "cell_type": "code",
      "metadata": {
        "id": "9FPPxbfGa_YC",
        "colab_type": "code",
        "colab": {}
      },
      "source": [
        ""
      ],
      "execution_count": 0,
      "outputs": []
    }
  ]
}