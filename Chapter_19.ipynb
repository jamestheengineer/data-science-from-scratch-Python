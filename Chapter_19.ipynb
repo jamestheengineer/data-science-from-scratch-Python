{
  "nbformat": 4,
  "nbformat_minor": 0,
  "metadata": {
    "colab": {
      "name": "Chapter_19.ipynb",
      "provenance": [],
      "authorship_tag": "ABX9TyN21vS0YxWNboquwk2nqY0h",
      "include_colab_link": true
    },
    "kernelspec": {
      "name": "python3",
      "display_name": "Python 3"
    }
  },
  "cells": [
    {
      "cell_type": "markdown",
      "metadata": {
        "id": "view-in-github",
        "colab_type": "text"
      },
      "source": [
        "<a href=\"https://colab.research.google.com/github/jamestheengineer/data-science-from-scratch-Python/blob/master/Chapter_19.ipynb\" target=\"_parent\"><img src=\"https://colab.research.google.com/assets/colab-badge.svg\" alt=\"Open In Colab\"/></a>"
      ]
    },
    {
      "cell_type": "code",
      "metadata": {
        "id": "0a7a8s3fAKso",
        "colab_type": "code",
        "colab": {
          "base_uri": "https://localhost:8080/",
          "height": 326
        },
        "outputId": "93c68782-b094-478e-d517-593ee0eafefa"
      },
      "source": [
        "# Only do this once per VM, otherwise you'll get multiple clones and nested directories\n",
        "!git clone https://github.com/jamestheengineer/data-science-from-scratch-Python.git\n",
        "%cd data-science-from-scratch-Python/\n",
        "!pip install import-ipynb\n",
        "import import_ipynb"
      ],
      "execution_count": 1,
      "outputs": [
        {
          "output_type": "stream",
          "text": [
            "Cloning into 'data-science-from-scratch-Python'...\n",
            "remote: Enumerating objects: 78, done.\u001b[K\n",
            "remote: Counting objects: 100% (78/78), done.\u001b[K\n",
            "remote: Compressing objects: 100% (78/78), done.\u001b[K\n",
            "remote: Total 465 (delta 50), reused 0 (delta 0), pack-reused 387\u001b[K\n",
            "Receiving objects: 100% (465/465), 1.14 MiB | 1.30 MiB/s, done.\n",
            "Resolving deltas: 100% (290/290), done.\n",
            "/content/data-science-from-scratch-Python\n",
            "Collecting import-ipynb\n",
            "  Downloading https://files.pythonhosted.org/packages/63/35/495e0021bfdcc924c7cdec4e9fbb87c88dd03b9b9b22419444dc370c8a45/import-ipynb-0.1.3.tar.gz\n",
            "Building wheels for collected packages: import-ipynb\n",
            "  Building wheel for import-ipynb (setup.py) ... \u001b[?25l\u001b[?25hdone\n",
            "  Created wheel for import-ipynb: filename=import_ipynb-0.1.3-cp36-none-any.whl size=2976 sha256=65eb32e3e5aa84498521f349202f9f727c4f4c73181db436f308a0c3b97d38da\n",
            "  Stored in directory: /root/.cache/pip/wheels/b4/7b/e9/a3a6e496115dffdb4e3085d0ae39ffe8a814eacc44bbf494b5\n",
            "Successfully built import-ipynb\n",
            "Installing collected packages: import-ipynb\n",
            "Successfully installed import-ipynb-0.1.3\n"
          ],
          "name": "stdout"
        }
      ]
    },
    {
      "cell_type": "code",
      "metadata": {
        "id": "Bll3cxBdIujf",
        "colab_type": "code",
        "colab": {}
      },
      "source": [
        "# Deep learning chapter\n",
        "\n",
        "Tensor = list\n",
        "\n",
        "from typing import List\n",
        "\n",
        "def shape(tensor: Tensor) -> List[int]:\n",
        "  sizes: List[int] = []\n",
        "  while isinstance(tensor, list):\n",
        "    sizes.append(len(tensor))\n",
        "    tensor = tensor[0]\n",
        "  return sizes\n",
        "\n",
        "assert shape([1, 2, 3]) == [3]\n",
        "assert shape([[1, 2], [3, 4], [5, 6]]) == [3, 2]\n"
      ],
      "execution_count": 2,
      "outputs": []
    },
    {
      "cell_type": "code",
      "metadata": {
        "id": "2In7rs_dJwae",
        "colab_type": "code",
        "colab": {}
      },
      "source": [
        "def is_1d(tensor: Tensor) -> bool:\n",
        "  \"\"\"\n",
        "  If tensor[0] is a list, it's a higher-order tensor.\n",
        "  Otherwise, tensor is 1-dimensional (that is, a vector)\n",
        "  \"\"\"\n",
        "  return not isinstance(tensor[0], list)\n",
        "\n",
        "assert is_1d([1,2,3])\n",
        "assert not is_1d([[1,2],[3,4]])"
      ],
      "execution_count": 3,
      "outputs": []
    },
    {
      "cell_type": "code",
      "metadata": {
        "id": "NiAIHUcUu8ep",
        "colab_type": "code",
        "colab": {}
      },
      "source": [
        "def tensor_sum(tensor: Tensor) -> float:\n",
        "  \"\"\"Sums up all the values in the tensor\"\"\"\n",
        "  if is_1d(tensor):\n",
        "    return sum(tensor) # just a list of floats, use Python sum\n",
        "  else:\n",
        "    return sum(tensor_sum(tensor_i) # Call tensor_sum on each row\n",
        "               for tensor_i in tensor) # and sum up those results\n",
        "\n",
        "assert tensor_sum([1,2,3]) == 6\n",
        "assert tensor_sum([[1,2],[3,4]]) == 10"
      ],
      "execution_count": 4,
      "outputs": []
    },
    {
      "cell_type": "code",
      "metadata": {
        "id": "mF97Cb4SvYXi",
        "colab_type": "code",
        "colab": {}
      },
      "source": [
        "from typing import Callable\n",
        "\n",
        "def tensor_apply(f: Callable[[float], float], tensor: Tensor) -> Tensor:\n",
        "  \"\"\"Applies f elementwise\"\"\"\n",
        "  if is_1d(tensor):\n",
        "    return [f(x) for x in tensor]\n",
        "  else:\n",
        "    return [tensor_apply(f, tensor_i) for tensor_i in tensor]\n",
        "\n",
        "assert tensor_apply(lambda x: x+1, [1, 2, 3]) == [2,3,4]\n",
        "assert tensor_apply(lambda x: 2 * x, [[1,2],[3,4]]) == [[2,4],[6,8]]"
      ],
      "execution_count": 5,
      "outputs": []
    },
    {
      "cell_type": "code",
      "metadata": {
        "id": "IFSLmJ4JwifU",
        "colab_type": "code",
        "colab": {}
      },
      "source": [
        "def zeros_like(tensor: Tensor) -> Tensor:\n",
        "  return tensor_apply(lambda _: 0.0, tensor)\n",
        "\n",
        "assert zeros_like([1,2,3]) == [0,0,0]\n",
        "assert zeros_like([[1,2],[3,4]]) == [[0,0],[0,0]]"
      ],
      "execution_count": 6,
      "outputs": []
    },
    {
      "cell_type": "code",
      "metadata": {
        "id": "fvN1x2Gow_5v",
        "colab_type": "code",
        "colab": {}
      },
      "source": [
        "def tensor_combine(f: Callable[[float, float], float],\n",
        "                   t1: Tensor,\n",
        "                   t2: Tensor) -> Tensor:\n",
        "    \"\"\"Applies f to corresponding elements of t1 and t2\"\"\"\n",
        "    if is_1d(t1):\n",
        "      return [f(x,y) for x, y in zip(t1,t2)]\n",
        "    else:\n",
        "      return [tensor_combine(f, t1_i, t2_i)\n",
        "              for t1_i, t2_i in zip(t1, t2)]\n",
        "\n",
        "import operator\n",
        "\n",
        "assert tensor_combine(operator.add, [1,2,3],[4,5,6]) == [5,7,9]\n",
        "assert tensor_combine(operator.mul, [1,2,3], [4,5,6]) == [4,10,18]"
      ],
      "execution_count": 7,
      "outputs": []
    },
    {
      "cell_type": "code",
      "metadata": {
        "id": "2sH1ExZIyHFP",
        "colab_type": "code",
        "colab": {}
      },
      "source": [
        "from typing import Iterable, Tuple\n",
        "\n",
        "class Layer:\n",
        "  \"\"\"\n",
        "  Our neural networks will be composed of layers, each of which\n",
        "  knows how to do some computation on its inputs in the \"forward\"\n",
        "  direction and propagate gradients in the \"backward\" direction.\n",
        "  \"\"\"\n",
        "  def backward(self, gradient):\n",
        "    \"\"\"\n",
        "    Similarly, we're not going to be prescriptive about what the\n",
        "    gradient looks like. It's up to you the user to make sure \n",
        "    that you're doing things sensibly.\n",
        "    \"\"\"\n",
        "    raise NotImplementedError\n",
        "  \n",
        "  def params(self) -> Iterable[Tensor]:\n",
        "    \"\"\"\n",
        "    Returns the parameters of this layer. The default implementation \n",
        "    returns nothing, so that if you have a layer with no parameters\n",
        "    you don't have to implement this.\n",
        "    \"\"\"\n",
        "    return ()\n",
        "\n",
        "  def grads(self) -> Iterable[Tensor]:\n",
        "    \"\"\"\n",
        "    Returns the gradients, in the smae order as params().\n",
        "    \"\"\"\n",
        "    return ()"
      ],
      "execution_count": 8,
      "outputs": []
    },
    {
      "cell_type": "code",
      "metadata": {
        "id": "z3Uh-B4REbEM",
        "colab_type": "code",
        "colab": {
          "base_uri": "https://localhost:8080/",
          "height": 1000
        },
        "outputId": "dfc2e22b-fcb8-40b7-a2c9-b11a85551a61"
      },
      "source": [
        "from Chapter_18 import sigmoid\n",
        "\n",
        "class Sigmoid(Layer):\n",
        "  def forward(self, input: Tensor) -> Tensor:\n",
        "    \"\"\"\n",
        "    Apply sigmoid to each element of the input tensor,\n",
        "    and save the results to use in backpropagation.\n",
        "    \"\"\"\n",
        "    self.sigmoids = tensor_apply(sigmoid, input)\n",
        "    return self.sigmoids\n",
        "\n",
        "  def backward(self, gradient: Tensor) -> Tensor:\n",
        "    return tensor_combine(lambda sig, grad: sig * (1 - sig) * grad,\n",
        "                          self.sigmoids,\n",
        "                          gradient)"
      ],
      "execution_count": 9,
      "outputs": [
        {
          "output_type": "stream",
          "text": [
            "importing Jupyter notebook from Chapter_18.ipynb\n",
            "importing Jupyter notebook from Chapter_04.ipynb\n",
            "1 1 1\n",
            "1 / 100\n",
            "2 2 2\n",
            "2 / 100\n",
            "3 3 fizz\n",
            "2 / 100\n",
            "4 fizzbuzz 4\n",
            "2 / 100\n",
            "5 5 buzz\n",
            "2 / 100\n",
            "6 fizzbuzz fizz\n",
            "2 / 100\n",
            "7 7 7\n",
            "3 / 100\n",
            "8 buzz 8\n",
            "3 / 100\n",
            "9 buzz fizz\n",
            "3 / 100\n",
            "10 10 buzz\n",
            "3 / 100\n",
            "11 buzz 11\n",
            "3 / 100\n",
            "12 fizzbuzz fizz\n",
            "3 / 100\n",
            "13 13 13\n",
            "4 / 100\n",
            "14 14 14\n",
            "5 / 100\n",
            "15 15 fizzbuzz\n",
            "5 / 100\n",
            "16 16 16\n",
            "6 / 100\n",
            "17 17 17\n",
            "7 / 100\n",
            "18 18 fizz\n",
            "7 / 100\n",
            "19 19 19\n",
            "8 / 100\n",
            "20 20 buzz\n",
            "8 / 100\n",
            "21 21 fizz\n",
            "8 / 100\n",
            "22 22 22\n",
            "9 / 100\n",
            "23 23 23\n",
            "10 / 100\n",
            "24 24 fizz\n",
            "10 / 100\n",
            "25 25 buzz\n",
            "10 / 100\n",
            "26 26 26\n",
            "11 / 100\n",
            "27 27 fizz\n",
            "11 / 100\n",
            "28 28 28\n",
            "12 / 100\n",
            "29 29 29\n",
            "13 / 100\n",
            "30 30 fizzbuzz\n",
            "13 / 100\n",
            "31 31 31\n",
            "14 / 100\n",
            "32 32 32\n",
            "15 / 100\n",
            "33 33 fizz\n",
            "15 / 100\n",
            "34 34 34\n",
            "16 / 100\n",
            "35 35 buzz\n",
            "16 / 100\n",
            "36 36 fizz\n",
            "16 / 100\n",
            "37 37 37\n",
            "17 / 100\n",
            "38 38 38\n",
            "18 / 100\n",
            "39 39 fizz\n",
            "18 / 100\n",
            "40 40 buzz\n",
            "18 / 100\n",
            "41 41 41\n",
            "19 / 100\n",
            "42 42 fizz\n",
            "19 / 100\n",
            "43 43 43\n",
            "20 / 100\n",
            "44 44 44\n",
            "21 / 100\n",
            "45 45 fizzbuzz\n",
            "21 / 100\n",
            "46 46 46\n",
            "22 / 100\n",
            "47 47 47\n",
            "23 / 100\n",
            "48 48 fizz\n",
            "23 / 100\n",
            "49 49 49\n",
            "24 / 100\n",
            "50 50 buzz\n",
            "24 / 100\n",
            "51 51 fizz\n",
            "24 / 100\n",
            "52 52 52\n",
            "25 / 100\n",
            "53 53 53\n",
            "26 / 100\n",
            "54 54 fizz\n",
            "26 / 100\n",
            "55 55 buzz\n",
            "26 / 100\n",
            "56 56 56\n",
            "27 / 100\n",
            "57 57 fizz\n",
            "27 / 100\n",
            "58 58 58\n",
            "28 / 100\n",
            "59 59 59\n",
            "29 / 100\n",
            "60 60 fizzbuzz\n",
            "29 / 100\n",
            "61 61 61\n",
            "30 / 100\n",
            "62 62 62\n",
            "31 / 100\n",
            "63 63 fizz\n",
            "31 / 100\n",
            "64 64 64\n",
            "32 / 100\n",
            "65 65 buzz\n",
            "32 / 100\n",
            "66 66 fizz\n",
            "32 / 100\n",
            "67 67 67\n",
            "33 / 100\n",
            "68 68 68\n",
            "34 / 100\n",
            "69 69 fizz\n",
            "34 / 100\n",
            "70 70 buzz\n",
            "34 / 100\n",
            "71 71 71\n",
            "35 / 100\n",
            "72 72 fizz\n",
            "35 / 100\n",
            "73 73 73\n",
            "36 / 100\n",
            "74 74 74\n",
            "37 / 100\n",
            "75 75 fizzbuzz\n",
            "37 / 100\n",
            "76 76 76\n",
            "38 / 100\n",
            "77 77 77\n",
            "39 / 100\n",
            "78 78 fizz\n",
            "39 / 100\n",
            "79 79 79\n",
            "40 / 100\n",
            "80 80 buzz\n",
            "40 / 100\n",
            "81 81 fizz\n",
            "40 / 100\n",
            "82 82 82\n",
            "41 / 100\n",
            "83 83 83\n",
            "42 / 100\n",
            "84 84 fizz\n",
            "42 / 100\n",
            "85 85 buzz\n",
            "42 / 100\n",
            "86 86 86\n",
            "43 / 100\n",
            "87 87 fizz\n",
            "43 / 100\n",
            "88 88 88\n",
            "44 / 100\n",
            "89 89 89\n",
            "45 / 100\n",
            "90 90 fizzbuzz\n",
            "45 / 100\n",
            "91 91 91\n",
            "46 / 100\n",
            "92 92 92\n",
            "47 / 100\n",
            "93 93 fizz\n",
            "47 / 100\n",
            "94 94 94\n",
            "48 / 100\n",
            "95 95 buzz\n",
            "48 / 100\n",
            "96 96 fizz\n",
            "48 / 100\n",
            "97 97 97\n",
            "49 / 100\n",
            "98 98 98\n",
            "50 / 100\n",
            "99 99 fizz\n",
            "50 / 100\n",
            "100 100 buzz\n",
            "50 / 100\n"
          ],
          "name": "stdout"
        }
      ]
    },
    {
      "cell_type": "code",
      "metadata": {
        "id": "aywa2pqdAwUP",
        "colab_type": "code",
        "colab": {
          "base_uri": "https://localhost:8080/",
          "height": 860
        },
        "outputId": "da623566-69d5-4b32-c5f6-f56f0d2354bd"
      },
      "source": [
        "# Functions to randomly generate our weight tensors\n",
        "import random\n",
        "\n",
        "from Chapter_06 import inverse_normal_cdf\n",
        "\n",
        "def random_uniform(*dims: int) -> Tensor:\n",
        "  if len(dims) == 1:\n",
        "    return [random.random() for _ in range(dims[0])]\n",
        "  else:\n",
        "    return [random_uniform(*dims[1:]) for _ in range(dims[0])]\n",
        "\n",
        "def random_normal(*dims: int,\n",
        "                  mean: float = 1.0,\n",
        "                  variance: float = 1.0) -> Tensor:\n",
        "  if len(dims) == 1:\n",
        "    return [mean + variance * inverse_normal_cdf(random.random())\n",
        "            for _ in range(dims[0])]\n",
        "  else:\n",
        "    return [random_normal(*dims[1:], mean=mean, variance=variance)\n",
        "            for _ in range(dims[0])]\n",
        "\n",
        "assert shape(random_uniform(2,3,4)) == [2,3,4]\n",
        "assert shape(random_normal(5,6,mean=10)) == [5,6]"
      ],
      "execution_count": 10,
      "outputs": [
        {
          "output_type": "stream",
          "text": [
            "importing Jupyter notebook from Chapter_06.ipynb\n",
            "P(both | older): 0.5007089325501317\n",
            "P(both | either): 0.3311897106109325\n"
          ],
          "name": "stdout"
        },
        {
          "output_type": "display_data",
          "data": {
            "image/png": "[encoded data removed]",
            "text/plain": [
              "<Figure size 432x288 with 1 Axes>"
            ]
          },
          "metadata": {
            "tags": [],
            "needs_background": "light"
          }
        },
        {
          "output_type": "display_data",
          "data": {
            "image/png": "[encoded data removed]",
            "text/plain": [
              "<Figure size 432x288 with 1 Axes>"
            ]
          },
          "metadata": {
            "tags": [],
            "needs_background": "light"
          }
        },
        {
          "output_type": "display_data",
          "data": {
            "image/png": "[encoded data removed]",
            "text/plain": [
              "<Figure size 432x288 with 1 Axes>"
            ]
          },
          "metadata": {
            "tags": [],
            "needs_background": "light"
          }
        }
      ]
    },
    {
      "cell_type": "code",
      "metadata": {
        "id": "irGD2UmzWmW3",
        "colab_type": "code",
        "colab": {}
      },
      "source": [
        "# Wrap them all in a random_tensor function\n",
        "\n",
        "def random_tensor(*dims: int, init: str = 'normal') -> Tensor:\n",
        "  if init == 'normal':\n",
        "    return random_normal(*dims)\n",
        "  elif init == 'uniform':\n",
        "    return random_uniform(*dims)\n",
        "  elif init == 'xavier':\n",
        "    variance = len(dims) / sum(dims)\n",
        "    return random_normal(*dims, variance=variance)\n",
        "  else:\n",
        "    raise ValueError(f\"unknown init: {init}\")"
      ],
      "execution_count": 11,
      "outputs": []
    },
    {
      "cell_type": "code",
      "metadata": {
        "id": "SxHZdBlSXq1U",
        "colab_type": "code",
        "colab": {}
      },
      "source": [
        "# Define the linear layer\n",
        "from Chapter_04 import dot\n",
        "\n",
        "class Linear(Layer):\n",
        "    def __init__(self, input_dim: int, output_dim: int, init: str = 'xavier') -> None:\n",
        "        \"\"\"\n",
        "        A layer of output_dim neurons, each with input_dim weights\n",
        "        (and a bias).\n",
        "        \"\"\"\n",
        "        self.input_dim = input_dim\n",
        "        self.output_dim = output_dim\n",
        "\n",
        "        # self.w[o] is the weights for the o-th neuron\n",
        "        self.w = random_tensor(output_dim, input_dim, init=init)\n",
        "\n",
        "        # self.b[o] is the bias term for the o-th neuron\n",
        "        self.b = random_tensor(output_dim, init=init)\n",
        "\n",
        "    def forward(self, input: Tensor) -> Tensor:\n",
        "        # Save the input to use in the backward pass.\n",
        "        self.input = input\n",
        "\n",
        "        # Return the vector of neuron outputs.\n",
        "        return [dot(input, self.w[o]) + self.b[o]\n",
        "                for o in range(self.output_dim)]\n",
        "\n",
        "    def backward(self, gradient: Tensor) -> Tensor:\n",
        "        # Each b[o] gets added to output[o], which means\n",
        "        # the gradient of b is the same as the output gradient.\n",
        "        self.b_grad = gradient\n",
        "\n",
        "        # Each w[o][i] multiplies input[i] and gets added to output[o].\n",
        "        # So its gradient is input[i] * gradient[o].\n",
        "        self.w_grad = [[self.input[i] * gradient[o]\n",
        "                        for i in range(self.input_dim)]\n",
        "                       for o in range(self.output_dim)]\n",
        "\n",
        "        # Each input[i] multiplies every w[o][i] and gets added to every\n",
        "        # output[o]. So its gradient is the sum of w[o][i] * gradient[o]\n",
        "        # across all the outputs.\n",
        "        return [sum(self.w[o][i] * gradient[o] for o in range(self.output_dim))\n",
        "                for i in range(self.input_dim)]\n",
        "\n",
        "    def params(self) -> Iterable[Tensor]:\n",
        "        return [self.w, self.b]\n",
        "\n",
        "    def grads(self) -> Iterable[Tensor]:\n",
        "        return [self.w_grad, self.b_grad]"
      ],
      "execution_count": 12,
      "outputs": []
    },
    {
      "cell_type": "code",
      "metadata": {
        "id": "meJVjeykOOrR",
        "colab_type": "code",
        "colab": {}
      },
      "source": [
        "# Define a sequence of layers\n",
        "from typing import List\n",
        "\n",
        "class Sequential(Layer):\n",
        "    \"\"\"\n",
        "    A layer consisting of a sequence of other layers.\n",
        "    It's up to you to make sure that the output of each layer\n",
        "    makes sense as the input to the next layer.\n",
        "    \"\"\"\n",
        "    def __init__(self, layers: List[Layer]) -> None:\n",
        "        self.layers = layers\n",
        "\n",
        "    def forward(self, input):\n",
        "        \"\"\"Just forward the input through the layers in order.\"\"\"\n",
        "        for layer in self.layers:\n",
        "            input = layer.forward(input)\n",
        "        return input\n",
        "\n",
        "    def backward(self, gradient):\n",
        "        \"\"\"Just backpropagate the gradient through the layers in reverse.\"\"\"\n",
        "        for layer in reversed(self.layers):\n",
        "            gradient = layer.backward(gradient)\n",
        "        return gradient\n",
        "\n",
        "    def params(self) -> Iterable[Tensor]:\n",
        "        \"\"\"Just return the params from each layer.\"\"\"\n",
        "        return (param for layer in self.layers for param in layer.params())\n",
        "\n",
        "    def grads(self) -> Iterable[Tensor]:\n",
        "        \"\"\"Just return the grads from each layer.\"\"\"\n",
        "        return (grad for layer in self.layers for grad in layer.grads())\n"
      ],
      "execution_count": 13,
      "outputs": []
    },
    {
      "cell_type": "code",
      "metadata": {
        "id": "YJF7Z1enxQzp",
        "colab_type": "code",
        "colab": {}
      },
      "source": [
        "# But we still need to train it, so more classes to write\n",
        "\n",
        "class Loss:\n",
        "  def loss(self, predicted: Tensor, actual: Tensor) -> float:\n",
        "    \"\"\"How good are out predictions? (Larger numbers are worse.)\"\"\"\n",
        "    raise NotImplementedError\n",
        "  \n",
        "  def gradient(self, predicted: Tensor, actual: Tensor) -> Tensor:\n",
        "    \"\"\"How does the loss change as the predictions change?\"\"\"\n",
        "    raise NotImplementedError\n",
        "\n",
        "class SSE(Loss):\n",
        "  \"\"\"Loss function that computes the sum of the squared errors.\"\"\"\n",
        "  def loss(self, predicted: Tensor, actual: Tensor) -> float:\n",
        "    # Compute the tensor of squared differences\n",
        "    squared_errors = tensor_combine(\n",
        "                      lambda predicted, actual: (predicted - actual) ** 2,\n",
        "                      predicted,\n",
        "                      actual)\n",
        "    # And just add them up\n",
        "    return tensor_sum(squared_errors)\n",
        "\n",
        "  def gradient(self, predicted: Tensor, actual: Tensor) -> Tensor:\n",
        "    return tensor_combine(\n",
        "        lambda predicted, actual: 2 * (predicted - actual),\n",
        "        predicted,\n",
        "        actual)\n",
        "\n",
        "sse_loss = SSE()\n",
        "assert sse_loss.loss([1, 2, 3], [10, 20, 30]) == 9 ** 2 + 18 ** 2 + 27 ** 2\n",
        "assert sse_loss.gradient([1, 2, 3], [10, 20, 30]) == [-18, -36, -54]\n"
      ],
      "execution_count": 14,
      "outputs": []
    },
    {
      "cell_type": "code",
      "metadata": {
        "id": "wcm3xqmz3QKM",
        "colab_type": "code",
        "colab": {}
      },
      "source": [
        "# Need an absract optimizer so we can create different variants of gradient descent\n",
        "\n",
        "class Optimizer:\n",
        "  \"\"\"\n",
        "  An optimizer updates the weights of a layer (in place) using information\n",
        "  known by either the layer or the optimizer (or by both).\n",
        "  \"\"\"\n",
        "  def step(self, layer: Layer) -> None:\n",
        "    raise NotImplementedError\n",
        "  \n",
        "class GradientDescent(Optimizer):\n",
        "  def __init__(self, learning_rate: float = 0.1) -> None:\n",
        "    self.lr = learning_rate\n",
        "  \n",
        "  def step(self, layer: Layer) -> None:\n",
        "    for param, grad in zip(layer.params(), layer.grads()):\n",
        "      # Update param using a gradient step\n",
        "      param[:] = tensor_combine(\n",
        "          lambda param, grad: param - grad * self.lr,\n",
        "          param,\n",
        "          grad)\n",
        "\n",
        "# Note the slice operator. You have to use this if you want to affect the original list. For example\n",
        "tensor = [[1,2],[3,4]]\n",
        "\n",
        "for row in tensor:\n",
        "  row = [0,0]\n",
        "assert tensor == [[1,2],[3,4]], \"assignment doesn't update a list\"\n",
        "\n",
        "for row in tensor:\n",
        "  row[:] = [0,0]\n",
        "assert tensor == [[0,0], [0,0]], \"but slice assignment does\"\n"
      ],
      "execution_count": 15,
      "outputs": []
    },
    {
      "cell_type": "code",
      "metadata": {
        "id": "hjm1GougwwY_",
        "colab_type": "code",
        "colab": {}
      },
      "source": [
        "# Let's show the flexibility of this design by implmenting one more optimizer\n",
        "\n",
        "class Momentum(Optimizer):\n",
        "    def __init__(self,\n",
        "                 learning_rate: float,\n",
        "                 momentum: float = 0.9) -> None:\n",
        "        self.lr = learning_rate\n",
        "        self.mo = momentum\n",
        "        self.updates: List[Tensor] = []  # running average\n",
        "\n",
        "    def step(self, layer: Layer) -> None:\n",
        "        # If we have no previous updates, start with all zeros.\n",
        "        if not self.updates:\n",
        "            self.updates = [zeros_like(grad) for grad in layer.grads()]\n",
        "\n",
        "        for update, param, grad in zip(self.updates,\n",
        "                                       layer.params(),\n",
        "                                       layer.grads()):\n",
        "            # Apply momentum\n",
        "            update[:] = tensor_combine(\n",
        "                lambda u, g: self.mo * u + (1 - self.mo) * g,\n",
        "                update,\n",
        "                grad)\n",
        "\n",
        "            # Then take a gradient step\n",
        "            param[:] = tensor_combine(\n",
        "                lambda p, u: p - self.lr * u,\n",
        "                param,\n",
        "                update)"
      ],
      "execution_count": 16,
      "outputs": []
    },
    {
      "cell_type": "code",
      "metadata": {
        "id": "FIfK4VQe2Cpq",
        "colab_type": "code",
        "colab": {
          "base_uri": "https://localhost:8080/",
          "height": 102
        },
        "outputId": "7b64b7ed-a07d-4ff5-987a-6540f6d189ad"
      },
      "source": [
        "# Let's revisit XOR\n",
        "\n",
        "# training data\n",
        "xs = [[0., 0], [0., 1], [1., 0], [1., 1]]\n",
        "ys = [[0.], [1.], [1.], [0.]]\n",
        "\n",
        "random.seed(0)\n",
        "\n",
        "net = Sequential([\n",
        "    Linear(input_dim=2, output_dim=2),\n",
        "    Sigmoid(),\n",
        "    Linear(input_dim=2, output_dim=1)\n",
        "])\n",
        "\n",
        "import tqdm\n",
        "\n",
        "optimizer = GradientDescent(learning_rate=0.1)\n",
        "loss = SSE()\n",
        "\n",
        "with tqdm.trange(3000) as t:\n",
        "    for epoch in t:\n",
        "        epoch_loss = 0.0\n",
        "\n",
        "        for x, y in zip(xs, ys):\n",
        "            predicted = net.forward(x)\n",
        "            epoch_loss += loss.loss(predicted, y)\n",
        "            gradient = loss.gradient(predicted, y)\n",
        "            net.backward(gradient)\n",
        "\n",
        "            optimizer.step(net)\n",
        "\n",
        "        t.set_description(f\"xor loss {epoch_loss:.3f}\")\n",
        "\n",
        "for param in net.params():\n",
        "    print(param)"
      ],
      "execution_count": 19,
      "outputs": [
        {
          "output_type": "stream",
          "text": [
            "xor loss 0.000: 100%|██████████| 3000/3000 [00:04<00:00, 637.62it/s]"
          ],
          "name": "stderr"
        },
        {
          "output_type": "stream",
          "text": [
            "[[3.5554992459094508, 3.2301163068668624], [1.5628401808174888, 1.4874326472741894]]\n",
            "[-0.6445062004781298, -2.1460068733214146]\n",
            "[[3.0189389298298797, -3.250177891119526]]\n",
            "[-0.6988954441245024]\n"
          ],
          "name": "stdout"
        },
        {
          "output_type": "stream",
          "text": [
            "\n"
          ],
          "name": "stderr"
        }
      ]
    },
    {
      "cell_type": "code",
      "metadata": {
        "id": "LvAHjZQD-cJC",
        "colab_type": "code",
        "colab": {}
      },
      "source": [
        "# One replacement for sigmoid is tanh\n",
        "\n",
        "import math\n",
        "\n",
        "def tanh(x: float) -> float:\n",
        "  # If x is very large or very small, tanh is (essentially) 1 or -1.\n",
        "  # We check for this because, e.g., math.exp(1000) raises an error.\n",
        "  if x < -100: return -1\n",
        "  elif x > 100: return 1\n",
        "\n",
        "  em2x = math.exp(-2 * x)\n",
        "  return (1 - em2x) / (1 + em2x)\n",
        "\n",
        "class Tanh(Layer):\n",
        "  def forward(self, input: Tensor) -> Tensor:\n",
        "    # Save tanh output to use in backward pass.\n",
        "    self.tanh = tensor_apply(tanh, input)\n",
        "    return self.tanh\n",
        "\n",
        "  def backward(self, gradient: Tensor) -> Tensor:\n",
        "    return tensor_combine(\n",
        "        lambda tanh, grad: (1 - tanh ** 2) * grad,\n",
        "        self.tanh,\n",
        "        gradient)"
      ],
      "execution_count": 20,
      "outputs": []
    },
    {
      "cell_type": "code",
      "metadata": {
        "id": "bDVcd2KfbEht",
        "colab_type": "code",
        "colab": {}
      },
      "source": [
        "# Another popular one is relu\n",
        "\n",
        "class Relu(Layer):\n",
        "  def forward(self, input: Tensor) -> Tensor:\n",
        "    self.input = input\n",
        "    return tensor_apply(lambda x: max(x, 0), input)\n",
        "\n",
        "  def backward(self, gradient: Tensor) -> Tensor:\n",
        "    return tensor_combine(lambda x, grad: grad if x > 0 else 0,\n",
        "                          self.input,\n",
        "                          gradient)"
      ],
      "execution_count": 21,
      "outputs": []
    },
    {
      "cell_type": "code",
      "metadata": {
        "id": "CfGlOtBo87mk",
        "colab_type": "code",
        "colab": {}
      },
      "source": [
        "# Fizzbuzz revisted\n",
        "\n",
        "from Chapter_18 import binary_encode, fizz_buzz_encode, argmax\n",
        "\n",
        "xs = [binary_encode(n) for n in range(101, 1024)]\n",
        "ys = [fizz_buzz_encode(n) for n in range(101, 1024)]\n",
        "\n",
        "NUM_HIDDEN = 25\n",
        "\n",
        "random.seed(0)\n",
        "\n",
        "def fizzbuzz_accuracy(low: int, hi: int, net: Layer) -> float:\n",
        "  num_correct = 0\n",
        "  for n in range(low, hi):\n",
        "    x = binary_encode(n)\n",
        "    predicted = argmax(net.forward(x))\n",
        "    actual = argmax(fizz_buzz_encode(n))\n",
        "    if predicted == actual:\n",
        "      num_correct += 1\n",
        "\n",
        "  return num_correct / (hi - low)"
      ],
      "execution_count": 24,
      "outputs": []
    },
    {
      "cell_type": "code",
      "metadata": {
        "id": "mTx8Ldwjbi9l",
        "colab_type": "code",
        "colab": {}
      },
      "source": [
        "net = Sequential([\n",
        "                  Linear(input_dim=10, output_dim=NUM_HIDDEN, init='uniform'),\n",
        "                  Tanh(),\n",
        "                  Linear(input_dim=NUM_HIDDEN, output_dim=4, init=\"uniform\"),\n",
        "                  Sigmoid()\n",
        "])\n",
        "\n",
        "optimizer = Momentum(learning_rate=0.1, momentum=0.9)\n",
        "loss = SSE()\n",
        "\n",
        "with tqdm.trange(1000) as t:\n",
        "  for epoch in t:\n",
        "    epoch_loss = 0.0\n",
        "\n",
        "    for x, y in zip(xs, ys):\n",
        "      predicted = net.forward(x)\n",
        "      epoch_loss += loss.loss(predicted, y)\n",
        "      gradient = loss.gradient(predicted, y)\n",
        "      net.backward(gradient)\n",
        "\n",
        "      optimizer.step(net)\n",
        "    \n",
        "    accuracy = fizzbuzz_accuracy(101, 1024, net)\n",
        "    t.set_description(f\"fb loss: {epoch_loss:.2f} acc: {accuracy:.2f}\")\n",
        "\n",
        "# Now check results on the test set\n",
        "print(\"test results\", fizzbuzz_accuracy(1, 101, net))"
      ],
      "execution_count": null,
      "outputs": []
    },
    {
      "cell_type": "code",
      "metadata": {
        "id": "OIRaAo01iSBc",
        "colab_type": "code",
        "colab": {}
      },
      "source": [
        "def softmax(tensor: Tensor) -> Tensor:\n",
        "  \"\"\"Softmad along the last dimension\"\"\"\n",
        "  if is_1d(tensor):\n",
        "    # Subtract the largest value for numerical stability.\n",
        "    largest = max(tensor)\n",
        "    exps = [math.exp(x - largest) for x in tensor]\n",
        "\n",
        "    sum_of_exps = sum(exps)  # This is the total \"weight\"\n",
        "    return [exp_i / sum_of_exps # Probability is the fraction\n",
        "            for exp_i in exps] # of the total weight\n",
        "  else:\n",
        "    return [softmax(tensor_i) for tensor_i in tensor]\n",
        "\n",
        "class SoftmaxCrossEntropy(Loss):\n",
        "  \"\"\"\n",
        "  This is the negative-log-likelihood of the ovserved values, given the\n",
        "  neural net model. So if we choose weights ot minimize it, out model will\n",
        "  be maximinzing the likelihood of the observed data.\n",
        "  \"\"\"\n",
        "  def loss(self, predicted: Tensor, actual: Tensor) -> float:\n",
        "    # Apply softmax to get probabilities\n",
        "    probabilities = softmax(predicted)\n",
        "\n",
        "    # This will be log p_i for the actual class i and 0 for the other\n",
        "    # classes. We add a tiny amount to p to avoid taking log(0).\n",
        "    likelihoods = tensor_combine(lambda p, act: math.log(p + 1e-30) * act,\n",
        "                                 probabilities,\n",
        "                                 actual)\n",
        "    \n",
        "    # And then we just sum up the negatives.\n",
        "    return -tensor_sum(likelihoods)\n",
        "\n",
        "  def gradient(self, predicted: Tensor, actual: Tensor) -> Tensor:\n",
        "    probabilities = softmax(predicted)\n",
        "\n",
        "    # Isn't this a pleasant equation:\n",
        "    return tensor_combine(lambda p, actual: p - actual,\n",
        "                          probabilities,\n",
        "                          actual)"
      ],
      "execution_count": 23,
      "outputs": []
    },
    {
      "cell_type": "code",
      "metadata": {
        "id": "gJln8vzcj4bC",
        "colab_type": "code",
        "colab": {
          "base_uri": "https://localhost:8080/",
          "height": 392
        },
        "outputId": "5ad581a0-c049-4f19-efda-8231104ebc85"
      },
      "source": [
        "net = Sequential([\n",
        "                  Linear(input_dim=10, output_dim=NUM_HIDDEN, init='uniform'),\n",
        "                  Tanh(),\n",
        "                  Linear(input_dim=NUM_HIDDEN, output_dim=4, init=\"uniform\"),\n",
        "                  # No final Sigmoid layer now\n",
        "])\n",
        "\n",
        "optimizer = Momentum(learning_rate=0.1, momentum=0.9)\n",
        "loss = SoftmaxCrossEntropy()\n",
        "\n",
        "with tqdm.trange(1000) as t:\n",
        "  for epoch in t:\n",
        "    epoch_loss = 0.0\n",
        "\n",
        "    for x, y in zip(xs, ys):\n",
        "      predicted = net.forward(x)\n",
        "      epoch_loss += loss.loss(predicted, y)\n",
        "      gradient = loss.gradient(predicted, y)\n",
        "      net.backward(gradient)\n",
        "\n",
        "      optimizer.step(net)\n",
        "    \n",
        "    accuracy = fizzbuzz_accuracy(101, 1024, net)\n",
        "    t.set_description(f\"fb loss: {epoch_loss:.2f} acc: {accuracy:.2f}\")\n",
        "\n",
        "# Now check results on the test set\n",
        "print(\"test results\", fizzbuzz_accuracy(1, 101, net))\n"
      ],
      "execution_count": 25,
      "outputs": [
        {
          "output_type": "stream",
          "text": [
            "fb loss: 2.56 acc: 1.00:  14%|█▎        | 137/1000 [01:07<07:06,  2.02it/s]\n"
          ],
          "name": "stderr"
        },
        {
          "output_type": "error",
          "ename": "KeyboardInterrupt",
          "evalue": "ignored",
          "traceback": [
            "\u001b[0;31m---------------------------------------------------------------------------\u001b[0m",
            "\u001b[0;31mKeyboardInterrupt\u001b[0m                         Traceback (most recent call last)",
            "\u001b[0;32m<ipython-input-25-b3635f83acbb>\u001b[0m in \u001b[0;36m<module>\u001b[0;34m()\u001b[0m\n\u001b[1;32m     19\u001b[0m       \u001b[0mnet\u001b[0m\u001b[0;34m.\u001b[0m\u001b[0mbackward\u001b[0m\u001b[0;34m(\u001b[0m\u001b[0mgradient\u001b[0m\u001b[0;34m)\u001b[0m\u001b[0;34m\u001b[0m\u001b[0;34m\u001b[0m\u001b[0m\n\u001b[1;32m     20\u001b[0m \u001b[0;34m\u001b[0m\u001b[0m\n\u001b[0;32m---> 21\u001b[0;31m       \u001b[0moptimizer\u001b[0m\u001b[0;34m.\u001b[0m\u001b[0mstep\u001b[0m\u001b[0;34m(\u001b[0m\u001b[0mnet\u001b[0m\u001b[0;34m)\u001b[0m\u001b[0;34m\u001b[0m\u001b[0;34m\u001b[0m\u001b[0m\n\u001b[0m\u001b[1;32m     22\u001b[0m \u001b[0;34m\u001b[0m\u001b[0m\n\u001b[1;32m     23\u001b[0m     \u001b[0maccuracy\u001b[0m \u001b[0;34m=\u001b[0m \u001b[0mfizzbuzz_accuracy\u001b[0m\u001b[0;34m(\u001b[0m\u001b[0;36m101\u001b[0m\u001b[0;34m,\u001b[0m \u001b[0;36m1024\u001b[0m\u001b[0;34m,\u001b[0m \u001b[0mnet\u001b[0m\u001b[0;34m)\u001b[0m\u001b[0;34m\u001b[0m\u001b[0;34m\u001b[0m\u001b[0m\n",
            "\u001b[0;32m<ipython-input-16-9d5d008071b8>\u001b[0m in \u001b[0;36mstep\u001b[0;34m(self, layer)\u001b[0m\n\u001b[1;32m     16\u001b[0m         for update, param, grad in zip(self.updates,\n\u001b[1;32m     17\u001b[0m                                        \u001b[0mlayer\u001b[0m\u001b[0;34m.\u001b[0m\u001b[0mparams\u001b[0m\u001b[0;34m(\u001b[0m\u001b[0;34m)\u001b[0m\u001b[0;34m,\u001b[0m\u001b[0;34m\u001b[0m\u001b[0;34m\u001b[0m\u001b[0m\n\u001b[0;32m---> 18\u001b[0;31m                                        layer.grads()):\n\u001b[0m\u001b[1;32m     19\u001b[0m             \u001b[0;31m# Apply momentum\u001b[0m\u001b[0;34m\u001b[0m\u001b[0;34m\u001b[0m\u001b[0;34m\u001b[0m\u001b[0m\n\u001b[1;32m     20\u001b[0m             update[:] = tensor_combine(\n",
            "\u001b[0;32m<ipython-input-13-14e3c6e2663e>\u001b[0m in \u001b[0;36m<genexpr>\u001b[0;34m(.0)\u001b[0m\n\u001b[1;32m     25\u001b[0m     \u001b[0;32mdef\u001b[0m \u001b[0mparams\u001b[0m\u001b[0;34m(\u001b[0m\u001b[0mself\u001b[0m\u001b[0;34m)\u001b[0m \u001b[0;34m->\u001b[0m \u001b[0mIterable\u001b[0m\u001b[0;34m[\u001b[0m\u001b[0mTensor\u001b[0m\u001b[0;34m]\u001b[0m\u001b[0;34m:\u001b[0m\u001b[0;34m\u001b[0m\u001b[0;34m\u001b[0m\u001b[0m\n\u001b[1;32m     26\u001b[0m         \u001b[0;34m\"\"\"Just return the params from each layer.\"\"\"\u001b[0m\u001b[0;34m\u001b[0m\u001b[0;34m\u001b[0m\u001b[0m\n\u001b[0;32m---> 27\u001b[0;31m         \u001b[0;32mreturn\u001b[0m \u001b[0;34m(\u001b[0m\u001b[0mparam\u001b[0m \u001b[0;32mfor\u001b[0m \u001b[0mlayer\u001b[0m \u001b[0;32min\u001b[0m \u001b[0mself\u001b[0m\u001b[0;34m.\u001b[0m\u001b[0mlayers\u001b[0m \u001b[0;32mfor\u001b[0m \u001b[0mparam\u001b[0m \u001b[0;32min\u001b[0m \u001b[0mlayer\u001b[0m\u001b[0;34m.\u001b[0m\u001b[0mparams\u001b[0m\u001b[0;34m(\u001b[0m\u001b[0;34m)\u001b[0m\u001b[0;34m)\u001b[0m\u001b[0;34m\u001b[0m\u001b[0;34m\u001b[0m\u001b[0m\n\u001b[0m\u001b[1;32m     28\u001b[0m \u001b[0;34m\u001b[0m\u001b[0m\n\u001b[1;32m     29\u001b[0m     \u001b[0;32mdef\u001b[0m \u001b[0mgrads\u001b[0m\u001b[0;34m(\u001b[0m\u001b[0mself\u001b[0m\u001b[0;34m)\u001b[0m \u001b[0;34m->\u001b[0m \u001b[0mIterable\u001b[0m\u001b[0;34m[\u001b[0m\u001b[0mTensor\u001b[0m\u001b[0;34m]\u001b[0m\u001b[0;34m:\u001b[0m\u001b[0;34m\u001b[0m\u001b[0;34m\u001b[0m\u001b[0m\n",
            "\u001b[0;32m<ipython-input-12-2bcfe69c3f57>\u001b[0m in \u001b[0;36mparams\u001b[0;34m(self)\u001b[0m\n\u001b[1;32m     43\u001b[0m \u001b[0;34m\u001b[0m\u001b[0m\n\u001b[1;32m     44\u001b[0m     \u001b[0;32mdef\u001b[0m \u001b[0mparams\u001b[0m\u001b[0;34m(\u001b[0m\u001b[0mself\u001b[0m\u001b[0;34m)\u001b[0m \u001b[0;34m->\u001b[0m \u001b[0mIterable\u001b[0m\u001b[0;34m[\u001b[0m\u001b[0mTensor\u001b[0m\u001b[0;34m]\u001b[0m\u001b[0;34m:\u001b[0m\u001b[0;34m\u001b[0m\u001b[0;34m\u001b[0m\u001b[0m\n\u001b[0;32m---> 45\u001b[0;31m         \u001b[0;32mreturn\u001b[0m \u001b[0;34m[\u001b[0m\u001b[0mself\u001b[0m\u001b[0;34m.\u001b[0m\u001b[0mw\u001b[0m\u001b[0;34m,\u001b[0m \u001b[0mself\u001b[0m\u001b[0;34m.\u001b[0m\u001b[0mb\u001b[0m\u001b[0;34m]\u001b[0m\u001b[0;34m\u001b[0m\u001b[0;34m\u001b[0m\u001b[0m\n\u001b[0m\u001b[1;32m     46\u001b[0m \u001b[0;34m\u001b[0m\u001b[0m\n\u001b[1;32m     47\u001b[0m     \u001b[0;32mdef\u001b[0m \u001b[0mgrads\u001b[0m\u001b[0;34m(\u001b[0m\u001b[0mself\u001b[0m\u001b[0;34m)\u001b[0m \u001b[0;34m->\u001b[0m \u001b[0mIterable\u001b[0m\u001b[0;34m[\u001b[0m\u001b[0mTensor\u001b[0m\u001b[0;34m]\u001b[0m\u001b[0;34m:\u001b[0m\u001b[0;34m\u001b[0m\u001b[0;34m\u001b[0m\u001b[0m\n",
            "\u001b[0;31mKeyboardInterrupt\u001b[0m: "
          ]
        }
      ]
    },
    {
      "cell_type": "code",
      "metadata": {
        "id": "NduyXxAnKmG2",
        "colab_type": "code",
        "colab": {}
      },
      "source": [
        "# Dropout is another method, like regularization, to avoid over fitting data\n",
        "\n",
        "class Dropout(Layer):\n",
        "  def __init__(self, p: float) -> None:\n",
        "    self.p = p\n",
        "    self.train = True\n",
        "\n",
        "  def forward(self, input: Tensor) -> Tensor:\n",
        "    if self.train:\n",
        "      # Create a mask of 0s and 1s shaped like the input\n",
        "      # using the specified proabability\n",
        "      self.mask = tensor_apply(\n",
        "          lambda _: 0 if random.random() < self.p else 1,\n",
        "          input)\n",
        "      # Mulitple by the mask to dropout inputs\n",
        "      return tensor_combine(operator.mul, input, self.mask)\n",
        "    else:\n",
        "      # During evaluation just scale down the outputs uniformly.\n",
        "      return tensor_apply(lambda x: x * (1 - selp.p), input)\n",
        "  \n",
        "  def backward(self, gradient: Tensor) -> Tensor:\n",
        "    if self.train:\n",
        "      # Only propagate the gradients where mask == 1\n",
        "      return tensor_combine(operator.mul, gradient, self.mask)\n",
        "    else:\n",
        "      raise RunTimeError(\"don't call backward when not in train mode\")\n",
        "      "
      ],
      "execution_count": 26,
      "outputs": []
    },
    {
      "cell_type": "code",
      "metadata": {
        "id": "HFJodByp9pRt",
        "colab_type": "code",
        "colab": {
          "base_uri": "https://localhost:8080/",
          "height": 122
        },
        "outputId": "c0611f26-3597-45ff-b13b-e81e3b63a575"
      },
      "source": [
        "# MNIST example\n",
        "!pip install mnist"
      ],
      "execution_count": 27,
      "outputs": [
        {
          "output_type": "stream",
          "text": [
            "Collecting mnist\n",
            "  Downloading https://files.pythonhosted.org/packages/c6/c4/5db3bfe009f8d71f1d532bbadbd0ec203764bba3a469e4703a889db8e5e0/mnist-0.2.2-py2.py3-none-any.whl\n",
            "Requirement already satisfied: numpy in /usr/local/lib/python3.6/dist-packages (from mnist) (1.18.5)\n",
            "Installing collected packages: mnist\n",
            "Successfully installed mnist-0.2.2\n"
          ],
          "name": "stdout"
        }
      ]
    },
    {
      "cell_type": "code",
      "metadata": {
        "id": "fejjNsD-9zmo",
        "colab_type": "code",
        "colab": {
          "base_uri": "https://localhost:8080/",
          "height": 34
        },
        "outputId": "48effd08-bdf6-4889-df53-c639c45ee09d"
      },
      "source": [
        "import mnist\n",
        "\n",
        "# This will download the data; change this to where you want it.\n",
        "# Yes, it's a 0-argument function, that's what the library expects.\n",
        "# Yes, I'm assigning a lambda to a variable, like I said never to do\n",
        "!pwd"
      ],
      "execution_count": 28,
      "outputs": [
        {
          "output_type": "stream",
          "text": [
            "/content/data-science-from-scratch-Python\n"
          ],
          "name": "stdout"
        }
      ]
    },
    {
      "cell_type": "code",
      "metadata": {
        "id": "5-_P8cQE-qu2",
        "colab_type": "code",
        "colab": {}
      },
      "source": [
        "mnist.temporary_dir = lambda: '/content/data-science-from-scratch-Python'\n",
        "\n",
        "# Each of these functions first downloads the data and returns a numpy array\n",
        "# We call .tolist() because our tensors are just lists\n",
        "train_images = mnist.train_images().tolist()\n",
        "train_labels = mnist.train_labels().tolist()\n",
        "\n",
        "assert shape(train_images) == [60000, 28, 28]\n",
        "assert shape(train_labels) == [60000]"
      ],
      "execution_count": 29,
      "outputs": []
    },
    {
      "cell_type": "code",
      "metadata": {
        "id": "oH7etgER_Shh",
        "colab_type": "code",
        "colab": {
          "base_uri": "https://localhost:8080/",
          "height": 252
        },
        "outputId": "781589ed-6513-4f63-d945-081f1fd3a6b3"
      },
      "source": [
        "import matplotlib.pyplot as plt\n",
        "\n",
        "fig, ax = plt.subplots(10,10)\n",
        "\n",
        "for i in range(10):\n",
        "  for j in range(10):\n",
        "    # Plot each image in black and white and hide the axes.\n",
        "    ax[i][j].imshow(train_images[10 * i + j], cmap='Greys')\n",
        "    ax[i][j].xaxis.set_visible(False)\n",
        "    ax[i][j].yaxis.set_visible(False)\n",
        "\n",
        "plt.show()"
      ],
      "execution_count": 30,
      "outputs": [
        {
          "output_type": "display_data",
          "data": {
            "image/png": "[encoded data removed]",
            "text/plain": [
              "<Figure size 432x288 with 100 Axes>"
            ]
          },
          "metadata": {
            "tags": [],
            "needs_background": "light"
          }
        }
      ]
    },
    {
      "cell_type": "code",
      "metadata": {
        "id": "GWbjzvhXACSM",
        "colab_type": "code",
        "colab": {}
      },
      "source": [
        ""
      ],
      "execution_count": null,
      "outputs": []
    }
  ]
}