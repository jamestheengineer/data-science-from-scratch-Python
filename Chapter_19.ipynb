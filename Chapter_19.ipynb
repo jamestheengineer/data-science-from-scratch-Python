{
  "nbformat": 4,
  "nbformat_minor": 0,
  "metadata": {
    "colab": {
      "name": "Chapter_19.ipynb",
      "provenance": [],
      "authorship_tag": "ABX9TyNAvwZOROhDFrgpdxLVG9vf",
      "include_colab_link": true
    },
    "kernelspec": {
      "name": "python3",
      "display_name": "Python 3"
    }
  },
  "cells": [
    {
      "cell_type": "markdown",
      "metadata": {
        "id": "view-in-github",
        "colab_type": "text"
      },
      "source": [
        "<a href=\"https://colab.research.google.com/github/jamestheengineer/data-science-from-scratch-Python/blob/master/Chapter_19.ipynb\" target=\"_parent\"><img src=\"https://colab.research.google.com/assets/colab-badge.svg\" alt=\"Open In Colab\"/></a>"
      ]
    },
    {
      "cell_type": "code",
      "metadata": {
        "id": "0a7a8s3fAKso",
        "colab_type": "code",
        "colab": {
          "base_uri": "https://localhost:8080/",
          "height": 326
        },
        "outputId": "4e06a66c-fbde-49dc-9520-83809e1abb25"
      },
      "source": [
        "# Only do this once per VM, otherwise you'll get multiple clones and nested directories\n",
        "!git clone https://github.com/jamestheengineer/data-science-from-scratch-Python.git\n",
        "%cd data-science-from-scratch-Python/\n",
        "!pip install import-ipynb\n",
        "import import_ipynb"
      ],
      "execution_count": 1,
      "outputs": [
        {
          "output_type": "stream",
          "text": [
            "Cloning into 'data-science-from-scratch-Python'...\n",
            "remote: Enumerating objects: 42, done.\u001b[K\n",
            "remote: Counting objects: 100% (42/42), done.\u001b[K\n",
            "remote: Compressing objects: 100% (42/42), done.\u001b[K\n",
            "remote: Total 429 (delta 25), reused 0 (delta 0), pack-reused 387\u001b[K\n",
            "Receiving objects: 100% (429/429), 1.07 MiB | 1.21 MiB/s, done.\n",
            "Resolving deltas: 100% (265/265), done.\n",
            "/content/data-science-from-scratch-Python\n",
            "Collecting import-ipynb\n",
            "  Downloading https://files.pythonhosted.org/packages/63/35/495e0021bfdcc924c7cdec4e9fbb87c88dd03b9b9b22419444dc370c8a45/import-ipynb-0.1.3.tar.gz\n",
            "Building wheels for collected packages: import-ipynb\n",
            "  Building wheel for import-ipynb (setup.py) ... \u001b[?25l\u001b[?25hdone\n",
            "  Created wheel for import-ipynb: filename=import_ipynb-0.1.3-cp36-none-any.whl size=2976 sha256=9aef5b1a14c7b4f0a05214e9293aa1989bcaca6acc1a8ffb50e08c262fa6c0b5\n",
            "  Stored in directory: /root/.cache/pip/wheels/b4/7b/e9/a3a6e496115dffdb4e3085d0ae39ffe8a814eacc44bbf494b5\n",
            "Successfully built import-ipynb\n",
            "Installing collected packages: import-ipynb\n",
            "Successfully installed import-ipynb-0.1.3\n"
          ],
          "name": "stdout"
        }
      ]
    },
    {
      "cell_type": "code",
      "metadata": {
        "id": "Bll3cxBdIujf",
        "colab_type": "code",
        "colab": {}
      },
      "source": [
        "# Deep learning chapter\n",
        "\n",
        "Tensor = list\n",
        "\n",
        "from typing import List\n",
        "\n",
        "def shape(tensor: Tensor) -> List[int]:\n",
        "  sizes: List[int] = []\n",
        "  while isinstance(tensor, list):\n",
        "    sizes.append(len(tensor))\n",
        "    tensor = tensor[0]\n",
        "  return sizes\n",
        "\n",
        "assert shape([1, 2, 3]) == [3]\n",
        "assert shape([[1, 2], [3, 4], [5, 6]]) == [3, 2]\n"
      ],
      "execution_count": 2,
      "outputs": []
    },
    {
      "cell_type": "code",
      "metadata": {
        "id": "2In7rs_dJwae",
        "colab_type": "code",
        "colab": {}
      },
      "source": [
        "def is_1d(tensor: Tensor) -> bool:\n",
        "  \"\"\"\n",
        "  If tensor[0] is a list, it's a higher-order tensor.\n",
        "  Otherwise, tensor is 1-dimensional (that is, a vector)\n",
        "  \"\"\"\n",
        "  return not isinstance(tensor[0], list)\n",
        "\n",
        "assert is_1d([1,2,3])\n",
        "assert not is_1d([[1,2],[3,4]])"
      ],
      "execution_count": 3,
      "outputs": []
    },
    {
      "cell_type": "code",
      "metadata": {
        "id": "NiAIHUcUu8ep",
        "colab_type": "code",
        "colab": {}
      },
      "source": [
        "def tensor_sum(tensor: Tensor) -> float:\n",
        "  \"\"\"Sums up all the values in the tensor\"\"\"\n",
        "  if is_1d(tensor):\n",
        "    return sum(tensor) # just a list of floats, use Python sum\n",
        "  else:\n",
        "    return sum(tensor_sum(tensor_i) # Call tensor_sum on each row\n",
        "               for tensor_i in tensor) # and sum up those results\n",
        "\n",
        "assert tensor_sum([1,2,3]) == 6\n",
        "assert tensor_sum([[1,2],[3,4]]) == 10"
      ],
      "execution_count": 4,
      "outputs": []
    },
    {
      "cell_type": "code",
      "metadata": {
        "id": "mF97Cb4SvYXi",
        "colab_type": "code",
        "colab": {}
      },
      "source": [
        "from typing import Callable\n",
        "\n",
        "def tensor_apply(f: Callable[[float], float], tensor: Tensor) -> Tensor:\n",
        "  \"\"\"Applies f elementwise\"\"\"\n",
        "  if is_1d(tensor):\n",
        "    return [f(x) for x in tensor]\n",
        "  else:\n",
        "    return [tensor_apply(f, tensor_i) for tensor_i in tensor]\n",
        "\n",
        "assert tensor_apply(lambda x: x+1, [1, 2, 3]) == [2,3,4]\n",
        "assert tensor_apply(lambda x: 2 * x, [[1,2],[3,4]]) == [[2,4],[6,8]]"
      ],
      "execution_count": 5,
      "outputs": []
    },
    {
      "cell_type": "code",
      "metadata": {
        "id": "IFSLmJ4JwifU",
        "colab_type": "code",
        "colab": {}
      },
      "source": [
        "def zeros_like(tensor: Tensor) -> Tensor:\n",
        "  return tensor_apply(lambda _: 0.0, tensor)\n",
        "\n",
        "assert zeros_like([1,2,3]) == [0,0,0]\n",
        "assert zeros_like([[1,2],[3,4]]) == [[0,0],[0,0]]"
      ],
      "execution_count": 6,
      "outputs": []
    },
    {
      "cell_type": "code",
      "metadata": {
        "id": "fvN1x2Gow_5v",
        "colab_type": "code",
        "colab": {}
      },
      "source": [
        "def tensor_combine(f: Callable[[float, float], float],\n",
        "                   t1: Tensor,\n",
        "                   t2: Tensor) -> Tensor:\n",
        "    \"\"\"Applies f to corresponding elements of t1 and t2\"\"\"\n",
        "    if is_1d(t1):\n",
        "      return [f(x,y) for x, y in zip(t1,t2)]\n",
        "    else:\n",
        "      return [tensor_combine(f, t1_i, t2_i)\n",
        "              for t1_i, t2_i in zip(t1, t2)]\n",
        "\n",
        "import operator\n",
        "\n",
        "assert tensor_combine(operator.add, [1,2,3],[4,5,6]) == [5,7,9]\n",
        "assert tensor_combine(operator.mul, [1,2,3], [4,5,6]) == [4,10,18]"
      ],
      "execution_count": 7,
      "outputs": []
    },
    {
      "cell_type": "code",
      "metadata": {
        "id": "2sH1ExZIyHFP",
        "colab_type": "code",
        "colab": {}
      },
      "source": [
        "from typing import Iterable, Tuple\n",
        "\n",
        "class Layer:\n",
        "  \"\"\"\n",
        "  Our neural networks will be composed of layers, each of which\n",
        "  knows how to do some computation on its inputs in the \"forward\"\n",
        "  direction and propagate gradients in the \"backward\" direction.\n",
        "  \"\"\"\n",
        "  def backward(self, gradient):\n",
        "    \"\"\"\n",
        "    Similarly, we're not going to be prescriptive about what the\n",
        "    gradient looks like. It's up to you the user to make sure \n",
        "    that you're doing things sensibly.\n",
        "    \"\"\"\n",
        "    raise NotImplementedError\n",
        "  \n",
        "  def params(self) -> Iterable[Tensor]:\n",
        "    \"\"\"\n",
        "    Returns the parameters of this layer. The default implementation \n",
        "    returns nothing, so that if you have a layer with no parameters\n",
        "    you don't have to implement this.\n",
        "    \"\"\"\n",
        "    return ()\n",
        "\n",
        "  def grads(self) -> Iterable[Tensor]:\n",
        "    \"\"\"\n",
        "    Returns the gradients, in the smae order as params().\n",
        "    \"\"\"\n",
        "    return ()"
      ],
      "execution_count": 8,
      "outputs": []
    },
    {
      "cell_type": "code",
      "metadata": {
        "id": "z3Uh-B4REbEM",
        "colab_type": "code",
        "colab": {
          "base_uri": "https://localhost:8080/",
          "height": 1000
        },
        "outputId": "314ac465-8f73-44ad-ad88-95bdbbcb3d26"
      },
      "source": [
        "from Chapter_18 import sigmoid\n",
        "\n",
        "class Sigmoid(Layer):\n",
        "  def forward(self, input: Tensor) -> Tensor:\n",
        "    \"\"\"\n",
        "    Apply sigmoid to each element of the input tensor,\n",
        "    and save the results to use in backpropagation.\n",
        "    \"\"\"\n",
        "    self.sigmoids = tensor_apply(sigmoid, input)\n",
        "    return self.sigmoids\n",
        "\n",
        "  def backward(self, gradient: Tensor) -> Tensor:\n",
        "    return tensor_combine(lambda sig, grad: sig * (1 - sig) * grad,\n",
        "                          self.sigmoids,\n",
        "                          gradient)"
      ],
      "execution_count": 9,
      "outputs": [
        {
          "output_type": "stream",
          "text": [
            "importing Jupyter notebook from Chapter_18.ipynb\n",
            "importing Jupyter notebook from Chapter_04.ipynb\n",
            "1 1 1\n",
            "1 / 100\n",
            "2 2 2\n",
            "2 / 100\n",
            "3 3 fizz\n",
            "2 / 100\n",
            "4 fizzbuzz 4\n",
            "2 / 100\n",
            "5 5 buzz\n",
            "2 / 100\n",
            "6 fizzbuzz fizz\n",
            "2 / 100\n",
            "7 7 7\n",
            "3 / 100\n",
            "8 buzz 8\n",
            "3 / 100\n",
            "9 buzz fizz\n",
            "3 / 100\n",
            "10 10 buzz\n",
            "3 / 100\n",
            "11 buzz 11\n",
            "3 / 100\n",
            "12 fizzbuzz fizz\n",
            "3 / 100\n",
            "13 13 13\n",
            "4 / 100\n",
            "14 14 14\n",
            "5 / 100\n",
            "15 15 fizzbuzz\n",
            "5 / 100\n",
            "16 16 16\n",
            "6 / 100\n",
            "17 17 17\n",
            "7 / 100\n",
            "18 18 fizz\n",
            "7 / 100\n",
            "19 19 19\n",
            "8 / 100\n",
            "20 20 buzz\n",
            "8 / 100\n",
            "21 21 fizz\n",
            "8 / 100\n",
            "22 22 22\n",
            "9 / 100\n",
            "23 23 23\n",
            "10 / 100\n",
            "24 24 fizz\n",
            "10 / 100\n",
            "25 25 buzz\n",
            "10 / 100\n",
            "26 26 26\n",
            "11 / 100\n",
            "27 27 fizz\n",
            "11 / 100\n",
            "28 28 28\n",
            "12 / 100\n",
            "29 29 29\n",
            "13 / 100\n",
            "30 30 fizzbuzz\n",
            "13 / 100\n",
            "31 31 31\n",
            "14 / 100\n",
            "32 32 32\n",
            "15 / 100\n",
            "33 33 fizz\n",
            "15 / 100\n",
            "34 34 34\n",
            "16 / 100\n",
            "35 35 buzz\n",
            "16 / 100\n",
            "36 36 fizz\n",
            "16 / 100\n",
            "37 37 37\n",
            "17 / 100\n",
            "38 38 38\n",
            "18 / 100\n",
            "39 39 fizz\n",
            "18 / 100\n",
            "40 40 buzz\n",
            "18 / 100\n",
            "41 41 41\n",
            "19 / 100\n",
            "42 42 fizz\n",
            "19 / 100\n",
            "43 43 43\n",
            "20 / 100\n",
            "44 44 44\n",
            "21 / 100\n",
            "45 45 fizzbuzz\n",
            "21 / 100\n",
            "46 46 46\n",
            "22 / 100\n",
            "47 47 47\n",
            "23 / 100\n",
            "48 48 fizz\n",
            "23 / 100\n",
            "49 49 49\n",
            "24 / 100\n",
            "50 50 buzz\n",
            "24 / 100\n",
            "51 51 fizz\n",
            "24 / 100\n",
            "52 52 52\n",
            "25 / 100\n",
            "53 53 53\n",
            "26 / 100\n",
            "54 54 fizz\n",
            "26 / 100\n",
            "55 55 buzz\n",
            "26 / 100\n",
            "56 56 56\n",
            "27 / 100\n",
            "57 57 fizz\n",
            "27 / 100\n",
            "58 58 58\n",
            "28 / 100\n",
            "59 59 59\n",
            "29 / 100\n",
            "60 60 fizzbuzz\n",
            "29 / 100\n",
            "61 61 61\n",
            "30 / 100\n",
            "62 62 62\n",
            "31 / 100\n",
            "63 63 fizz\n",
            "31 / 100\n",
            "64 64 64\n",
            "32 / 100\n",
            "65 65 buzz\n",
            "32 / 100\n",
            "66 66 fizz\n",
            "32 / 100\n",
            "67 67 67\n",
            "33 / 100\n",
            "68 68 68\n",
            "34 / 100\n",
            "69 69 fizz\n",
            "34 / 100\n",
            "70 70 buzz\n",
            "34 / 100\n",
            "71 71 71\n",
            "35 / 100\n",
            "72 72 fizz\n",
            "35 / 100\n",
            "73 73 73\n",
            "36 / 100\n",
            "74 74 74\n",
            "37 / 100\n",
            "75 75 fizzbuzz\n",
            "37 / 100\n",
            "76 76 76\n",
            "38 / 100\n",
            "77 77 77\n",
            "39 / 100\n",
            "78 78 fizz\n",
            "39 / 100\n",
            "79 79 79\n",
            "40 / 100\n",
            "80 80 buzz\n",
            "40 / 100\n",
            "81 81 fizz\n",
            "40 / 100\n",
            "82 82 82\n",
            "41 / 100\n",
            "83 83 83\n",
            "42 / 100\n",
            "84 84 fizz\n",
            "42 / 100\n",
            "85 85 buzz\n",
            "42 / 100\n",
            "86 86 86\n",
            "43 / 100\n",
            "87 87 fizz\n",
            "43 / 100\n",
            "88 88 88\n",
            "44 / 100\n",
            "89 89 89\n",
            "45 / 100\n",
            "90 90 fizzbuzz\n",
            "45 / 100\n",
            "91 91 91\n",
            "46 / 100\n",
            "92 92 92\n",
            "47 / 100\n",
            "93 93 fizz\n",
            "47 / 100\n",
            "94 94 94\n",
            "48 / 100\n",
            "95 95 buzz\n",
            "48 / 100\n",
            "96 96 fizz\n",
            "48 / 100\n",
            "97 97 97\n",
            "49 / 100\n",
            "98 98 98\n",
            "50 / 100\n",
            "99 99 fizz\n",
            "50 / 100\n",
            "100 100 buzz\n",
            "50 / 100\n"
          ],
          "name": "stdout"
        }
      ]
    },
    {
      "cell_type": "code",
      "metadata": {
        "id": "aywa2pqdAwUP",
        "colab_type": "code",
        "colab": {
          "base_uri": "https://localhost:8080/",
          "height": 860
        },
        "outputId": "2fa0b457-2dca-48f4-ee9b-8bb6feab4f59"
      },
      "source": [
        "# Functions to randomly generate our weight tensors\n",
        "import random\n",
        "\n",
        "from Chapter_06 import inverse_normal_cdf\n",
        "\n",
        "def random_uniform(*dims: int) -> Tensor:\n",
        "  if len(dims) == 1:\n",
        "    return [random.random() for _ in range(dims[0])]\n",
        "  else:\n",
        "    return [random_uniform(*dims[1:]) for _ in range(dims[0])]\n",
        "\n",
        "def random_normal(*dims: int,\n",
        "                  mean: float = 1.0,\n",
        "                  variance: float = 1.0) -> Tensor:\n",
        "  if len(dims) == 1:\n",
        "    return [mean + variance * inverse_normal_cdf(random.random())\n",
        "            for _ in range(dims[0])]\n",
        "  else:\n",
        "    return [random_normal(*dims[1:], mean=mean, variance=variance)\n",
        "            for _ in range(dims[0])]\n",
        "\n",
        "assert shape(random_uniform(2,3,4)) == [2,3,4]\n",
        "assert shape(random_normal(5,6,mean=10)) == [5,6]"
      ],
      "execution_count": 10,
      "outputs": [
        {
          "output_type": "stream",
          "text": [
            "importing Jupyter notebook from Chapter_06.ipynb\n",
            "P(both | older): 0.5007089325501317\n",
            "P(both | either): 0.3311897106109325\n"
          ],
          "name": "stdout"
        },
        {
          "output_type": "display_data",
          "data": {
            "image/png": "[encoded data removed]",
            "text/plain": [
              "<Figure size 432x288 with 1 Axes>"
            ]
          },
          "metadata": {
            "tags": [],
            "needs_background": "light"
          }
        },
        {
          "output_type": "display_data",
          "data": {
            "image/png": "[encoded data removed]",
            "text/plain": [
              "<Figure size 432x288 with 1 Axes>"
            ]
          },
          "metadata": {
            "tags": [],
            "needs_background": "light"
          }
        },
        {
          "output_type": "display_data",
          "data": {
            "image/png": "[encoded data removed]",
            "text/plain": [
              "<Figure size 432x288 with 1 Axes>"
            ]
          },
          "metadata": {
            "tags": [],
            "needs_background": "light"
          }
        }
      ]
    },
    {
      "cell_type": "code",
      "metadata": {
        "id": "irGD2UmzWmW3",
        "colab_type": "code",
        "colab": {}
      },
      "source": [
        "# Wrap them all in a random_tensor function\n",
        "\n",
        "def random_tensor(*dims: int, init: str = 'normal') -> Tensor:\n",
        "  if init == 'normal':\n",
        "    return random_normal(*dims)\n",
        "  elif init == 'uniform':\n",
        "    return random_uniform(*dims)\n",
        "  elif init == 'xavier':\n",
        "    variance = len(dims) / sum(dims)\n",
        "    return random_normal(*dims, variance=variance)\n",
        "  else:\n",
        "    raise ValueError(f\"unknown init: {init}\")"
      ],
      "execution_count": 11,
      "outputs": []
    },
    {
      "cell_type": "code",
      "metadata": {
        "id": "SxHZdBlSXq1U",
        "colab_type": "code",
        "colab": {}
      },
      "source": [
        "# Define the linear layer\n",
        "from Chapter_04 import dot\n",
        "\n",
        "class Linear(Layer):\n",
        "  def __init__(self,\n",
        "               input_dim: int,\n",
        "               output_dim: int,\n",
        "               init: str = 'xavier') -> None:\n",
        "    \"\"\"\n",
        "    A layer of output_dim neurons, each with input_dim weights\n",
        "    (and a bias)\n",
        "    \"\"\"\n",
        "    self.input_dim = input_dim\n",
        "    self.output_dim = output_dim\n",
        "\n",
        "    # self.w[o] is the weights for the oth neuron\n",
        "    self.w = random_tensor(output_dim, input_dim, init=init)\n",
        "\n",
        "    # self.b[o] is the bias term for the oth neuron\n",
        "    self.b = random_tensor(output_dim, init=init)\n",
        "\n",
        "  def forward(self, input: Tensor) -> Tensor:\n",
        "    # Save the input to use in the backward pass.\n",
        "    self.input = input\n",
        "    # Return the vector of neuron outputs.\n",
        "    return [dot(input, self.w[o]) + self.b[o]\n",
        "            for o in range(self.output_dim)]\n",
        "  \n",
        "  def backward(self, gradient: Tensor) -> Tensor:\n",
        "    # Each b[o] gets added to output[o], which means\n",
        "    # the gradient of b is the same as the output gradient.\n",
        "    self.b_grad = gradient\n",
        "\n",
        "    # Each w[o][i] multiples input[i] and gets added to outpu[o].\n",
        "    # So its gradient is input[i] * gradient[o].\n",
        "    self.w_grad = [[self.input[i] * gradient[o]\n",
        "                    for i in range(self.input_dim)]\n",
        "                   for o in range(self.output_dim)]\n",
        "    \n",
        "    # Each input[i] multiplies every w[o][i] and gets added to every\n",
        "    # output[o]. So its gradien is the sum of w[o][i] * gradient[o]\n",
        "    # across all the outputs.\n",
        "    return [sum(self.w[o][i] * gradient[o] for o in range(self.output_dim))\n",
        "            for i in range(self.input_dim)]\n",
        "\n",
        "  def params(self) -> Iterable[Tensor]:\n",
        "    return [self.w, self.b]\n",
        "\n",
        "  def grads(self) -> Iterable[Tensor]:\n",
        "    return [self.w_grad, self.b_grad]"
      ],
      "execution_count": 12,
      "outputs": []
    },
    {
      "cell_type": "code",
      "metadata": {
        "id": "meJVjeykOOrR",
        "colab_type": "code",
        "colab": {}
      },
      "source": [
        "from Chapter_18 import sigmoid\n",
        "\n",
        "class Sigmoid(Layer):\n",
        "  def forward(self, input: Tensor) -> Tensor:\n",
        "    \"\"\"\n",
        "    Apply sigmoid to each element of the input tensor,\n",
        "    and save the results to use in backpropagation.\n",
        "    \"\"\"\n",
        "    self.sigmoids = tensor_apply(sigmoid, input)\n",
        "    return self.sigmoids\n",
        "\n",
        "  def backward(self, gradient: Tensor) -> Tensor:\n",
        "    return tensor_combine(lambda sig, grad: sig * (1 - sig) * grad,\n",
        "                          self.sigmoids,\n",
        "                          gradient)"
      ],
      "execution_count": 13,
      "outputs": []
    },
    {
      "cell_type": "code",
      "metadata": {
        "id": "YJF7Z1enxQzp",
        "colab_type": "code",
        "colab": {}
      },
      "source": [
        ""
      ],
      "execution_count": null,
      "outputs": []
    }
  ]
}