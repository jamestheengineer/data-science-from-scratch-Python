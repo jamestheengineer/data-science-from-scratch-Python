{
  "nbformat": 4,
  "nbformat_minor": 0,
  "metadata": {
    "colab": {
      "name": "Chapter_7.ipynb",
      "provenance": [],
      "authorship_tag": "ABX9TyODp1lhwoX+Q4+tCa2B4fXO",
      "include_colab_link": true
    },
    "kernelspec": {
      "name": "python3",
      "display_name": "Python 3"
    }
  },
  "cells": [
    {
      "cell_type": "markdown",
      "metadata": {
        "id": "view-in-github",
        "colab_type": "text"
      },
      "source": [
        "<a href=\"https://colab.research.google.com/github/jamestheengineer/data-science-from-scratch-Python/blob/master/Chapter_7.ipynb\" target=\"_parent\"><img src=\"https://colab.research.google.com/assets/colab-badge.svg\" alt=\"Open In Colab\"/></a>"
      ]
    },
    {
      "cell_type": "code",
      "metadata": {
        "id": "5OjWlXRfRrqi",
        "colab_type": "code",
        "colab": {}
      },
      "source": [
        "# Null hypothesis, H0, represents some default position, and some alternative hypothesis, H1. We use statistics\n",
        "# to decide whether we can reject h0 as false or not.\n",
        "\n",
        "# Let's test to see if a coin is fair\n",
        "from typing import Tuple\n",
        "import math\n",
        "\n",
        "def normal_approximation_to_binomial(n: int, p: float) -> Tuple[float, float]:\n",
        "  \"\"\"Returns mu and sigma corresponding to a Binomial(n, p)\"\"\"\n",
        "  mu = p * n\n",
        "  sigma = math.sqrt(p * (1 - p) * n)\n",
        "  return mu, sigma\n",
        "\n",
        "# Let's do some colab magic to get the other notebooks accessible in here\n",
        "!git clone https://github.com/jamestheengineer/data-science-from-scratch-Python.git\n",
        "%cd data-science-from-scratch-Python/\n",
        "!pip install import-ipynb\n",
        "import import_ipynb\n",
        "from Chapter_6 import normal_cdf\n",
        "\n",
        "# The normal cdf _is_ the probability the variable is below a threshold\n",
        "normal_probability_below = normal_cdf\n",
        "\n",
        "# It's above the threshold if it's not below the threshold\n",
        "def normal_probability_above(lo: float,\n",
        "                             mu: float = 0,\n",
        "                             sigma: float = 1) -> float:\n",
        "    \"\"\"The probability that an N(mu, sigma) is greater than lo.\"\"\"\n",
        "    return 1 - normal_cdf(lo, mu, sigma)\n",
        "\n",
        "# It's between if it's less tha hi, but not less than lo\n",
        "def normal_probability_between(lo: float,\n",
        "                               hi: float,\n",
        "                               mu: float = 0,\n",
        "                               sigman: float = 1) -> float:\n",
        "    \"\"\"The probability that an N(mu, sigma) is between lo and hi.\"\"\"\n",
        "    return normal_cdf(hi, mu, sigma) - normal_cdf(lo, mu, sigma)\n",
        "\n",
        "# It's outside if it's not between\n",
        "def normal_probability_outside(lo: float,\n",
        "                               hi: float,\n",
        "                               mu: float = 0,\n",
        "                               sigma: float = 1) -> float:\n",
        "    \"\"\"The probability that an N(mu,sigma) is not between lo and hi.\"\"\"\n",
        "    return 1 - normal_probability_between(lo, hi, mu, sigma)"
      ],
      "execution_count": 0,
      "outputs": []
    },
    {
      "cell_type": "code",
      "metadata": {
        "id": "txkhS0OJgFc7",
        "colab_type": "code",
        "colab": {}
      },
      "source": [
        "from Chapter_6 import inverse_normal_cdf\n",
        "\n",
        "def normal_upper_bound(probability: float,\n",
        "                       mu: float = 0,\n",
        "                       sigma: float = 1) -> float:\n",
        "    \"\"\"Returns the z for which P(Z <= z) = probability\"\"\"\n",
        "    return inverse_normal_cdf(probability, mu, sigma)\n",
        "\n",
        "def normal_lower_bound(probability: float,\n",
        "                       mu: float = 0,\n",
        "                       sigma: float = 1) -> float:\n",
        "    \"\"\"Returns the z for which P(Z >= z) = probability\"\"\"\n",
        "    return inverse_normal_cdf(1 - probability, mu, sigma)\n",
        "\n",
        "def normal_two_sided_bounds(probability: float,\n",
        "                            mu: float = 0,\n",
        "                            sigma: float = 1) -> float:\n",
        "    \"\"\"\n",
        "    Returns the symmetric (about the mean) bounds\n",
        "    that contain the specified probability\n",
        "    \"\"\"\n",
        "    tail_probability = (1 - probability) / 2\n",
        "\n",
        "    # upper bound should have tail_probability above it\n",
        "    upper_bound = normal_lower_bound(tail_probability, mu, sigma)\n",
        "\n",
        "    # lower bound should have tail_probability below it\n",
        "    lower_bound = normal_upper_bound(tail_probability, mu, sigma)\n",
        "\n",
        "    return lower_bound, upper_bound\n"
      ],
      "execution_count": 0,
      "outputs": []
    },
    {
      "cell_type": "code",
      "metadata": {
        "id": "rbz_mB5IhjDF",
        "colab_type": "code",
        "colab": {}
      },
      "source": [
        "mu_0, sigma_0 = normal_approximation_to_binomial(1000, 0.5)\n",
        "print(mu_0, sigma_0)"
      ],
      "execution_count": 0,
      "outputs": []
    },
    {
      "cell_type": "code",
      "metadata": {
        "id": "-2RfXB-qhqjx",
        "colab_type": "code",
        "colab": {}
      },
      "source": [
        "# (469, 531)\n",
        "lower_bound, upper_bound = normal_two_sided_bounds(0.95, mu_0, sigma_0)\n",
        "print(lower_bound, upper_bound)"
      ],
      "execution_count": 0,
      "outputs": []
    },
    {
      "cell_type": "code",
      "metadata": {
        "id": "UQr5PLr5iS7x",
        "colab_type": "code",
        "colab": {}
      },
      "source": [
        ""
      ],
      "execution_count": 0,
      "outputs": []
    }
  ]
}