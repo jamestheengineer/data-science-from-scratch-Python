{
  "nbformat": 4,
  "nbformat_minor": 0,
  "metadata": {
    "colab": {
      "name": "Chapter_7.ipynb",
      "provenance": [],
      "authorship_tag": "ABX9TyPwRIJ1ZZtDvOc5FaCnhSAZ",
      "include_colab_link": true
    },
    "kernelspec": {
      "name": "python3",
      "display_name": "Python 3"
    }
  },
  "cells": [
    {
      "cell_type": "markdown",
      "metadata": {
        "id": "view-in-github",
        "colab_type": "text"
      },
      "source": [
        "<a href=\"https://colab.research.google.com/github/jamestheengineer/data-science-from-scratch-Python/blob/master/Chapter_7.ipynb\" target=\"_parent\"><img src=\"https://colab.research.google.com/assets/colab-badge.svg\" alt=\"Open In Colab\"/></a>"
      ]
    },
    {
      "cell_type": "code",
      "metadata": {
        "id": "5OjWlXRfRrqi",
        "colab_type": "code",
        "colab": {}
      },
      "source": [
        "# Null hypothesis, H0, represents some default position, and some alternative hypothesis, H1. We use statistics\n",
        "# to decide whether we can reject h0 as false or not.\n",
        "\n",
        "# Let's test to see if a coin is fair\n",
        "from typing import Tuple\n",
        "import math\n",
        "\n",
        "def normal_approximation_to_binomial(n: int, p: float) -> Tuple[float, float]:\n",
        "  \"\"\"Returns mu and sigma corresponding to a Binomial(n, p)\"\"\"\n",
        "  mu = p * n\n",
        "  signma = math.sqrt(p * (1 - p) * n)\n",
        "  return mu, sigma\n",
        "\n",
        "# Let's do some colab magic to get the other notebooks accessible in here\n",
        "!git clone https://github.com/jamestheengineer/data-science-from-scratch-Python.git\n",
        "%cd data-science-from-scratch-Python/\n",
        "!pip install import-ipynb\n",
        "import import_ipynb\n",
        "from Chapter_6 import normal_cdf\n",
        "\n",
        "# The normal cdf _is_ the probability the variable is below a threshold\n",
        "normal_probability_below = normal_cdf\n",
        "\n",
        "# It's above the threshold if it's not below the threshold\n",
        "def normal_probability_above(lo: float,\n",
        "                             mu: float = 0,\n",
        "                             sigma: float = 1) -> float:\n",
        "    \"\"\"The probability that an N(mu, sigma) is greater than lo.\"\"\"\n",
        "    return 1 - normal_cdf(lo, mu, sigma)"
      ],
      "execution_count": 0,
      "outputs": []
    },
    {
      "cell_type": "code",
      "metadata": {
        "id": "KJQOof25UDpZ",
        "colab_type": "code",
        "colab": {}
      },
      "source": [
        ""
      ],
      "execution_count": 0,
      "outputs": []
    }
  ]
}