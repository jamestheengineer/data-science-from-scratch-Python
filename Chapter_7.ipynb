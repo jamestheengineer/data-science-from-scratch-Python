{
  "nbformat": 4,
  "nbformat_minor": 0,
  "metadata": {
    "colab": {
      "name": "Chapter_7.ipynb",
      "provenance": [],
      "authorship_tag": "ABX9TyPJr54UDvTvkcpjlKDhfVgK",
      "include_colab_link": true
    },
    "kernelspec": {
      "name": "python3",
      "display_name": "Python 3"
    }
  },
  "cells": [
    {
      "cell_type": "markdown",
      "metadata": {
        "id": "view-in-github",
        "colab_type": "text"
      },
      "source": [
        "<a href=\"https://colab.research.google.com/github/jamestheengineer/data-science-from-scratch-Python/blob/master/Chapter_7.ipynb\" target=\"_parent\"><img src=\"https://colab.research.google.com/assets/colab-badge.svg\" alt=\"Open In Colab\"/></a>"
      ]
    },
    {
      "cell_type": "code",
      "metadata": {
        "id": "1rUxYCwBnwOv",
        "colab_type": "code",
        "colab": {}
      },
      "source": [
        "# Only do this once per VM, otherwise you'll get multiple clones and nested directories\n",
        "# !git clone https://github.com/jamestheengineer/data-science-from-scratch-Python.git\n",
        "# %cd data-science-from-scratch-Python/\n",
        "# !pip install import-ipynb"
      ],
      "execution_count": 0,
      "outputs": []
    },
    {
      "cell_type": "code",
      "metadata": {
        "id": "5OjWlXRfRrqi",
        "colab_type": "code",
        "colab": {}
      },
      "source": [
        "# Null hypothesis, H0, represents some default position, and some alternative hypothesis, H1. We use statistics\n",
        "# to decide whether we can reject h0 as false or not.\n",
        "\n",
        "# Let's test to see if a coin is fair\n",
        "from typing import Tuple\n",
        "import math\n",
        "\n",
        "def normal_approximation_to_binomial(n: int, p: float) -> Tuple[float, float]:\n",
        "  \"\"\"Returns mu and sigma corresponding to a Binomial(n, p)\"\"\"\n",
        "  mu = p * n\n",
        "  sigma = math.sqrt(p * (1 - p) * n)\n",
        "  return mu, sigma\n",
        "\n",
        "import import_ipynb\n",
        "from Chapter_6 import normal_cdf\n",
        "\n",
        "# The normal cdf _is_ the probability the variable is below a threshold\n",
        "normal_probability_below = normal_cdf\n",
        "\n",
        "# It's above the threshold if it's not below the threshold\n",
        "def normal_probability_above(lo: float,\n",
        "                             mu: float = 0,\n",
        "                             sigma: float = 1) -> float:\n",
        "    \"\"\"The probability that an N(mu, sigma) is greater than lo.\"\"\"\n",
        "    return 1 - normal_cdf(lo, mu, sigma)\n",
        "\n",
        "# It's between if it's less tha hi, but not less than lo\n",
        "def normal_probability_between(lo: float,\n",
        "                               hi: float,\n",
        "                               mu: float = 0,\n",
        "                               sigma: float = 1) -> float:\n",
        "    \"\"\"The probability that an N(mu, sigma) is between lo and hi.\"\"\"\n",
        "    return normal_cdf(hi, mu, sigma) - normal_cdf(lo, mu, sigma)\n",
        "\n",
        "# It's outside if it's not between\n",
        "def normal_probability_outside(lo: float,\n",
        "                               hi: float,\n",
        "                               mu: float = 0,\n",
        "                               sigma: float = 1) -> float:\n",
        "    \"\"\"The probability that an N(mu,sigma) is not between lo and hi.\"\"\"\n",
        "    return 1 - normal_probability_between(lo, hi, mu, sigma)"
      ],
      "execution_count": 0,
      "outputs": []
    },
    {
      "cell_type": "code",
      "metadata": {
        "id": "txkhS0OJgFc7",
        "colab_type": "code",
        "colab": {}
      },
      "source": [
        "from Chapter_6 import inverse_normal_cdf\n",
        "\n",
        "def normal_upper_bound(probability: float,\n",
        "                       mu: float = 0,\n",
        "                       sigma: float = 1) -> float:\n",
        "    \"\"\"Returns the z for which P(Z <= z) = probability\"\"\"\n",
        "    return inverse_normal_cdf(probability, mu, sigma)\n",
        "\n",
        "def normal_lower_bound(probability: float,\n",
        "                       mu: float = 0,\n",
        "                       sigma: float = 1) -> float:\n",
        "    \"\"\"Returns the z for which P(Z >= z) = probability\"\"\"\n",
        "    return inverse_normal_cdf(1 - probability, mu, sigma)\n",
        "\n",
        "def normal_two_sided_bounds(probability: float,\n",
        "                            mu: float = 0,\n",
        "                            sigma: float = 1) -> float:\n",
        "    \"\"\"\n",
        "    Returns the symmetric (about the mean) bounds\n",
        "    that contain the specified probability\n",
        "    \"\"\"\n",
        "    tail_probability = (1 - probability) / 2\n",
        "\n",
        "    # upper bound should have tail_probability above it\n",
        "    upper_bound = normal_lower_bound(tail_probability, mu, sigma)\n",
        "\n",
        "    # lower bound should have tail_probability below it\n",
        "    lower_bound = normal_upper_bound(tail_probability, mu, sigma)\n",
        "\n",
        "    return lower_bound, upper_bound\n"
      ],
      "execution_count": 0,
      "outputs": []
    },
    {
      "cell_type": "code",
      "metadata": {
        "id": "rbz_mB5IhjDF",
        "colab_type": "code",
        "colab": {}
      },
      "source": [
        "mu_0, sigma_0 = normal_approximation_to_binomial(1000, 0.5)\n",
        "print(mu_0, sigma_0)"
      ],
      "execution_count": 0,
      "outputs": []
    },
    {
      "cell_type": "code",
      "metadata": {
        "id": "-2RfXB-qhqjx",
        "colab_type": "code",
        "colab": {}
      },
      "source": [
        "# (469, 531)\n",
        "lower_bound, upper_bound = normal_two_sided_bounds(0.95, mu_0, sigma_0)\n",
        "print(lower_bound, upper_bound)"
      ],
      "execution_count": 0,
      "outputs": []
    },
    {
      "cell_type": "code",
      "metadata": {
        "id": "UQr5PLr5iS7x",
        "colab_type": "code",
        "colab": {}
      },
      "source": [
        "# 95% bounds based on assumption p is 0.5\n",
        "lo, hi = normal_two_sided_bounds(0.95, mu_0, sigma_0)\n",
        "\n",
        "# Actual mu and sigma based on p = 0.55\n",
        "mu_1, sigma_1 = normal_approximation_to_binomial(1000, 0.55)\n",
        "\n",
        "# A type 2 error means we fail to reject the null hypothesis,\n",
        "# which will happen when X is still in our original internal\n",
        "type_2_probability = normal_probability_between(lo, hi, mu_1, sigma_1)\n",
        "power = 1 - type_2_probability # 0.887\n",
        "print(power)"
      ],
      "execution_count": 0,
      "outputs": []
    },
    {
      "cell_type": "code",
      "metadata": {
        "id": "EwW2peU-tKCT",
        "colab_type": "code",
        "colab": {}
      },
      "source": [
        "def two_sided_p_value(x: float, mu: float = 0, sigma: float = 1) -> float:\n",
        "  \"\"\"\n",
        "  How likely are we to see a value at least as extreme as s (in either\n",
        "  direction) if our values are from an N(mu, sigma)?\n",
        "  \"\"\"\n",
        "  if x >= mu:\n",
        "    # x is greater than the mean, so the tail is everything greater than x\n",
        "    return 2 * normal_probability_above(x, mu, sigma)\n",
        "  else:\n",
        "    # x is less than the mean, so the tail is everything less than x\n",
        "    return 2 * normal_probability_below(x, mu, sigma)\n",
        "  \n",
        "example = two_sided_p_value(529.5, mu_0, sigma_0) # 0.062\n",
        "print(example)"
      ],
      "execution_count": 0,
      "outputs": []
    },
    {
      "cell_type": "code",
      "metadata": {
        "id": "q-OdhCcm5eSK",
        "colab_type": "code",
        "colab": {}
      },
      "source": [
        "import random\n",
        "extreme_value_count = 0\n",
        "for _ in range(1000):\n",
        "  num_heads = sum(1 if random.random() < 0.5 else 0\n",
        "                  for _ in range(1000))\n",
        "  if num_heads >= 530 or num_heads <= 470:\n",
        "    extreme_value_count += 1\n",
        "  \n",
        "assert 59 < extreme_value_count < 65, f\"{extreme_value_count}\""
      ],
      "execution_count": 0,
      "outputs": []
    },
    {
      "cell_type": "code",
      "metadata": {
        "id": "LPr9Ma4e6Xjr",
        "colab_type": "code",
        "colab": {}
      },
      "source": [
        "two_sided_p_value(531.5, mu_0, sigma_0)"
      ],
      "execution_count": 0,
      "outputs": []
    },
    {
      "cell_type": "code",
      "metadata": {
        "id": "VoX4EkpP60--",
        "colab_type": "code",
        "colab": {}
      },
      "source": [
        "upper_p_value = normal_probability_above"
      ],
      "execution_count": 0,
      "outputs": []
    },
    {
      "cell_type": "code",
      "metadata": {
        "id": "rUXHyVDr65mS",
        "colab_type": "code",
        "colab": {}
      },
      "source": [
        "lower_p_value = normal_probability_below"
      ],
      "execution_count": 0,
      "outputs": []
    },
    {
      "cell_type": "code",
      "metadata": {
        "id": "Eh-34LgX69nh",
        "colab_type": "code",
        "colab": {}
      },
      "source": [
        "upper_p_value(524.5, mu_0, sigma_0)"
      ],
      "execution_count": 0,
      "outputs": []
    },
    {
      "cell_type": "code",
      "metadata": {
        "id": "cR432cRS7CuS",
        "colab_type": "code",
        "colab": {}
      },
      "source": [
        "upper_p_value(526.5, mu_0, sigma_0)"
      ],
      "execution_count": 0,
      "outputs": []
    },
    {
      "cell_type": "code",
      "metadata": {
        "id": "1ABDVhQn7IuJ",
        "colab_type": "code",
        "colab": {}
      },
      "source": [
        "# Confidence intervals\n",
        "p_hat = 525 / 1000\n",
        "mu = p_hat\n",
        "sigma = math.sqrt(p_hat * (1 - p_hat) / 1000) \n",
        "normal_two_sided_bounds(0.95, mu, sigma)"
      ],
      "execution_count": 0,
      "outputs": []
    },
    {
      "cell_type": "code",
      "metadata": {
        "id": "z6Vv6JFeSe0C",
        "colab_type": "code",
        "colab": {}
      },
      "source": [
        "# So we do not conclude that the coin is unfair, since 0.5 falls within our confidence interval\n",
        "# However, if we see 540 heads\n",
        "p_hat = 540 / 1000\n",
        "mu = p_hat\n",
        "sigma = math.sqrt(p_hat * (1 - p_hat) / 1000) \n",
        "normal_two_sided_bounds(0.95, mu, sigma)"
      ],
      "execution_count": 0,
      "outputs": []
    },
    {
      "cell_type": "code",
      "metadata": {
        "id": "CHQmFLTVSk1l",
        "colab_type": "code",
        "colab": {}
      },
      "source": [
        "# p-Hacking\n",
        "from typing import List\n",
        "\n",
        "def run_experiment() -> List[bool]:\n",
        "  \"\"\"Flips a fair coin 1000 times, True = haead, False = tails\"\"\"\n",
        "  return [random.random() < 0.5 for _ in range(1000)]\n",
        "\n",
        "def reject_fairness(experiment: List[bool]) -> bool:\n",
        "  \"\"\"Using the 5% significance levels\"\"\"\n",
        "  num_heads = len([flip for flip in experiment if flip])\n",
        "  return num_heads < 469 or num_heads > 531\n",
        "\n",
        "random.seed(0)\n",
        "experiments = [run_experiment() for _ in range(1000)]\n",
        "num_rejections = len([experiment\n",
        "                      for experiment in experiments\n",
        "                      if reject_fairness(experiment)])\n",
        "assert num_rejections == 46"
      ],
      "execution_count": 0,
      "outputs": []
    },
    {
      "cell_type": "code",
      "metadata": {
        "id": "5BHShwGhUHTw",
        "colab_type": "code",
        "colab": {}
      },
      "source": [
        "# Running A/B Tests\n",
        "def estimated_parameters(N: int, n: int) -> Tuple[float, float]:\n",
        "  p = n / N\n",
        "  sigma = math.sqrt(p * (1 - p) / N)\n",
        "  return p, sigma\n",
        "\n",
        "def a_b_test_statistic(N_A: int, n_A: int, N_B: int, n_B: int) -> float:\n",
        "  p_A, sigma_A = estimated_parameters(N_A, n_A)\n",
        "  p_B, sigma_B = estimated_parameters(N_B, n_B)\n",
        "  return (p_B - p_A) / math.sqrt(sigma_A ** 2 + sigma_B ** 2)"
      ],
      "execution_count": 0,
      "outputs": []
    },
    {
      "cell_type": "code",
      "metadata": {
        "id": "AZYPdiSFVmvt",
        "colab_type": "code",
        "colab": {}
      },
      "source": [
        "# No good indication A or B is more effective\n",
        "z = a_b_test_statistic(1000, 200, 1000, 180)\n",
        "p = two_sided_p_value(z)\n",
        "print(z, p)"
      ],
      "execution_count": 0,
      "outputs": []
    },
    {
      "cell_type": "code",
      "metadata": {
        "id": "AerbrvqLVrX-",
        "colab_type": "code",
        "colab": {}
      },
      "source": [
        "# \"A\" seems a bit better in this case\n",
        "z = a_b_test_statistic(1000, 200, 1000, 150)\n",
        "p = two_sided_p_value(z)\n",
        "print(z, p)"
      ],
      "execution_count": 0,
      "outputs": []
    },
    {
      "cell_type": "code",
      "metadata": {
        "id": "GlOQY7hkVw-1",
        "colab_type": "code",
        "colab": {}
      },
      "source": [
        "# Bayesian inference. Won't be doing much of this but you don't use tests, you use priors and posterior distributions\n",
        "def B(alpha: float, beta: float) -> float:\n",
        "  \"\"\"A normalizing constant sot hat the total probability is 1\"\"\"\n",
        "  return math.gamma(alpha) * math.gamma(beta) / math.gamma(alpha + beta)\n",
        "\n",
        "def beta_pdf(x: float, alpha: float, beta: float) -> float:\n",
        "  if x <= 0 or x >= 1:\n",
        "    return 0\n",
        "  return x ** (alpha - 1) * (1 - x) ** (beta - 1) / B(alpha, beta)"
      ],
      "execution_count": 0,
      "outputs": []
    },
    {
      "cell_type": "code",
      "metadata": {
        "id": "3P7q92p6Xe0i",
        "colab_type": "code",
        "colab": {}
      },
      "source": [
        ""
      ],
      "execution_count": 0,
      "outputs": []
    }
  ]
}