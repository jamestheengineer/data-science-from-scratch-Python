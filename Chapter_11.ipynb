{
  "nbformat": 4,
  "nbformat_minor": 0,
  "metadata": {
    "colab": {
      "name": "Chapter_11.ipynb",
      "provenance": [],
      "authorship_tag": "ABX9TyOOfdezVnbcAzbtmVGmo5U9",
      "include_colab_link": true
    },
    "kernelspec": {
      "name": "python3",
      "display_name": "Python 3"
    }
  },
  "cells": [
    {
      "cell_type": "markdown",
      "metadata": {
        "id": "view-in-github",
        "colab_type": "text"
      },
      "source": [
        "<a href=\"https://colab.research.google.com/github/jamestheengineer/data-science-from-scratch-Python/blob/master/Chapter_11.ipynb\" target=\"_parent\"><img src=\"https://colab.research.google.com/assets/colab-badge.svg\" alt=\"Open In Colab\"/></a>"
      ]
    },
    {
      "cell_type": "code",
      "metadata": {
        "id": "ukk5YktlbSDx",
        "colab_type": "code",
        "colab": {}
      },
      "source": [
        "# Machine Learning\n",
        "import random\n",
        "from typing import TypeVar, List, Tuple\n",
        "X = TypeVar('X') # generic type to represent a data point\n",
        "\n",
        "def split_data(data: List[X], prob: float) -> Tuple[List[X], List[X]]:\n",
        "  \"\"\"Split data into fractions [prob, 1 - prob]\"\"\"\n",
        "  data = data[:] # make a shallow copy\n",
        "  random.shuffle(data) # because shuffle modifies the list\n",
        "  cut = int(len(data) * prob) # use prob to find a cutoff\n",
        "  return data[:cut], data[cut:] # and split the shuffled list there\n",
        "\n",
        "data = [n for n in range(1000)]\n",
        "train, test = split_data(data, 0.75)\n",
        "\n",
        "# The proportions should be correct\n",
        "assert len(train) == 750\n",
        "assert len(test) == 250\n",
        "\n",
        "# And the original data should be preserved (in some order)\n",
        "assert sorted(train + test) == data"
      ],
      "execution_count": 0,
      "outputs": []
    },
    {
      "cell_type": "code",
      "metadata": {
        "id": "TmE0tB-Ucb8C",
        "colab_type": "code",
        "colab": {}
      },
      "source": [
        "Y = TypeVar('Y') # generic type to represent output variables\n",
        "\n",
        "def train_test_split(xs: List[X],\n",
        "                     ys: List[Y],\n",
        "                     test_pct: float) -> Tuple[List[X], List[X], List[Y], List[Y]]:\n",
        "  # Generate the indices and split them\n",
        "  idxs = [i for i in range(len(xs))]\n",
        "  train_idxs, test_idxs = split_data(idxs, 1 - test_pct)\n",
        "\n",
        "  return ([xs[i] for i in train_idxs], # x_train\n",
        "            [xs[i] for i in test_idxs], # x_test\n",
        "            [ys[i] for i in train_idxs], # y_train\n",
        "            [ys[i] for i in test_idxs]) # y_test\n",
        "\n",
        "xs = [x for x in range(1000)] # xs are 1...1000\n",
        "ys = [2 * x for x in xs] # each y_i is twice x_i\n",
        "x_train, x_test, y_train, y_test = train_test_split(xs, ys, 0.25)\n",
        "\n",
        "# Check that the proportions are correct\n",
        "assert len(x_train) == len(y_train) == 750\n",
        "assert len(x_test) == len(y_test) == 250\n",
        "\n",
        "# Check that the corresponding data points are paried correctly\n",
        "assert all(y == 2 * x for x, y in zip(x_train, y_train))\n",
        "assert all(y == 2 * x for x, y in zip(x_test, y_test))"
      ],
      "execution_count": 0,
      "outputs": []
    },
    {
      "cell_type": "code",
      "metadata": {
        "id": "Ztkn4dIF3cRC",
        "colab_type": "code",
        "colab": {}
      },
      "source": [
        "def accuracy(tp: int, fp: int, fn: int, tn: int) -> float:\n",
        "  correct = tp + tn\n",
        "  total = tp + fp + fn + tn\n",
        "  return correct / total\n",
        "\n",
        "assert accuracy(70, 4930, 13930, 981070) == 0.98114"
      ],
      "execution_count": 0,
      "outputs": []
    },
    {
      "cell_type": "code",
      "metadata": {
        "id": "lMoBxSq45KMy",
        "colab_type": "code",
        "colab": {}
      },
      "source": [
        "def precision(tp: int, fp: int, fn: int, tn: int) -> float:\n",
        "  return tp / (tp + fp)\n",
        "\n",
        "assert precision(70, 4930, 13930, 981070) == 0.014"
      ],
      "execution_count": 0,
      "outputs": []
    },
    {
      "cell_type": "code",
      "metadata": {
        "id": "yrPVB_xC5bSD",
        "colab_type": "code",
        "colab": {}
      },
      "source": [
        "def recall(tp: int, fp: int, fn: int, tn: int) -> float:\n",
        "  return tp / (tp + fn)\n",
        "\n",
        "assert recall(70, 4930, 13930, 981070) == 0.005"
      ],
      "execution_count": 0,
      "outputs": []
    },
    {
      "cell_type": "code",
      "metadata": {
        "id": "1CZIVt3T5kpr",
        "colab_type": "code",
        "colab": {}
      },
      "source": [
        "def f1_score(tp: int, fp: int, fn: int, tn: int) -> float:\n",
        "  p = precision(tp, fp, fn, tn)\n",
        "  r = recall(tp, fp, fn, tn)\n",
        "  return 2 * p * r / (p + r)"
      ],
      "execution_count": 0,
      "outputs": []
    }
  ]
}