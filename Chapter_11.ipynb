{
  "nbformat": 4,
  "nbformat_minor": 0,
  "metadata": {
    "colab": {
      "name": "Chapter_11.ipynb",
      "provenance": [],
      "authorship_tag": "ABX9TyNWSE4i/fD1fn6TVD2lFFzy",
      "include_colab_link": true
    },
    "kernelspec": {
      "name": "python3",
      "display_name": "Python 3"
    }
  },
  "cells": [
    {
      "cell_type": "markdown",
      "metadata": {
        "id": "view-in-github",
        "colab_type": "text"
      },
      "source": [
        "<a href=\"https://colab.research.google.com/github/jamestheengineer/data-science-from-scratch-Python/blob/master/Chapter_11.ipynb\" target=\"_parent\"><img src=\"https://colab.research.google.com/assets/colab-badge.svg\" alt=\"Open In Colab\"/></a>"
      ]
    },
    {
      "cell_type": "code",
      "metadata": {
        "id": "ukk5YktlbSDx",
        "colab_type": "code",
        "colab": {}
      },
      "source": [
        "# Machine Learning\n",
        "import random\n",
        "from typing import TypeVar, List, Tuple\n",
        "X = TypeVar('X') # generic type to represent a data point\n",
        "\n",
        "def split_data(data: List[X], prob: float) -> Tuple[List[X], List[X]]:\n",
        "  \"\"\"Split data into fractions [prob, 1 - prob]\"\"\"\n",
        "  data = data[:] # make a shallow copy\n",
        "  random.shuffle(data) # because shuffle modifies the list\n",
        "  cut = int(len(data) * prob) # use prob to find a cutoff\n",
        "  return data[:cut], data[cut:] # and split the shuffled list there\n",
        "\n",
        "data = [n for n in range(1000)]\n",
        "train, test = split_data(data, 0.75)\n",
        "\n",
        "# The proportions should be correct\n",
        "assert len(train) == 750\n",
        "assert len(test) == 250\n",
        "\n",
        "# And the original data should be preserved (in some order)\n",
        "assert sorted(train + test) == data"
      ],
      "execution_count": 0,
      "outputs": []
    },
    {
      "cell_type": "code",
      "metadata": {
        "id": "TmE0tB-Ucb8C",
        "colab_type": "code",
        "colab": {}
      },
      "source": [
        ""
      ],
      "execution_count": 0,
      "outputs": []
    }
  ]
}