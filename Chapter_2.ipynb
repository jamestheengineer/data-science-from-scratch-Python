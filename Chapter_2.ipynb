{
  "nbformat": 4,
  "nbformat_minor": 0,
  "metadata": {
    "colab": {
      "name": "Chapter_2.ipynb",
      "provenance": [],
      "authorship_tag": "ABX9TyPfz491f6QJwcVcqfu78QRP"
    },
    "kernelspec": {
      "name": "python3",
      "display_name": "Python 3"
    }
  },
  "cells": [
    {
      "cell_type": "markdown",
      "metadata": {
        "id": "YkTKuMaj9s4q",
        "colab_type": "text"
      },
      "source": [
        "Chapter 2: A Crash Course in Python\n"
      ]
    },
    {
      "cell_type": "code",
      "metadata": {
        "id": "FW-kXZqH9xE6",
        "colab_type": "code",
        "colab": {}
      },
      "source": [
        "# The pound sign marks the start of a comment. Python itself\n",
        "# ignores the comments, but they're helpful for anyone reading the code.\n",
        "for i in [1, 2, 3, 4, 5]:\n",
        "  for j in [1, 2, 3, 4, 5]:\n",
        "    print(j)\n",
        "    print(i + j)\n",
        "  print (i)\n",
        "print (\"done looping\")"
      ],
      "execution_count": 0,
      "outputs": []
    },
    {
      "cell_type": "code",
      "metadata": {
        "id": "WkCc6HYoAZ-X",
        "colab_type": "code",
        "colab": {}
      },
      "source": [
        "# Whitespace is ignored inside parenthesis\n",
        "long_winded_computation = (1 + 2 + 3 + 4 + 5 + 6 + 7 + 8 + 9 + 10 + 11 + 12 +\n",
        "                           13 + 14 + 15 + 16 + 17 + 18 + 19 + 20)"
      ],
      "execution_count": 0,
      "outputs": []
    },
    {
      "cell_type": "code",
      "metadata": {
        "id": "usyt44lNA_sy",
        "colab_type": "code",
        "colab": {}
      },
      "source": [
        "# Use it to make things easier to read\n",
        "list_of_lists = [[1, 2, 3], [4, 5, 6], [7, 8, 9]]\n",
        "easier_to_read_list_of_lists = [[1, 2, 3],\n",
        "                                [4, 5, 6],\n",
        "                                [7, 8, 9]]"
      ],
      "execution_count": 0,
      "outputs": []
    },
    {
      "cell_type": "code",
      "metadata": {
        "id": "gNagSzwpBW4T",
        "colab_type": "code",
        "colab": {}
      },
      "source": [
        "\n",
        "# You can use backslashes to also indicate a statement continues to the next line\n",
        "two_plus_three = 2 + \\\n",
        "                 3"
      ],
      "execution_count": 0,
      "outputs": []
    },
    {
      "cell_type": "code",
      "metadata": {
        "id": "--xMMykWBiUT",
        "colab_type": "code",
        "colab": {}
      },
      "source": [
        "# Whitespace formatting can cause issues copying and pasting\n",
        "for i in [1, 2, 3, 4, 5]:\n",
        "\n",
        "  # notice the blank line\n",
        "  print(i)"
      ],
      "execution_count": 0,
      "outputs": []
    },
    {
      "cell_type": "code",
      "metadata": {
        "id": "BA2UzQwrBxVE",
        "colab_type": "code",
        "colab": {}
      },
      "source": [
        "# Jupyter totally doesn't care"
      ],
      "execution_count": 0,
      "outputs": []
    },
    {
      "cell_type": "code",
      "metadata": {
        "id": "xkeHV4biB32L",
        "colab_type": "code",
        "colab": {}
      },
      "source": [
        "# Python uses import to get stuff from other modules\n",
        "import re\n",
        "my_regex = re.compile(\"[0-9]+\", re.I)"
      ],
      "execution_count": 0,
      "outputs": []
    },
    {
      "cell_type": "code",
      "metadata": {
        "id": "5x5q7_LQCKu7",
        "colab_type": "code",
        "colab": {}
      },
      "source": [
        "my_regex"
      ],
      "execution_count": 0,
      "outputs": []
    },
    {
      "cell_type": "code",
      "metadata": {
        "id": "TqxV2aIOCMJD",
        "colab_type": "code",
        "colab": {}
      },
      "source": [
        "# If you already have a different module of the same name in your module, you can alias\n",
        "import re as regex\n",
        "my_regex = regex.compile(\"[0-9]+\", regex.I)"
      ],
      "execution_count": 0,
      "outputs": []
    },
    {
      "cell_type": "code",
      "metadata": {
        "id": "Ndb7BgNUCgWk",
        "colab_type": "code",
        "colab": {}
      },
      "source": [
        "# Standard convention to import matplotlib is\n",
        "import matplotlib.pyplot as plt\n",
        "# plt.plot(...)"
      ],
      "execution_count": 0,
      "outputs": []
    },
    {
      "cell_type": "code",
      "metadata": {
        "id": "OUmsMqARCpoc",
        "colab_type": "code",
        "colab": {}
      },
      "source": [
        "# You can import specific capabilities and use them without qualification\n",
        "from collections import defaultdict, Counter\n",
        "lookup = defaultdict(int)\n",
        "my_counter = Counter()"
      ],
      "execution_count": 0,
      "outputs": []
    },
    {
      "cell_type": "code",
      "metadata": {
        "id": "y8g-ZlNHC_a1",
        "colab_type": "code",
        "colab": {}
      },
      "source": [
        "# Be careful about importing everything, which my overwrite stuff you already have\n",
        "match = 10\n",
        "from re import *\n",
        "print(match)"
      ],
      "execution_count": 0,
      "outputs": []
    },
    {
      "cell_type": "code",
      "metadata": {
        "id": "5jTcj8AbDLlU",
        "colab_type": "code",
        "colab": {}
      },
      "source": [
        "# Functions!\n",
        "def double(x):\n",
        "  \"\"\"\n",
        "  THis is where you put an optional docstring that explains what the function\n",
        "  does. For example, this function miltiplies its input by 2.\n",
        "  \"\"\"\n",
        "  return x * 2"
      ],
      "execution_count": 0,
      "outputs": []
    },
    {
      "cell_type": "code",
      "metadata": {
        "id": "xeZ_jqN5BypZ",
        "colab_type": "code",
        "colab": {}
      },
      "source": [
        "# Python's functions are first class, which means we can assign them to variables \n",
        "# and pass them to other functions\n",
        "def apply_to_one(f):\n",
        "  \"\"\"Calls the function f with 1 as its argument\"\"\"\n",
        "  return f(1)\n",
        "\n",
        "my_double = double\n",
        "x = apply_to_one(my_double)\n",
        "\n",
        "# Lambdas!\n",
        "y = apply_to_one(lambda x: x + 4)\n",
        "\n",
        "another_double = lambda x: 2 * x # don't do this\n",
        "def another_double(x):\n",
        "  \"\"\"Do this instead\"\"\"\n",
        "  return 2 * x"
      ],
      "execution_count": 0,
      "outputs": []
    },
    {
      "cell_type": "code",
      "metadata": {
        "id": "5uni7RW9CjTi",
        "colab_type": "code",
        "colab": {
          "base_uri": "https://localhost:8080/",
          "height": 51
        },
        "outputId": "cb538eb7-ec78-4154-b07a-5a754c1dd0b1"
      },
      "source": [
        "# Default args\n",
        "def my_print(message = \"my default message\"):\n",
        "  print(message)\n",
        "\n",
        "my_print(\"hello\")\n",
        "my_print()"
      ],
      "execution_count": 10,
      "outputs": [
        {
          "output_type": "stream",
          "text": [
            "hello\n",
            "my default message\n"
          ],
          "name": "stdout"
        }
      ]
    },
    {
      "cell_type": "code",
      "metadata": {
        "id": "dECgqy2mDDWT",
        "colab_type": "code",
        "colab": {
          "base_uri": "https://localhost:8080/",
          "height": 68
        },
        "outputId": "a0648027-361f-4c0e-8f24-a34324d2fea8"
      },
      "source": [
        "def full_name(first = \"What's-his-name\", last = \"Something\"):\n",
        "  return first + \" \" + last \n",
        "\n",
        "print(full_name(\"Joel\", \"Grus\"))\n",
        "print(full_name(\"Joel\"))\n",
        "print(full_name(last=\"Grus\"))"
      ],
      "execution_count": 12,
      "outputs": [
        {
          "output_type": "stream",
          "text": [
            "Joel Grus\n",
            "Joel Something\n",
            "What's-his-name Grus\n"
          ],
          "name": "stdout"
        }
      ]
    },
    {
      "cell_type": "code",
      "metadata": {
        "id": "DiSeyWAqDu2y",
        "colab_type": "code",
        "colab": {}
      },
      "source": [
        ""
      ],
      "execution_count": 0,
      "outputs": []
    }
  ]
}