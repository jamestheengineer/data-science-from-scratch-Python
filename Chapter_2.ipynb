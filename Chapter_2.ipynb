{
  "nbformat": 4,
  "nbformat_minor": 0,
  "metadata": {
    "colab": {
      "name": "Chapter_2.ipynb",
      "provenance": [],
      "authorship_tag": "ABX9TyPzYNXcfJ/x1NoOXslG06qf",
      "include_colab_link": true
    },
    "kernelspec": {
      "name": "python3",
      "display_name": "Python 3"
    }
  },
  "cells": [
    {
      "cell_type": "markdown",
      "metadata": {
        "id": "view-in-github",
        "colab_type": "text"
      },
      "source": [
        "<a href=\"https://colab.research.google.com/github/jamestheengineer/data-science-from-scratch-Python/blob/master/Chapter_2.ipynb\" target=\"_parent\"><img src=\"https://colab.research.google.com/assets/colab-badge.svg\" alt=\"Open In Colab\"/></a>"
      ]
    },
    {
      "cell_type": "markdown",
      "metadata": {
        "id": "YkTKuMaj9s4q",
        "colab_type": "text"
      },
      "source": [
        "Chapter 2: A Crash Course in Python\n"
      ]
    },
    {
      "cell_type": "code",
      "metadata": {
        "id": "FW-kXZqH9xE6",
        "colab_type": "code",
        "colab": {}
      },
      "source": [
        "# The pound sign marks the start of a comment. Python itself\n",
        "# ignores the comments, but they're helpful for anyone reading the code.\n",
        "for i in [1, 2, 3, 4, 5]:\n",
        "  for j in [1, 2, 3, 4, 5]:\n",
        "    print(j)\n",
        "    print(i + j)\n",
        "  print (i)\n",
        "print (\"done looping\")"
      ],
      "execution_count": 0,
      "outputs": []
    },
    {
      "cell_type": "code",
      "metadata": {
        "id": "WkCc6HYoAZ-X",
        "colab_type": "code",
        "colab": {}
      },
      "source": [
        "# Whitespace is ignored inside parenthesis\n",
        "long_winded_computation = (1 + 2 + 3 + 4 + 5 + 6 + 7 + 8 + 9 + 10 + 11 + 12 +\n",
        "                           13 + 14 + 15 + 16 + 17 + 18 + 19 + 20)"
      ],
      "execution_count": 0,
      "outputs": []
    },
    {
      "cell_type": "code",
      "metadata": {
        "id": "usyt44lNA_sy",
        "colab_type": "code",
        "colab": {}
      },
      "source": [
        "# Use it to make things easier to read\n",
        "list_of_lists = [[1, 2, 3], [4, 5, 6], [7, 8, 9]]\n",
        "easier_to_read_list_of_lists = [[1, 2, 3],\n",
        "                                [4, 5, 6],\n",
        "                                [7, 8, 9]]"
      ],
      "execution_count": 0,
      "outputs": []
    },
    {
      "cell_type": "code",
      "metadata": {
        "id": "gNagSzwpBW4T",
        "colab_type": "code",
        "colab": {}
      },
      "source": [
        "\n",
        "# You can use backslashes to also indicate a statement continues to the next line\n",
        "two_plus_three = 2 + \\\n",
        "                 3"
      ],
      "execution_count": 0,
      "outputs": []
    },
    {
      "cell_type": "code",
      "metadata": {
        "id": "--xMMykWBiUT",
        "colab_type": "code",
        "colab": {}
      },
      "source": [
        "# Whitespace formatting can cause issues copying and pasting\n",
        "for i in [1, 2, 3, 4, 5]:\n",
        "\n",
        "  # notice the blank line\n",
        "  print(i)"
      ],
      "execution_count": 0,
      "outputs": []
    },
    {
      "cell_type": "code",
      "metadata": {
        "id": "BA2UzQwrBxVE",
        "colab_type": "code",
        "colab": {}
      },
      "source": [
        "# Jupyter totally doesn't care"
      ],
      "execution_count": 0,
      "outputs": []
    },
    {
      "cell_type": "code",
      "metadata": {
        "id": "xkeHV4biB32L",
        "colab_type": "code",
        "colab": {}
      },
      "source": [
        "# Python uses import to get stuff from other modules\n",
        "import re\n",
        "my_regex = re.compile(\"[0-9]+\", re.I)"
      ],
      "execution_count": 0,
      "outputs": []
    },
    {
      "cell_type": "code",
      "metadata": {
        "id": "5x5q7_LQCKu7",
        "colab_type": "code",
        "colab": {}
      },
      "source": [
        "my_regex"
      ],
      "execution_count": 0,
      "outputs": []
    },
    {
      "cell_type": "code",
      "metadata": {
        "id": "TqxV2aIOCMJD",
        "colab_type": "code",
        "colab": {}
      },
      "source": [
        "# If you already have a different module of the same name in your module, you can alias\n",
        "import re as regex\n",
        "my_regex = regex.compile(\"[0-9]+\", regex.I)"
      ],
      "execution_count": 0,
      "outputs": []
    },
    {
      "cell_type": "code",
      "metadata": {
        "id": "Ndb7BgNUCgWk",
        "colab_type": "code",
        "colab": {}
      },
      "source": [
        "# Standard convention to import matplotlib is\n",
        "import matplotlib.pyplot as plt\n",
        "# plt.plot(...)"
      ],
      "execution_count": 0,
      "outputs": []
    },
    {
      "cell_type": "code",
      "metadata": {
        "id": "OUmsMqARCpoc",
        "colab_type": "code",
        "colab": {}
      },
      "source": [
        "# You can import specific capabilities and use them without qualification\n",
        "from collections import defaultdict, Counter\n",
        "lookup = defaultdict(int)\n",
        "my_counter = Counter()"
      ],
      "execution_count": 0,
      "outputs": []
    },
    {
      "cell_type": "code",
      "metadata": {
        "id": "y8g-ZlNHC_a1",
        "colab_type": "code",
        "colab": {}
      },
      "source": [
        "# Be careful about importing everything, which my overwrite stuff you already have\n",
        "match = 10\n",
        "from re import *\n",
        "print(match)"
      ],
      "execution_count": 0,
      "outputs": []
    },
    {
      "cell_type": "code",
      "metadata": {
        "id": "5jTcj8AbDLlU",
        "colab_type": "code",
        "colab": {}
      },
      "source": [
        "# Functions!\n",
        "def double(x):\n",
        "  \"\"\"\n",
        "  THis is where you put an optional docstring that explains what the function\n",
        "  does. For example, this function miltiplies its input by 2.\n",
        "  \"\"\"\n",
        "  return x * 2"
      ],
      "execution_count": 0,
      "outputs": []
    },
    {
      "cell_type": "code",
      "metadata": {
        "id": "xeZ_jqN5BypZ",
        "colab_type": "code",
        "colab": {}
      },
      "source": [
        "# Python's functions are first class, which means we can assign them to variables \n",
        "# and pass them to other functions\n",
        "def apply_to_one(f):\n",
        "  \"\"\"Calls the function f with 1 as its argument\"\"\"\n",
        "  return f(1)\n",
        "\n",
        "my_double = double\n",
        "x = apply_to_one(my_double)\n",
        "\n",
        "# Lambdas!\n",
        "y = apply_to_one(lambda x: x + 4)\n",
        "\n",
        "another_double = lambda x: 2 * x # don't do this\n",
        "def another_double(x):\n",
        "  \"\"\"Do this instead\"\"\"\n",
        "  return 2 * x"
      ],
      "execution_count": 0,
      "outputs": []
    },
    {
      "cell_type": "code",
      "metadata": {
        "id": "5uni7RW9CjTi",
        "colab_type": "code",
        "colab": {}
      },
      "source": [
        "# Default args\n",
        "def my_print(message = \"my default message\"):\n",
        "  print(message)\n",
        "\n",
        "my_print(\"hello\")\n",
        "my_print()"
      ],
      "execution_count": 0,
      "outputs": []
    },
    {
      "cell_type": "code",
      "metadata": {
        "id": "dECgqy2mDDWT",
        "colab_type": "code",
        "colab": {}
      },
      "source": [
        "def full_name(first = \"What's-his-name\", last = \"Something\"):\n",
        "  return first + \" \" + last \n",
        "\n",
        "print(full_name(\"Joel\", \"Grus\"))\n",
        "print(full_name(\"Joel\"))\n",
        "print(full_name(last=\"Grus\"))"
      ],
      "execution_count": 0,
      "outputs": []
    },
    {
      "cell_type": "code",
      "metadata": {
        "id": "DiSeyWAqDu2y",
        "colab_type": "code",
        "colab": {}
      },
      "source": [
        "# Strings can be delimited by single or double quotes\n",
        "single_quote_string = 'data science'\n",
        "double_quoted_string = \"data science\"\n",
        "\n",
        "# Backslashes for special characters\n",
        "tab_string = \"\\t\" # represents the tab character\n",
        "len(tab_string) # should be 1"
      ],
      "execution_count": 0,
      "outputs": []
    },
    {
      "cell_type": "code",
      "metadata": {
        "id": "LsFnBY835Ko8",
        "colab_type": "code",
        "colab": {}
      },
      "source": [
        "# You can use raw strings to capture special characters\n",
        "not_tab_string = r\"\\t\" # two chars\n",
        "len(not_tab_string) # should be 2"
      ],
      "execution_count": 0,
      "outputs": []
    },
    {
      "cell_type": "code",
      "metadata": {
        "id": "5fh1IVZp5haS",
        "colab_type": "code",
        "colab": {}
      },
      "source": [
        "# Multi-line strings with three double quotes\n",
        "multi_line_string = \"\"\"This is the first line.\n",
        "and this is the second line\n",
        "and this is the third line\"\"\""
      ],
      "execution_count": 0,
      "outputs": []
    },
    {
      "cell_type": "code",
      "metadata": {
        "id": "8X_0Mz9F5uV-",
        "colab_type": "code",
        "colab": {}
      },
      "source": [
        "print(multi_line_string)"
      ],
      "execution_count": 0,
      "outputs": []
    },
    {
      "cell_type": "code",
      "metadata": {
        "id": "ry8sfWeH5xWN",
        "colab_type": "code",
        "colab": {}
      },
      "source": [
        "# Python 3.6 added the f-string, which simplifies substitution into strings\n",
        "first_name = \"Joel\"\n",
        "last_name = \"Grus\"\n",
        "full_name_one_way = first_name + \" \" + last_name\n",
        "full_name_second_way = \"{0} {1}\".format(first_name, last_name)\n",
        "full_name_THE_way = f\"{first_name} {last_name}\""
      ],
      "execution_count": 0,
      "outputs": []
    },
    {
      "cell_type": "code",
      "metadata": {
        "id": "a9A8ivR7AnIY",
        "colab_type": "code",
        "colab": {}
      },
      "source": [
        "# We'll use exceptions occasionally\n",
        "try:\n",
        "  print( 0 / 0)\n",
        "except ZeroDivisionError:\n",
        "  print(\"cannot divide by zero\")\n"
      ],
      "execution_count": 0,
      "outputs": []
    },
    {
      "cell_type": "code",
      "metadata": {
        "id": "j1ZjU7vNBADu",
        "colab_type": "code",
        "colab": {}
      },
      "source": [
        "# Probably the most fundamental data structure in Python is the list.\n",
        "integer_list = [1, 2, 3]\n",
        "heterogeneous_list = [\"string\", 0.1, True]\n",
        "list_of_lists = [integer_list, heterogeneous_list, []]\n",
        "list_length = len(integer_list)\n",
        "list_sum = sum(integer_list)\n",
        "print(list_length, list_sum)"
      ],
      "execution_count": 0,
      "outputs": []
    },
    {
      "cell_type": "code",
      "metadata": {
        "id": "61Pi3pTEoGRG",
        "colab_type": "code",
        "colab": {}
      },
      "source": [
        "# Get or set list items with square brackets\n",
        "x = [0, 1, 2, 3, 4, 5, 6, 7, 8, 9]\n",
        "zero = x[0]\n",
        "one = x[1]\n",
        "nine = x[-1]\n",
        "eight = x[-2]\n",
        "x[0] = -1\n",
        "print(zero, one, nine, eight, x)"
      ],
      "execution_count": 0,
      "outputs": []
    },
    {
      "cell_type": "code",
      "metadata": {
        "id": "qF1k93sao0Tp",
        "colab_type": "code",
        "colab": {}
      },
      "source": [
        ""
      ],
      "execution_count": 0,
      "outputs": []
    }
  ]
}