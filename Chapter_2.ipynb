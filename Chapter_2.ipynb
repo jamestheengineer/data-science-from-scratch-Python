{
  "nbformat": 4,
  "nbformat_minor": 0,
  "metadata": {
    "colab": {
      "name": "Chapter_2.ipynb",
      "provenance": [],
      "authorship_tag": "ABX9TyOOdeU14ITKsrlnGe+a99fR"
    },
    "kernelspec": {
      "name": "python3",
      "display_name": "Python 3"
    }
  },
  "cells": [
    {
      "cell_type": "markdown",
      "metadata": {
        "id": "YkTKuMaj9s4q",
        "colab_type": "text"
      },
      "source": [
        "Chapter 2: A Crash Course in Python\n"
      ]
    },
    {
      "cell_type": "code",
      "metadata": {
        "id": "FW-kXZqH9xE6",
        "colab_type": "code",
        "colab": {}
      },
      "source": [
        "# The pound sign marks the start of a comment. Python itself\n",
        "# ignores the comments, but they're helpful for anyone reading the code.\n",
        "for i in [1, 2, 3, 4, 5]:\n",
        "  for j in [1, 2, 3, 4, 5]:\n",
        "    print(j)\n",
        "    print(i + j)\n",
        "  print (i)\n",
        "print (\"done looping\")"
      ],
      "execution_count": 0,
      "outputs": []
    },
    {
      "cell_type": "code",
      "metadata": {
        "id": "WkCc6HYoAZ-X",
        "colab_type": "code",
        "colab": {}
      },
      "source": [
        "# Whitespace is ignored inside parenthesis\n",
        "long_winded_computation = (1 + 2 + 3 + 4 + 5 + 6 + 7 + 8 + 9 + 10 + 11 + 12 +\n",
        "                           13 + 14 + 15 + 16 + 17 + 18 + 19 + 20)"
      ],
      "execution_count": 0,
      "outputs": []
    },
    {
      "cell_type": "code",
      "metadata": {
        "id": "usyt44lNA_sy",
        "colab_type": "code",
        "colab": {}
      },
      "source": [
        "# Use it to make things easier to read\n",
        "list_of_lists = [[1, 2, 3], [4, 5, 6], [7, 8, 9]]\n",
        "easier_to_read_list_of_lists = [[1, 2, 3],\n",
        "                                [4, 5, 6],\n",
        "                                [7, 8, 9]]"
      ],
      "execution_count": 0,
      "outputs": []
    },
    {
      "cell_type": "code",
      "metadata": {
        "id": "gNagSzwpBW4T",
        "colab_type": "code",
        "colab": {}
      },
      "source": [
        "\n",
        "# You can use backslashes to also indicate a statement continues to the next line\n",
        "two_plus_three = 2 + \\\n",
        "                 3"
      ],
      "execution_count": 0,
      "outputs": []
    },
    {
      "cell_type": "code",
      "metadata": {
        "id": "--xMMykWBiUT",
        "colab_type": "code",
        "colab": {}
      },
      "source": [
        "# Whitespace formatting can cause issues copying and pasting\n",
        "for i in [1, 2, 3, 4, 5]:\n",
        "\n",
        "  # notice the blank line\n",
        "  print(i)"
      ],
      "execution_count": 0,
      "outputs": []
    },
    {
      "cell_type": "code",
      "metadata": {
        "id": "BA2UzQwrBxVE",
        "colab_type": "code",
        "colab": {}
      },
      "source": [
        "# Jupyter totally doesn't care"
      ],
      "execution_count": 0,
      "outputs": []
    },
    {
      "cell_type": "code",
      "metadata": {
        "id": "xkeHV4biB32L",
        "colab_type": "code",
        "colab": {}
      },
      "source": [
        "# Python uses import to get stuff from other modules\n",
        "import re\n",
        "my_regex = re.compile(\"[0-9]+\", re.I)"
      ],
      "execution_count": 0,
      "outputs": []
    },
    {
      "cell_type": "code",
      "metadata": {
        "id": "5x5q7_LQCKu7",
        "colab_type": "code",
        "colab": {}
      },
      "source": [
        "my_regex"
      ],
      "execution_count": 0,
      "outputs": []
    },
    {
      "cell_type": "code",
      "metadata": {
        "id": "TqxV2aIOCMJD",
        "colab_type": "code",
        "colab": {}
      },
      "source": [
        "# If you already have a different module of the same name in your module, you can alias\n",
        "import re as regex\n",
        "my_regex = regex.compile(\"[0-9]+\", regex.I)"
      ],
      "execution_count": 0,
      "outputs": []
    },
    {
      "cell_type": "code",
      "metadata": {
        "id": "Ndb7BgNUCgWk",
        "colab_type": "code",
        "colab": {}
      },
      "source": [
        "# Standard convention to import matplotlib is\n",
        "import matplotlib.pyplot as plt\n",
        "# plt.plot(...)"
      ],
      "execution_count": 0,
      "outputs": []
    },
    {
      "cell_type": "code",
      "metadata": {
        "id": "OUmsMqARCpoc",
        "colab_type": "code",
        "colab": {}
      },
      "source": [
        "# You can import specific capabilities and use them without qualification\n",
        "from collections import defaultdict, Counter\n",
        "lookup = defaultdict(int)\n",
        "my_counter = Counter()"
      ],
      "execution_count": 0,
      "outputs": []
    },
    {
      "cell_type": "code",
      "metadata": {
        "id": "y8g-ZlNHC_a1",
        "colab_type": "code",
        "colab": {}
      },
      "source": [
        "# Be careful about importing everything, which my overwrite stuff you already have\n",
        "match = 10\n",
        "from re import *\n",
        "print(match)"
      ],
      "execution_count": 0,
      "outputs": []
    },
    {
      "cell_type": "code",
      "metadata": {
        "id": "5jTcj8AbDLlU",
        "colab_type": "code",
        "colab": {}
      },
      "source": [
        ""
      ],
      "execution_count": 0,
      "outputs": []
    }
  ]
}