{
  "nbformat": 4,
  "nbformat_minor": 0,
  "metadata": {
    "colab": {
      "name": "Chapter 1.ipynb",
      "provenance": [],
      "authorship_tag": "ABX9TyNLlyMF+/xZ03/NrlQXu/Lk"
    },
    "kernelspec": {
      "name": "python3",
      "display_name": "Python 3"
    }
  },
  "cells": [
    {
      "cell_type": "code",
      "metadata": {
        "id": "9IpeGE8jRJL5",
        "colab_type": "code",
        "colab": {}
      },
      "source": [
        "# Chapter 1 notes and code\n",
        "# Basic definition of data scientist - someone who extracts insights from messy data.\n",
        "# We'll be building all the tools from scratch in this book in order to better understand the foundations\n",
        "# of data science\n",
        "\n",
        "# Let's do an example of \"key connectors\" of a list of data scientists\n",
        "users = [ \n",
        "        { \"id\": 0, \"name\": \"Hero\"},\n",
        "        { \"id\": 1, \"name\": \"Dunn\"},\n",
        "        { \"id\": 2, \"name\": \"Sue\"},\n",
        "        { \"id\": 3, \"name\": \"Chi\"},\n",
        "        { \"id\": 4, \"name\": \"Thor\"},\n",
        "        { \"id\": 5, \"name\": \"Clive\"},\n",
        "        { \"id\": 6, \"name\": \"Hicks\"},\n",
        "        { \"id\": 7, \"name\": \"Devin\"},\n",
        "        { \"id\": 8, \"name\": \"Kate\"},\n",
        "        { \"id\": 9, \"name\": \"Klein\"},\n",
        "]"
      ],
      "execution_count": 0,
      "outputs": []
    },
    {
      "cell_type": "code",
      "metadata": {
        "id": "Pai8cbJVYOpU",
        "colab_type": "code",
        "colab": {}
      },
      "source": [
        "# Here's who knows who\n",
        "friendship_pairs = [(0,1), (0,2), (1,2), (1,3), (2,3), (3,4),\n",
        "                    (4,5), (5,6), (5,7), (6,8), (7,8), (8,9)]"
      ],
      "execution_count": 0,
      "outputs": []
    },
    {
      "cell_type": "code",
      "metadata": {
        "id": "fKUDAgFYYmhN",
        "colab_type": "code",
        "colab": {}
      },
      "source": [
        "# Initialize the dict with an empty list for each user id:\n",
        "friendships = {user[\"id\"]: [] for user in users}"
      ],
      "execution_count": 0,
      "outputs": []
    },
    {
      "cell_type": "code",
      "metadata": {
        "id": "B-k7VgPqZEnt",
        "colab_type": "code",
        "colab": {}
      },
      "source": [
        "# And loop over the friendship pairs to populate it:\n",
        "for i, j in friendship_pairs:\n",
        "  friendships[i].append(j) # Add j as a friend of user i\n",
        "  friendships[j].append(i) # Add i as a friend of user j"
      ],
      "execution_count": 0,
      "outputs": []
    },
    {
      "cell_type": "code",
      "metadata": {
        "id": "_ZAddh3WZi0N",
        "colab_type": "code",
        "colab": {}
      },
      "source": [
        "# Let's find the total number of connections\n",
        "def number_of_friends(user):\n",
        "  \"\"\"How many friends does _user_ have?\"\"\"\n",
        "  user_id = user[\"id\"]\n",
        "  friend_ids = friendships[user_id]\n",
        "  return len(friend_ids)\n",
        "\n",
        "total_connections = sum(number_of_friends(user) for user in users) #24"
      ],
      "execution_count": 0,
      "outputs": []
    },
    {
      "cell_type": "code",
      "metadata": {
        "id": "hTo0tXh7bu9F",
        "colab_type": "code",
        "colab": {}
      },
      "source": [
        "# Let's find the average number of connections in our data\n",
        "num_users = len(users) # length of users list\n",
        "avg_connections = total_connections / num_users # 24/10 == 2.4"
      ],
      "execution_count": 0,
      "outputs": []
    },
    {
      "cell_type": "code",
      "metadata": {
        "id": "dlSU5FIFcAtu",
        "colab_type": "code",
        "colab": {}
      },
      "source": [
        "# Let's sort the list by people with the most friends to least friends\n",
        "num_friends_by_id = [(user[\"id\"], number_of_friends(user)) for user in users]\n",
        "num_friends_by_id.sort(\n",
        "    key=lambda id_and_friends: id_and_friends[1],\n",
        "    reverse=True)"
      ],
      "execution_count": 0,
      "outputs": []
    },
    {
      "cell_type": "code",
      "metadata": {
        "id": "n7IxL1YPeUFH",
        "colab_type": "code",
        "colab": {}
      },
      "source": [
        "# Friends of friends scenario\n",
        "# Here's a bad way to to that\n",
        "def foaf_ids_bad(user):\n",
        "  \"\"\"foaf is short for \"friend of a friend\" \"\"\"\n",
        "  return [foaf_id\n",
        "          for friend_id in friendships[user[\"id\"]]\n",
        "          for foaf_id in friendships[friend_id]]"
      ],
      "execution_count": 0,
      "outputs": []
    },
    {
      "cell_type": "code",
      "metadata": {
        "id": "Oz4hx8vIrLVm",
        "colab_type": "code",
        "colab": {
          "base_uri": "https://localhost:8080/",
          "height": 34
        },
        "outputId": "4a3925e0-3218-4e94-b4f3-196ac42e31cf"
      },
      "source": [
        "foaf_ids_bad(users[0])"
      ],
      "execution_count": 11,
      "outputs": [
        {
          "output_type": "execute_result",
          "data": {
            "text/plain": [
              "[0, 2, 3, 0, 1, 3]"
            ]
          },
          "metadata": {
            "tags": []
          },
          "execution_count": 11
        }
      ]
    },
    {
      "cell_type": "code",
      "metadata": {
        "id": "G7qnVzQirUeH",
        "colab_type": "code",
        "colab": {
          "base_uri": "https://localhost:8080/",
          "height": 34
        },
        "outputId": "6c7664d5-a4e5-40e7-9807-6934a6d0fd58"
      },
      "source": [
        "# Here's a more accurate way to do it\n",
        "from collections import Counter # not loaded by default\n",
        "\n",
        "def friends_of_friends(user):\n",
        "  user_id = user[\"id\"]\n",
        "  return Counter(\n",
        "      foaf_id\n",
        "      for friend_id in friendships[user_id]   # For each of my friends,\n",
        "      for foaf_id in friendships[friend_id]   # find their friends\n",
        "      if foaf_id != user_id                   # who aren't me\n",
        "      and foaf_id not in friendships[user_id] # and aren't my friends\n",
        "  )\n",
        "\n",
        "print(friends_of_friends(users[3]))"
      ],
      "execution_count": 16,
      "outputs": [
        {
          "output_type": "stream",
          "text": [
            "Counter({0: 2, 5: 1})\n"
          ],
          "name": "stdout"
        }
      ]
    },
    {
      "cell_type": "code",
      "metadata": {
        "id": "pXO4sk2yr5G_",
        "colab_type": "code",
        "colab": {}
      },
      "source": [
        "# Let's start to connect people with similar interests\n",
        "interests = [\n",
        "    (0, \"Hadoop\"), (0, \"Big Data\"), (0, \"HBase\"), (0, \"Java\"),\n",
        "    (0, \"Spark\"), (0, \"Storm\"), (0, \"Cassandra\"),\n",
        "    (1, \"NoSQL\"), (1, \"MongoDB\"), (1, \"Cassandra\"), (1, \"HBase\"),\n",
        "    (1, \"Postgres\"), (2, \"Python\"), (2, \"scikit-learn\"), (2, \"scipy\"),\n",
        "    (2, \"numpy\"), (2, \"statsmodels\"), (2, \"pandas\"), (3, \"R\"), (3, \"Python\"),\n",
        "    (3, \"statistics\"), (3, \"regression\"), (3, \"probability\"),\n",
        "    (4, \"machine learning\"), (4, \"regression\"), (4, \"decision trees\"),\n",
        "    (4, \"libsvm\"), (5, \"Python\"), (5, \"R\"), (5, \"Java\"), (5, \"C++\"),\n",
        "    (5, \"Haskell\"), (5, \"programming languages\"), (6, \"statistics\"),\n",
        "    (6, \"probability\"), (6, \"mathematics\"), (6, \"theory\"),\n",
        "    (7, \"machine learning\"), (7, \"scikit-learn\"), (7, \"Mahout\"),\n",
        "    (7, \"neural networks\"), (8, \"neural networks\"), (8, \"deep learning\"),\n",
        "    (8, \"Big Data\"), (8, \"artificial intelligence\"), (9, \"Hadoop\"),\n",
        "    (9, \"Java\"), (9, \"MapReduce\"), (9, \"Big Data\")\n",
        "]"
      ],
      "execution_count": 0,
      "outputs": []
    },
    {
      "cell_type": "code",
      "metadata": {
        "id": "VO6L3Nz2uUjf",
        "colab_type": "code",
        "colab": {}
      },
      "source": [
        "def data_scientists_who_like(target_interest):\n",
        "  \"\"\"Find the ids of all users who like the targer interest.\"\"\"\n",
        "  return [user_id\n",
        "          for user_id, user_interest in interests\n",
        "          if user_interest == target_interest]"
      ],
      "execution_count": 0,
      "outputs": []
    },
    {
      "cell_type": "code",
      "metadata": {
        "id": "2MXCD31TxV9R",
        "colab_type": "code",
        "colab": {}
      },
      "source": [
        "# The previous function is exhaustive, so lets build an index from interests to users\n",
        "from collections import defaultdict\n",
        "\n",
        "# Keys are interests, values are lists of user_ids with that interest\n",
        "user_ids_by_interest = defaultdict(list)\n",
        "\n",
        "for user_id, interest in interests:\n",
        "  user_ids_by_interest[interest].append(user_id)\n",
        "\n",
        "# And another from users to interests\n",
        "# Keys are user_ids, values are lists of interests for that user_id\n",
        "interests_by_user_id = defaultdict(list)\n",
        "\n",
        "for user_id, interest in interests:\n",
        "  interests_by_user_id[user_id].append(interest)"
      ],
      "execution_count": 0,
      "outputs": []
    },
    {
      "cell_type": "code",
      "metadata": {
        "id": "kIb5lu12ycVE",
        "colab_type": "code",
        "colab": {}
      },
      "source": [
        ""
      ],
      "execution_count": 0,
      "outputs": []
    }
  ]
}