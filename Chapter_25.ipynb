{
  "nbformat": 4,
  "nbformat_minor": 0,
  "metadata": {
    "colab": {
      "name": "Chapter_25.ipynb",
      "provenance": [],
      "authorship_tag": "ABX9TyPJNBc9kUgGWC2AZTCY/72N",
      "include_colab_link": true
    },
    "kernelspec": {
      "name": "python3",
      "display_name": "Python 3"
    }
  },
  "cells": [
    {
      "cell_type": "markdown",
      "metadata": {
        "id": "view-in-github",
        "colab_type": "text"
      },
      "source": [
        "<a href=\"https://colab.research.google.com/github/jamestheengineer/data-science-from-scratch-Python/blob/master/Chapter_25.ipynb\" target=\"_parent\"><img src=\"https://colab.research.google.com/assets/colab-badge.svg\" alt=\"Open In Colab\"/></a>"
      ]
    },
    {
      "cell_type": "code",
      "metadata": {
        "id": "kgCx-qeWy9z0"
      },
      "source": [
        "# Map reduce\n",
        "\n",
        "# Simplistic way of counting words\n",
        "from typing import List\n",
        "from collections import Counter\n",
        "\n",
        "def tokenize(document: str) -> List[str]:\n",
        "  \"\"\"Just split on whitespace\"\"\"\n",
        "  return document.split()\n",
        "\n",
        "def word_count_old(documents: List[str]):\n",
        "  \"\"\"Word count not using MapReduce\"\"\"\n",
        "  return Counter(word\n",
        "                 for document in documents\n",
        "                 for word in tokenize(document))"
      ],
      "execution_count": 1,
      "outputs": []
    },
    {
      "cell_type": "code",
      "metadata": {
        "id": "HKROyy7gzaHC"
      },
      "source": [
        "# Now let's start building out map reduce stuff\n",
        "from typing import Iterator, Tuple\n",
        "\n",
        "def wc_mapper(document: str) -> Iterator[Tuple[str, int]]:\n",
        "  \"\"\"For each word in the document, emit (word, 1)\"\"\"\n",
        "  for word in tokenize(document):\n",
        "    yield (word, 1)\n",
        "\n",
        "from typing import Iterable\n",
        "\n",
        "def wc_reducer(word: str,\n",
        "               counts: Iterable[int]) -> Iterator[Tuple[str, int]]:\n",
        "  \"\"\"Sum up the counts for a word\"\"\"\n",
        "  yield (word, sum(counts))\n",
        "\n",
        "from collections import defaultdict\n",
        "\n",
        "def word_count(documents: List[str]) -> List[Tuple[str, int]]:\n",
        "  \"\"\"Count the words in the input documents using MapReduce\"\"\"\n",
        "  collector = defaultdict(list) # To store gouped values\n",
        "\n",
        "  for document in documents:\n",
        "    for word, count in wc_mapper(document):\n",
        "      collector[word].append(count)\n",
        "\n",
        "  return [output\n",
        "          for word, counts in collector.items()\n",
        "          for output in wc_reducer(word, counts)]"
      ],
      "execution_count": 5,
      "outputs": []
    },
    {
      "cell_type": "code",
      "metadata": {
        "id": "i-elbbeyO_tg",
        "outputId": "37831672-5d51-4207-dfb0-d6a34d65488c",
        "colab": {
          "base_uri": "https://localhost:8080/"
        }
      },
      "source": [
        "documents = [\"data science\", \"big data\", \"science fiction\"]\n",
        "word_count(documents)"
      ],
      "execution_count": 6,
      "outputs": [
        {
          "output_type": "execute_result",
          "data": {
            "text/plain": [
              "[('data', 2), ('science', 2), ('big', 1), ('fiction', 1)]"
            ]
          },
          "metadata": {
            "tags": []
          },
          "execution_count": 6
        }
      ]
    },
    {
      "cell_type": "code",
      "metadata": {
        "id": "jATQ2SOlPWvv"
      },
      "source": [
        ""
      ],
      "execution_count": null,
      "outputs": []
    }
  ]
}