{
  "nbformat": 4,
  "nbformat_minor": 0,
  "metadata": {
    "colab": {
      "name": "Chapter_25.ipynb",
      "provenance": [],
      "authorship_tag": "ABX9TyMglWT1OrO2AplVXS9f37Y+",
      "include_colab_link": true
    },
    "kernelspec": {
      "name": "python3",
      "display_name": "Python 3"
    }
  },
  "cells": [
    {
      "cell_type": "markdown",
      "metadata": {
        "id": "view-in-github",
        "colab_type": "text"
      },
      "source": [
        "<a href=\"https://colab.research.google.com/github/jamestheengineer/data-science-from-scratch-Python/blob/master/Chapter_25.ipynb\" target=\"_parent\"><img src=\"https://colab.research.google.com/assets/colab-badge.svg\" alt=\"Open In Colab\"/></a>"
      ]
    },
    {
      "cell_type": "code",
      "metadata": {
        "id": "kgCx-qeWy9z0"
      },
      "source": [
        "# Map reduce\n",
        "\n",
        "# Simplistic way of counting words\n",
        "from typing import List\n",
        "from collections import Counter\n",
        "\n",
        "def tokenize(document: str) -> List[str]:\n",
        "  \"\"\"Just split on whitespace\"\"\"\n",
        "  return document.split()\n",
        "\n",
        "def word_count_old(documents: List[str]):\n",
        "  \"\"\"Word count not using MapReduce\"\"\"\n",
        "  return Counter(word\n",
        "                 for document in documents\n",
        "                 for word in tokenize(document))"
      ],
      "execution_count": 1,
      "outputs": []
    },
    {
      "cell_type": "code",
      "metadata": {
        "id": "HKROyy7gzaHC"
      },
      "source": [
        ""
      ],
      "execution_count": null,
      "outputs": []
    }
  ]
}