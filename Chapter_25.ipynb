{
  "nbformat": 4,
  "nbformat_minor": 0,
  "metadata": {
    "colab": {
      "name": "Chapter_25.ipynb",
      "provenance": [],
      "authorship_tag": "ABX9TyOjEzIBmZfMDl3R9iDqiyO8",
      "include_colab_link": true
    },
    "kernelspec": {
      "name": "python3",
      "display_name": "Python 3"
    }
  },
  "cells": [
    {
      "cell_type": "markdown",
      "metadata": {
        "id": "view-in-github",
        "colab_type": "text"
      },
      "source": [
        "<a href=\"https://colab.research.google.com/github/jamestheengineer/data-science-from-scratch-Python/blob/master/Chapter_25.ipynb\" target=\"_parent\"><img src=\"https://colab.research.google.com/assets/colab-badge.svg\" alt=\"Open In Colab\"/></a>"
      ]
    },
    {
      "cell_type": "code",
      "metadata": {
        "id": "kgCx-qeWy9z0"
      },
      "source": [
        "# Map reduce\n",
        "\n",
        "# Simplistic way of counting words\n",
        "from typing import List\n",
        "from collections import Counter\n",
        "\n",
        "def tokenize(document: str) -> List[str]:\n",
        "  \"\"\"Just split on whitespace\"\"\"\n",
        "  return document.split()\n",
        "\n",
        "def word_count_old(documents: List[str]):\n",
        "  \"\"\"Word count not using MapReduce\"\"\"\n",
        "  return Counter(word\n",
        "                 for document in documents\n",
        "                 for word in tokenize(document))"
      ],
      "execution_count": 1,
      "outputs": []
    },
    {
      "cell_type": "code",
      "metadata": {
        "id": "HKROyy7gzaHC"
      },
      "source": [
        "# Now let's start building out map reduce stuff\n",
        "from typing import Iterator, Tuple\n",
        "\n",
        "def wc_mapper(document: str) -> Iterator[Tuple[str, int]]:\n",
        "  \"\"\"For each word in the document, emit (word, 1)\"\"\"\n",
        "  for word in tokenize(document):\n",
        "    yield (word, 1)\n",
        "\n",
        "from typing import Iterable\n",
        "\n",
        "def wc_reducer(word: str,\n",
        "               counts: Iterable[int]) -> Iterator[Tuple[str, int]]:\n",
        "  \"\"\"Sum up the counts for a word\"\"\"\n",
        "  yield (word, sum(counts))\n",
        "\n",
        "from collections import defaultdict\n",
        "\n",
        "def word_count(documents: List[str]) -> List[Tuple[str, int]]:\n",
        "  \"\"\"Count the words in the input documents using MapReduce\"\"\"\n",
        "  collector = defaultdict(list) # To store gouped values\n",
        "\n",
        "  for document in documents:\n",
        "    for word, count in wc_mapper(document):\n",
        "      collector[word].append(count)\n",
        "\n",
        "  return [output\n",
        "          for word, counts in collector.items()\n",
        "          for output in wc_reducer(word, counts)]"
      ],
      "execution_count": 5,
      "outputs": []
    },
    {
      "cell_type": "code",
      "metadata": {
        "id": "i-elbbeyO_tg",
        "outputId": "37831672-5d51-4207-dfb0-d6a34d65488c",
        "colab": {
          "base_uri": "https://localhost:8080/"
        }
      },
      "source": [
        "documents = [\"data science\", \"big data\", \"science fiction\"]\n",
        "word_count(documents)"
      ],
      "execution_count": 6,
      "outputs": [
        {
          "output_type": "execute_result",
          "data": {
            "text/plain": [
              "[('data', 2), ('science', 2), ('big', 1), ('fiction', 1)]"
            ]
          },
          "metadata": {
            "tags": []
          },
          "execution_count": 6
        }
      ]
    },
    {
      "cell_type": "code",
      "metadata": {
        "id": "jATQ2SOlPWvv",
        "outputId": "63f6837a-5656-49ab-97d4-c7a8386131f4",
        "colab": {
          "base_uri": "https://localhost:8080/"
        }
      },
      "source": [
        "from typing import Callable, Iterable, Any, Tuple\n",
        "\n",
        "# A key/value pair is just a 2-tuple\n",
        "KV = Tuple[Any, Any]\n",
        "\n",
        "# A Mapper is a function that returns an Iterable of key/value pairs\n",
        "Mapper = Callable[..., Iterable[KV]]\n",
        "\n",
        "# A Reducer is a function that takes a key and an iterable of values\n",
        "# and returns a key/value pair\n",
        "Reducer = Callable[[Any, Iterable], KV]\n",
        "\n",
        "def map_reduce(inputs: Iterable,\n",
        "               mapper: Mapper,\n",
        "               reducer: Reducer) -> List[KV]:\n",
        "  \"\"\"Run MapReduce on the inputs using mapper and reducer\"\"\"\n",
        "  collector = defaultdict(list)\n",
        "\n",
        "  for input in inputs:\n",
        "    for key, value in mapper(input):\n",
        "      collector[key].append(value)\n",
        "  \n",
        "  return [output\n",
        "          for key, values in collector.items()\n",
        "          for output in reducer(key, values)]\n",
        "\n",
        "word_counts = map_reduce(documents, wc_mapper, wc_reducer)\n",
        "print(word_counts)"
      ],
      "execution_count": 11,
      "outputs": [
        {
          "output_type": "stream",
          "text": [
            "[('data', 2), ('science', 2), ('big', 1), ('fiction', 1)]\n"
          ],
          "name": "stdout"
        }
      ]
    },
    {
      "cell_type": "code",
      "metadata": {
        "id": "xbzpn17cRegT"
      },
      "source": [
        "def values_reducer(values_fn: Callable) -> Reducer:\n",
        "  \"\"\"Return a reducer that just applies values_fn to its values\"\"\"\n",
        "  def reduce(key, values: Iterable) -> KV:\n",
        "    return (key, values_fn(values))\n",
        "\n",
        "  return reduce\n",
        "\n",
        "sum_reducer = values_reducer(sum)\n",
        "max_reducer = values_reducer(max)\n",
        "min_reducer = values_reducer(min)\n",
        "count_distinct_reducer = values_reducer(lambda values: len(set(values)))\n",
        "\n",
        "assert sum_reducer(\"key\", [1,2,3,3]) == (\"key\", 9)\n",
        "assert min_reducer(\"key\", [1,2,3,3]) == (\"key\",1)\n",
        "assert max_reducer(\"key\", [1,2,3,3]) == (\"key\", 3)\n",
        "assert count_distinct_reducer(\"key\", [1,2,3,3]) == (\"key\",3)"
      ],
      "execution_count": 13,
      "outputs": []
    },
    {
      "cell_type": "code",
      "metadata": {
        "id": "VtbPs_B_Sc2c",
        "outputId": "caca6a33-be5d-4a05-ad20-875071c6593b",
        "colab": {
          "base_uri": "https://localhost:8080/"
        }
      },
      "source": [
        "import datetime\n",
        "\n",
        "status_updates = [\n",
        "        {\"id\": 2,\n",
        "         \"username\" : \"joelgrus\",\n",
        "         \"text\" : \"Should I write a second edition of my data science book? Well, Should I?\",\n",
        "         \"created_at\" : datetime.datetime(2018, 2, 21, 11, 47, 0),\n",
        "         \"liked_by\" : [\"data_guy\", \"data_gal\", \"mike\"] },\n",
        "         # ...\n",
        "    ]\n",
        "\n",
        "def data_science_day_mapper(status_update: dict) -> Iterable:\n",
        "  \"\"\"Yields (day_of_week, 1) if status_update contains \"data science\" \"\"\"\n",
        "  if \"data science\" in status_update[\"text\"].lower():\n",
        "    day_of_week = status_update[\"created_at\"].weekday()\n",
        "    yield (day_of_week, 1)\n",
        "\n",
        "data_science_days = map_reduce(status_updates,\n",
        "                               data_science_day_mapper,\n",
        "                               sum_reducer)\n",
        "\n",
        "print(data_science_days)"
      ],
      "execution_count": 20,
      "outputs": [
        {
          "output_type": "stream",
          "text": [
            "[2, 1]\n"
          ],
          "name": "stdout"
        }
      ]
    },
    {
      "cell_type": "code",
      "metadata": {
        "id": "DSV0KYIdTlcD",
        "outputId": "7edb9508-1441-4f8f-a794-4d9a01bfc8f0",
        "colab": {
          "base_uri": "https://localhost:8080/"
        }
      },
      "source": [
        "def words_per_user_mapper(status_update: dict):\n",
        "  user = status_update[\"username\"]\n",
        "  for word in tokenize(status_update[\"text\"]):\n",
        "    yield (user, (word,1))\n",
        "\n",
        "def most_popular_word_reducer(user: str,\n",
        "                              words_and_counts: Iterable[KV]):\n",
        "  \"\"\"\n",
        "  Given a sequence of (word, count) pairs,\n",
        "  return the word with the highest total count\n",
        "  \"\"\"\n",
        "  word_counts = Counter()\n",
        "  for word, count in words_and_counts:\n",
        "    word_counts[word] += count\n",
        "  \n",
        "  word, count = word_counts.most_common(1)[0]\n",
        "\n",
        "  yield (user, (word, count))\n",
        "\n",
        "user_words = map_reduce(status_updates,\n",
        "                        words_per_user_mapper,\n",
        "                        most_popular_word_reducer)\n",
        "print(user_words)\n"
      ],
      "execution_count": 21,
      "outputs": [
        {
          "output_type": "stream",
          "text": [
            "[('joelgrus', ('Should', 2))]\n"
          ],
          "name": "stdout"
        }
      ]
    },
    {
      "cell_type": "code",
      "metadata": {
        "id": "DMyM93scVAwF",
        "outputId": "db3f52cd-b5bd-4148-9d76-adc09ebda9dd",
        "colab": {
          "base_uri": "https://localhost:8080/"
        }
      },
      "source": [
        "def liker_mapper(status_update: dict):\n",
        "  user = status_update[\"username\"]\n",
        "  for liker in status_update[\"liked_by\"]:\n",
        "    yield (user, liker)\n",
        "\n",
        "distinct_likers_per_user = map_reduce(status_updates,\n",
        "                                      liker_mapper,\n",
        "                                      count_distinct_reducer)\n",
        "print(distinct_likers_per_user)"
      ],
      "execution_count": 22,
      "outputs": [
        {
          "output_type": "stream",
          "text": [
            "['joelgrus', 3]\n"
          ],
          "name": "stdout"
        }
      ]
    },
    {
      "cell_type": "code",
      "metadata": {
        "id": "lpQ31mFXVe1p"
      },
      "source": [
        "# More efficient matrix multiplication\n",
        "from typing import NamedTuple\n",
        "\n",
        "class Entry(NamedTuple):\n",
        "  name: str\n",
        "  i: int\n",
        "  j: int\n",
        "  value: float\n",
        "\n",
        "def matrix_multiply_mapper(num_rows_a: int, num_cols_b: int) -> Mapper:\n",
        "  \"\"\"\n",
        "  C[x][y] = A[x][0] * B[0][y] + ... + A[x][m] * B[m][y]\n",
        "  So and element A[i][j] goes into every C[i][y] with coef B[j][y]\n",
        "  and an element B[i][j] goes into every C[x][j] with coef A[x][i]\n",
        "  \"\"\"\n",
        "  def mapper(entry: Entry):\n",
        "    if entry.name == \"A\":\n",
        "      for y in range(num_cols_b):\n",
        "        key = (entry.i, y)\n",
        "        value = (entry.j, entry.value)\n",
        "        yield (key, value)\n",
        "    else:\n",
        "      for x in range(num_rows_a):\n",
        "        key = (x, entry.j)\n",
        "        value = (entry.i, entry.value)\n",
        "        yield (key, value)\n",
        "  \n",
        "  return mapper\n",
        "\n",
        "def matrix_multiply_reducer(key: Tuple[int, int],\n",
        "                            indexed_values: Iterable[Tuple[int,int]]):\n",
        "  results_by_index = defaultdict(list)\n",
        "\n",
        "  for index, value in indexed_values:\n",
        "    results_by_index[index].append(value)\n",
        "\n",
        "  # Multiple the values for positions with two values\n",
        "  # (one from A, and one from B) and sum them up\n",
        "  sumproduct = sum(values[0] * values[1]\n",
        "                   for values in results_by_index.values()\n",
        "                   if len(values) == 2)\n",
        "  \n",
        "  if sumproduct != 0.0:\n",
        "    yield (key, sumproduct)\n",
        "\n",
        "A = [[3, 2, 0],\n",
        "     [0, 0, 0]]\n",
        "\n",
        "B = [[4, -1, 0],\n",
        "     [10, 0, 0],\n",
        "     [0, 0, 0]]\n",
        "\n",
        "entries = [Entry(\"A\", 0, 0, 3), Entry(\"A\", 0, 1, 2), Entry(\"B\", 0, 0,4),\n",
        "           Entry(\"B\", 0, 1, -1), Entry(\"B\", 1, 0, 10)]\n",
        "\n",
        "mapper = matrix_multiply_mapper(num_rows_a = 2, num_cols_b = 3)\n",
        "reducer = matrix_multiply_reducer\n",
        "\n",
        "# Product should be [[32, -3, 0], [0,0,0]].\n",
        "# So it should have two entries.\n",
        "assert (set(map_reduce(entries, mapper, reducer)) == {((0,1), -3), ((0,0), 32)})"
      ],
      "execution_count": 25,
      "outputs": []
    },
    {
      "cell_type": "code",
      "metadata": {
        "id": "m8MIQzq_YrMS"
      },
      "source": [
        ""
      ],
      "execution_count": null,
      "outputs": []
    }
  ]
}