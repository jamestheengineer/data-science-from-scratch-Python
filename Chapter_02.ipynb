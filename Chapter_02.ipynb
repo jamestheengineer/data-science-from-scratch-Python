{
  "nbformat": 4,
  "nbformat_minor": 0,
  "metadata": {
    "colab": {
      "name": "Chapter_2.ipynb",
      "provenance": [],
      "authorship_tag": "ABX9TyN8Va7sq6gwu57qpRA18KdY",
      "include_colab_link": true
    },
    "kernelspec": {
      "name": "python3",
      "display_name": "Python 3"
    }
  },
  "cells": [
    {
      "cell_type": "markdown",
      "metadata": {
        "id": "view-in-github",
        "colab_type": "text"
      },
      "source": [
        "<a href=\"https://colab.research.google.com/github/jamestheengineer/data-science-from-scratch-Python/blob/master/Chapter_02.ipynb\" target=\"_parent\"><img src=\"https://colab.research.google.com/assets/colab-badge.svg\" alt=\"Open In Colab\"/></a>"
      ]
    },
    {
      "cell_type": "markdown",
      "metadata": {
        "id": "YkTKuMaj9s4q",
        "colab_type": "text"
      },
      "source": [
        "Chapter 2: A Crash Course in Python\n"
      ]
    },
    {
      "cell_type": "code",
      "metadata": {
        "id": "FW-kXZqH9xE6",
        "colab_type": "code",
        "colab": {}
      },
      "source": [
        "# The pound sign marks the start of a comment. Python itself\n",
        "# ignores the comments, but they're helpful for anyone reading the code.\n",
        "for i in [1, 2, 3, 4, 5]:\n",
        "  for j in [1, 2, 3, 4, 5]:\n",
        "    print(j)\n",
        "    print(i + j)\n",
        "  print (i)\n",
        "print (\"done looping\")"
      ],
      "execution_count": 0,
      "outputs": []
    },
    {
      "cell_type": "code",
      "metadata": {
        "id": "WkCc6HYoAZ-X",
        "colab_type": "code",
        "colab": {}
      },
      "source": [
        "# Whitespace is ignored inside parenthesis\n",
        "long_winded_computation = (1 + 2 + 3 + 4 + 5 + 6 + 7 + 8 + 9 + 10 + 11 + 12 +\n",
        "                           13 + 14 + 15 + 16 + 17 + 18 + 19 + 20)"
      ],
      "execution_count": 0,
      "outputs": []
    },
    {
      "cell_type": "code",
      "metadata": {
        "id": "usyt44lNA_sy",
        "colab_type": "code",
        "colab": {}
      },
      "source": [
        "# Use it to make things easier to read\n",
        "list_of_lists = [[1, 2, 3], [4, 5, 6], [7, 8, 9]]\n",
        "easier_to_read_list_of_lists = [[1, 2, 3],\n",
        "                                [4, 5, 6],\n",
        "                                [7, 8, 9]]"
      ],
      "execution_count": 0,
      "outputs": []
    },
    {
      "cell_type": "code",
      "metadata": {
        "id": "gNagSzwpBW4T",
        "colab_type": "code",
        "colab": {}
      },
      "source": [
        "\n",
        "# You can use backslashes to also indicate a statement continues to the next line\n",
        "two_plus_three = 2 + \\\n",
        "                 3"
      ],
      "execution_count": 0,
      "outputs": []
    },
    {
      "cell_type": "code",
      "metadata": {
        "id": "--xMMykWBiUT",
        "colab_type": "code",
        "colab": {}
      },
      "source": [
        "# Whitespace formatting can cause issues copying and pasting\n",
        "for i in [1, 2, 3, 4, 5]:\n",
        "\n",
        "  # notice the blank line\n",
        "  print(i)"
      ],
      "execution_count": 0,
      "outputs": []
    },
    {
      "cell_type": "code",
      "metadata": {
        "id": "BA2UzQwrBxVE",
        "colab_type": "code",
        "colab": {}
      },
      "source": [
        "# Jupyter totally doesn't care"
      ],
      "execution_count": 0,
      "outputs": []
    },
    {
      "cell_type": "code",
      "metadata": {
        "id": "xkeHV4biB32L",
        "colab_type": "code",
        "colab": {}
      },
      "source": [
        "# Python uses import to get stuff from other modules\n",
        "import re\n",
        "my_regex = re.compile(\"[0-9]+\", re.I)"
      ],
      "execution_count": 0,
      "outputs": []
    },
    {
      "cell_type": "code",
      "metadata": {
        "id": "5x5q7_LQCKu7",
        "colab_type": "code",
        "colab": {}
      },
      "source": [
        "my_regex"
      ],
      "execution_count": 0,
      "outputs": []
    },
    {
      "cell_type": "code",
      "metadata": {
        "id": "TqxV2aIOCMJD",
        "colab_type": "code",
        "colab": {}
      },
      "source": [
        "# If you already have a different module of the same name in your module, you can alias\n",
        "import re as regex\n",
        "my_regex = regex.compile(\"[0-9]+\", regex.I)"
      ],
      "execution_count": 0,
      "outputs": []
    },
    {
      "cell_type": "code",
      "metadata": {
        "id": "Ndb7BgNUCgWk",
        "colab_type": "code",
        "colab": {}
      },
      "source": [
        "# Standard convention to import matplotlib is\n",
        "import matplotlib.pyplot as plt\n",
        "# plt.plot(...)"
      ],
      "execution_count": 0,
      "outputs": []
    },
    {
      "cell_type": "code",
      "metadata": {
        "id": "OUmsMqARCpoc",
        "colab_type": "code",
        "colab": {}
      },
      "source": [
        "# You can import specific capabilities and use them without qualification\n",
        "from collections import defaultdict, Counter\n",
        "lookup = defaultdict(int)\n",
        "my_counter = Counter()"
      ],
      "execution_count": 0,
      "outputs": []
    },
    {
      "cell_type": "code",
      "metadata": {
        "id": "y8g-ZlNHC_a1",
        "colab_type": "code",
        "colab": {}
      },
      "source": [
        "# Be careful about importing everything, which my overwrite stuff you already have\n",
        "match = 10\n",
        "from re import *\n",
        "print(match)"
      ],
      "execution_count": 0,
      "outputs": []
    },
    {
      "cell_type": "code",
      "metadata": {
        "id": "5jTcj8AbDLlU",
        "colab_type": "code",
        "colab": {}
      },
      "source": [
        "# Functions!\n",
        "def double(x):\n",
        "  \"\"\"\n",
        "  THis is where you put an optional docstring that explains what the function\n",
        "  does. For example, this function miltiplies its input by 2.\n",
        "  \"\"\"\n",
        "  return x * 2"
      ],
      "execution_count": 0,
      "outputs": []
    },
    {
      "cell_type": "code",
      "metadata": {
        "id": "xeZ_jqN5BypZ",
        "colab_type": "code",
        "colab": {}
      },
      "source": [
        "# Python's functions are first class, which means we can assign them to variables \n",
        "# and pass them to other functions\n",
        "def apply_to_one(f):\n",
        "  \"\"\"Calls the function f with 1 as its argument\"\"\"\n",
        "  return f(1)\n",
        "\n",
        "my_double = double\n",
        "x = apply_to_one(my_double)\n",
        "print(x)\n",
        "# Lambdas!\n",
        "y = apply_to_one(lambda x: x + 4)\n",
        "print(y)\n",
        "another_double = lambda x: 2 * x # don't do this\n",
        "def another_double(x):\n",
        "  \"\"\"Do this instead\"\"\"\n",
        "  return 2 * x"
      ],
      "execution_count": 0,
      "outputs": []
    },
    {
      "cell_type": "code",
      "metadata": {
        "id": "5uni7RW9CjTi",
        "colab_type": "code",
        "colab": {}
      },
      "source": [
        "# Default args\n",
        "def my_print(message = \"my default message\"):\n",
        "  print(message)\n",
        "\n",
        "my_print(\"hello\")\n",
        "my_print()"
      ],
      "execution_count": 0,
      "outputs": []
    },
    {
      "cell_type": "code",
      "metadata": {
        "id": "dECgqy2mDDWT",
        "colab_type": "code",
        "colab": {}
      },
      "source": [
        "def full_name(first = \"What's-his-name\", last = \"Something\"):\n",
        "  return first + \" \" + last \n",
        "\n",
        "print(full_name(\"Joel\", \"Grus\"))\n",
        "print(full_name(\"Joel\"))\n",
        "print(full_name(last=\"Grus\"))"
      ],
      "execution_count": 0,
      "outputs": []
    },
    {
      "cell_type": "code",
      "metadata": {
        "id": "DiSeyWAqDu2y",
        "colab_type": "code",
        "colab": {}
      },
      "source": [
        "# Strings can be delimited by single or double quotes\n",
        "single_quote_string = 'data science'\n",
        "double_quoted_string = \"data science\"\n",
        "\n",
        "# Backslashes for special characters\n",
        "tab_string = \"\\t\" # represents the tab character\n",
        "len(tab_string) # should be 1"
      ],
      "execution_count": 0,
      "outputs": []
    },
    {
      "cell_type": "code",
      "metadata": {
        "id": "LsFnBY835Ko8",
        "colab_type": "code",
        "colab": {}
      },
      "source": [
        "# You can use raw strings to capture special characters\n",
        "not_tab_string = r\"\\t\" # two chars\n",
        "len(not_tab_string) # should be 2"
      ],
      "execution_count": 0,
      "outputs": []
    },
    {
      "cell_type": "code",
      "metadata": {
        "id": "5fh1IVZp5haS",
        "colab_type": "code",
        "colab": {}
      },
      "source": [
        "# Multi-line strings with three double quotes\n",
        "multi_line_string = \"\"\"This is the first line.\n",
        "and this is the second line\n",
        "and this is the third line\"\"\""
      ],
      "execution_count": 0,
      "outputs": []
    },
    {
      "cell_type": "code",
      "metadata": {
        "id": "8X_0Mz9F5uV-",
        "colab_type": "code",
        "colab": {}
      },
      "source": [
        "print(multi_line_string)"
      ],
      "execution_count": 0,
      "outputs": []
    },
    {
      "cell_type": "code",
      "metadata": {
        "id": "ry8sfWeH5xWN",
        "colab_type": "code",
        "colab": {}
      },
      "source": [
        "# Python 3.6 added the f-string, which simplifies substitution into strings\n",
        "first_name = \"Joel\"\n",
        "last_name = \"Grus\"\n",
        "full_name_one_way = first_name + \" \" + last_name\n",
        "full_name_second_way = \"{0} {1}\".format(first_name, last_name)\n",
        "full_name_THE_way = f\"{first_name} {last_name}\""
      ],
      "execution_count": 0,
      "outputs": []
    },
    {
      "cell_type": "code",
      "metadata": {
        "id": "a9A8ivR7AnIY",
        "colab_type": "code",
        "colab": {}
      },
      "source": [
        "# We'll use exceptions occasionally\n",
        "try:\n",
        "  print( 0 / 0)\n",
        "except ZeroDivisionError:\n",
        "  print(\"cannot divide by zero\")\n"
      ],
      "execution_count": 0,
      "outputs": []
    },
    {
      "cell_type": "code",
      "metadata": {
        "id": "j1ZjU7vNBADu",
        "colab_type": "code",
        "colab": {}
      },
      "source": [
        "# Probably the most fundamental data structure in Python is the list.\n",
        "integer_list = [1, 2, 3]\n",
        "heterogeneous_list = [\"string\", 0.1, True]\n",
        "list_of_lists = [integer_list, heterogeneous_list, []]\n",
        "list_length = len(integer_list)\n",
        "list_sum = sum(integer_list)\n",
        "print(list_length, list_sum)"
      ],
      "execution_count": 0,
      "outputs": []
    },
    {
      "cell_type": "code",
      "metadata": {
        "id": "61Pi3pTEoGRG",
        "colab_type": "code",
        "colab": {}
      },
      "source": [
        "# Get or set list items with square brackets\n",
        "x = [0, 1, 2, 3, 4, 5, 6, 7, 8, 9]\n",
        "zero = x[0]\n",
        "one = x[1]\n",
        "nine = x[-1]\n",
        "eight = x[-2]\n",
        "x[0] = -1\n",
        "print(zero, one, nine, eight, x)"
      ],
      "execution_count": 0,
      "outputs": []
    },
    {
      "cell_type": "code",
      "metadata": {
        "id": "qF1k93sao0Tp",
        "colab_type": "code",
        "colab": {}
      },
      "source": [
        "# Slicing in Python. Don't forget you can slice strings and other \"sequential\" types\n",
        "first_three = x[:3]\n",
        "three_to_end = x[3:]\n",
        "one_to_four = x[1:5] # inclusive of first, exclusive of last. Not sure how I feel about that.\n",
        "last_three = x[-3:] \n",
        "without_first_and_last = x[1:-1]\n",
        "copy_of_x = x[:]\n",
        "print(first_three, three_to_end, one_to_four, last_three, without_first_and_last, copy_of_x)"
      ],
      "execution_count": 0,
      "outputs": []
    },
    {
      "cell_type": "code",
      "metadata": {
        "id": "HICknPHR8bku",
        "colab_type": "code",
        "colab": {}
      },
      "source": [
        "# A slice can take a stride\n",
        "every_third = x[::3]\n",
        "five_to_three = x[5:2:-1]\n",
        "print(every_third, five_to_three)"
      ],
      "execution_count": 0,
      "outputs": []
    },
    {
      "cell_type": "code",
      "metadata": {
        "id": "bS4fmTCj85w4",
        "colab_type": "code",
        "colab": {}
      },
      "source": [
        "# *in* operator to test membership\n",
        "1 in [1, 2, 3]\n",
        "0 in [1, 2, 3]"
      ],
      "execution_count": 0,
      "outputs": []
    },
    {
      "cell_type": "code",
      "metadata": {
        "id": "lc_88UOT9ZWB",
        "colab_type": "code",
        "colab": {}
      },
      "source": [
        "# You can concatenate and modify relatively easily\n",
        "x = [1, 2, 3]\n",
        "x.extend([4, 5, 6])\n",
        "print(x)"
      ],
      "execution_count": 0,
      "outputs": []
    },
    {
      "cell_type": "code",
      "metadata": {
        "id": "yLgtUsxR9rlX",
        "colab_type": "code",
        "colab": {}
      },
      "source": [
        "x = [1, 2, 3]\n",
        "y = x + [4, 5, 6]\n",
        "print(y)"
      ],
      "execution_count": 0,
      "outputs": []
    },
    {
      "cell_type": "code",
      "metadata": {
        "id": "UX5D7Gxb933e",
        "colab_type": "code",
        "colab": {}
      },
      "source": [
        "x = [1, 2, 3]\n",
        "x.append(0)\n",
        "print(x)\n",
        "y = x[-1]\n",
        "print(y)\n",
        "z = len(x)\n",
        "print(z)"
      ],
      "execution_count": 0,
      "outputs": []
    },
    {
      "cell_type": "code",
      "metadata": {
        "id": "clWqouCr-BsW",
        "colab_type": "code",
        "colab": {}
      },
      "source": [
        "# You can also unpack\n",
        "x, y = [1, 2]\n",
        "print(x, y)"
      ],
      "execution_count": 0,
      "outputs": []
    },
    {
      "cell_type": "code",
      "metadata": {
        "id": "JQGlUyX2-RkD",
        "colab_type": "code",
        "colab": {}
      },
      "source": [
        "# Common idiom is to use underscore for things you throw away\n",
        "_, y = [1, 2]\n",
        "print(_, y) # Underscore is still a thing, though"
      ],
      "execution_count": 0,
      "outputs": []
    },
    {
      "cell_type": "code",
      "metadata": {
        "id": "z3Tr-4JY-c5y",
        "colab_type": "code",
        "colab": {}
      },
      "source": [
        "# Tuples are lists immutable cousins. Parenthesis versus brackets\n",
        "my_list = [1, 2]\n",
        "my_tuple = (1, 2)\n",
        "other_tuple = 3, 4\n",
        "my_list[1] = 3\n",
        "try:\n",
        "  my_tuple[1] = 3\n",
        "except TypeError:\n",
        "  print(\"cannot modify a tuple\")\n",
        "\n",
        "# Tuples are a convenient way to return multiple values from functions:\n",
        "def sum_and_product(x, y):\n",
        "  return (x + y), (x * y)\n",
        "sp = sum_and_product(2, 3)\n",
        "print(sp)\n",
        "s, p = sum_and_product(5, 10)\n",
        "print(s, p)"
      ],
      "execution_count": 0,
      "outputs": []
    },
    {
      "cell_type": "code",
      "metadata": {
        "id": "wbFWOlTx_GKO",
        "colab_type": "code",
        "colab": {}
      },
      "source": [
        "# Tuples and lists can also be used for multiple assignment\n",
        "x, y = 1, 2\n",
        "print(x, y)\n",
        "x, y = y, x\n",
        "print(x, y)"
      ],
      "execution_count": 0,
      "outputs": []
    },
    {
      "cell_type": "code",
      "metadata": {
        "id": "SY7d5-0L_xK8",
        "colab_type": "code",
        "colab": {}
      },
      "source": [
        "# Dictionaries for values and keys\n",
        "empty_dict = {} # Pythonic\n",
        "empty_dict2 = dict() # less Pythonic\n",
        "grades = {\"Joel\": 80, \"Tim\": 95} # literal\n"
      ],
      "execution_count": 0,
      "outputs": []
    },
    {
      "cell_type": "code",
      "metadata": {
        "id": "8KRZYXjJt_cb",
        "colab_type": "code",
        "colab": {}
      },
      "source": [
        "# Look up values using square brackets\n",
        "joels_grade = grades[\"Joel\"]\n",
        "print(joels_grade)"
      ],
      "execution_count": 0,
      "outputs": []
    },
    {
      "cell_type": "code",
      "metadata": {
        "id": "Wj917gILuRib",
        "colab_type": "code",
        "colab": {}
      },
      "source": [
        "# You'll get a KeyError exception if you look up something not in there\n",
        "try:\n",
        "  kates_grade = grades[\"Kate\"]\n",
        "except KeyError:\n",
        "  print(\"no grade for Kate!\")"
      ],
      "execution_count": 0,
      "outputs": []
    },
    {
      "cell_type": "code",
      "metadata": {
        "id": "FY2-JcgDuhcW",
        "colab_type": "code",
        "colab": {}
      },
      "source": [
        "# You can check for existence with \"in\"\n",
        "joel_has_grade = \"Joel\" in grades # True\n",
        "kate_has_grade = \"Kate\" in grades # False"
      ],
      "execution_count": 0,
      "outputs": []
    },
    {
      "cell_type": "code",
      "metadata": {
        "id": "Ct_fUxnhuvlN",
        "colab_type": "code",
        "colab": {}
      },
      "source": [
        "# The \"get\" method will return a default value instead of an exception\n",
        "joels_grade = grades.get(\"Joel\", 0) # equals 80\n",
        "kates_grade = grades.get(\"Kate\", 0) # equals 0\n",
        "no_ones_grade = grades.get(\"No One\") # default is None\n",
        "print(joels_grade, kates_grade, no_ones_grade)"
      ],
      "execution_count": 0,
      "outputs": []
    },
    {
      "cell_type": "code",
      "metadata": {
        "id": "k8QCN2tmvYG0",
        "colab_type": "code",
        "colab": {}
      },
      "source": [
        "# Assignment is also done with brackets\n",
        "grades[\"Tim\"] = 99  # replaces old value\n",
        "grades[\"Kate\"] = 100 # adds third entry\n",
        "num_students = len(grades)\n",
        "print(num_students)"
      ],
      "execution_count": 0,
      "outputs": []
    },
    {
      "cell_type": "code",
      "metadata": {
        "id": "MHWIpspqv8Jx",
        "colab_type": "code",
        "colab": {}
      },
      "source": [
        "# Dictionaries are a covenient way to represent structured data\n",
        "tweet = {\n",
        "    \"user\": \"joelgrus\",\n",
        "    \"text\": \"Data Science is Awesome\",\n",
        "    \"retweet_count\": 100,\n",
        "    \"hashtags\": [\"#data\",\"#science\",\"#datascience\",\"#awesome\",\"#yolo\"]\n",
        "}\n",
        "print(tweet)"
      ],
      "execution_count": 0,
      "outputs": []
    },
    {
      "cell_type": "code",
      "metadata": {
        "id": "j15b3c1Dw2ik",
        "colab_type": "code",
        "colab": {}
      },
      "source": [
        "# You can look through keys, as well\n",
        "tweet_keys = tweet.keys() # iterable for the keys\n",
        "tweet_values = tweet.values() # iterable for the values\n",
        "tweet_items = tweet.items() # iterable for the (key, value) tuples\n",
        "\n",
        "print(\"user\" in tweet_keys) # True, but not Pythonic\n",
        "print(\"user\" in tweet) # Pythonic way\n",
        "print(\"joelgrus\" in tweet_values) # True (slow but the only way to check)\n",
        "# Dictionary keys must be \"hashable\" so you can't use lists. Use tuples or strings\n",
        "print(tweet_keys)"
      ],
      "execution_count": 0,
      "outputs": []
    },
    {
      "cell_type": "code",
      "metadata": {
        "id": "sdiMl7qpxCvM",
        "colab_type": "code",
        "colab": {}
      },
      "source": [
        "# A convenience container that will automatically add things if you want is the defaultdict\n",
        "# Otherwise, you have to handle things manually like these three options\n",
        "document = [\"the\", \"quick\", \"brown\", \"fox\", \"jumped\", \"over\", \"the\", \"log\"]\n",
        "\n",
        "word_counts = {}\n",
        "for word in document:\n",
        "  if word in word_counts:\n",
        "    word_counts[word] +=1\n",
        "  else:\n",
        "    word_counts[word] = 1\n",
        "\n",
        "word_counts = {}\n",
        "for word in document:\n",
        "  try:\n",
        "    word_counts[word] += 1\n",
        "  except KeyError:\n",
        "    word_counts[word] = 1\n",
        "\n",
        "word_counts = {}\n",
        "for word in document:\n",
        "  previous_count = word_counts.get(word, 0)\n",
        "  word_counts[word] = previous_count + 1"
      ],
      "execution_count": 0,
      "outputs": []
    },
    {
      "cell_type": "code",
      "metadata": {
        "id": "E-CDbOrr7fGK",
        "colab_type": "code",
        "colab": {}
      },
      "source": [
        "print(word_counts)"
      ],
      "execution_count": 0,
      "outputs": []
    },
    {
      "cell_type": "code",
      "metadata": {
        "id": "UyE_dQ7j81X1",
        "colab_type": "code",
        "colab": {}
      },
      "source": [
        "from collections import defaultdict\n",
        "\n",
        "word_counts = defaultdict(int) # int() produces 0\n",
        "for word in document:\n",
        "  word_counts[word] += 1\n",
        "print(word_counts)\n"
      ],
      "execution_count": 0,
      "outputs": []
    },
    {
      "cell_type": "code",
      "metadata": {
        "id": "CXAMS4dRIl_7",
        "colab_type": "code",
        "colab": {}
      },
      "source": [
        "# Also useful with list or dict or your own function\n",
        "dd_list = defaultdict(list) # list produces an empty list\n",
        "dd_list[2].append(1) # now dd_list contains {2: [1]}\n",
        "dd_dict = defaultdict(dict) # dict() produces an empty dict\n",
        "dd_dict[\"Joel\"][\"City\"] = \"Seattle\" # {\"Joel: {\"City\": \"Seattle\"}}\n",
        "dd_pair = defaultdict(lambda: [0,0])\n",
        "dd_pair[2][1] = 1 # now dd_pair contains {2: [0, 1]}"
      ],
      "execution_count": 0,
      "outputs": []
    },
    {
      "cell_type": "code",
      "metadata": {
        "id": "7JwPmFusIpYm",
        "colab_type": "code",
        "colab": {}
      },
      "source": [
        "# A Counter turns a sequence of values into a defaultdict(int)-like object mapping keys to counts\n",
        "from collections import Counter\n",
        "c = Counter([0, 1, 2, 3, 4])\n",
        "word_counts = Counter(document)\n",
        "print(word_counts)"
      ],
      "execution_count": 0,
      "outputs": []
    },
    {
      "cell_type": "code",
      "metadata": {
        "id": "VanU0-RqMeJc",
        "colab_type": "code",
        "colab": {}
      },
      "source": [
        "# Print the 10 most common words and their counts\n",
        "for word, count in word_counts.most_common(10):\n",
        "  print(word, count)"
      ],
      "execution_count": 0,
      "outputs": []
    },
    {
      "cell_type": "code",
      "metadata": {
        "id": "XRj7JXwEM4cz",
        "colab_type": "code",
        "colab": {}
      },
      "source": [
        "# Sets are a collection of distinct elements\n",
        "primes_below_10 = {2, 3, 5, 7}\n",
        "s = set() # since you can't initialize an empty set with brackets because that's an empty dict\n",
        "s.add(1)\n",
        "s.add(2)\n",
        "s.add(2)\n",
        "x = len(s)\n",
        "y = 2 in s\n",
        "z = 3 in s\n",
        "print(s, x, y, z)"
      ],
      "execution_count": 0,
      "outputs": []
    },
    {
      "cell_type": "code",
      "metadata": {
        "id": "l1T2sADFNTxn",
        "colab_type": "code",
        "colab": {}
      },
      "source": [
        "# \"in\" is very fast for sets\n",
        "stopwords_list = [\"a\", \"an\", \"at\"] + [\"other\", \"words\"] + [\"yet\", \"you\"]\n",
        "\"zip\" in stopwords_list\n",
        "stopwords_set = set(stopwords_list)\n",
        "\"zip\" in stopwords_set # very fast"
      ],
      "execution_count": 0,
      "outputs": []
    },
    {
      "cell_type": "code",
      "metadata": {
        "id": "18ycNPQHNrWi",
        "colab_type": "code",
        "colab": {}
      },
      "source": [
        "# Also good for the distinct elements in a collection\n",
        "item_list = [1, 2, 3, 1, 2, 3]\n",
        "num_items = len(item_list)\n",
        "item_set = set(item_list)\n",
        "num_distinct_items = len(item_set)\n",
        "distinct_item_list = list(item_set)\n",
        "print(num_items, num_distinct_items)"
      ],
      "execution_count": 0,
      "outputs": []
    },
    {
      "cell_type": "code",
      "metadata": {
        "id": "FFms-6n8N0_r",
        "colab_type": "code",
        "colab": {}
      },
      "source": [
        "# Control flow \n",
        "if 1 > 2:\n",
        "  message = \"if only 1 were greater than two...\"\n",
        "elif 1 > 3:\n",
        "  message = \"elif stands for 'else if'\"\n",
        "else:\n",
        "  message = \"when all else fails use else (if you want to)\"\n",
        "print(message)\n"
      ],
      "execution_count": 0,
      "outputs": []
    },
    {
      "cell_type": "code",
      "metadata": {
        "id": "ZJpbColcfSAn",
        "colab_type": "code",
        "colab": {}
      },
      "source": [
        "# Ternary if-then-else\n",
        "x = 3\n",
        "parity = \"even\" if x % 2 == 0 else \"odd\"\n",
        "print(parity)"
      ],
      "execution_count": 0,
      "outputs": []
    },
    {
      "cell_type": "code",
      "metadata": {
        "id": "4jIOgzosff76",
        "colab_type": "code",
        "colab": {}
      },
      "source": [
        "# While\n",
        "x = 0\n",
        "while x < 10:\n",
        "  print(f\"{x} is less than 10\")\n",
        "  x += 1"
      ],
      "execution_count": 0,
      "outputs": []
    },
    {
      "cell_type": "code",
      "metadata": {
        "id": "3KYj5WHOfxnF",
        "colab_type": "code",
        "colab": {}
      },
      "source": [
        "# For in\n",
        "for x in range(10):\n",
        "  print(f\"{x} is less than 10\")"
      ],
      "execution_count": 0,
      "outputs": []
    },
    {
      "cell_type": "code",
      "metadata": {
        "id": "bkK4-8nCf9aX",
        "colab_type": "code",
        "colab": {}
      },
      "source": [
        "# Continue and break\n",
        "for x in range(10):\n",
        "  if x == 3:\n",
        "    continue # go to next iteration\n",
        "  if x == 5:\n",
        "    break # quit entirely\n",
        "  print(x)"
      ],
      "execution_count": 0,
      "outputs": []
    },
    {
      "cell_type": "code",
      "metadata": {
        "id": "8rU9bSe_gMRA",
        "colab_type": "code",
        "colab": {}
      },
      "source": [
        "# Booleans are capitalized\n",
        "one_is_less_than_two = 1 < 2\n",
        "true_equals_false = True == False"
      ],
      "execution_count": 0,
      "outputs": []
    },
    {
      "cell_type": "code",
      "metadata": {
        "id": "JQaByhVGiLZp",
        "colab_type": "code",
        "colab": {}
      },
      "source": [
        "# Python uses \"None\" for null\n",
        "x = None\n",
        "assert x == None # not Pythonic\n",
        "assert x is None # Pythonic"
      ],
      "execution_count": 0,
      "outputs": []
    },
    {
      "cell_type": "code",
      "metadata": {
        "id": "F_uEytDliZ-W",
        "colab_type": "code",
        "colab": {}
      },
      "source": [
        "# Python lets you use any value where it expects a Boolean. The following are all Falsy\n",
        "False\n",
        "None\n",
        "[] # empty list \n",
        "{} # empty dict\n",
        "\"\"\n",
        "set()\n",
        "0\n",
        "0.0"
      ],
      "execution_count": 0,
      "outputs": []
    },
    {
      "cell_type": "code",
      "metadata": {
        "id": "g2aFYFlli4Zh",
        "colab_type": "code",
        "colab": {}
      },
      "source": [
        "#s = some_function_that_returns_a_string()\n",
        "#if s:\n",
        "#  first_char = s[0]\n",
        "#else:\n",
        "#  first_char = \"\"\n",
        "\n",
        "# or\n",
        "\n",
        "# first_char = s and s[0] # since Python returns the second value when the first is true, and the first value when it's not\n",
        "\n",
        "safe_x = x or 0\n",
        "safe_x = x if x is not None else 0\n",
        "\n",
        "# All function that returns when every element is truthy\n",
        "all([True, 1, {3}]) # True\n",
        "all([True, 1, []]) # False\n",
        "any([True, 1, {}]) # True\n",
        "all([]) # True\n",
        "any([]) # False\n"
      ],
      "execution_count": 0,
      "outputs": []
    },
    {
      "cell_type": "code",
      "metadata": {
        "id": "xWzuq5yJll1K",
        "colab_type": "code",
        "colab": {}
      },
      "source": [
        "# Sorting\n",
        "x = [4, 1, 2, 3]\n",
        "y = sorted(x)\n",
        "x.sort()\n",
        "print(y, x)"
      ],
      "execution_count": 0,
      "outputs": []
    },
    {
      "cell_type": "code",
      "metadata": {
        "id": "_GY2yfAgnF1N",
        "colab_type": "code",
        "colab": {}
      },
      "source": [
        "# Sort the list by absolute value from largest to smallest\n",
        "x = sorted([-4, 1, -2, 3], key=abs, reverse=True)\n"
      ],
      "execution_count": 0,
      "outputs": []
    },
    {
      "cell_type": "code",
      "metadata": {
        "id": "aCgz2DainmhU",
        "colab_type": "code",
        "colab": {}
      },
      "source": [
        "# Sort the words and counts from highest count to lowest\n",
        "wc = sorted(word_counts.items(),\n",
        "            key=lambda word_and_count: word_and_count[1],\n",
        "            reverse=True)\n",
        "print(wc)"
      ],
      "execution_count": 0,
      "outputs": []
    },
    {
      "cell_type": "code",
      "metadata": {
        "id": "QHTHmWRRn_qy",
        "colab_type": "code",
        "colab": {}
      },
      "source": [
        "# List comprehensions - creating lists from other lists based on some criteria\n",
        "even_numbers = [x for x in range(5) if x % 2 == 0]\n",
        "print(even_numbers)\n",
        "squares = [x * x for x in range(5)]\n",
        "print(squares)\n",
        "even_squares = [x * x for x in even_numbers]\n",
        "print(even_squares)"
      ],
      "execution_count": 0,
      "outputs": []
    },
    {
      "cell_type": "code",
      "metadata": {
        "id": "PZxeEBpueb-4",
        "colab_type": "code",
        "colab": {}
      },
      "source": [
        "# You can turn lists in dicts or sets\n",
        "square_dict = {x: x * x for x in range(5)}\n",
        "print(square_dict)\n",
        "square_set = {x * x for x in [1, -1]}\n",
        "print(square_set)"
      ],
      "execution_count": 0,
      "outputs": []
    },
    {
      "cell_type": "code",
      "metadata": {
        "id": "qMtBetDue8ht",
        "colab_type": "code",
        "colab": {}
      },
      "source": [
        "# If you don't need the value from the list, it is common to use an underscore as the variable\n",
        "zeros = [0 for _ in even_numbers]\n",
        "print(zeros)"
      ],
      "execution_count": 0,
      "outputs": []
    },
    {
      "cell_type": "code",
      "metadata": {
        "id": "sKVexU0DfYvm",
        "colab_type": "code",
        "colab": {}
      },
      "source": [
        "# List comprehensions can contain multiple fors:\n",
        "pairs = [(x, y)\n",
        "          for x in range(10)\n",
        "          for y in range(10)]\n",
        "print(pairs)"
      ],
      "execution_count": 0,
      "outputs": []
    },
    {
      "cell_type": "code",
      "metadata": {
        "id": "0yBunWUGfp2v",
        "colab_type": "code",
        "colab": {}
      },
      "source": [
        "# And later fors can use earlier ones:\n",
        "increasing_pairs = [(x, y)              # only pairs with x < y\n",
        "                    for x in range(10)  \n",
        "                    for y in range(x + 1, 10)]\n",
        "print(increasing_pairs)"
      ],
      "execution_count": 0,
      "outputs": []
    },
    {
      "cell_type": "code",
      "metadata": {
        "id": "ROv6wy0ngLJN",
        "colab_type": "code",
        "colab": {}
      },
      "source": [
        "# Using types and automated tests are two ways to verify correct code in Python. \n",
        "# In this book, we'll keep tests simple with asserts\n",
        "assert 1 + 1 == 2\n",
        "assert 1 + 1 == 2, \"1 + 1 should equal 2 but didn't\"\n",
        "# assert 1 + 2 == 2, \"1 + 1 should equal 2 but didn't\""
      ],
      "execution_count": 0,
      "outputs": []
    },
    {
      "cell_type": "code",
      "metadata": {
        "id": "vm8fEqEAhJ8N",
        "colab_type": "code",
        "colab": {}
      },
      "source": [
        "# Functions in Python\n",
        "def smallest_item(xs):\n",
        "  return min(xs)\n",
        "\n",
        "assert smallest_item([10, 20, 5, 40]) == 5\n",
        "assert smallest_item([1, 0, -1, 2]) == -1"
      ],
      "execution_count": 0,
      "outputs": []
    },
    {
      "cell_type": "code",
      "metadata": {
        "id": "A2XKlHI-hhOc",
        "colab_type": "code",
        "colab": {}
      },
      "source": [
        "# Less common is to assert things about inputs to functions:\n",
        "def smallest_item(xs):\n",
        "  assert xs, \"empty list has no smallest item\"\n",
        "  return min(xs)"
      ],
      "execution_count": 0,
      "outputs": []
    },
    {
      "cell_type": "code",
      "metadata": {
        "id": "dIQWtswyh4AV",
        "colab_type": "code",
        "colab": {
          "base_uri": "https://localhost:8080/",
          "height": 34
        },
        "outputId": "be25e606-d9fa-4b85-c970-e44f0dd3117d"
      },
      "source": [
        "# Classes in Python\n",
        "class CountingClicker:\n",
        "  \"\"\"A class can/should have a docstring, just like a function\"\"\"\n",
        "  def __init__(self, count = 0):\n",
        "    self.count = count\n",
        "\n",
        "  def __repr__(self):\n",
        "    return f\"CountingClicker(count={self.count})\"\n",
        "\n",
        "  def click(self, num_times = 1):\n",
        "    \"\"\"Click the clicker some number of times.\"\"\"\n",
        "    self.count += num_times\n",
        "\n",
        "  def read(self):\n",
        "    return self.count\n",
        "  \n",
        "  def reset(self):\n",
        "    self.count = 0\n",
        "\n",
        "clicker1 = CountingClicker()\n",
        "clicker2 = CountingClicker(100)\n",
        "clicker3 = CountingClicker(count=100)\n",
        "print(clicker1.count, clicker2.count)\n",
        "\n",
        "clicker = CountingClicker()\n",
        "assert clicker.read() == 0, \"clicker should start with count 0\"\n",
        "clicker.click()\n",
        "clicker.click()\n",
        "assert clicker.read() == 2, \"after two clicks, clicker should have count 2\"\n",
        "clicker.reset()\n",
        "assert clicker.read() == 0, \"after reset, clicker should be back to 0\""
      ],
      "execution_count": 3,
      "outputs": [
        {
          "output_type": "stream",
          "text": [
            "0 100\n"
          ],
          "name": "stdout"
        }
      ]
    },
    {
      "cell_type": "code",
      "metadata": {
        "id": "adnRsCyquipF",
        "colab_type": "code",
        "colab": {}
      },
      "source": [
        "# A subclass inherits all the behavior of its parent class.\n",
        "class NoResetClicker(CountingClicker):\n",
        "  # This class has all the same methods as CountingClicker\n",
        "\n",
        "  # Except that it has a reset method that does nothing.\n",
        "  def reset(self):\n",
        "    pass\n",
        "\n",
        "clicker2 = NoResetClicker()\n",
        "assert clicker2.read() == 0\n",
        "clicker2.click()\n",
        "assert clicker2.read() == 1\n",
        "clicker2.reset()\n",
        "assert clicker2.read() == 1, \"reset shouldn't do anything\""
      ],
      "execution_count": 0,
      "outputs": []
    },
    {
      "cell_type": "code",
      "metadata": {
        "id": "8a4BVIadyGR2",
        "colab_type": "code",
        "colab": {}
      },
      "source": [
        "# Generators are used for lazy evaluation. Regular \"range\" does things lazily, so no need for things like the below:\n",
        "def generate_range(n):\n",
        "  i = 0\n",
        "  while i < n:\n",
        "    yield i # every call to yield produces a value of the generator\n",
        "    i += 1\n",
        "\n",
        "for i in generate_range(10):\n",
        "  print(f\"i: {i}\")"
      ],
      "execution_count": 0,
      "outputs": []
    },
    {
      "cell_type": "code",
      "metadata": {
        "id": "wLEWM81i5q8Y",
        "colab_type": "code",
        "colab": {}
      },
      "source": [
        "# You can gen infinite sequences, if you want.\n",
        "def natural_numbers():\n",
        "  \"\"\"returns 1, 2, 3, 4, 5...\"\"\"\n",
        "  n = 1\n",
        "  while True:\n",
        "    yield n\n",
        "    n += 1"
      ],
      "execution_count": 0,
      "outputs": []
    },
    {
      "cell_type": "code",
      "metadata": {
        "id": "O4kUVTj0-uIS",
        "colab_type": "code",
        "colab": {}
      },
      "source": [
        "# Another way to create generators using \"for\" comprehensions wrapped in parenthesis\n",
        "evens_below_20 = (i for i in generate_range(20) if i % 2 == 0)\n",
        "print(evens_below_20)"
      ],
      "execution_count": 0,
      "outputs": []
    },
    {
      "cell_type": "code",
      "metadata": {
        "id": "TA6b9wss_FIu",
        "colab_type": "code",
        "colab": {}
      },
      "source": [
        "# Generator comprehensions don't do any work until you iterate over them using \"for\" or \"next\"\n",
        "# None of these comprehensions does anything until we iterate\n",
        "data = natural_numbers()\n",
        "evens = (x for x in data if x % 2 == 0)\n",
        "even_squares = (x ** 2 for x in evens)\n",
        "even_squares_ending_in_six = (x for x in even_squares if x % 10 == 6)\n"
      ],
      "execution_count": 0,
      "outputs": []
    },
    {
      "cell_type": "code",
      "metadata": {
        "id": "8YEv92vo_yE7",
        "colab_type": "code",
        "colab": {}
      },
      "source": [
        "print(data, evens, even_squares, even_squares_ending_in_six)"
      ],
      "execution_count": 0,
      "outputs": []
    },
    {
      "cell_type": "code",
      "metadata": {
        "id": "ddasUQbs_5_D",
        "colab_type": "code",
        "colab": {}
      },
      "source": [
        "# Python's enumerate function gives you the index as well as the value in a list or generator\n",
        "names = [\"Alice\", \"Bob\", \"Charlie\", \"Debbie\"]\n",
        "\n",
        "# not Pythonic\n",
        "for i in range(len(names)):\n",
        "  print(f\"name {i} is {names[i]}\")\n",
        "\n",
        "# also not Pythonic\n",
        "i = 0\n",
        "for name in names:\n",
        "  print(f\"name {i} is {names[i]}\")\n",
        "  i += 1\n",
        "\n",
        "# Pythonic\n",
        "for i, name in enumerate(names):\n",
        "  print(f\"names {i} is {names[i]}\")"
      ],
      "execution_count": 0,
      "outputs": []
    },
    {
      "cell_type": "code",
      "metadata": {
        "id": "69RQBPSiAy2j",
        "colab_type": "code",
        "colab": {}
      },
      "source": [
        "# Random numbers are kinda important in data science\n",
        "import random\n",
        "random.seed(10) # this ensures we get the same results every time\n",
        "\n",
        "four_uniform_randoms = [random.random() for _ in range(4)]\n",
        "print(four_uniform_randoms)"
      ],
      "execution_count": 0,
      "outputs": []
    },
    {
      "cell_type": "code",
      "metadata": {
        "id": "wsPfy3HPDPnD",
        "colab_type": "code",
        "colab": {}
      },
      "source": [
        "random.seed(10)\n",
        "print(random.random())\n",
        "random.seed(10)\n",
        "print(random.random())"
      ],
      "execution_count": 0,
      "outputs": []
    },
    {
      "cell_type": "code",
      "metadata": {
        "id": "sg_8l1b_DkKF",
        "colab_type": "code",
        "colab": {}
      },
      "source": [
        "print(random.randrange(10))  # choose randomly from range(10) = [0, 1, 2, ...9]\n",
        "print(random.randrange(3, 6)) # choose randomly from range(3, 6) = [3, 4, 5]"
      ],
      "execution_count": 0,
      "outputs": []
    },
    {
      "cell_type": "code",
      "metadata": {
        "id": "_BIZg_ehD369",
        "colab_type": "code",
        "colab": {}
      },
      "source": [
        "# Shuffle\n",
        "up_to_ten = [*range(1,11)]\n",
        "random.shuffle(up_to_ten)\n",
        "print(up_to_ten)"
      ],
      "execution_count": 0,
      "outputs": []
    },
    {
      "cell_type": "code",
      "metadata": {
        "id": "iBkEgxcqEfF1",
        "colab_type": "code",
        "colab": {}
      },
      "source": [
        "# random.choice to randomly pick one element\n",
        "my_best_friend = random.choice([\"Alice\", \"Bob\", \"Charlie\"])\n",
        "print(my_best_friend)"
      ],
      "execution_count": 0,
      "outputs": []
    },
    {
      "cell_type": "code",
      "metadata": {
        "id": "ZGAs3jSPF1Ll",
        "colab_type": "code",
        "colab": {}
      },
      "source": [
        "# Here's how you choose random numbers without replacement\n",
        "lottery_numbers = range(60)\n",
        "winning_numbers = random.sample(lottery_numbers, 6)\n",
        "print(winning_numbers)"
      ],
      "execution_count": 0,
      "outputs": []
    },
    {
      "cell_type": "code",
      "metadata": {
        "id": "DQPZcFfeItHp",
        "colab_type": "code",
        "colab": {}
      },
      "source": [
        "# With replacement\n",
        "four_with_replacement = [random.choice(range(10)) for _ in range(4)]\n",
        "print(four_with_replacement)"
      ],
      "execution_count": 0,
      "outputs": []
    },
    {
      "cell_type": "code",
      "metadata": {
        "id": "zsHUgRgbI8Z3",
        "colab_type": "code",
        "colab": {}
      },
      "source": [
        "# Regular expressions\n",
        "import re\n",
        "\n",
        "re_examples = [                                      # All of these are True, because\n",
        "               not re.match(\"a\", \"cat\"),              # 'cat' doesn't start with 'a'\n",
        "               re.search(\"a\", \"cat\"),                 # 'cat' has an 'a' in it\n",
        "               not re.search(\"c\", \"dog\"),             # 'dog' doesn't have a 'c' in it\n",
        "               3 == len(re.split(\"[ab]\", \"carbs\")),   # split on a or b to ['c','r','s']\n",
        "               \"R-D-\" == re.sub(\"[0-9]\", \"-\", \"R2D2\") # replace digits with dashes\n",
        "]\n",
        "assert all(re_examples) # all regex examples should be True"
      ],
      "execution_count": 0,
      "outputs": []
    },
    {
      "cell_type": "code",
      "metadata": {
        "id": "_xo4vVjQUtuN",
        "colab_type": "code",
        "colab": {}
      },
      "source": [
        "# Zip and argument unpacking\n",
        "list1 = ['a', 'b', 'c']\n",
        "list2 = [1, 2, 3]\n",
        "\n",
        "# Zip is lazy\n",
        "pairs = [pair for pair in zip(list1, list2)]    # is [('a', 1), ('b', 2), ('c', 3)]\n",
        "print(pairs)"
      ],
      "execution_count": 0,
      "outputs": []
    },
    {
      "cell_type": "code",
      "metadata": {
        "id": "lyvNiba_zkGt",
        "colab_type": "code",
        "colab": {}
      },
      "source": [
        "# Zip stops on the shorter list. And you can also 'unzip' with the unpack operator\n",
        "letters, numbers = zip(*pairs) # same as letters, numbers = zip(('a',1), ('b',2),('c',3))\n",
        "print(letters, numbers)"
      ],
      "execution_count": 0,
      "outputs": []
    },
    {
      "cell_type": "code",
      "metadata": {
        "id": "MD9m8VW20RAd",
        "colab_type": "code",
        "colab": {}
      },
      "source": [
        "# You can use arg unpacking with any function:\n",
        "def add(a, b): return a + b\n",
        "\n",
        "add(1, 2) # returns 3\n",
        "try:\n",
        "  add([1,2])\n",
        "except TypeError:\n",
        "  print(\"add expects two inputs\")\n",
        "\n",
        "add(*[1,2]) # returns 3"
      ],
      "execution_count": 0,
      "outputs": []
    },
    {
      "cell_type": "code",
      "metadata": {
        "id": "L8Kp9iVJ1IXX",
        "colab_type": "code",
        "colab": {}
      },
      "source": [
        "# args and kwargs\n",
        "def doubler(f):\n",
        "  # Here we define a new function that keeps a reference to f\n",
        "  def g(x):\n",
        "    return 2 * f(x)\n",
        "  # And return that new function\n",
        "  return g"
      ],
      "execution_count": 0,
      "outputs": []
    },
    {
      "cell_type": "code",
      "metadata": {
        "id": "IFmlT2n41oCu",
        "colab_type": "code",
        "colab": {}
      },
      "source": [
        "# Works sometimes\n",
        "def f1(x):\n",
        "  return x + 1\n",
        "\n",
        "g = doubler(f1)\n",
        "assert g(3) == 8, \"(3 + 1) * 2 should equal 8\"\n",
        "assert g(-1) == 0, \"(-1 + 1) * 2 should equal 0\""
      ],
      "execution_count": 0,
      "outputs": []
    },
    {
      "cell_type": "code",
      "metadata": {
        "id": "aPmdxvh02DLn",
        "colab_type": "code",
        "colab": {}
      },
      "source": [
        "# But not with functions with more than one argument\n",
        "def f2(x, y):\n",
        "  return x + y\n",
        "\n",
        "g = doubler(f2)\n",
        "try:\n",
        "  g(1, 2)\n",
        "except TypeError:\n",
        "  print(\"as defined, g only takes one argument\")"
      ],
      "execution_count": 0,
      "outputs": []
    },
    {
      "cell_type": "code",
      "metadata": {
        "id": "AlGJ7cdx2XD2",
        "colab_type": "code",
        "colab": {}
      },
      "source": [
        "# We can solve this problem with unpacking and a little bit of magic\n",
        "def magic(*args, **kwargs):\n",
        "  print(\"unnamed args:\", args)\n",
        "  print(\"keyword args:\", kwargs)\n",
        "\n",
        "magic(1, 2, 3, key=\"word\", key2=\"word2\")"
      ],
      "execution_count": 0,
      "outputs": []
    },
    {
      "cell_type": "code",
      "metadata": {
        "id": "JEe48mdP2yE_",
        "colab_type": "code",
        "colab": {}
      },
      "source": [
        "# This works the other way around, too\n",
        "def other_way_magic(x, y, z):\n",
        "  return x + y + z\n",
        "\n",
        "x_y_list = [1, 2]\n",
        "z_dict = {\"z\": 3}\n",
        "assert other_way_magic(*x_y_list, **z_dict) == 6, \"1 + 2 + 3 should be 6\""
      ],
      "execution_count": 0,
      "outputs": []
    },
    {
      "cell_type": "code",
      "metadata": {
        "id": "Mclv5J3a3dpt",
        "colab_type": "code",
        "colab": {}
      },
      "source": [
        "# Here's the correct way to do the doubler\n",
        "def doubler_correct(f):\n",
        "  \"\"\"works no matter what kind of inputs f expects\"\"\"\n",
        "  def g(*args, **kwargs):\n",
        "    \"\"\"whatever arguments g is supplied, pass them through to f\"\"\"\n",
        "    return 2 * f(*args, **kwargs)\n",
        "  return g\n",
        "\n",
        "g = doubler_correct(f2)\n",
        "assert g(1, 2) == 6, \"doubler should work now\""
      ],
      "execution_count": 0,
      "outputs": []
    },
    {
      "cell_type": "code",
      "metadata": {
        "id": "KbE5Eh0v4ENu",
        "colab_type": "code",
        "colab": {}
      },
      "source": [
        "# Generally, your code will be more correct and more readable if you are explicit about what arguments\n",
        "# you require, but you can use args and kwargs when you don't have other options\n",
        "\n",
        "# Python doesn't usually care about types of objects as long as we use them in valid ways\n",
        "def add(a, b):\n",
        "  return a + b\n",
        "\n",
        "# All valid adds\n",
        "assert add(10, 5) == 15\n",
        "assert add([1, 2], [3]) == [1, 2, 3]\n",
        "assert add(\"hi \", \"there\") == \"hi there\"\n",
        "\n",
        "# But not this one\n",
        "try:\n",
        "  add(10, \"five\")\n",
        "except TypeError:\n",
        "  print(\"cannot add an int to a string\")"
      ],
      "execution_count": 0,
      "outputs": []
    },
    {
      "cell_type": "code",
      "metadata": {
        "id": "UJhsIgL544_f",
        "colab_type": "code",
        "colab": {}
      },
      "source": [
        "# Newer versions of Python let you do type annotations to make code clearer of intent,\n",
        "# even though it will still add things if it can. You can use mypy to check before running code.\n",
        "def add(a: int, b: int) -> int:\n",
        "  return a + b\n",
        "\n",
        "# These are both still OK \n",
        "add(10, 5)\n",
        "add(\"hi\", \"there\")"
      ],
      "execution_count": 0,
      "outputs": []
    },
    {
      "cell_type": "code",
      "metadata": {
        "id": "X2BgLTe_7Dyx",
        "colab_type": "code",
        "colab": {}
      },
      "source": [
        "# Use the typing module to help clarify type annotations\n",
        "from typing import List # note capital L\n",
        "\n",
        "def total(xs: List[float]) -> float:\n",
        "  return sum(total)\n",
        "  "
      ],
      "execution_count": 0,
      "outputs": []
    },
    {
      "cell_type": "code",
      "metadata": {
        "id": "vfcDS3yC7wDX",
        "colab_type": "code",
        "colab": {}
      },
      "source": [
        "# You can use type annotations on variables, but most of the time it is obvious\n",
        "x: int = 5\n",
        "\n",
        "# But sometimes not\n",
        "values = [] # what type?\n",
        "best_so_far = None # what type?\n",
        "\n",
        "# So we us the Optional type hint\n",
        "from typing import Optional\n",
        "\n",
        "values: List[int] = []\n",
        "best_so_far: Optional[float] = None # allowed to be either a float or None\n"
      ],
      "execution_count": 0,
      "outputs": []
    },
    {
      "cell_type": "code",
      "metadata": {
        "id": "0I-2kxI874yo",
        "colab_type": "code",
        "colab": {}
      },
      "source": [
        "# The type annotations in this snippet are all uncessary\n",
        "from typing import Dict, Iterable, Tuple\n",
        "\n",
        "# keys are strings, values are ints\n",
        "counts: Dict[str, int] = {'data': 1, 'science': 2}\n",
        "\n",
        "# lists and generators are both iterable\n",
        "lazy = True\n",
        "if lazy:\n",
        "  evens: Iterable[int] = (x for x in range(10) if x % 2 == 0)\n",
        "else:\n",
        "  evens = [0, 2, 4, 6, 8]\n",
        "\n",
        "# tuples specify type for each element\n",
        "triple: Tuple[int, float, int] = (10, 2.3, 5)"
      ],
      "execution_count": 0,
      "outputs": []
    },
    {
      "cell_type": "code",
      "metadata": {
        "id": "924OQma_8v-X",
        "colab_type": "code",
        "colab": {}
      },
      "source": [
        "# For functions\n",
        "from typing import Callable\n",
        "\n",
        "# The type hint says that repeater is a function that takes\n",
        "# two arguments, a string and an int, and returns a string.\n",
        "def twice(repeater: Callable[[str,int], str], s: str) -> str:\n",
        "  return repeater(s, 2)\n",
        "\n",
        "def comma_repeater(s: str, n: int) -> str:\n",
        "  n_copies = [s for _ in range(n)]\n",
        "  return ', '.join(n_copies)\n",
        "\n",
        "assert twice(comma_repeater, \"type hints\") == \"type hints, type hints\""
      ],
      "execution_count": 0,
      "outputs": []
    },
    {
      "cell_type": "code",
      "metadata": {
        "id": "cu66f_XL-Ntw",
        "colab_type": "code",
        "colab": {}
      },
      "source": [
        "# Type annotations are just Python objects so we can assign them to variables to them easier to refer to\n",
        "Number = int\n",
        "Numbers = List[Number]\n",
        "\n",
        "def tota(xs: Numbers) -> Number:\n",
        "  return sum(xs)"
      ],
      "execution_count": 0,
      "outputs": []
    },
    {
      "cell_type": "code",
      "metadata": {
        "id": "DRgMARpS-zsS",
        "colab_type": "code",
        "colab": {}
      },
      "source": [
        ""
      ],
      "execution_count": 0,
      "outputs": []
    }
  ]
}