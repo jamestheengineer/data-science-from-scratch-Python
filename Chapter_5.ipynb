{
  "nbformat": 4,
  "nbformat_minor": 0,
  "metadata": {
    "colab": {
      "name": "Chapter_5.ipynb",
      "provenance": [],
      "authorship_tag": "ABX9TyNNU7yM9i99Crd28jeWp/Qq",
      "include_colab_link": true
    },
    "kernelspec": {
      "name": "python3",
      "display_name": "Python 3"
    }
  },
  "cells": [
    {
      "cell_type": "markdown",
      "metadata": {
        "id": "view-in-github",
        "colab_type": "text"
      },
      "source": [
        "<a href=\"https://colab.research.google.com/github/jamestheengineer/data-science-from-scratch-Python/blob/master/Chapter_5.ipynb\" target=\"_parent\"><img src=\"https://colab.research.google.com/assets/colab-badge.svg\" alt=\"Open In Colab\"/></a>"
      ]
    },
    {
      "cell_type": "code",
      "metadata": {
        "id": "UNrFr28DznVA",
        "colab_type": "code",
        "colab": {}
      },
      "source": [
        "# Chapter 5 - Statistics\n",
        "\n",
        "# Cheating and copying this list\n",
        "num_friends = [100.0,49,41,40,25,21,21,19,19,18,18,16,15,15,15,15,14,14,13,13,13,13,12,12,11,10,10,10,10,10,10,10,10,10,10,10,10,10,10,10,9,9,9,9,9,9,9,9,9,9,9,9,9,9,9,9,9,9,8,8,8,8,8,8,8,8,8,8,8,8,8,7,7,7,7,7,7,7,7,7,7,7,7,7,7,7,6,6,6,6,6,6,6,6,6,6,6,6,6,6,6,6,6,6,6,6,6,6,5,5,5,5,5,5,5,5,5,5,5,5,5,5,5,5,5,4,4,4,4,4,4,4,4,4,4,4,4,4,4,4,4,4,4,4,4,3,3,3,3,3,3,3,3,3,3,3,3,3,3,3,3,3,3,3,3,2,2,2,2,2,2,2,2,2,2,2,2,2,2,2,2,2,1,1,1,1,1,1,1,1,1,1,1,1,1,1,1,1,1,1,1,1,1,1]"
      ],
      "execution_count": 0,
      "outputs": []
    },
    {
      "cell_type": "code",
      "metadata": {
        "id": "-wZ58L1Yz2IE",
        "colab_type": "code",
        "colab": {}
      },
      "source": [
        "from collections import Counter\n",
        "import matplotlib.pyplot as plt\n",
        "\n",
        "friend_counts = Counter(num_friends)\n",
        "xs = range(101)\n",
        "ys = [friend_counts[x] for x in xs]\n",
        "plt.bar(xs, ys)\n",
        "plt.axis([0,101,0,25])\n",
        "plt.title(\"Histogram of Friend Counts\")\n",
        "plt.xlabel(\"# of friends\")\n",
        "plt.ylabel(\"# of people\")\n",
        "plt.show()"
      ],
      "execution_count": 0,
      "outputs": []
    },
    {
      "cell_type": "code",
      "metadata": {
        "id": "-5UT_Zmz0nUd",
        "colab_type": "code",
        "colab": {}
      },
      "source": [
        "num_points = len(num_friends)\n",
        "largest_value = max(num_friends)\n",
        "smallest_value = min(num_friends)\n",
        "\n",
        "sorted_values = sorted(num_friends)\n",
        "smallest_value = sorted_values[0]\n",
        "second_smallest_value = sorted_values[1]\n",
        "second_largest_value = sorted_values[-2]\n",
        "print(num_points, smallest_value, largest_value, second_smallest_value, second_largest_value)"
      ],
      "execution_count": 0,
      "outputs": []
    },
    {
      "cell_type": "code",
      "metadata": {
        "id": "aS2wtP3O1wry",
        "colab_type": "code",
        "colab": {}
      },
      "source": [
        "from typing import List\n",
        "\n",
        "# Mean\n",
        "def mean(xs: List[float]) -> float:\n",
        "  return sum(xs) / len(xs)"
      ],
      "execution_count": 0,
      "outputs": []
    },
    {
      "cell_type": "code",
      "metadata": {
        "id": "aQv0IQiE2-is",
        "colab_type": "code",
        "colab": {}
      },
      "source": [
        "mean(num_friends)"
      ],
      "execution_count": 0,
      "outputs": []
    },
    {
      "cell_type": "code",
      "metadata": {
        "id": "01TzcDo-3K2D",
        "colab_type": "code",
        "colab": {}
      },
      "source": [
        "# Let's write some median functions. If an odd number in the list, then just the median\n",
        "# If an even number of things, then the average of the two closest to the median\n",
        "\n",
        "# The underscores indicate that these are \"private\" functions, as they're intended\n",
        "# to be called by our median function but not by other people using our statistics library.\n",
        "def _median_odd(xs: List[float]) -> float:\n",
        "  \"\"\"If len(xs) is odd, the median is the middle element\"\"\"\n",
        "  return sorted(xs)[len(xs) // 2]\n",
        "\n",
        "def _median_even(xs: List[float]) -> float:\n",
        "  \"\"\"If len(xs) is even, it's the average of the middle two elements\"\"\"\n",
        "  sorted_xs = sorted(xs)\n",
        "  hi_midpoint = len(xs) // 2 # e.g., length 4 => hi_midpoint = 2\n",
        "  return (sorted_xs[hi_midpoint -1] + sorted_xs[hi_midpoint]) / 2\n",
        "\n",
        "def median(v: List[float]) -> float:\n",
        "  \"\"\"Finds the 'middle-most' value of v\"\"\"\n",
        "  return _median_even(v) if len(v) % 2 == 0 else _median_odd(v)\n",
        "\n",
        "assert median([1,10,2,9,5]) == 5\n",
        "assert median([1,9,2,10]) == (2 + 9) / 2"
      ],
      "execution_count": 0,
      "outputs": []
    },
    {
      "cell_type": "code",
      "metadata": {
        "id": "DEuD999C6H4y",
        "colab_type": "code",
        "colab": {}
      },
      "source": [
        "print(median(num_friends))"
      ],
      "execution_count": 0,
      "outputs": []
    },
    {
      "cell_type": "code",
      "metadata": {
        "id": "BiYlSesd7s35",
        "colab_type": "code",
        "colab": {}
      },
      "source": [
        "# Quantiles are a generalization of the median\n",
        "def quantile(xs: List[float], p: float) -> float:\n",
        "  \"\"\"Returns the pth-percentile value in x\"\"\"\n",
        "  p_index = int(p * len(xs))\n",
        "  return sorted(xs)[p_index]\n",
        "\n",
        "assert quantile(num_friends, 0.10) == 1\n",
        "assert quantile(num_friends, 0.25) == 3\n",
        "assert quantile(num_friends, 0.75) == 9\n",
        "assert quantile(num_friends, 0.90) == 13"
      ],
      "execution_count": 0,
      "outputs": []
    },
    {
      "cell_type": "code",
      "metadata": {
        "id": "_P2ikZ9c-Hkr",
        "colab_type": "code",
        "colab": {}
      },
      "source": [
        "# The mode is the most common value. Sometimes of interest\n",
        "def mode(x: List[float]) -> List[float]:\n",
        "  \"\"\"Returns a list, since there might be more than one mode\"\"\"\n",
        "  counts = Counter(x)\n",
        "  max_count = max(counts.values())\n",
        "  return [x_i for x_i, count in counts.items()\n",
        "            if count == max_count]\n",
        "\n",
        "assert set(mode(num_friends)) == {1, 6}\n"
      ],
      "execution_count": 0,
      "outputs": []
    },
    {
      "cell_type": "code",
      "metadata": {
        "id": "SxGgB1Rj-nw1",
        "colab_type": "code",
        "colab": {}
      },
      "source": [
        "# Various ways of looking at dispersion\n",
        "\n",
        "# Range. In Python, range alredy means something, so we'll name this differently\n",
        "def data_range(xs: List[float]) -> float:\n",
        "  return max(xs) - min(xs)\n",
        "\n",
        "assert data_range(num_friends) == 99"
      ],
      "execution_count": 0,
      "outputs": []
    },
    {
      "cell_type": "code",
      "metadata": {
        "id": "8g0Uyf6cAII_",
        "colab_type": "code",
        "colab": {}
      },
      "source": [
        "# Let's do some colab magic to get the other notebooks accessible in here\n",
        "!git clone https://github.com/jamestheengineer/data-science-from-scratch-Python.git\n",
        "%cd data-science-from-scratch-Python/\n",
        "!pip install import-ipynb\n",
        "import import_ipynb\n",
        "import Chapter_4\n",
        "\n",
        "# First, a function that centers our mean at 0\n",
        "def de_mean(xs: List[float]) -> List[float]:\n",
        "  \"\"\"Translate xs by subtracting its mean (so the result has mean 0)\"\"\"\n",
        "  x_bar = mean(xs)\n",
        "  return [x - x_bar for x in xs]\n",
        "\n",
        "# Variance\n",
        "def variance(xs: List[float]) -> float:\n",
        "  \"\"\"Almost the average squared deviation from the mean\"\"\"\n",
        "  n = len(xs)\n",
        "  assert n >= 2, \"variance requires at least two elements\"\n",
        "  deviations = de_mean(xs)\n",
        "  return Chapter_4.sum_of_squares(deviations) / (n-1)\n",
        "  \n",
        "assert 81.54 < variance(num_friends) < 81.55\n"
      ],
      "execution_count": 0,
      "outputs": []
    },
    {
      "cell_type": "code",
      "metadata": {
        "id": "OPpNMfQvJQkI",
        "colab_type": "code",
        "colab": {}
      },
      "source": [
        ""
      ],
      "execution_count": 0,
      "outputs": []
    }
  ]
}