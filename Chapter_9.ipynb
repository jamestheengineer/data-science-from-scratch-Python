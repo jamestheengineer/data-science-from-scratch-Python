{
  "nbformat": 4,
  "nbformat_minor": 0,
  "metadata": {
    "colab": {
      "name": "Chapter_9.ipynb",
      "provenance": [],
      "authorship_tag": "ABX9TyNcDAYoNqjrnfOXIHxbTwA8",
      "include_colab_link": true
    },
    "kernelspec": {
      "name": "python3",
      "display_name": "Python 3"
    }
  },
  "cells": [
    {
      "cell_type": "markdown",
      "metadata": {
        "id": "view-in-github",
        "colab_type": "text"
      },
      "source": [
        "<a href=\"https://colab.research.google.com/github/jamestheengineer/data-science-from-scratch-Python/blob/master/Chapter_9.ipynb\" target=\"_parent\"><img src=\"https://colab.research.google.com/assets/colab-badge.svg\" alt=\"Open In Colab\"/></a>"
      ]
    },
    {
      "cell_type": "code",
      "metadata": {
        "id": "7O_o0ZUx31-5",
        "colab_type": "code",
        "colab": {}
      },
      "source": [
        "# Getting data\n",
        "\n",
        "# You can pipe data using stdin and stdout\n",
        "\n",
        "# egrep.py\n",
        "import sys, re\n",
        "\n",
        "# sys.argv is the list of command-line arguments\n",
        "# sys.argv[0] is the name of the program itself\n",
        "# sys.argv[1] will be the regex specified at the command line\n",
        "regex = sys.argv[1]\n",
        "\n",
        "# for every line passed into the script\n",
        "for line in sys.stdin:\n",
        "  # if it matches the regex, write it to stdout\n",
        "  if re.search(regex, line):\n",
        "    sys.stdout.write(line)\n"
      ],
      "execution_count": 0,
      "outputs": []
    },
    {
      "cell_type": "code",
      "metadata": {
        "id": "jW3_cdc34p2G",
        "colab_type": "code",
        "colab": {}
      },
      "source": [
        "# line_count.py\n",
        "count = 0\n",
        "for line in sys.stdin:\n",
        "  count += 1\n",
        "\n",
        "# print goes to sys.stdout\n",
        "print(count)"
      ],
      "execution_count": 0,
      "outputs": []
    },
    {
      "cell_type": "code",
      "metadata": {
        "id": "6TvNGc1Q4zjn",
        "colab_type": "code",
        "colab": {}
      },
      "source": [
        "# If I were to break these files out, you could then pipe like:\n",
        "# type SomeFile.txt | python egrep.py \"[0-9]\" | python line_count.py"
      ],
      "execution_count": 0,
      "outputs": []
    },
    {
      "cell_type": "code",
      "metadata": {
        "id": "IeNjirtQ44b3",
        "colab_type": "code",
        "colab": {}
      },
      "source": [
        "# another potential script\n",
        "# most_common_words.py\n",
        "import sys\n",
        "from collections import Counter\n",
        "\n",
        "# pass in number of words as first argument\n",
        "try:\n",
        "  num_words : int(sys.argv[1])\n",
        "except:\n",
        "  print(\"usage: most_common_words.py num_words\")\n",
        "  sys.exit(1) # nonzero exit code indicates error\n",
        "\n",
        "counter = Counter(word.lower()                      # lowercase words\n",
        "                  for line in sys.stdin\n",
        "                  for word in line.strip().split()  # split on spaces\n",
        "                  if word)                          # skip empty 'words'\n",
        "\n",
        "for word, count in counter.most_common(num_words):\n",
        "  sys.stdout.write(str(count))\n",
        "  sys.stdout.write(\"\\t\")\n",
        "  sys.stdout.write(word)\n",
        "  sys.stdout.write(\"\\n\")\n",
        "  "
      ],
      "execution_count": 0,
      "outputs": []
    },
    {
      "cell_type": "code",
      "metadata": {
        "id": "jm4BuK8W5CB3",
        "colab_type": "code",
        "colab": {}
      },
      "source": [
        "# Then you could do\n",
        "# cat the_bible.txt | python most_common_words.py 10"
      ],
      "execution_count": 0,
      "outputs": []
    },
    {
      "cell_type": "code",
      "metadata": {
        "id": "oVWQKOI5AMHP",
        "colab_type": "code",
        "colab": {}
      },
      "source": [
        "# Reading Files\n",
        "p = \"\"\"\n",
        "Some random text to write out\n",
        "# lets start some lines like this\n",
        "# and this\n",
        "\"\"\"\n",
        "text_file = open(\"text.txt\", \"w+\");text_file.write(p);text_file.close()\n",
        "\n",
        "# 'r' means read-only, it's assumed if you leave it out\n",
        "file_for_reading = open('text.txt', 'r')\n",
        "file_for_reading2 = open('text.txt')\n",
        "\n",
        "# 'w' if write -- will destroy the file if it already exists!\n",
        "file_for_writing = open('writing_file.txt', 'w')\n",
        "\n",
        "# 'a' is append -- for adding to the end of the file\n",
        "file_for_appending = open('appending_file.txt', 'a')\n",
        "\n",
        "# don't forget to close your files when you are done\n",
        "file_for_writing.close()"
      ],
      "execution_count": 0,
      "outputs": []
    },
    {
      "cell_type": "code",
      "metadata": {
        "id": "m1g1_kN0vqB9",
        "colab_type": "code",
        "colab": {}
      },
      "source": [
        "# Python will auto close files if you use a with block\n",
        "# with open('text.txt') as f:\n",
        "#  data = function_that_get_data_from(f)\n",
        "\n",
        "# at this point f has already been closed, so don't try to use it\n",
        "# process(data)"
      ],
      "execution_count": 0,
      "outputs": []
    },
    {
      "cell_type": "code",
      "metadata": {
        "id": "HeaRQCPzxA3c",
        "colab_type": "code",
        "colab": {}
      },
      "source": [
        "# If you need to read a whole file, you can iterate over the lines of the file\n",
        "starts_with_hash = 0\n",
        "\n",
        "with open('text.txt') as f:\n",
        "  for line in f:              # look at each line in the file\n",
        "    if re.match(\"^#\", line):  # user a regex to see if it starts with '#'\n",
        "      starts_with_hash += 1   # if it does, add 1 to the count\n",
        "\n",
        "print(starts_with_hash)"
      ],
      "execution_count": 0,
      "outputs": []
    },
    {
      "cell_type": "code",
      "metadata": {
        "id": "jt_qqfNsyavA",
        "colab_type": "code",
        "colab": {}
      },
      "source": [
        ""
      ],
      "execution_count": 0,
      "outputs": []
    }
  ]
}