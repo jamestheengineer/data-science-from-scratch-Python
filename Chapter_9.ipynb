{
  "nbformat": 4,
  "nbformat_minor": 0,
  "metadata": {
    "colab": {
      "name": "Chapter_9.ipynb",
      "provenance": [],
      "authorship_tag": "ABX9TyOa9uz+sDmFDujsLzjFpdFW",
      "include_colab_link": true
    },
    "kernelspec": {
      "name": "python3",
      "display_name": "Python 3"
    }
  },
  "cells": [
    {
      "cell_type": "markdown",
      "metadata": {
        "id": "view-in-github",
        "colab_type": "text"
      },
      "source": [
        "<a href=\"https://colab.research.google.com/github/jamestheengineer/data-science-from-scratch-Python/blob/master/Chapter_9.ipynb\" target=\"_parent\"><img src=\"https://colab.research.google.com/assets/colab-badge.svg\" alt=\"Open In Colab\"/></a>"
      ]
    },
    {
      "cell_type": "code",
      "metadata": {
        "id": "7O_o0ZUx31-5",
        "colab_type": "code",
        "colab": {}
      },
      "source": [
        "# Getting data\n",
        "\n",
        "# You can pipe data using stdin and stdout\n",
        "\n",
        "# egrep.py\n",
        "import sys, re\n",
        "\n",
        "# sys.argv is the list of command-line arguments\n",
        "# sys.argv[0] is the name of the program itself\n",
        "# sys.argv[1] will be the regex specified at the command line\n",
        "regex = sys.argv[1]\n",
        "\n",
        "# for every line passed into the script\n",
        "for line in sys.stdin:\n",
        "  # if it matches the regex, write it to stdout\n",
        "  if re.search(regex, line):\n",
        "    sys.stdout.write(line)\n"
      ],
      "execution_count": 0,
      "outputs": []
    },
    {
      "cell_type": "code",
      "metadata": {
        "id": "jW3_cdc34p2G",
        "colab_type": "code",
        "colab": {}
      },
      "source": [
        "# line_count.py\n",
        "count = 0\n",
        "for line in sys.stdin:\n",
        "  count += 1\n",
        "\n",
        "# print goes to sys.stdout\n",
        "print(count)"
      ],
      "execution_count": 0,
      "outputs": []
    },
    {
      "cell_type": "code",
      "metadata": {
        "id": "6TvNGc1Q4zjn",
        "colab_type": "code",
        "colab": {}
      },
      "source": [
        "# If I were to break these files out, you could then pipe like:\n",
        "# type SomeFile.txt | python egrep.py \"[0-9]\" | python line_count.py"
      ],
      "execution_count": 0,
      "outputs": []
    },
    {
      "cell_type": "code",
      "metadata": {
        "id": "IeNjirtQ44b3",
        "colab_type": "code",
        "colab": {}
      },
      "source": [
        "# another potential script\n",
        "# most_common_words.py\n",
        "import sys\n",
        "from collections import Counter\n",
        "\n",
        "# pass in number of words as first argument\n",
        "try:\n",
        "  num_words : int(sys.argv[1])\n",
        "except:\n",
        "  print(\"usage: most_common_words.py num_words\")\n",
        "  sys.exit(1) # nonzero exit code indicates error\n",
        "\n",
        "counter = Counter(word.lower()                      # lowercase words\n",
        "                  for line in sys.stdin\n",
        "                  for word in line.strip().split()  # split on spaces\n",
        "                  if word)                          # skip empty 'words'\n",
        "\n",
        "for word, count in counter.most_common(num_words):\n",
        "  sys.stdout.write(str(count))\n",
        "  sys.stdout.write(\"\\t\")\n",
        "  sys.stdout.write(word)\n",
        "  sys.stdout.write(\"\\n\")\n",
        "  "
      ],
      "execution_count": 0,
      "outputs": []
    },
    {
      "cell_type": "code",
      "metadata": {
        "id": "jm4BuK8W5CB3",
        "colab_type": "code",
        "colab": {}
      },
      "source": [
        "# Then you could do\n",
        "# cat the_bible.txt | python most_common_words.py 10"
      ],
      "execution_count": 0,
      "outputs": []
    },
    {
      "cell_type": "code",
      "metadata": {
        "id": "oVWQKOI5AMHP",
        "colab_type": "code",
        "colab": {}
      },
      "source": [
        "# Reading Files\n"
      ],
      "execution_count": 0,
      "outputs": []
    }
  ]
}