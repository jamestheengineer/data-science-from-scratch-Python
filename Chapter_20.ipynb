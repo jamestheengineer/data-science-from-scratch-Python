{
  "nbformat": 4,
  "nbformat_minor": 0,
  "metadata": {
    "colab": {
      "name": "Chapter_20.ipynb",
      "provenance": [],
      "authorship_tag": "ABX9TyM/qWWi6Nh6lPq7OcRAFLeb",
      "include_colab_link": true
    },
    "kernelspec": {
      "name": "python3",
      "display_name": "Python 3"
    }
  },
  "cells": [
    {
      "cell_type": "markdown",
      "metadata": {
        "id": "view-in-github",
        "colab_type": "text"
      },
      "source": [
        "<a href=\"https://colab.research.google.com/github/jamestheengineer/data-science-from-scratch-Python/blob/master/Chapter_20.ipynb\" target=\"_parent\"><img src=\"https://colab.research.google.com/assets/colab-badge.svg\" alt=\"Open In Colab\"/></a>"
      ]
    },
    {
      "cell_type": "code",
      "metadata": {
        "id": "6BA6YCGCN6VQ",
        "colab_type": "code",
        "colab": {}
      },
      "source": [
        "# Clustering chapter. Example of unsupervised learning.\n",
        "\n",
        "# Only do this once per VM, otherwise you'll get multiple clones and nested directories\n",
        "!git clone https://github.com/jamestheengineer/data-science-from-scratch-Python.git\n",
        "%cd data-science-from-scratch-Python/\n",
        "!pip install import-ipynb\n",
        "import import_ipynb"
      ],
      "execution_count": null,
      "outputs": []
    },
    {
      "cell_type": "code",
      "metadata": {
        "id": "PXrijZVrO1KG",
        "colab_type": "code",
        "colab": {}
      },
      "source": [
        "from Chapter_04 import Vector\n",
        "\n",
        "def num_differences(v1: Vector, v2: Vector) -> int:\n",
        "  assert len(v1) == len(v2)\n",
        "  return len([x1 for x1, x2 in zip(v1,v2) if x1 != x2])\n",
        "\n",
        "assert num_differences([1,2,3],[2,1,3]) == 2\n",
        "assert num_differences([1,2],[1,2]) == 0"
      ],
      "execution_count": null,
      "outputs": []
    },
    {
      "cell_type": "code",
      "metadata": {
        "id": "YBuUadQQPbZj",
        "colab_type": "code",
        "colab": {}
      },
      "source": [
        "from typing import List\n",
        "from Chapter_04 import vector_mean\n",
        "\n",
        "def cluster_means(k: int,\n",
        "                  inputs: List[Vector],\n",
        "                  assignments: List[int]) -> List[Vector]:\n",
        "  # cluster[i] contains the inputs whose assignment is i\n",
        "  clusters = [[] for i in range(k)]\n",
        "  for input, assignment in zip(inputs, assignents):\n",
        "    clusters[assignment].append(input)\n",
        "\n",
        "  # if a cluster is empty, just use a random point\n",
        "  return [vector_mean(cluster) if cluster else random.choice(inputs)\n",
        "          for cluster in clusters]"
      ],
      "execution_count": null,
      "outputs": []
    },
    {
      "cell_type": "code",
      "metadata": {
        "id": "Q6gC12KAQT6L",
        "colab_type": "code",
        "colab": {}
      },
      "source": [
        "import itertools\n",
        "import random\n",
        "import tqdm\n",
        "from Chapter_04 import squared_distance\n",
        "\n",
        "class KMeans:\n",
        "  def __init__(self, k: int) -> None:\n",
        "    self.k = k\n",
        "    self.means = None\n",
        "\n",
        "  def classify(self, input: Vector) -> int:\n",
        "    \"\"\"return the index of the cluster closes to the input\"\"\"\n",
        "    return min(range(self.k),\n",
        "               key=lambda i: squared_distance(input, self.means[i]))\n",
        "    \n",
        "  def train(self, inputs: List)"
      ],
      "execution_count": null,
      "outputs": []
    }
  ]
}