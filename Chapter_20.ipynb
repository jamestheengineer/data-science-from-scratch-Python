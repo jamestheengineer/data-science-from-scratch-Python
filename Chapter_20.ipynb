{
  "nbformat": 4,
  "nbformat_minor": 0,
  "metadata": {
    "colab": {
      "name": "Chapter_20.ipynb",
      "provenance": [],
      "authorship_tag": "ABX9TyPqPr91sg1ysL58nf/ex19X",
      "include_colab_link": true
    },
    "kernelspec": {
      "name": "python3",
      "display_name": "Python 3"
    }
  },
  "cells": [
    {
      "cell_type": "markdown",
      "metadata": {
        "id": "view-in-github",
        "colab_type": "text"
      },
      "source": [
        "<a href=\"https://colab.research.google.com/github/jamestheengineer/data-science-from-scratch-Python/blob/master/Chapter_20.ipynb\" target=\"_parent\"><img src=\"https://colab.research.google.com/assets/colab-badge.svg\" alt=\"Open In Colab\"/></a>"
      ]
    },
    {
      "cell_type": "code",
      "metadata": {
        "id": "6BA6YCGCN6VQ",
        "colab_type": "code",
        "colab": {
          "base_uri": "https://localhost:8080/",
          "height": 343
        },
        "outputId": "9517b381-76e3-4cf7-b107-39e581b2df8e"
      },
      "source": [
        "# Clustering chapter. Example of unsupervised learning.\n",
        "\n",
        "# Only do this once per VM, otherwise you'll get multiple clones and nested directories\n",
        "!git clone https://github.com/jamestheengineer/data-science-from-scratch-Python.git\n",
        "%cd data-science-from-scratch-Python/\n",
        "!pip install import-ipynb\n",
        "!pip install pillow\n",
        "import import_ipynb"
      ],
      "execution_count": 1,
      "outputs": [
        {
          "output_type": "stream",
          "text": [
            "Cloning into 'data-science-from-scratch-Python'...\n",
            "remote: Enumerating objects: 108, done.\u001b[K\n",
            "remote: Counting objects: 100% (108/108), done.\u001b[K\n",
            "remote: Compressing objects: 100% (107/107), done.\u001b[K\n",
            "remote: Total 495 (delta 68), reused 3 (delta 1), pack-reused 387\u001b[K\n",
            "Receiving objects: 100% (495/495), 1.25 MiB | 11.67 MiB/s, done.\n",
            "Resolving deltas: 100% (308/308), done.\n",
            "/content/data-science-from-scratch-Python\n",
            "Collecting import-ipynb\n",
            "  Downloading https://files.pythonhosted.org/packages/63/35/495e0021bfdcc924c7cdec4e9fbb87c88dd03b9b9b22419444dc370c8a45/import-ipynb-0.1.3.tar.gz\n",
            "Building wheels for collected packages: import-ipynb\n",
            "  Building wheel for import-ipynb (setup.py) ... \u001b[?25l\u001b[?25hdone\n",
            "  Created wheel for import-ipynb: filename=import_ipynb-0.1.3-cp36-none-any.whl size=2976 sha256=e5aeecbaf79df47c0aafb98a420b6b39777e84a0956d7d023df53f7901be00a4\n",
            "  Stored in directory: /root/.cache/pip/wheels/b4/7b/e9/a3a6e496115dffdb4e3085d0ae39ffe8a814eacc44bbf494b5\n",
            "Successfully built import-ipynb\n",
            "Installing collected packages: import-ipynb\n",
            "Successfully installed import-ipynb-0.1.3\n",
            "Requirement already satisfied: pillow in /usr/local/lib/python3.6/dist-packages (7.0.0)\n"
          ],
          "name": "stdout"
        }
      ]
    },
    {
      "cell_type": "code",
      "metadata": {
        "id": "PXrijZVrO1KG",
        "colab_type": "code",
        "colab": {
          "base_uri": "https://localhost:8080/",
          "height": 34
        },
        "outputId": "c3efc970-88f1-497d-cf2d-d3f985060711"
      },
      "source": [
        "from Chapter_04 import Vector\n",
        "\n",
        "def num_differences(v1: Vector, v2: Vector) -> int:\n",
        "  assert len(v1) == len(v2)\n",
        "  return len([x1 for x1, x2 in zip(v1,v2) if x1 != x2])\n",
        "\n",
        "assert num_differences([1,2,3],[2,1,3]) == 2\n",
        "assert num_differences([1,2],[1,2]) == 0"
      ],
      "execution_count": 2,
      "outputs": [
        {
          "output_type": "stream",
          "text": [
            "importing Jupyter notebook from Chapter_04.ipynb\n"
          ],
          "name": "stdout"
        }
      ]
    },
    {
      "cell_type": "code",
      "metadata": {
        "id": "YBuUadQQPbZj",
        "colab_type": "code",
        "colab": {}
      },
      "source": [
        "from typing import List\n",
        "from Chapter_04 import vector_mean\n",
        "\n",
        "def cluster_means(k: int,\n",
        "                  inputs: List[Vector],\n",
        "                  assignments: List[int]) -> List[Vector]:\n",
        "  # cluster[i] contains the inputs whose assignment is i\n",
        "  clusters = [[] for i in range(k)]\n",
        "  for input, assignment in zip(inputs, assignments):\n",
        "    clusters[assignment].append(input)\n",
        "\n",
        "  # if a cluster is empty, just use a random point\n",
        "  return [vector_mean(cluster) if cluster else random.choice(inputs)\n",
        "          for cluster in clusters]"
      ],
      "execution_count": 3,
      "outputs": []
    },
    {
      "cell_type": "code",
      "metadata": {
        "id": "Q6gC12KAQT6L",
        "colab_type": "code",
        "colab": {}
      },
      "source": [
        "import itertools\n",
        "import random\n",
        "import tqdm\n",
        "from Chapter_04 import squared_distance\n",
        "\n",
        "class KMeans:\n",
        "  def __init__(self, k: int) -> None:\n",
        "    self.k = k\n",
        "    self.means = None\n",
        "\n",
        "  def classify(self, input: Vector) -> int:\n",
        "    \"\"\"return the index of the cluster closes to the input\"\"\"\n",
        "    return min(range(self.k),\n",
        "               key=lambda i: squared_distance(input, self.means[i]))\n",
        "    \n",
        "  def train(self, inputs: List[Vector]) -> None:\n",
        "    # Start with random assignments\n",
        "    assignments = [random.randrange(self.k) for _ in inputs]\n",
        "\n",
        "    with tqdm.tqdm(itertools.count()) as t:\n",
        "      for _ in t:\n",
        "        # Compute means and find new assignments\n",
        "        self.means = cluster_means(self.k, inputs, assignments)\n",
        "        new_assignments = [self.classify(input) for input in inputs]\n",
        "\n",
        "        # Check how many assignments changed and if we're done\n",
        "        num_changed = num_differences(assignments, new_assignments)\n",
        "        if num_changed == 0:\n",
        "          return\n",
        "        \n",
        "        # Otherwise keep the new assignments, and compute new means\n",
        "        assignments = new_assignments\n",
        "        self.means = cluster_means(self.k, inputs, assignments)\n",
        "        t.set_description(f\"changed: {num_changed} / {len(inputs)}\")"
      ],
      "execution_count": 4,
      "outputs": []
    },
    {
      "cell_type": "code",
      "metadata": {
        "id": "Kyy1gLN7CpMr",
        "colab_type": "code",
        "colab": {
          "base_uri": "https://localhost:8080/",
          "height": 88
        },
        "outputId": "8176f22c-3abf-4706-e444-35d1d7a781cf"
      },
      "source": [
        "# Meetup location example\n",
        "inputs: List[List[float]] = [[-14,-5],[13,13],[20,23],[-19,-11],[-9,-16],[21,27],[-49,15],[26,13],[-46,5],[-34,-1],[11,15],[-49,0],[-22,-16],[19,28],[-12,-8],[-13,-19],[-41,8],[-11,-6],[-25,-9],[-18,-3]]\n",
        "\n",
        "random.seed(12)\n",
        "clusterer = KMeans(k=3)\n",
        "clusterer.train(inputs)\n",
        "means = sorted(clusterer.means)\n",
        "\n",
        "assert len(means) == 3\n",
        "\n",
        "# Check that the means are close to what we expect\n",
        "assert squared_distance(means[0], [-44, 5]) < 1\n",
        "assert squared_distance(means[1], [-16, -10]) < 1\n",
        "assert squared_distance(means[2], [18, 20]) < 1 \n",
        "print(means)"
      ],
      "execution_count": 5,
      "outputs": [
        {
          "output_type": "stream",
          "text": [
            "changed: 5 / 20: : 0it [00:00, ?it/s]"
          ],
          "name": "stderr"
        },
        {
          "output_type": "stream",
          "text": [
            "[[-43.800000000000004, 5.4], [-15.888888888888888, -10.333333333333332], [18.333333333333332, 19.833333333333332]]\n"
          ],
          "name": "stdout"
        },
        {
          "output_type": "stream",
          "text": [
            "\n"
          ],
          "name": "stderr"
        }
      ]
    },
    {
      "cell_type": "code",
      "metadata": {
        "id": "7mRzeEL8igU3",
        "colab_type": "code",
        "colab": {
          "base_uri": "https://localhost:8080/",
          "height": 34
        },
        "outputId": "e291e347-6ff8-42c4-a9de-077e55b1224b"
      },
      "source": [
        "# Only cash for two meetups, so...\n",
        "random.seed(0)\n",
        "clusterer = KMeans(k=2)\n",
        "clusterer.train(inputs)\n",
        "means = sorted(clusterer.means)\n",
        "\n",
        "assert len(means) == 2\n",
        "assert squared_distance(means[0], [-26, -5]) < 1\n",
        "assert squared_distance(means[1], [18, 20]) < 1"
      ],
      "execution_count": 6,
      "outputs": [
        {
          "output_type": "stream",
          "text": [
            "changed: 4 / 20: : 0it [00:00, ?it/s]\n"
          ],
          "name": "stderr"
        }
      ]
    },
    {
      "cell_type": "code",
      "metadata": {
        "id": "3Lb50BB3jRtH",
        "colab_type": "code",
        "colab": {
          "base_uri": "https://localhost:8080/",
          "height": 635
        },
        "outputId": "a3bc7107-3c05-4845-8dc0-9521b1ec2935"
      },
      "source": [
        "# Choosing k by looking at the \"bend\"\n",
        "from matplotlib import pyplot as plt \n",
        "\n",
        "def squared_clustering_errors(inputs: List[Vector], k: int) -> float:\n",
        "  \"\"\"finds the total squared error from k-means clustering the inputs\"\"\"\n",
        "  clusterer = KMeans(k)\n",
        "  clusterer.train(inputs)\n",
        "  means = clusterer.means\n",
        "  assignments = [clusterer.classify(input) for input in inputs]\n",
        "\n",
        "  return sum(squared_distance(input, means[cluster])\n",
        "              for input, cluster in zip(inputs, assignments))\n",
        "\n",
        "# now plot from 1 up to len(inputs) clusters\n",
        "\n",
        "ks = range(1, len(inputs) + 1)\n",
        "errors = [squared_clustering_errors(inputs, k) for k in ks]\n",
        "\n",
        "plt.plot(ks, errors)\n",
        "plt.xticks(ks)\n",
        "plt.xlabel(\"k\")\n",
        "plt.ylabel(\"total squared error\")\n",
        "plt.title(\"Total Error vs. # of Clusters\")\n",
        "plt.show()"
      ],
      "execution_count": 7,
      "outputs": [
        {
          "output_type": "stream",
          "text": [
            "0it [00:00, ?it/s]\n",
            "changed: 8 / 20: : 0it [00:00, ?it/s]\n",
            "changed: 2 / 20: : 0it [00:00, ?it/s]\n",
            "changed: 2 / 20: : 0it [00:00, ?it/s]\n",
            "changed: 2 / 20: : 0it [00:00, ?it/s]\n",
            "changed: 1 / 20: : 0it [00:00, ?it/s]\n",
            "changed: 1 / 20: : 0it [00:00, ?it/s]\n",
            "changed: 4 / 20: : 0it [00:00, ?it/s]\n",
            "changed: 2 / 20: : 0it [00:00, ?it/s]\n",
            "changed: 4 / 20: : 0it [00:00, ?it/s]\n",
            "changed: 1 / 20: : 0it [00:00, ?it/s]\n",
            "changed: 1 / 20: : 0it [00:00, ?it/s]\n",
            "changed: 1 / 20: : 0it [00:00, ?it/s]\n",
            "changed: 1 / 20: : 0it [00:00, ?it/s]\n",
            "changed: 1 / 20: : 0it [00:00, ?it/s]\n",
            "changed: 3 / 20: : 0it [00:00, ?it/s]\n",
            "changed: 1 / 20: : 0it [00:00, ?it/s]\n",
            "changed: 3 / 20: : 0it [00:00, ?it/s]\n",
            "changed: 3 / 20: : 0it [00:00, ?it/s]\n",
            "changed: 1 / 20: : 0it [00:00, ?it/s]\n"
          ],
          "name": "stderr"
        },
        {
          "output_type": "display_data",
          "data": {
            "image/png": "[encoded data removed]",
            "text/plain": [
              "<Figure size 432x288 with 1 Axes>"
            ]
          },
          "metadata": {
            "tags": [],
            "needs_background": "light"
          }
        }
      ]
    },
    {
      "cell_type": "code",
      "metadata": {
        "id": "GezyXXlVnmha",
        "colab_type": "code",
        "colab": {
          "base_uri": "https://localhost:8080/",
          "height": 34
        },
        "outputId": "d1f31c43-0f20-49ba-8071-384b6402bbe4"
      },
      "source": [
        "image_path = r\"test.jpg\"\n",
        "import matplotlib.image as mpimg\n",
        "img = mpimg.imread(image_path) / 256\n",
        "\n",
        "top_row = img[0]\n",
        "top_left_pixel = top_row[0]\n",
        "red, green, blue = top_left_pixel\n",
        "\n",
        "pixels = [pixel.tolist() for row in img for pixel in row]\n",
        "\n",
        "clusterer = KMeans(5)\n",
        "clusterer.train(pixels)"
      ],
      "execution_count": null,
      "outputs": [
        {
          "output_type": "stream",
          "text": [
            "changed: 1 / 262144: : 61it [03:06,  3.05s/it]"
          ],
          "name": "stderr"
        }
      ]
    },
    {
      "cell_type": "code",
      "metadata": {
        "id": "eTA8Fy1MFCjN",
        "colab_type": "code",
        "colab": {}
      },
      "source": [
        "def recolor(pixel: Vector) -> Vector:\n",
        "  cluster = clusterer.classify(pixel)\n",
        "  return clusterer.means[cluster]\n",
        "\n",
        "new_img = [[recolor(pixel) for pixel in row]\n",
        "           for row in img]\n",
        "           \n",
        "plt.imshow(new_img)\n",
        "plt.axis('off')\n",
        "plt.show()"
      ],
      "execution_count": null,
      "outputs": []
    }
  ]
}