{
  "nbformat": 4,
  "nbformat_minor": 0,
  "metadata": {
    "colab": {
      "name": "Chapter_8.ipynb",
      "provenance": [],
      "authorship_tag": "ABX9TyNidwE8ipRjZ2AssvE1X9Vd",
      "include_colab_link": true
    },
    "kernelspec": {
      "name": "python3",
      "display_name": "Python 3"
    }
  },
  "cells": [
    {
      "cell_type": "markdown",
      "metadata": {
        "id": "view-in-github",
        "colab_type": "text"
      },
      "source": [
        "<a href=\"https://colab.research.google.com/github/jamestheengineer/data-science-from-scratch-Python/blob/master/Chapter_8.ipynb\" target=\"_parent\"><img src=\"https://colab.research.google.com/assets/colab-badge.svg\" alt=\"Open In Colab\"/></a>"
      ]
    },
    {
      "cell_type": "code",
      "metadata": {
        "id": "HV-cKWQ-ZBBs",
        "colab_type": "code",
        "colab": {
          "base_uri": "https://localhost:8080/",
          "height": 170
        },
        "outputId": "07216fdf-ff84-4bb9-d17d-a64c1862e3cd"
      },
      "source": [
        "# Gradient descent\n",
        "\n",
        "!git clone https://github.com/jamestheengineer/data-science-from-scratch-Python.git\n",
        "%cd data-science-from-scratch-Python/\n",
        "!pip install import-ipynb\n",
        "import import_ipynb\n",
        "from Chapter_4 import Vector, dot"
      ],
      "execution_count": 2,
      "outputs": [
        {
          "output_type": "stream",
          "text": [
            "Cloning into 'data-science-from-scratch-Python'...\n",
            "remote: Enumerating objects: 118, done.\u001b[K\n",
            "remote: Counting objects:   0% (1/118)\u001b[K\rremote: Counting objects:   1% (2/118)\u001b[K\rremote: Counting objects:   2% (3/118)\u001b[K\rremote: Counting objects:   3% (4/118)\u001b[K\rremote: Counting objects:   4% (5/118)\u001b[K\rremote: Counting objects:   5% (6/118)\u001b[K\rremote: Counting objects:   6% (8/118)\u001b[K\rremote: Counting objects:   7% (9/118)\u001b[K\rremote: Counting objects:   8% (10/118)\u001b[K\rremote: Counting objects:   9% (11/118)\u001b[K\rremote: Counting objects:  10% (12/118)\u001b[K\rremote: Counting objects:  11% (13/118)\u001b[K\rremote: Counting objects:  12% (15/118)\u001b[K\rremote: Counting objects:  13% (16/118)\u001b[K\rremote: Counting objects:  14% (17/118)\u001b[K\rremote: Counting objects:  15% (18/118)\u001b[K\rremote: Counting objects:  16% (19/118)\u001b[K\rremote: Counting objects:  17% (21/118)\u001b[K\rremote: Counting objects:  18% (22/118)\u001b[K\rremote: Counting objects:  19% (23/118)\u001b[K\rremote: Counting objects:  20% (24/118)\u001b[K\rremote: Counting objects:  21% (25/118)\u001b[K\rremote: Counting objects:  22% (26/118)\u001b[K\rremote: Counting objects:  23% (28/118)\u001b[K\rremote: Counting objects:  24% (29/118)\u001b[K\rremote: Counting objects:  25% (30/118)\u001b[K\rremote: Counting objects:  26% (31/118)\u001b[K\rremote: Counting objects:  27% (32/118)\u001b[K\rremote: Counting objects:  28% (34/118)\u001b[K\rremote: Counting objects:  29% (35/118)\u001b[K\rremote: Counting objects:  30% (36/118)\u001b[K\rremote: Counting objects:  31% (37/118)\u001b[K\rremote: Counting objects:  32% (38/118)\u001b[K\rremote: Counting objects:  33% (39/118)\u001b[K\rremote: Counting objects:  34% (41/118)\u001b[K\rremote: Counting objects:  35% (42/118)\u001b[K\rremote: Counting objects:  36% (43/118)\u001b[K\rremote: Counting objects:  37% (44/118)\u001b[K\rremote: Counting objects:  38% (45/118)\u001b[K\rremote: Counting objects:  39% (47/118)\u001b[K\rremote: Counting objects:  40% (48/118)\u001b[K\rremote: Counting objects:  41% (49/118)\u001b[K\rremote: Counting objects:  42% (50/118)\u001b[K\rremote: Counting objects:  43% (51/118)\u001b[K\rremote: Counting objects:  44% (52/118)\u001b[K\rremote: Counting objects:  45% (54/118)\u001b[K\rremote: Counting objects:  46% (55/118)\u001b[K\rremote: Counting objects:  47% (56/118)\u001b[K\rremote: Counting objects:  48% (57/118)\u001b[K\rremote: Counting objects:  49% (58/118)\u001b[K\rremote: Counting objects:  50% (59/118)\u001b[K\rremote: Counting objects:  51% (61/118)\u001b[K\rremote: Counting objects:  52% (62/118)\u001b[K\rremote: Counting objects:  53% (63/118)\u001b[K\rremote: Counting objects:  54% (64/118)\u001b[K\rremote: Counting objects:  55% (65/118)\u001b[K\rremote: Counting objects:  56% (67/118)\u001b[K\rremote: Counting objects:  57% (68/118)\u001b[K\rremote: Counting objects:  58% (69/118)\u001b[K\rremote: Counting objects:  59% (70/118)\u001b[K\rremote: Counting objects:  60% (71/118)\u001b[K\rremote: Counting objects:  61% (72/118)\u001b[K\rremote: Counting objects:  62% (74/118)\u001b[K\rremote: Counting objects:  63% (75/118)\u001b[K\rremote: Counting objects:  64% (76/118)\u001b[K\rremote: Counting objects:  65% (77/118)\u001b[K\rremote: Counting objects:  66% (78/118)\u001b[K\rremote: Counting objects:  67% (80/118)\u001b[K\rremote: Counting objects:  68% (81/118)\u001b[K\rremote: Counting objects:  69% (82/118)\u001b[K\rremote: Counting objects:  70% (83/118)\u001b[K\rremote: Counting objects:  71% (84/118)\u001b[K\rremote: Counting objects:  72% (85/118)\u001b[K\rremote: Counting objects:  73% (87/118)\u001b[K\rremote: Counting objects:  74% (88/118)\u001b[K\rremote: Counting objects:  75% (89/118)\u001b[K\rremote: Counting objects:  76% (90/118)\u001b[K\rremote: Counting objects:  77% (91/118)\u001b[K\rremote: Counting objects:  78% (93/118)\u001b[K\rremote: Counting objects:  79% (94/118)\u001b[K\rremote: Counting objects:  80% (95/118)\u001b[K\rremote: Counting objects:  81% (96/118)\u001b[K\rremote: Counting objects:  82% (97/118)\u001b[K\rremote: Counting objects:  83% (98/118)\u001b[K\rremote: Counting objects:  84% (100/118)\u001b[K\rremote: Counting objects:  85% (101/118)\u001b[K\rremote: Counting objects:  86% (102/118)\u001b[K\rremote: Counting objects:  87% (103/118)\u001b[K\rremote: Counting objects:  88% (104/118)\u001b[K\rremote: Counting objects:  89% (106/118)\u001b[K\rremote: Counting objects:  90% (107/118)\u001b[K\rremote: Counting objects:  91% (108/118)\u001b[K\rremote: Counting objects:  92% (109/118)\u001b[K\rremote: Counting objects:  93% (110/118)\u001b[K\rremote: Counting objects:  94% (111/118)\u001b[K\rremote: Counting objects:  95% (113/118)\u001b[K\rremote: Counting objects:  96% (114/118)\u001b[K\rremote: Counting objects:  97% (115/118)\u001b[K\rremote: Counting objects:  98% (116/118)\u001b[K\rremote: Counting objects:  99% (117/118)\u001b[K\rremote: Counting objects: 100% (118/118)\u001b[K\rremote: Counting objects: 100% (118/118), done.\u001b[K\n",
            "remote: Compressing objects:   0% (1/117)\u001b[K\rremote: Compressing objects:   1% (2/117)\u001b[K\rremote: Compressing objects:   2% (3/117)\u001b[K\rremote: Compressing objects:   3% (4/117)\u001b[K\rremote: Compressing objects:   4% (5/117)\u001b[K\rremote: Compressing objects:   5% (6/117)\u001b[K\rremote: Compressing objects:   6% (8/117)\u001b[K\rremote: Compressing objects:   7% (9/117)\u001b[K\rremote: Compressing objects:   8% (10/117)\u001b[K\rremote: Compressing objects:   9% (11/117)\u001b[K\rremote: Compressing objects:  10% (12/117)\u001b[K\rremote: Compressing objects:  11% (13/117)\u001b[K\rremote: Compressing objects:  12% (15/117)\u001b[K\rremote: Compressing objects:  13% (16/117)\u001b[K\rremote: Compressing objects:  14% (17/117)\u001b[K\rremote: Compressing objects:  15% (18/117)\u001b[K\rremote: Compressing objects:  16% (19/117)\u001b[K\rremote: Compressing objects:  17% (20/117)\u001b[K\rremote: Compressing objects:  18% (22/117)\u001b[K\rremote: Compressing objects:  19% (23/117)\u001b[K\rremote: Compressing objects:  20% (24/117)\u001b[K\rremote: Compressing objects:  21% (25/117)\u001b[K\rremote: Compressing objects:  22% (26/117)\u001b[K\rremote: Compressing objects:  23% (27/117)\u001b[K\rremote: Compressing objects:  24% (29/117)\u001b[K\rremote: Compressing objects:  25% (30/117)\u001b[K\rremote: Compressing objects:  26% (31/117)\u001b[K\rremote: Compressing objects:  27% (32/117)\u001b[K\rremote: Compressing objects:  28% (33/117)\u001b[K\rremote: Compressing objects:  29% (34/117)\u001b[K\rremote: Compressing objects:  30% (36/117)\u001b[K\rremote: Compressing objects:  31% (37/117)\u001b[K\rremote: Compressing objects:  32% (38/117)\u001b[K\rremote: Compressing objects:  33% (39/117)\u001b[K\rremote: Compressing objects:  34% (40/117)\u001b[K\rremote: Compressing objects:  35% (41/117)\u001b[K\rremote: Compressing objects:  36% (43/117)\u001b[K\rremote: Compressing objects:  37% (44/117)\u001b[K\rremote: Compressing objects:  38% (45/117)\u001b[K\rremote: Compressing objects:  39% (46/117)\u001b[K\rremote: Compressing objects:  40% (47/117)\u001b[K\rremote: Compressing objects:  41% (48/117)\u001b[K\rremote: Compressing objects:  42% (50/117)\u001b[K\rremote: Compressing objects:  43% (51/117)\u001b[K\rremote: Compressing objects:  44% (52/117)\u001b[K\rremote: Compressing objects:  45% (53/117)\u001b[K\rremote: Compressing objects:  46% (54/117)\u001b[K\rremote: Compressing objects:  47% (55/117)\u001b[K\rremote: Compressing objects:  48% (57/117)\u001b[K\rremote: Compressing objects:  49% (58/117)\u001b[K\rremote: Compressing objects:  50% (59/117)\u001b[K\rremote: Compressing objects:  51% (60/117)\u001b[K\rremote: Compressing objects:  52% (61/117)\u001b[K\rremote: Compressing objects:  53% (63/117)\u001b[K\rremote: Compressing objects:  54% (64/117)\u001b[K\rremote: Compressing objects:  55% (65/117)\u001b[K\rremote: Compressing objects:  56% (66/117)\u001b[K\rremote: Compressing objects:  57% (67/117)\u001b[K\rremote: Compressing objects:  58% (68/117)\u001b[K\rremote: Compressing objects:  59% (70/117)\u001b[K\rremote: Compressing objects:  60% (71/117)\u001b[K\rremote: Compressing objects:  61% (72/117)\u001b[K\rremote: Compressing objects:  62% (73/117)\u001b[K\rremote: Compressing objects:  63% (74/117)\u001b[K\rremote: Compressing objects:  64% (75/117)\u001b[K\rremote: Compressing objects:  65% (77/117)\u001b[K\rremote: Compressing objects:  66% (78/117)\u001b[K\rremote: Compressing objects:  67% (79/117)\u001b[K\rremote: Compressing objects:  68% (80/117)\u001b[K\rremote: Compressing objects:  69% (81/117)\u001b[K\rremote: Compressing objects:  70% (82/117)\u001b[K\rremote: Compressing objects:  71% (84/117)\u001b[K\rremote: Compressing objects:  72% (85/117)\u001b[K\rremote: Compressing objects:  73% (86/117)\u001b[K\rremote: Compressing objects:  74% (87/117)\u001b[K\rremote: Compressing objects:  75% (88/117)\u001b[K\rremote: Compressing objects:  76% (89/117)\u001b[K\rremote: Compressing objects:  77% (91/117)\u001b[K\rremote: Compressing objects:  78% (92/117)\u001b[K\rremote: Compressing objects:  79% (93/117)\u001b[K\rremote: Compressing objects:  80% (94/117)\u001b[K\rremote: Compressing objects:  81% (95/117)\u001b[K\rremote: Compressing objects:  82% (96/117)\u001b[K\rremote: Compressing objects:  83% (98/117)\u001b[K\rremote: Compressing objects:  84% (99/117)\u001b[K\rremote: Compressing objects:  85% (100/117)\u001b[K\rremote: Compressing objects:  86% (101/117)\u001b[K\rremote: Compressing objects:  87% (102/117)\u001b[K\rremote: Compressing objects:  88% (103/117)\u001b[K\rremote: Compressing objects:  89% (105/117)\u001b[K\rremote: Compressing objects:  90% (106/117)\u001b[K\rremote: Compressing objects:  91% (107/117)\u001b[K\rremote: Compressing objects:  92% (108/117)\u001b[K\rremote: Compressing objects:  93% (109/117)\u001b[K\rremote: Compressing objects:  94% (110/117)\u001b[K\rremote: Compressing objects:  95% (112/117)\u001b[K\rremote: Compressing objects:  96% (113/117)\u001b[K\rremote: Compressing objects:  97% (114/117)\u001b[K\rremote: Compressing objects:  98% (115/117)\u001b[K\rremote: Compressing objects:  99% (116/117)\u001b[K\rremote: Compressing objects: 100% (117/117)\u001b[K\rremote: Compressing objects: 100% (117/117), done.\u001b[K\n",
            "Receiving objects:   0% (1/118)   \rReceiving objects:   1% (2/118)   \rReceiving objects:   2% (3/118)   \rReceiving objects:   3% (4/118)   \rReceiving objects:   4% (5/118)   \rReceiving objects:   5% (6/118)   \rReceiving objects:   6% (8/118)   \rReceiving objects:   7% (9/118)   \rReceiving objects:   8% (10/118)   \rReceiving objects:   9% (11/118)   \rReceiving objects:  10% (12/118)   \rReceiving objects:  11% (13/118)   \rReceiving objects:  12% (15/118)   \rReceiving objects:  13% (16/118)   \rReceiving objects:  14% (17/118)   \rReceiving objects:  15% (18/118)   \rReceiving objects:  16% (19/118)   \rReceiving objects:  17% (21/118)   \rReceiving objects:  18% (22/118)   \rReceiving objects:  19% (23/118)   \rReceiving objects:  20% (24/118)   \rReceiving objects:  21% (25/118)   \rReceiving objects:  22% (26/118)   \rReceiving objects:  23% (28/118)   \rReceiving objects:  24% (29/118)   \rReceiving objects:  25% (30/118)   \rReceiving objects:  26% (31/118)   \rReceiving objects:  27% (32/118)   \rReceiving objects:  28% (34/118)   \rReceiving objects:  29% (35/118)   \rReceiving objects:  30% (36/118)   \rReceiving objects:  31% (37/118)   \rReceiving objects:  32% (38/118)   \rReceiving objects:  33% (39/118)   \rReceiving objects:  34% (41/118)   \rReceiving objects:  35% (42/118)   \rReceiving objects:  36% (43/118)   \rReceiving objects:  37% (44/118)   \rReceiving objects:  38% (45/118)   \rremote: Total 118 (delta 67), reused 2 (delta 1), pack-reused 0\u001b[K\n",
            "Receiving objects:  39% (47/118)   \rReceiving objects:  40% (48/118)   \rReceiving objects:  41% (49/118)   \rReceiving objects:  42% (50/118)   \rReceiving objects:  43% (51/118)   \rReceiving objects:  44% (52/118)   \rReceiving objects:  45% (54/118)   \rReceiving objects:  46% (55/118)   \rReceiving objects:  47% (56/118)   \rReceiving objects:  48% (57/118)   \rReceiving objects:  49% (58/118)   \rReceiving objects:  50% (59/118)   \rReceiving objects:  51% (61/118)   \rReceiving objects:  52% (62/118)   \rReceiving objects:  53% (63/118)   \rReceiving objects:  54% (64/118)   \rReceiving objects:  55% (65/118)   \rReceiving objects:  56% (67/118)   \rReceiving objects:  57% (68/118)   \rReceiving objects:  58% (69/118)   \rReceiving objects:  59% (70/118)   \rReceiving objects:  60% (71/118)   \rReceiving objects:  61% (72/118)   \rReceiving objects:  62% (74/118)   \rReceiving objects:  63% (75/118)   \rReceiving objects:  64% (76/118)   \rReceiving objects:  65% (77/118)   \rReceiving objects:  66% (78/118)   \rReceiving objects:  67% (80/118)   \rReceiving objects:  68% (81/118)   \rReceiving objects:  69% (82/118)   \rReceiving objects:  70% (83/118)   \rReceiving objects:  71% (84/118)   \rReceiving objects:  72% (85/118)   \rReceiving objects:  73% (87/118)   \rReceiving objects:  74% (88/118)   \rReceiving objects:  75% (89/118)   \rReceiving objects:  76% (90/118)   \rReceiving objects:  77% (91/118)   \rReceiving objects:  78% (93/118)   \rReceiving objects:  79% (94/118)   \rReceiving objects:  80% (95/118)   \rReceiving objects:  81% (96/118)   \rReceiving objects:  82% (97/118)   \rReceiving objects:  83% (98/118)   \rReceiving objects:  84% (100/118)   \rReceiving objects:  85% (101/118)   \rReceiving objects:  86% (102/118)   \rReceiving objects:  87% (103/118)   \rReceiving objects:  88% (104/118)   \rReceiving objects:  89% (106/118)   \rReceiving objects:  90% (107/118)   \rReceiving objects:  91% (108/118)   \rReceiving objects:  92% (109/118)   \rReceiving objects:  93% (110/118)   \rReceiving objects:  94% (111/118)   \rReceiving objects:  95% (113/118)   \rReceiving objects:  96% (114/118)   \rReceiving objects:  97% (115/118)   \rReceiving objects:  98% (116/118)   \rReceiving objects:  99% (117/118)   \rReceiving objects: 100% (118/118)   \rReceiving objects: 100% (118/118), 184.38 KiB | 8.78 MiB/s, done.\n",
            "Resolving deltas:   0% (0/67)   \rResolving deltas:  52% (35/67)   \rResolving deltas:  56% (38/67)   \rResolving deltas:  64% (43/67)   \rResolving deltas:  82% (55/67)   \rResolving deltas:  91% (61/67)   \rResolving deltas:  98% (66/67)   \rResolving deltas: 100% (67/67)   \rResolving deltas: 100% (67/67), done.\n",
            "/content/data-science-from-scratch-Python/data-science-from-scratch-Python\n",
            "Requirement already satisfied: import-ipynb in /usr/local/lib/python3.6/dist-packages (0.1.3)\n"
          ],
          "name": "stdout"
        }
      ]
    },
    {
      "cell_type": "code",
      "metadata": {
        "id": "ABrb-hu_ZiVP",
        "colab_type": "code",
        "colab": {}
      },
      "source": [
        "# A lot of times, we'll want to minimize the following type of function\n",
        "def sum_of_squares(v: Vector) -> float:\n",
        "  \"\"\"Conputes the sum of squared elements in v\"\"\"\n",
        "  return dot(v,v)"
      ],
      "execution_count": 0,
      "outputs": []
    },
    {
      "cell_type": "code",
      "metadata": {
        "id": "JOpctPlUZwSJ",
        "colab_type": "code",
        "colab": {}
      },
      "source": [
        "from typing import Callable\n",
        "\n",
        "# Derivative is defined as the limit of the difference quotients of a function f\n",
        "def difference_quotient(f: Callable[[float], float],\n",
        "                        x: float,\n",
        "                        h: float) -> float:\n",
        "    return (f(x + h) - f(x)) / h\n"
      ],
      "execution_count": 0,
      "outputs": []
    },
    {
      "cell_type": "code",
      "metadata": {
        "id": "H9izc_albVOU",
        "colab_type": "code",
        "colab": {}
      },
      "source": [
        "# For many functions, you can calculate the derivative explicitly\n",
        "def square(x:float) -> float:\n",
        "  return x * x\n",
        "\n",
        "def derivative(x: float) -> float:\n",
        "  return 2 * x"
      ],
      "execution_count": 0,
      "outputs": []
    },
    {
      "cell_type": "code",
      "metadata": {
        "id": "LctPedPrcqIz",
        "colab_type": "code",
        "colab": {
          "base_uri": "https://localhost:8080/",
          "height": 281
        },
        "outputId": "9cddde4c-1e86-418d-eed0-8d130238b8d8"
      },
      "source": [
        "# But a lot of the times,  you'll have to estimate derivatives\n",
        "# Let's see how they compare\n",
        "\n",
        "xs = range(-10, 11)\n",
        "actuals = [derivative(x) for x in xs]\n",
        "estimates = [difference_quotient(square, x, h=0.001) for x in xs]\n",
        "\n",
        "# plot to show they're basically the same\n",
        "import matplotlib.pyplot as plt\n",
        "\n",
        "plt.title(\"Actual Derivatives vs. Estimates\")\n",
        "plt.plot(xs, actuals, 'rx', label='Actual')\n",
        "plt.plot(xs, estimates, 'b+', label='Estimate')\n",
        "plt.legend(loc=9)\n",
        "plt.show()"
      ],
      "execution_count": 10,
      "outputs": [
        {
          "output_type": "display_data",
          "data": {
            "image/png": "[encoded data removed]",
            "text/plain": [
              "<Figure size 432x288 with 1 Axes>"
            ]
          },
          "metadata": {
            "tags": []
          }
        }
      ]
    },
    {
      "cell_type": "code",
      "metadata": {
        "id": "QmxgGF11dhml",
        "colab_type": "code",
        "colab": {}
      },
      "source": [
        ""
      ],
      "execution_count": 0,
      "outputs": []
    }
  ]
}