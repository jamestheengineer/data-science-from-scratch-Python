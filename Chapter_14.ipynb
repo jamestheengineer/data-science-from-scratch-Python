{
  "nbformat": 4,
  "nbformat_minor": 0,
  "metadata": {
    "colab": {
      "name": "Chapter_14.ipynb",
      "provenance": [],
      "authorship_tag": "ABX9TyNs2zWrTvAhYvNJX0e9XXgL",
      "include_colab_link": true
    },
    "kernelspec": {
      "name": "python3",
      "display_name": "Python 3"
    }
  },
  "cells": [
    {
      "cell_type": "markdown",
      "metadata": {
        "id": "view-in-github",
        "colab_type": "text"
      },
      "source": [
        "<a href=\"https://colab.research.google.com/github/jamestheengineer/data-science-from-scratch-Python/blob/master/Chapter_14.ipynb\" target=\"_parent\"><img src=\"https://colab.research.google.com/assets/colab-badge.svg\" alt=\"Open In Colab\"/></a>"
      ]
    },
    {
      "cell_type": "code",
      "metadata": {
        "id": "BQCZeMJSx5P0",
        "colab_type": "code",
        "outputId": "2b867c35-2758-4173-8b8f-4bfe8ef61cef",
        "colab": {
          "base_uri": "https://localhost:8080/",
          "height": 326
        }
      },
      "source": [
        "# Only do this once per VM, otherwise you'll get multiple clones and nested directories\n",
        "!git clone https://github.com/jamestheengineer/data-science-from-scratch-Python.git\n",
        "%cd data-science-from-scratch-Python/\n",
        "!pip install import-ipynb\n",
        "import import_ipynb"
      ],
      "execution_count": 1,
      "outputs": [
        {
          "output_type": "stream",
          "text": [
            "Cloning into 'data-science-from-scratch-Python'...\n",
            "remote: Enumerating objects: 60, done.\u001b[K\n",
            "remote: Counting objects: 100% (60/60), done.\u001b[K\n",
            "remote: Compressing objects: 100% (60/60), done.\u001b[K\n",
            "remote: Total 247 (delta 33), reused 0 (delta 0), pack-reused 187\u001b[K\n",
            "Receiving objects: 100% (247/247), 956.17 KiB | 8.94 MiB/s, done.\n",
            "Resolving deltas: 100% (141/141), done.\n",
            "/content/data-science-from-scratch-Python\n",
            "Collecting import-ipynb\n",
            "  Downloading https://files.pythonhosted.org/packages/63/35/495e0021bfdcc924c7cdec4e9fbb87c88dd03b9b9b22419444dc370c8a45/import-ipynb-0.1.3.tar.gz\n",
            "Building wheels for collected packages: import-ipynb\n",
            "  Building wheel for import-ipynb (setup.py) ... \u001b[?25l\u001b[?25hdone\n",
            "  Created wheel for import-ipynb: filename=import_ipynb-0.1.3-cp36-none-any.whl size=2976 sha256=ea8a7edae15b76f128ab3a2edf07bae9d695e3b2428689dbe9d1a4bb42ec776d\n",
            "  Stored in directory: /root/.cache/pip/wheels/b4/7b/e9/a3a6e496115dffdb4e3085d0ae39ffe8a814eacc44bbf494b5\n",
            "Successfully built import-ipynb\n",
            "Installing collected packages: import-ipynb\n",
            "Successfully installed import-ipynb-0.1.3\n"
          ],
          "name": "stdout"
        }
      ]
    },
    {
      "cell_type": "code",
      "metadata": {
        "id": "ppYRu6UixRFY",
        "colab_type": "code",
        "outputId": "0a9677b6-8224-4e5c-fd06-5e809690dfad",
        "colab": {
          "base_uri": "https://localhost:8080/",
          "height": 34
        }
      },
      "source": [
        "# Linear Regression\n",
        "def predict(alpha: float, beta: float, x_i: float) -> float:\n",
        "  return beta * x_i + alpha\n",
        "\n",
        "def error(alpha: float, beta: float, x_i: float, y_i: float) -> float:\n",
        "  \"\"\"\n",
        "  The error from predicting beta*x_i + alpha\n",
        "  when the actual value is y_i\n",
        "  \"\"\"\n",
        "  return predict(alpha, beta, x_i) - y_i\n",
        "\n",
        "from Chapter_4 import Vector\n",
        "\n",
        "def sum_of_sqerrors(alpha: float, beta: float, x: Vector, y: Vector) -> float:\n",
        "  return sum(error(alpah, beta, x_i, y_i) **2\n",
        "             for x_i, y_i in zip(x, y))"
      ],
      "execution_count": 2,
      "outputs": [
        {
          "output_type": "stream",
          "text": [
            "importing Jupyter notebook from Chapter_4.ipynb\n"
          ],
          "name": "stdout"
        }
      ]
    },
    {
      "cell_type": "code",
      "metadata": {
        "id": "tiQXy541yXra",
        "colab_type": "code",
        "colab": {}
      },
      "source": [
        "from typing import Tuple\n",
        "from Chapter_5 import correlation, standard_deviation, mean\n",
        "\n",
        "def least_squares_fit(x: Vector, y: Vector) -> Tuple[float, float]:\n",
        "  \"\"\"\n",
        "  Given two vectors x and y,\n",
        "  find the least-squares values of alpha and beta\n",
        "  \"\"\"\n",
        "  beta = correlation(x, y) * standard_deviation(y) / standard_deviation(x)\n",
        "  alpha = mean(y) - beta * mean(x)\n",
        "  return alpha, beta\n",
        "\n",
        "# Quick test\n",
        "x = [i for i in range(-100, 110, 10)]\n",
        "y = [3 * i - 5 for i in x]\n",
        "\n",
        "# Should find that y = 3 * x - 5\n",
        "assert least_squares_fit(x, y) == (-5, 3)"
      ],
      "execution_count": 0,
      "outputs": []
    },
    {
      "cell_type": "code",
      "metadata": {
        "id": "xvKkZRuEM37k",
        "colab_type": "code",
        "colab": {}
      },
      "source": [
        "from Chapter_5 import num_friends_good, daily_minutes_good\n",
        "\n",
        "alpha, beta = least_squares_fit(num_friends_good, daily_minutes_good)\n",
        "assert 22.9 < alpha < 23.0\n",
        "assert 0.9 < beta < 0.905"
      ],
      "execution_count": 0,
      "outputs": []
    },
    {
      "cell_type": "code",
      "metadata": {
        "id": "YwvZdtU9NMRF",
        "colab_type": "code",
        "colab": {}
      },
      "source": [
        ""
      ],
      "execution_count": 0,
      "outputs": []
    }
  ]
}