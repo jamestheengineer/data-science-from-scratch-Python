{
  "nbformat": 4,
  "nbformat_minor": 0,
  "metadata": {
    "colab": {
      "name": "Chapter_14.ipynb",
      "provenance": [],
      "authorship_tag": "ABX9TyOAchOb0+nfQ/UNVG7XtLla",
      "include_colab_link": true
    },
    "kernelspec": {
      "name": "python3",
      "display_name": "Python 3"
    }
  },
  "cells": [
    {
      "cell_type": "markdown",
      "metadata": {
        "id": "view-in-github",
        "colab_type": "text"
      },
      "source": [
        "<a href=\"https://colab.research.google.com/github/jamestheengineer/data-science-from-scratch-Python/blob/master/Chapter_14.ipynb\" target=\"_parent\"><img src=\"https://colab.research.google.com/assets/colab-badge.svg\" alt=\"Open In Colab\"/></a>"
      ]
    },
    {
      "cell_type": "code",
      "metadata": {
        "id": "BQCZeMJSx5P0",
        "colab_type": "code",
        "outputId": "bd6926d5-4086-4fe6-8ed6-1692aafeccd3",
        "colab": {
          "base_uri": "https://localhost:8080/"
        }
      },
      "source": [
        "# Only do this once per VM, otherwise you'll get multiple clones and nested directories\n",
        "!git clone https://github.com/jamestheengineer/data-science-from-scratch-Python.git\n",
        "%cd data-science-from-scratch-Python/\n",
        "!pip install import-ipynb\n",
        "import import_ipynb"
      ],
      "execution_count": 0,
      "outputs": [
        {
          "output_type": "stream",
          "text": [
            "Cloning into 'data-science-from-scratch-Python'...\n",
            "remote: Enumerating objects: 83, done.\u001b[K\n",
            "remote: Counting objects:   1% (1/83)\u001b[K\rremote: Counting objects:   2% (2/83)\u001b[K\rremote: Counting objects:   3% (3/83)\u001b[K\rremote: Counting objects:   4% (4/83)\u001b[K\rremote: Counting objects:   6% (5/83)\u001b[K\rremote: Counting objects:   7% (6/83)\u001b[K\rremote: Counting objects:   8% (7/83)\u001b[K\rremote: Counting objects:   9% (8/83)\u001b[K\rremote: Counting objects:  10% (9/83)\u001b[K\rremote: Counting objects:  12% (10/83)\u001b[K\rremote: Counting objects:  13% (11/83)\u001b[K\rremote: Counting objects:  14% (12/83)\u001b[K\rremote: Counting objects:  15% (13/83)\u001b[K\rremote: Counting objects:  16% (14/83)\u001b[K\rremote: Counting objects:  18% (15/83)\u001b[K\rremote: Counting objects:  19% (16/83)\u001b[K\rremote: Counting objects:  20% (17/83)\u001b[K\rremote: Counting objects:  21% (18/83)\u001b[K\rremote: Counting objects:  22% (19/83)\u001b[K\rremote: Counting objects:  24% (20/83)\u001b[K\rremote: Counting objects:  25% (21/83)\u001b[K\rremote: Counting objects:  26% (22/83)\u001b[K\rremote: Counting objects:  27% (23/83)\u001b[K\rremote: Counting objects:  28% (24/83)\u001b[K\rremote: Counting objects:  30% (25/83)\u001b[K\rremote: Counting objects:  31% (26/83)\u001b[K\rremote: Counting objects:  32% (27/83)\u001b[K\rremote: Counting objects:  33% (28/83)\u001b[K\rremote: Counting objects:  34% (29/83)\u001b[K\rremote: Counting objects:  36% (30/83)\u001b[K\rremote: Counting objects:  37% (31/83)\u001b[K\rremote: Counting objects:  38% (32/83)\u001b[K\rremote: Counting objects:  39% (33/83)\u001b[K\rremote: Counting objects:  40% (34/83)\u001b[K\rremote: Counting objects:  42% (35/83)\u001b[K\rremote: Counting objects:  43% (36/83)\u001b[K\rremote: Counting objects:  44% (37/83)\u001b[K\rremote: Counting objects:  45% (38/83)\u001b[K\rremote: Counting objects:  46% (39/83)\u001b[K\rremote: Counting objects:  48% (40/83)\u001b[K\rremote: Counting objects:  49% (41/83)\u001b[K\rremote: Counting objects:  50% (42/83)\u001b[K\rremote: Counting objects:  51% (43/83)\u001b[K\rremote: Counting objects:  53% (44/83)\u001b[K\rremote: Counting objects:  54% (45/83)\u001b[K\rremote: Counting objects:  55% (46/83)\u001b[K\rremote: Counting objects:  56% (47/83)\u001b[K\rremote: Counting objects:  57% (48/83)\u001b[K\rremote: Counting objects:  59% (49/83)\u001b[K\rremote: Counting objects:  60% (50/83)\u001b[K\rremote: Counting objects:  61% (51/83)\u001b[K\rremote: Counting objects:  62% (52/83)\u001b[K\rremote: Counting objects:  63% (53/83)\u001b[K\rremote: Counting objects:  65% (54/83)\u001b[K\rremote: Counting objects:  66% (55/83)\u001b[K\rremote: Counting objects:  67% (56/83)\u001b[K\rremote: Counting objects:  68% (57/83)\u001b[K\rremote: Counting objects:  69% (58/83)\u001b[K\rremote: Counting objects:  71% (59/83)\u001b[K\rremote: Counting objects:  72% (60/83)\u001b[K\rremote: Counting objects:  73% (61/83)\u001b[K\rremote: Counting objects:  74% (62/83)\u001b[K\rremote: Counting objects:  75% (63/83)\u001b[K\rremote: Counting objects:  77% (64/83)\u001b[K\rremote: Counting objects:  78% (65/83)\u001b[K\rremote: Counting objects:  79% (66/83)\u001b[K\rremote: Counting objects:  80% (67/83)\u001b[K\rremote: Counting objects:  81% (68/83)\u001b[K\rremote: Counting objects:  83% (69/83)\u001b[K\rremote: Counting objects:  84% (70/83)\u001b[K\rremote: Counting objects:  85% (71/83)\u001b[K\rremote: Counting objects:  86% (72/83)\u001b[K\rremote: Counting objects:  87% (73/83)\u001b[K\rremote: Counting objects:  89% (74/83)\u001b[K\rremote: Counting objects:  90% (75/83)\u001b[K\rremote: Counting objects:  91% (76/83)\u001b[K\rremote: Counting objects:  92% (77/83)\u001b[K\rremote: Counting objects:  93% (78/83)\u001b[K\rremote: Counting objects:  95% (79/83)\u001b[K\rremote: Counting objects:  96% (80/83)\u001b[K\rremote: Counting objects:  97% (81/83)\u001b[K\rremote: Counting objects:  98% (82/83)\u001b[K\rremote: Counting objects: 100% (83/83)\u001b[K\rremote: Counting objects: 100% (83/83), done.\u001b[K\n",
            "remote: Compressing objects:   1% (1/78)\u001b[K\rremote: Compressing objects:   2% (2/78)\u001b[K\rremote: Compressing objects:   3% (3/78)\u001b[K\rremote: Compressing objects:   5% (4/78)\u001b[K\rremote: Compressing objects:   6% (5/78)\u001b[K\rremote: Compressing objects:   7% (6/78)\u001b[K\rremote: Compressing objects:   8% (7/78)\u001b[K\rremote: Compressing objects:  10% (8/78)\u001b[K\rremote: Compressing objects:  11% (9/78)\u001b[K\rremote: Compressing objects:  12% (10/78)\u001b[K\rremote: Compressing objects:  14% (11/78)\u001b[K\rremote: Compressing objects:  15% (12/78)\u001b[K\rremote: Compressing objects:  16% (13/78)\u001b[K\rremote: Compressing objects:  17% (14/78)\u001b[K\rremote: Compressing objects:  19% (15/78)\u001b[K\rremote: Compressing objects:  20% (16/78)\u001b[K\rremote: Compressing objects:  21% (17/78)\u001b[K\rremote: Compressing objects:  23% (18/78)\u001b[K\rremote: Compressing objects:  24% (19/78)\u001b[K\rremote: Compressing objects:  25% (20/78)\u001b[K\rremote: Compressing objects:  26% (21/78)\u001b[K\rremote: Compressing objects:  28% (22/78)\u001b[K\rremote: Compressing objects:  29% (23/78)\u001b[K\rremote: Compressing objects:  30% (24/78)\u001b[K\rremote: Compressing objects:  32% (25/78)\u001b[K\rremote: Compressing objects:  33% (26/78)\u001b[K\rremote: Compressing objects:  34% (27/78)\u001b[K\rremote: Compressing objects:  35% (28/78)\u001b[K\rremote: Compressing objects:  37% (29/78)\u001b[K\rremote: Compressing objects:  38% (30/78)\u001b[K\rremote: Compressing objects:  39% (31/78)\u001b[K\rremote: Compressing objects:  41% (32/78)\u001b[K\rremote: Compressing objects:  42% (33/78)\u001b[K\rremote: Compressing objects:  43% (34/78)\u001b[K\rremote: Compressing objects:  44% (35/78)\u001b[K\rremote: Compressing objects:  46% (36/78)\u001b[K\rremote: Compressing objects:  47% (37/78)\u001b[K\rremote: Compressing objects:  48% (38/78)\u001b[K\rremote: Compressing objects:  50% (39/78)\u001b[K\rremote: Compressing objects:  51% (40/78)\u001b[K\rremote: Compressing objects:  52% (41/78)\u001b[K\rremote: Compressing objects:  53% (42/78)\u001b[K\rremote: Compressing objects:  55% (43/78)\u001b[K\rremote: Compressing objects:  56% (44/78)\u001b[K\rremote: Compressing objects:  57% (45/78)\u001b[K\rremote: Compressing objects:  58% (46/78)\u001b[K\rremote: Compressing objects:  60% (47/78)\u001b[K\rremote: Compressing objects:  61% (48/78)\u001b[K\rremote: Compressing objects:  62% (49/78)\u001b[K\rremote: Compressing objects:  64% (50/78)\u001b[K\rremote: Compressing objects:  65% (51/78)\u001b[K\rremote: Compressing objects:  66% (52/78)\u001b[K\rremote: Compressing objects:  67% (53/78)\u001b[K\rremote: Compressing objects:  69% (54/78)\u001b[K\rremote: Compressing objects:  70% (55/78)\u001b[K\rremote: Compressing objects:  71% (56/78)\u001b[K\rremote: Compressing objects:  73% (57/78)\u001b[K\rremote: Compressing objects:  74% (58/78)\u001b[K\rremote: Compressing objects:  75% (59/78)\u001b[K\rremote: Compressing objects:  76% (60/78)\u001b[K\rremote: Compressing objects:  78% (61/78)\u001b[K\rremote: Compressing objects:  79% (62/78)\u001b[K\rremote: Compressing objects:  80% (63/78)\u001b[K\rremote: Compressing objects:  82% (64/78)\u001b[K\rremote: Compressing objects:  83% (65/78)\u001b[K\rremote: Compressing objects:  84% (66/78)\u001b[K\rremote: Compressing objects:  85% (67/78)\u001b[K\rremote: Compressing objects:  87% (68/78)\u001b[K\rremote: Compressing objects:  88% (69/78)\u001b[K\rremote: Compressing objects:  89% (70/78)\u001b[K\rremote: Compressing objects:  91% (71/78)\u001b[K\rremote: Compressing objects:  92% (72/78)\u001b[K\rremote: Compressing objects:  93% (73/78)\u001b[K\rremote: Compressing objects:  94% (74/78)\u001b[K\rremote: Compressing objects:  96% (75/78)\u001b[K\rremote: Compressing objects:  97% (76/78)\u001b[K\rremote: Compressing objects:  98% (77/78)\u001b[K\rremote: Compressing objects: 100% (78/78)\u001b[K\rremote: Compressing objects: 100% (78/78), done.\u001b[K\n",
            "Receiving objects:   0% (1/270)   \rReceiving objects:   1% (3/270)   \rReceiving objects:   2% (6/270)   \rReceiving objects:   3% (9/270)   \rReceiving objects:   4% (11/270)   \rReceiving objects:   5% (14/270)   \rReceiving objects:   6% (17/270)   \rReceiving objects:   7% (19/270)   \rReceiving objects:   8% (22/270)   \rReceiving objects:   9% (25/270)   \rReceiving objects:  10% (27/270)   \rReceiving objects:  11% (30/270)   \rReceiving objects:  12% (33/270)   \rReceiving objects:  13% (36/270)   \rReceiving objects:  14% (38/270)   \rReceiving objects:  15% (41/270)   \rReceiving objects:  16% (44/270)   \rReceiving objects:  17% (46/270)   \rReceiving objects:  18% (49/270)   \rReceiving objects:  19% (52/270)   \rReceiving objects:  20% (54/270)   \rReceiving objects:  21% (57/270)   \rReceiving objects:  22% (60/270)   \rReceiving objects:  23% (63/270)   \rReceiving objects:  24% (65/270)   \rReceiving objects:  25% (68/270)   \rReceiving objects:  26% (71/270), 220.01 KiB | 410.00 KiB/s   \rReceiving objects:  27% (73/270), 220.01 KiB | 410.00 KiB/s   \rReceiving objects:  28% (76/270), 220.01 KiB | 410.00 KiB/s   \rReceiving objects:  29% (79/270), 220.01 KiB | 410.00 KiB/s   \rReceiving objects:  30% (81/270), 220.01 KiB | 410.00 KiB/s   \rReceiving objects:  31% (84/270), 220.01 KiB | 410.00 KiB/s   \rReceiving objects:  32% (87/270), 220.01 KiB | 410.00 KiB/s   \rReceiving objects:  33% (90/270), 220.01 KiB | 410.00 KiB/s   \rReceiving objects:  34% (92/270), 220.01 KiB | 410.00 KiB/s   \rReceiving objects:  35% (95/270), 220.01 KiB | 410.00 KiB/s   \rReceiving objects:  36% (98/270), 220.01 KiB | 410.00 KiB/s   \rReceiving objects:  37% (100/270), 220.01 KiB | 410.00 KiB/s   \rReceiving objects:  38% (103/270), 220.01 KiB | 410.00 KiB/s   \rReceiving objects:  39% (106/270), 220.01 KiB | 410.00 KiB/s   \rReceiving objects:  40% (108/270), 220.01 KiB | 410.00 KiB/s   \rReceiving objects:  41% (111/270), 220.01 KiB | 410.00 KiB/s   \rReceiving objects:  42% (114/270), 220.01 KiB | 410.00 KiB/s   \rReceiving objects:  43% (117/270), 220.01 KiB | 410.00 KiB/s   \rReceiving objects:  44% (119/270), 220.01 KiB | 410.00 KiB/s   \rReceiving objects:  45% (122/270), 220.01 KiB | 410.00 KiB/s   \rReceiving objects:  46% (125/270), 220.01 KiB | 410.00 KiB/s   \rReceiving objects:  47% (127/270), 220.01 KiB | 410.00 KiB/s   \rReceiving objects:  48% (130/270), 220.01 KiB | 410.00 KiB/s   \rReceiving objects:  49% (133/270), 220.01 KiB | 410.00 KiB/s   \rReceiving objects:  50% (135/270), 220.01 KiB | 410.00 KiB/s   \rReceiving objects:  51% (138/270), 220.01 KiB | 410.00 KiB/s   \rReceiving objects:  52% (141/270), 220.01 KiB | 410.00 KiB/s   \rReceiving objects:  53% (144/270), 220.01 KiB | 410.00 KiB/s   \rReceiving objects:  54% (146/270), 220.01 KiB | 410.00 KiB/s   \rReceiving objects:  55% (149/270), 220.01 KiB | 410.00 KiB/s   \rReceiving objects:  56% (152/270), 220.01 KiB | 410.00 KiB/s   \rReceiving objects:  57% (154/270), 220.01 KiB | 410.00 KiB/s   \rReceiving objects:  58% (157/270), 220.01 KiB | 410.00 KiB/s   \rReceiving objects:  59% (160/270), 220.01 KiB | 410.00 KiB/s   \rReceiving objects:  60% (162/270), 220.01 KiB | 410.00 KiB/s   \rReceiving objects:  61% (165/270), 220.01 KiB | 410.00 KiB/s   \rReceiving objects:  62% (168/270), 220.01 KiB | 410.00 KiB/s   \rReceiving objects:  63% (171/270), 220.01 KiB | 410.00 KiB/s   \rReceiving objects:  64% (173/270), 220.01 KiB | 410.00 KiB/s   \rReceiving objects:  65% (176/270), 220.01 KiB | 410.00 KiB/s   \rReceiving objects:  66% (179/270), 220.01 KiB | 410.00 KiB/s   \rReceiving objects:  67% (181/270), 220.01 KiB | 410.00 KiB/s   \rReceiving objects:  68% (184/270), 220.01 KiB | 410.00 KiB/s   \rReceiving objects:  69% (187/270), 220.01 KiB | 410.00 KiB/s   \rReceiving objects:  70% (189/270), 220.01 KiB | 410.00 KiB/s   \rReceiving objects:  71% (192/270), 220.01 KiB | 410.00 KiB/s   \rReceiving objects:  72% (195/270), 220.01 KiB | 410.00 KiB/s   \rReceiving objects:  73% (198/270), 220.01 KiB | 410.00 KiB/s   \rReceiving objects:  74% (200/270), 220.01 KiB | 410.00 KiB/s   \rReceiving objects:  75% (203/270), 220.01 KiB | 410.00 KiB/s   \rReceiving objects:  76% (206/270), 220.01 KiB | 410.00 KiB/s   \rReceiving objects:  77% (208/270), 220.01 KiB | 410.00 KiB/s   \rReceiving objects:  78% (211/270), 220.01 KiB | 410.00 KiB/s   \rReceiving objects:  79% (214/270), 220.01 KiB | 410.00 KiB/s   \rReceiving objects:  80% (216/270), 220.01 KiB | 410.00 KiB/s   \rReceiving objects:  81% (219/270), 220.01 KiB | 410.00 KiB/s   \rremote: Total 270 (delta 47), reused 9 (delta 5), pack-reused 187\u001b[K\n",
            "Receiving objects:  82% (222/270), 220.01 KiB | 410.00 KiB/s   \rReceiving objects:  83% (225/270), 220.01 KiB | 410.00 KiB/s   \rReceiving objects:  84% (227/270), 220.01 KiB | 410.00 KiB/s   \rReceiving objects:  85% (230/270), 220.01 KiB | 410.00 KiB/s   \rReceiving objects:  86% (233/270), 220.01 KiB | 410.00 KiB/s   \rReceiving objects:  87% (235/270), 220.01 KiB | 410.00 KiB/s   \rReceiving objects:  88% (238/270), 220.01 KiB | 410.00 KiB/s   \rReceiving objects:  89% (241/270), 220.01 KiB | 410.00 KiB/s   \rReceiving objects:  90% (243/270), 220.01 KiB | 410.00 KiB/s   \rReceiving objects:  91% (246/270), 220.01 KiB | 410.00 KiB/s   \rReceiving objects:  92% (249/270), 220.01 KiB | 410.00 KiB/s   \rReceiving objects:  93% (252/270), 220.01 KiB | 410.00 KiB/s   \rReceiving objects:  94% (254/270), 220.01 KiB | 410.00 KiB/s   \rReceiving objects:  95% (257/270), 220.01 KiB | 410.00 KiB/s   \rReceiving objects:  96% (260/270), 220.01 KiB | 410.00 KiB/s   \rReceiving objects:  97% (262/270), 220.01 KiB | 410.00 KiB/s   \rReceiving objects:  98% (265/270), 220.01 KiB | 410.00 KiB/s   \rReceiving objects:  99% (268/270), 220.01 KiB | 410.00 KiB/s   \rReceiving objects: 100% (270/270), 220.01 KiB | 410.00 KiB/s   \rReceiving objects: 100% (270/270), 985.09 KiB | 1.30 MiB/s, done.\n",
            "Resolving deltas:   0% (0/155)   \rResolving deltas:  16% (26/155)   \rResolving deltas:  37% (58/155)   \rResolving deltas:  50% (78/155)   \rResolving deltas:  58% (91/155)   \rResolving deltas:  61% (95/155)   \rResolving deltas:  63% (98/155)   \rResolving deltas:  67% (104/155)   \rResolving deltas:  68% (106/155)   \rResolving deltas:  85% (133/155)   \rResolving deltas:  88% (137/155)   \rResolving deltas:  89% (139/155)   \rResolving deltas:  90% (141/155)   \rResolving deltas:  93% (145/155)   \rResolving deltas:  96% (150/155)   \rResolving deltas:  98% (153/155)   \rResolving deltas:  99% (154/155)   \rResolving deltas: 100% (155/155)   \rResolving deltas: 100% (155/155), done.\n",
            "/content/data-science-from-scratch-Python\n",
            "Collecting import-ipynb\n",
            "  Downloading https://files.pythonhosted.org/packages/63/35/495e0021bfdcc924c7cdec4e9fbb87c88dd03b9b9b22419444dc370c8a45/import-ipynb-0.1.3.tar.gz\n",
            "Building wheels for collected packages: import-ipynb\n",
            "  Building wheel for import-ipynb (setup.py) ... \u001b[?25l\u001b[?25hdone\n",
            "  Created wheel for import-ipynb: filename=import_ipynb-0.1.3-cp36-none-any.whl size=2976 sha256=5ea41bdc5bb5d747b16daecf55e70825deacb8f6a72b1b1f85819f8da0e0b65a\n",
            "  Stored in directory: /root/.cache/pip/wheels/b4/7b/e9/a3a6e496115dffdb4e3085d0ae39ffe8a814eacc44bbf494b5\n",
            "Successfully built import-ipynb\n",
            "Installing collected packages: import-ipynb\n",
            "Successfully installed import-ipynb-0.1.3\n"
          ],
          "name": "stdout"
        }
      ]
    },
    {
      "cell_type": "code",
      "metadata": {
        "id": "ppYRu6UixRFY",
        "colab_type": "code",
        "colab": {}
      },
      "source": [
        "# Linear Regression\n",
        "def predict(alpha: float, beta: float, x_i: float) -> float:\n",
        "  return beta * x_i + alpha\n",
        "\n",
        "def error(alpha: float, beta: float, x_i: float, y_i: float) -> float:\n",
        "  \"\"\"\n",
        "  The error from predicting beta*x_i + alpha\n",
        "  when the actual value is y_i\n",
        "  \"\"\"\n",
        "  return predict(alpha, beta, x_i) - y_i\n",
        "\n",
        "from Chapter_04 import Vector\n",
        "\n",
        "def sum_of_sqerrors(alpha: float, beta: float, x: Vector, y: Vector) -> float:\n",
        "  return sum(error(alpha, beta, x_i, y_i) **2\n",
        "             for x_i, y_i in zip(x, y))"
      ],
      "execution_count": 0,
      "outputs": []
    },
    {
      "cell_type": "code",
      "metadata": {
        "id": "tiQXy541yXra",
        "colab_type": "code",
        "colab": {}
      },
      "source": [
        "from typing import Tuple\n",
        "from Chapter_05 import correlation, standard_deviation, mean\n",
        "\n",
        "def least_squares_fit(x: Vector, y: Vector) -> Tuple[float, float]:\n",
        "  \"\"\"\n",
        "  Given two vectors x and y,\n",
        "  find the least-squares values of alpha and beta\n",
        "  \"\"\"\n",
        "  beta = correlation(x, y) * standard_deviation(y) / standard_deviation(x)\n",
        "  alpha = mean(y) - beta * mean(x)\n",
        "  return alpha, beta\n",
        "\n",
        "# Quick test\n",
        "x = [i for i in range(-100, 110, 10)]\n",
        "y = [3 * i - 5 for i in x]\n",
        "\n",
        "# Should find that y = 3 * x - 5\n",
        "assert least_squares_fit(x, y) == (-5, 3)"
      ],
      "execution_count": 0,
      "outputs": []
    },
    {
      "cell_type": "code",
      "metadata": {
        "id": "xvKkZRuEM37k",
        "colab_type": "code",
        "colab": {}
      },
      "source": [
        "from Chapter_05 import num_friends_good, daily_minutes_good\n",
        "\n",
        "alpha, beta = least_squares_fit(num_friends_good, daily_minutes_good)\n",
        "assert 22.9 < alpha < 23.0\n",
        "assert 0.9 < beta < 0.905"
      ],
      "execution_count": 0,
      "outputs": []
    },
    {
      "cell_type": "code",
      "metadata": {
        "id": "YwvZdtU9NMRF",
        "colab_type": "code",
        "colab": {}
      },
      "source": [
        "# Using R-squared is a common way to determine how well we fit\n",
        "from Chapter_05 import de_mean\n",
        "\n",
        "def total_sum_of_squares(y: Vector) -> float:\n",
        "  \"\"\"The total squared variation of y_i's from their mean\"\"\"\n",
        "  return sum(v ** 2 for v in de_mean(y))\n",
        "\n",
        "def r_squared(alpha: float, beta: float, x: Vector, y: Vector) -> float:\n",
        "  \"\"\"\n",
        "  The fraction of variation in y cpatured by the model, which equals\n",
        "  1 - the fraction of variation in y not captured by the model\n",
        "  \"\"\"\n",
        "  return 1.0 - (sum_of_sqerrors(alpha, beta, x, y) /\n",
        "                total_sum_of_squares(y))"
      ],
      "execution_count": 0,
      "outputs": []
    },
    {
      "cell_type": "code",
      "metadata": {
        "id": "S0vbHd0-IuoL",
        "colab_type": "code",
        "colab": {}
      },
      "source": [
        "rsq = r_squared(alpha, beta, num_friends_good, daily_minutes_good)\n",
        "assert 0.328 < rsq < 0.330"
      ],
      "execution_count": 0,
      "outputs": []
    },
    {
      "cell_type": "code",
      "metadata": {
        "id": "tkMZhKudJP6C",
        "colab_type": "code",
        "colab": {}
      },
      "source": [
        "# Use gradient descent\n",
        "import random\n",
        "import tqdm\n",
        "from Chapter_08 import gradient_step\n",
        "\n",
        "num_epochs = 10000\n",
        "random.seed(0)\n",
        "\n",
        "guess = [random.random(), random.random()] \n",
        "\n",
        "learning_rate = 0.00001\n",
        "\n",
        "with tqdm.trange(num_epochs) as t:\n",
        "  for _ in t:\n",
        "    alpha, beta = guess\n",
        "\n",
        "    # Partial derivative of loss with respect to alpha\n",
        "    grad_a = sum(2 * error(alpha, beta, x_i, y_i)\n",
        "                        for x_i, y_i in zip(num_friends_good, daily_minutes_good))\n",
        "    \n",
        "    # Partial derivative of loss with respect to beta\n",
        "    grad_b = sum(2 * error(alpha, beta, x_i, y_i) * x_i\n",
        "                        for x_i, y_i in zip(num_friends_good, daily_minutes_good))\n",
        "    \n",
        "    # Compute loss to stick in the tqdm description\n",
        "    loss = sum_of_sqerrors(alpha, beta, num_friends_good, daily_minutes_good)\n",
        "    t.set_description(f\"loss:{loss:.3f}\")\n",
        "\n",
        "    # Finally, update the guess\n",
        "    guess = gradient_step(guess, [grad_a, grad_b], -learning_rate)\n",
        "\n",
        "# We should get pretty much the same results\n",
        "alpha, beta = guess\n",
        "assert 22.9 < alpha < 23.0\n",
        "assert 0.9 < beta < 0.905"
      ],
      "execution_count": 0,
      "outputs": []
    },
    {
      "cell_type": "code",
      "metadata": {
        "id": "m0Ssj0ATMRPn",
        "colab_type": "code",
        "colab": {}
      },
      "source": [
        ""
      ],
      "execution_count": 0,
      "outputs": []
    }
  ]
}