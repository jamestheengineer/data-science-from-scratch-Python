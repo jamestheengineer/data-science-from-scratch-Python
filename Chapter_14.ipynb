{
  "nbformat": 4,
  "nbformat_minor": 0,
  "metadata": {
    "colab": {
      "name": "Chapter_14.ipynb",
      "provenance": [],
      "authorship_tag": "ABX9TyPbFgWpHcnbgOj4BMYup+hk",
      "include_colab_link": true
    },
    "kernelspec": {
      "name": "python3",
      "display_name": "Python 3"
    }
  },
  "cells": [
    {
      "cell_type": "markdown",
      "metadata": {
        "id": "view-in-github",
        "colab_type": "text"
      },
      "source": [
        "<a href=\"https://colab.research.google.com/github/jamestheengineer/data-science-from-scratch-Python/blob/master/Chapter_14.ipynb\" target=\"_parent\"><img src=\"https://colab.research.google.com/assets/colab-badge.svg\" alt=\"Open In Colab\"/></a>"
      ]
    },
    {
      "cell_type": "code",
      "metadata": {
        "id": "BQCZeMJSx5P0",
        "colab_type": "code",
        "colab": {}
      },
      "source": [
        "# Only do this once per VM, otherwise you'll get multiple clones and nested directories\n",
        "#!git clone https://github.com/jamestheengineer/data-science-from-scratch-Python.git\n",
        "#%cd data-science-from-scratch-Python/\n",
        "#!pip install import-ipynb\n",
        "#import import_ipynb"
      ],
      "execution_count": null,
      "outputs": []
    },
    {
      "cell_type": "code",
      "metadata": {
        "id": "ppYRu6UixRFY",
        "colab_type": "code",
        "colab": {}
      },
      "source": [
        "# Linear Regression\n",
        "def predict(alpha: float, beta: float, x_i: float) -> float:\n",
        "  return beta * x_i + alpha\n",
        "\n",
        "def error(alpha: float, beta: float, x_i: float, y_i: float) -> float:\n",
        "  \"\"\"\n",
        "  The error from predicting beta*x_i + alpha\n",
        "  when the actual value is y_i\n",
        "  \"\"\"\n",
        "  return predict(alpha, beta, x_i) - y_i\n",
        "\n",
        "from Chapter_04 import Vector\n",
        "\n",
        "def sum_of_sqerrors(alpha: float, beta: float, x: Vector, y: Vector) -> float:\n",
        "  return sum(error(alpha, beta, x_i, y_i) **2\n",
        "             for x_i, y_i in zip(x, y))"
      ],
      "execution_count": null,
      "outputs": []
    },
    {
      "cell_type": "code",
      "metadata": {
        "id": "tiQXy541yXra",
        "colab_type": "code",
        "colab": {}
      },
      "source": [
        "from typing import Tuple\n",
        "from Chapter_05 import correlation, standard_deviation, mean\n",
        "\n",
        "def least_squares_fit(x: Vector, y: Vector) -> Tuple[float, float]:\n",
        "  \"\"\"\n",
        "  Given two vectors x and y,\n",
        "  find the least-squares values of alpha and beta\n",
        "  \"\"\"\n",
        "  beta = correlation(x, y) * standard_deviation(y) / standard_deviation(x)\n",
        "  alpha = mean(y) - beta * mean(x)\n",
        "  return alpha, beta\n",
        "\n",
        "# Quick test\n",
        "x = [i for i in range(-100, 110, 10)]\n",
        "y = [3 * i - 5 for i in x]\n",
        "\n",
        "# Should find that y = 3 * x - 5\n",
        "#assert least_squares_fit(x, y) == (-5, 3)"
      ],
      "execution_count": null,
      "outputs": []
    },
    {
      "cell_type": "code",
      "metadata": {
        "id": "xvKkZRuEM37k",
        "colab_type": "code",
        "colab": {}
      },
      "source": [
        "from Chapter_05 import num_friends_good, daily_minutes_good\n",
        "\n",
        "#alpha, beta = least_squares_fit(num_friends_good, daily_minutes_good)\n",
        "#assert 22.9 < alpha < 23.0\n",
        "#assert 0.9 < beta < 0.905"
      ],
      "execution_count": null,
      "outputs": []
    },
    {
      "cell_type": "code",
      "metadata": {
        "id": "YwvZdtU9NMRF",
        "colab_type": "code",
        "colab": {}
      },
      "source": [
        "# Using R-squared is a common way to determine how well we fit\n",
        "from Chapter_05 import de_mean\n",
        "\n",
        "def total_sum_of_squares(y: Vector) -> float:\n",
        "  \"\"\"The total squared variation of y_i's from their mean\"\"\"\n",
        "  return sum(v ** 2 for v in de_mean(y))\n",
        "\n",
        "def r_squared(alpha: float, beta: float, x: Vector, y: Vector) -> float:\n",
        "  \"\"\"\n",
        "  The fraction of variation in y cpatured by the model, which equals\n",
        "  1 - the fraction of variation in y not captured by the model\n",
        "  \"\"\"\n",
        "  return 1.0 - (sum_of_sqerrors(alpha, beta, x, y) /\n",
        "                total_sum_of_squares(y))"
      ],
      "execution_count": null,
      "outputs": []
    },
    {
      "cell_type": "code",
      "metadata": {
        "id": "S0vbHd0-IuoL",
        "colab_type": "code",
        "colab": {}
      },
      "source": [
        "#rsq = r_squared(alpha, beta, num_friends_good, daily_minutes_good)\n",
        "#assert 0.328 < rsq < 0.330"
      ],
      "execution_count": null,
      "outputs": []
    },
    {
      "cell_type": "code",
      "metadata": {
        "id": "tkMZhKudJP6C",
        "colab_type": "code",
        "colab": {}
      },
      "source": [
        "# Use gradient descent\n",
        "import random\n",
        "import tqdm\n",
        "from Chapter_08 import gradient_step\n",
        "\n",
        "num_epochs = 0 #10000\n",
        "random.seed(0)\n",
        "\n",
        "guess = [random.random(), random.random()] \n",
        "\n",
        "learning_rate = 0.00001\n",
        "\n",
        "with tqdm.trange(num_epochs) as t:\n",
        "  for _ in t:\n",
        "    alpha, beta = guess\n",
        "\n",
        "    # Partial derivative of loss with respect to alpha\n",
        "    grad_a = sum(2 * error(alpha, beta, x_i, y_i)\n",
        "                        for x_i, y_i in zip(num_friends_good, daily_minutes_good))\n",
        "    \n",
        "    # Partial derivative of loss with respect to beta\n",
        "    grad_b = sum(2 * error(alpha, beta, x_i, y_i) * x_i\n",
        "                        for x_i, y_i in zip(num_friends_good, daily_minutes_good))\n",
        "    \n",
        "    # Compute loss to stick in the tqdm description\n",
        "    loss = sum_of_sqerrors(alpha, beta, num_friends_good, daily_minutes_good)\n",
        "    t.set_description(f\"loss:{loss:.3f}\")\n",
        "\n",
        "    # Finally, update the guess\n",
        "    guess = gradient_step(guess, [grad_a, grad_b], -learning_rate)\n",
        "\n",
        "# We should get pretty much the same results\n",
        "alpha, beta = guess\n",
        "#assert 22.9 < alpha < 23.0\n",
        "#assert 0.9 < beta < 0.905"
      ],
      "execution_count": null,
      "outputs": []
    },
    {
      "cell_type": "code",
      "metadata": {
        "id": "m0Ssj0ATMRPn",
        "colab_type": "code",
        "colab": {}
      },
      "source": [
        ""
      ],
      "execution_count": null,
      "outputs": []
    }
  ]
}